{
 "cells": [
  {
   "cell_type": "markdown",
   "metadata": {},
   "source": [
    "### Important note\n",
    "There was no close data in the Bloomberg terminal, so we assume that close is the open of the next day, due to the 24hr nature of the forex market.\n",
    "However, gap up/down might occur during the weekends.\n",
    "We have not accounted for that."
   ]
  },
  {
   "cell_type": "markdown",
   "metadata": {},
   "source": [
    "In this notebook, we will generate dataframes with features and save them for use in other notebooks.\n",
    "\n",
    "# Initialisation"
   ]
  },
  {
   "cell_type": "code",
   "execution_count": 64,
   "metadata": {
    "scrolled": true
   },
   "outputs": [],
   "source": [
    "# Important packages\n",
    "import pandas as pd\n",
    "import numpy as np\n",
    "import ta\n",
    "\n",
    "from scipy.stats import linregress"
   ]
  },
  {
   "cell_type": "code",
   "execution_count": 65,
   "metadata": {},
   "outputs": [],
   "source": [
    "# Load the raw data\n",
    "df = pd.read_csv('GBPUSD.csv', names=['date','open','high','low','close'])"
   ]
  },
  {
   "cell_type": "code",
   "execution_count": 66,
   "metadata": {},
   "outputs": [],
   "source": [
    "df.dropna(inplace=True)"
   ]
  },
  {
   "cell_type": "code",
   "execution_count": 67,
   "metadata": {},
   "outputs": [
    {
     "data": {
      "text/plain": [
       "(5179, 5)"
      ]
     },
     "execution_count": 67,
     "metadata": {},
     "output_type": "execute_result"
    }
   ],
   "source": [
    "df.shape"
   ]
  },
  {
   "cell_type": "markdown",
   "metadata": {},
   "source": [
    "# Adding delta (which is a prediction target and NOT A FEATURE)"
   ]
  },
  {
   "cell_type": "code",
   "execution_count": 68,
   "metadata": {},
   "outputs": [],
   "source": [
    "for i in range(len(df)-1):\n",
    "    if df.at[i+1,'high'] > df.at[i,'high']:\n",
    "        df.at[i,'delta'] = 1\n",
    "    else:\n",
    "        df.at[i,'delta'] = 0"
   ]
  },
  {
   "cell_type": "markdown",
   "metadata": {},
   "source": [
    "# Adding features\n",
    "\n",
    "### Be careful not to commit the off by one error!\n",
    "\n",
    "## Technical Analysis features"
   ]
  },
  {
   "cell_type": "code",
   "execution_count": 69,
   "metadata": {},
   "outputs": [],
   "source": [
    "df['wclose'] = (df['close']*2+df['high']+df['low'])/4"
   ]
  },
  {
   "cell_type": "code",
   "execution_count": 70,
   "metadata": {},
   "outputs": [],
   "source": [
    "def add_SO(i):\n",
    "    ind_SO = ta.momentum.StochasticOscillator(high=df['high'],low=df['low'],close=df['close'],n=i)\n",
    "    name = 'so_%s' %(i)\n",
    "    df[name] = ind_SO.stoch()\n",
    "    return\n",
    "\n",
    "for i in [3,4,5,8,9,10]:\n",
    "    add_SO(i)"
   ]
  },
  {
   "cell_type": "code",
   "execution_count": 71,
   "metadata": {},
   "outputs": [],
   "source": [
    "def add_WR(i):\n",
    "    ind_WR = ta.momentum.WilliamsRIndicator(high=df['high'],low=df['low'],close=df['close'],lbp=i)\n",
    "    name = 'wr_%s' %(i)\n",
    "    df[name] = ind_WR.wr()\n",
    "    return\n",
    "\n",
    "for i in [6,7,8,9,10]:\n",
    "    add_WR(i)"
   ]
  },
  {
   "cell_type": "code",
   "execution_count": 72,
   "metadata": {},
   "outputs": [],
   "source": [
    "def add_ROC(i):\n",
    "    ind_ROC = ta.momentum.ROCIndicator(close=df['close'],n=i)\n",
    "    name = 'roc_%s' %(i)\n",
    "    df[name] = ind_ROC.roc()\n",
    "    return\n",
    "\n",
    "for i in [12,13,14,15]:\n",
    "    add_ROC(i)"
   ]
  },
  {
   "cell_type": "code",
   "execution_count": 73,
   "metadata": {},
   "outputs": [],
   "source": [
    "def add_WCP(i):\n",
    "    ind_WCP = ta.trend.EMAIndicator(close=df['wclose'],n=i)\n",
    "    name = 'wcp_%s' %(i)\n",
    "    df[name] = ind_WCP.ema_indicator()\n",
    "    return\n",
    "\n",
    "add_WCP(15)"
   ]
  },
  {
   "cell_type": "code",
   "execution_count": 74,
   "metadata": {},
   "outputs": [],
   "source": [
    "def add_MACD(i,j):\n",
    "    ind_MACD = ta.trend.MACD(close=df['close'],n_fast=i,n_slow=j)\n",
    "    name ='macd_%s_%s' %(i,j)\n",
    "    df[name] = ind_MACD.macd()\n",
    "    return\n",
    "\n",
    "add_MACD(15,30)  "
   ]
  },
  {
   "cell_type": "code",
   "execution_count": 75,
   "metadata": {},
   "outputs": [],
   "source": [
    "def add_CCI(i):\n",
    "    ind_CCI = ta.trend.cci(high=df['high'],low=df['low'],close=df['close'],n=i)\n",
    "    name = 'cci_%s' %(i)\n",
    "    df[name] = ind_CCI\n",
    "    return\n",
    "\n",
    "add_CCI(15)"
   ]
  },
  {
   "cell_type": "markdown",
   "metadata": {},
   "source": [
    "## Signal Processing features"
   ]
  },
  {
   "cell_type": "code",
   "execution_count": 76,
   "metadata": {},
   "outputs": [],
   "source": [
    "for i in range(1,len(df)):\n",
    "    df.at[i,'hi_avg_2'] =  (df.at[i-1,'high'] + df.at[i,'high'])/2\n",
    "    df.at[i,'lo_avg_2'] =  (df.at[i-1,'low'] + df.at[i,'low'])/2\n",
    "    df.at[i,'hilo_avg_2'] = (df.at[i,'hi_avg_2'] + df.at[i,'lo_avg_2'])/2\n",
    "    df.at[i,'hilo_avg'] = (df.at[i,'high'] + df.at[i,'low'])/2"
   ]
  },
  {
   "cell_type": "code",
   "execution_count": 78,
   "metadata": {},
   "outputs": [],
   "source": [
    "df.dropna(inplace=True)"
   ]
  },
  {
   "cell_type": "code",
   "execution_count": 79,
   "metadata": {},
   "outputs": [
    {
     "data": {
      "text/plain": [
       "(5149, 29)"
      ]
     },
     "execution_count": 79,
     "metadata": {},
     "output_type": "execute_result"
    }
   ],
   "source": [
    "df.shape"
   ]
  },
  {
   "cell_type": "code",
   "execution_count": 80,
   "metadata": {},
   "outputs": [],
   "source": [
    "def add_slope(i):\n",
    "    for j in range(i-1,len(df)):\n",
    "        a=df['high'][j-(i-1):j+1]\n",
    "        b=[]\n",
    "        for k in range(i):\n",
    "            b.append(k)\n",
    "        name = 'slope_%s' %(i)\n",
    "        df.at[j,name] = linregress(a,b).slope\n",
    "    \n",
    "for i in [3,4,5,10,20,30]:\n",
    "    add_slope(i)"
   ]
  },
  {
   "cell_type": "code",
   "execution_count": 81,
   "metadata": {},
   "outputs": [],
   "source": [
    "df.dropna(inplace=True)"
   ]
  },
  {
   "cell_type": "code",
   "execution_count": 82,
   "metadata": {},
   "outputs": [
    {
     "data": {
      "text/plain": [
       "(5120, 35)"
      ]
     },
     "execution_count": 82,
     "metadata": {},
     "output_type": "execute_result"
    }
   ],
   "source": [
    "df.shape"
   ]
  },
  {
   "cell_type": "markdown",
   "metadata": {},
   "source": [
    "## Run the cell below if you want to save the dataframe for future use"
   ]
  },
  {
   "cell_type": "code",
   "execution_count": 84,
   "metadata": {},
   "outputs": [],
   "source": [
    "df.to_parquet('../Dataframes/df.parquet.gzip',compression='gzip')"
   ]
  }
 ],
 "metadata": {
  "kernelspec": {
   "display_name": "Python 3",
   "language": "python",
   "name": "python3"
  },
  "language_info": {
   "codemirror_mode": {
    "name": "ipython",
    "version": 3
   },
   "file_extension": ".py",
   "mimetype": "text/x-python",
   "name": "python",
   "nbconvert_exporter": "python",
   "pygments_lexer": "ipython3",
   "version": "3.7.7"
  }
 },
 "nbformat": 4,
 "nbformat_minor": 2
}
