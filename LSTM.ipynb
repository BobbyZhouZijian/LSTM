{
 "cells": [
  {
   "cell_type": "markdown",
   "metadata": {},
   "source": [
    "# Initialisation"
   ]
  },
  {
   "cell_type": "code",
   "execution_count": 1,
   "metadata": {},
   "outputs": [],
   "source": [
    "import pandas as pd\n",
    "import numpy as np\n",
    "import matplotlib.pyplot as plt\n",
    "import matplotlib as mpl\n",
    "mpl.style.use('seaborn')\n",
    "\n",
    "import ta"
   ]
  },
  {
   "cell_type": "code",
   "execution_count": 2,
   "metadata": {},
   "outputs": [],
   "source": [
    "# Load the raw data\n",
    "df_EURUSD = pd.read_csv('./FX Data/EURUSD1.csv', names=['Date','Time','Open','High','Low','Close','Volume'])"
   ]
  },
  {
   "cell_type": "code",
   "execution_count": 3,
   "metadata": {},
   "outputs": [
    {
     "data": {
      "text/html": [
       "<div>\n",
       "<style scoped>\n",
       "    .dataframe tbody tr th:only-of-type {\n",
       "        vertical-align: middle;\n",
       "    }\n",
       "\n",
       "    .dataframe tbody tr th {\n",
       "        vertical-align: top;\n",
       "    }\n",
       "\n",
       "    .dataframe thead th {\n",
       "        text-align: right;\n",
       "    }\n",
       "</style>\n",
       "<table border=\"1\" class=\"dataframe\">\n",
       "  <thead>\n",
       "    <tr style=\"text-align: right;\">\n",
       "      <th></th>\n",
       "      <th>Date</th>\n",
       "      <th>Time</th>\n",
       "      <th>Open</th>\n",
       "      <th>High</th>\n",
       "      <th>Low</th>\n",
       "      <th>Close</th>\n",
       "      <th>Volume</th>\n",
       "    </tr>\n",
       "  </thead>\n",
       "  <tbody>\n",
       "    <tr>\n",
       "      <td>64995</td>\n",
       "      <td>2019.11.01</td>\n",
       "      <td>10:32</td>\n",
       "      <td>1.11610</td>\n",
       "      <td>1.11610</td>\n",
       "      <td>1.11600</td>\n",
       "      <td>1.11609</td>\n",
       "      <td>40</td>\n",
       "    </tr>\n",
       "    <tr>\n",
       "      <td>64996</td>\n",
       "      <td>2019.11.01</td>\n",
       "      <td>10:33</td>\n",
       "      <td>1.11607</td>\n",
       "      <td>1.11607</td>\n",
       "      <td>1.11557</td>\n",
       "      <td>1.11570</td>\n",
       "      <td>102</td>\n",
       "    </tr>\n",
       "    <tr>\n",
       "      <td>64997</td>\n",
       "      <td>2019.11.01</td>\n",
       "      <td>10:34</td>\n",
       "      <td>1.11570</td>\n",
       "      <td>1.11574</td>\n",
       "      <td>1.11550</td>\n",
       "      <td>1.11551</td>\n",
       "      <td>63</td>\n",
       "    </tr>\n",
       "    <tr>\n",
       "      <td>64998</td>\n",
       "      <td>2019.11.01</td>\n",
       "      <td>10:35</td>\n",
       "      <td>1.11550</td>\n",
       "      <td>1.11561</td>\n",
       "      <td>1.11550</td>\n",
       "      <td>1.11555</td>\n",
       "      <td>59</td>\n",
       "    </tr>\n",
       "    <tr>\n",
       "      <td>64999</td>\n",
       "      <td>2019.11.01</td>\n",
       "      <td>10:36</td>\n",
       "      <td>1.11557</td>\n",
       "      <td>1.11561</td>\n",
       "      <td>1.11550</td>\n",
       "      <td>1.11553</td>\n",
       "      <td>33</td>\n",
       "    </tr>\n",
       "  </tbody>\n",
       "</table>\n",
       "</div>"
      ],
      "text/plain": [
       "             Date   Time     Open     High      Low    Close  Volume\n",
       "64995  2019.11.01  10:32  1.11610  1.11610  1.11600  1.11609      40\n",
       "64996  2019.11.01  10:33  1.11607  1.11607  1.11557  1.11570     102\n",
       "64997  2019.11.01  10:34  1.11570  1.11574  1.11550  1.11551      63\n",
       "64998  2019.11.01  10:35  1.11550  1.11561  1.11550  1.11555      59\n",
       "64999  2019.11.01  10:36  1.11557  1.11561  1.11550  1.11553      33"
      ]
     },
     "execution_count": 3,
     "metadata": {},
     "output_type": "execute_result"
    }
   ],
   "source": [
    "df_EURUSD.tail()"
   ]
  },
  {
   "cell_type": "code",
   "execution_count": 4,
   "metadata": {},
   "outputs": [],
   "source": [
    "df_EURUSD['Timestamp'] = 0"
   ]
  },
  {
   "cell_type": "code",
   "execution_count": 5,
   "metadata": {},
   "outputs": [],
   "source": [
    "for i in range(len(df_EURUSD)):\n",
    "    df_EURUSD.at[i,'Timestamp']=i"
   ]
  },
  {
   "cell_type": "code",
   "execution_count": 6,
   "metadata": {},
   "outputs": [
    {
     "name": "stderr",
     "output_type": "stream",
     "text": [
      "c:\\users\\seang\\appdata\\local\\programs\\python\\python37\\lib\\site-packages\\ta\\trend.py:468: RuntimeWarning: invalid value encountered in double_scalars\n",
      "  dip[i] = 100 * (self._dip[i]/self._trs[i])\n",
      "c:\\users\\seang\\appdata\\local\\programs\\python\\python37\\lib\\site-packages\\ta\\trend.py:472: RuntimeWarning: invalid value encountered in double_scalars\n",
      "  din[i] = 100 * (self._din[i]/self._trs[i])\n"
     ]
    }
   ],
   "source": [
    "# Add in technical indicators\n",
    "df_ta=ta.add_all_ta_features(df_EURUSD, 'Open','High','Low','Close','Volume',fillna=True)"
   ]
  },
  {
   "cell_type": "code",
   "execution_count": 7,
   "metadata": {},
   "outputs": [
    {
     "data": {
      "text/plain": [
       "(65000, 69)"
      ]
     },
     "execution_count": 7,
     "metadata": {},
     "output_type": "execute_result"
    }
   ],
   "source": [
    "df_EURUSD.shape"
   ]
  },
  {
   "cell_type": "code",
   "execution_count": 8,
   "metadata": {},
   "outputs": [
    {
     "data": {
      "text/html": [
       "<div>\n",
       "<style scoped>\n",
       "    .dataframe tbody tr th:only-of-type {\n",
       "        vertical-align: middle;\n",
       "    }\n",
       "\n",
       "    .dataframe tbody tr th {\n",
       "        vertical-align: top;\n",
       "    }\n",
       "\n",
       "    .dataframe thead th {\n",
       "        text-align: right;\n",
       "    }\n",
       "</style>\n",
       "<table border=\"1\" class=\"dataframe\">\n",
       "  <thead>\n",
       "    <tr style=\"text-align: right;\">\n",
       "      <th></th>\n",
       "      <th>Date</th>\n",
       "      <th>Time</th>\n",
       "      <th>Open</th>\n",
       "      <th>High</th>\n",
       "      <th>Low</th>\n",
       "      <th>Close</th>\n",
       "      <th>Volume</th>\n",
       "      <th>Timestamp</th>\n",
       "      <th>volume_adi</th>\n",
       "      <th>volume_obv</th>\n",
       "      <th>...</th>\n",
       "      <th>momentum_uo</th>\n",
       "      <th>momentum_stoch</th>\n",
       "      <th>momentum_stoch_signal</th>\n",
       "      <th>momentum_wr</th>\n",
       "      <th>momentum_ao</th>\n",
       "      <th>momentum_kama</th>\n",
       "      <th>momentum_roc</th>\n",
       "      <th>others_dr</th>\n",
       "      <th>others_dlr</th>\n",
       "      <th>others_cr</th>\n",
       "    </tr>\n",
       "  </thead>\n",
       "  <tbody>\n",
       "    <tr>\n",
       "      <td>0</td>\n",
       "      <td>2019.08.15</td>\n",
       "      <td>15:22</td>\n",
       "      <td>1.11542</td>\n",
       "      <td>1.11547</td>\n",
       "      <td>1.11542</td>\n",
       "      <td>1.11544</td>\n",
       "      <td>20</td>\n",
       "      <td>0</td>\n",
       "      <td>-3.738490</td>\n",
       "      <td>20</td>\n",
       "      <td>...</td>\n",
       "      <td>99.757407</td>\n",
       "      <td>40.000000</td>\n",
       "      <td>40.000000</td>\n",
       "      <td>-60.000000</td>\n",
       "      <td>0.0</td>\n",
       "      <td>1.11544</td>\n",
       "      <td>0.0</td>\n",
       "      <td>1.118336</td>\n",
       "      <td>0.000000</td>\n",
       "      <td>0.000000</td>\n",
       "    </tr>\n",
       "    <tr>\n",
       "      <td>1</td>\n",
       "      <td>2019.08.15</td>\n",
       "      <td>15:23</td>\n",
       "      <td>1.11544</td>\n",
       "      <td>1.11567</td>\n",
       "      <td>1.11544</td>\n",
       "      <td>1.11564</td>\n",
       "      <td>54</td>\n",
       "      <td>1</td>\n",
       "      <td>35.913043</td>\n",
       "      <td>74</td>\n",
       "      <td>...</td>\n",
       "      <td>99.523674</td>\n",
       "      <td>88.000000</td>\n",
       "      <td>64.000000</td>\n",
       "      <td>-12.000000</td>\n",
       "      <td>0.0</td>\n",
       "      <td>1.11564</td>\n",
       "      <td>0.0</td>\n",
       "      <td>0.017930</td>\n",
       "      <td>0.017929</td>\n",
       "      <td>0.017930</td>\n",
       "    </tr>\n",
       "    <tr>\n",
       "      <td>2</td>\n",
       "      <td>2019.08.15</td>\n",
       "      <td>15:24</td>\n",
       "      <td>1.11564</td>\n",
       "      <td>1.11573</td>\n",
       "      <td>1.11563</td>\n",
       "      <td>1.11573</td>\n",
       "      <td>43</td>\n",
       "      <td>2</td>\n",
       "      <td>82.913043</td>\n",
       "      <td>117</td>\n",
       "      <td>...</td>\n",
       "      <td>99.527425</td>\n",
       "      <td>100.000000</td>\n",
       "      <td>76.000000</td>\n",
       "      <td>-0.000000</td>\n",
       "      <td>0.0</td>\n",
       "      <td>1.11573</td>\n",
       "      <td>0.0</td>\n",
       "      <td>0.008067</td>\n",
       "      <td>0.008067</td>\n",
       "      <td>0.025999</td>\n",
       "    </tr>\n",
       "    <tr>\n",
       "      <td>3</td>\n",
       "      <td>2019.08.15</td>\n",
       "      <td>15:25</td>\n",
       "      <td>1.11573</td>\n",
       "      <td>1.11579</td>\n",
       "      <td>1.11570</td>\n",
       "      <td>1.11579</td>\n",
       "      <td>41</td>\n",
       "      <td>3</td>\n",
       "      <td>84.000000</td>\n",
       "      <td>158</td>\n",
       "      <td>...</td>\n",
       "      <td>99.530752</td>\n",
       "      <td>100.000000</td>\n",
       "      <td>96.000000</td>\n",
       "      <td>-0.000000</td>\n",
       "      <td>0.0</td>\n",
       "      <td>1.11579</td>\n",
       "      <td>0.0</td>\n",
       "      <td>0.005378</td>\n",
       "      <td>0.005378</td>\n",
       "      <td>0.031378</td>\n",
       "    </tr>\n",
       "    <tr>\n",
       "      <td>4</td>\n",
       "      <td>2019.08.15</td>\n",
       "      <td>15:26</td>\n",
       "      <td>1.11579</td>\n",
       "      <td>1.11579</td>\n",
       "      <td>1.11569</td>\n",
       "      <td>1.11572</td>\n",
       "      <td>34</td>\n",
       "      <td>4</td>\n",
       "      <td>27.400000</td>\n",
       "      <td>124</td>\n",
       "      <td>...</td>\n",
       "      <td>98.991185</td>\n",
       "      <td>81.081081</td>\n",
       "      <td>93.693694</td>\n",
       "      <td>-18.918919</td>\n",
       "      <td>0.0</td>\n",
       "      <td>1.11572</td>\n",
       "      <td>0.0</td>\n",
       "      <td>-0.006274</td>\n",
       "      <td>-0.006274</td>\n",
       "      <td>0.025102</td>\n",
       "    </tr>\n",
       "  </tbody>\n",
       "</table>\n",
       "<p>5 rows × 69 columns</p>\n",
       "</div>"
      ],
      "text/plain": [
       "         Date   Time     Open     High      Low    Close  Volume  Timestamp  \\\n",
       "0  2019.08.15  15:22  1.11542  1.11547  1.11542  1.11544      20          0   \n",
       "1  2019.08.15  15:23  1.11544  1.11567  1.11544  1.11564      54          1   \n",
       "2  2019.08.15  15:24  1.11564  1.11573  1.11563  1.11573      43          2   \n",
       "3  2019.08.15  15:25  1.11573  1.11579  1.11570  1.11579      41          3   \n",
       "4  2019.08.15  15:26  1.11579  1.11579  1.11569  1.11572      34          4   \n",
       "\n",
       "   volume_adi  volume_obv  ...  momentum_uo  momentum_stoch  \\\n",
       "0   -3.738490          20  ...    99.757407       40.000000   \n",
       "1   35.913043          74  ...    99.523674       88.000000   \n",
       "2   82.913043         117  ...    99.527425      100.000000   \n",
       "3   84.000000         158  ...    99.530752      100.000000   \n",
       "4   27.400000         124  ...    98.991185       81.081081   \n",
       "\n",
       "   momentum_stoch_signal  momentum_wr  momentum_ao  momentum_kama  \\\n",
       "0              40.000000   -60.000000          0.0        1.11544   \n",
       "1              64.000000   -12.000000          0.0        1.11564   \n",
       "2              76.000000    -0.000000          0.0        1.11573   \n",
       "3              96.000000    -0.000000          0.0        1.11579   \n",
       "4              93.693694   -18.918919          0.0        1.11572   \n",
       "\n",
       "   momentum_roc  others_dr  others_dlr  others_cr  \n",
       "0           0.0   1.118336    0.000000   0.000000  \n",
       "1           0.0   0.017930    0.017929   0.017930  \n",
       "2           0.0   0.008067    0.008067   0.025999  \n",
       "3           0.0   0.005378    0.005378   0.031378  \n",
       "4           0.0  -0.006274   -0.006274   0.025102  \n",
       "\n",
       "[5 rows x 69 columns]"
      ]
     },
     "execution_count": 8,
     "metadata": {},
     "output_type": "execute_result"
    }
   ],
   "source": [
    "df_EURUSD.head()"
   ]
  },
  {
   "cell_type": "markdown",
   "metadata": {},
   "source": [
    "# Let's Plot Some Features! (detour)"
   ]
  },
  {
   "cell_type": "markdown",
   "metadata": {},
   "source": [
    "### Bollinger Bands"
   ]
  },
  {
   "cell_type": "code",
   "execution_count": 9,
   "metadata": {},
   "outputs": [
    {
     "data": {
      "image/png": "[encoded data removed]",
      "text/plain": [
       "<Figure size 432x288 with 1 Axes>"
      ]
     },
     "metadata": {
      "needs_background": "light"
     },
     "output_type": "display_data"
    }
   ],
   "source": [
    "plt.plot(df_EURUSD[500:800].Close)\n",
    "plt.plot(df_EURUSD[500:800].volatility_bbh, label='High BB')\n",
    "plt.plot(df_EURUSD[500:800].volatility_bbl, label='Low BB')\n",
    "plt.plot(df_EURUSD[500:800].volatility_bbm, label='EMA BB')\n",
    "plt.title('Bollinger Bands')\n",
    "plt.legend()\n",
    "plt.show()"
   ]
  },
  {
   "cell_type": "markdown",
   "metadata": {},
   "source": [
    "# Classifiers"
   ]
  },
  {
   "cell_type": "markdown",
   "metadata": {},
   "source": [
    "Logistic, KNN, Random Forest Classifier.\n",
    "Stack KNN, Random Forest, Naive Bayes together with with Logistic Regression as a meta-classifier?\n",
    "\n",
    "#### Imports and Functions"
   ]
  },
  {
   "cell_type": "code",
   "execution_count": 60,
   "metadata": {},
   "outputs": [],
   "source": [
    "from xgboost import XGBClassifier\n",
    "from xgboost import plot_importance\n",
    "from sklearn import svm\n",
    "from sklearn import metrics"
   ]
  },
  {
   "cell_type": "code",
   "execution_count": 49,
   "metadata": {},
   "outputs": [],
   "source": [
    "#IMPORTANT\n",
    "import warnings\n",
    "warnings.filterwarnings(\"ignore\")"
   ]
  },
  {
   "cell_type": "code",
   "execution_count": 44,
   "metadata": {},
   "outputs": [],
   "source": [
    "def prepare_feature_matrix(start_ind, end_ind):\n",
    "    df_temp=df_EURUSD[start_ind:end_ind]\n",
    "    df_temp['delta']=0\n",
    "    for i in range(start_ind, start_ind+len(df_temp)-1):\n",
    "        if df_temp.loc[i+1,'Close'] > df_temp.loc[i,'Close']:\n",
    "            df_temp.loc[i,'delta'] = 1\n",
    "    X_temp = df_temp.drop(axis=1, labels=['Close','Timestamp','Date','Time','Open','High','Low','Volume','delta']).values\n",
    "    y_temp=df_temp['delta'].to_frame().values\n",
    "    return [X_temp,y_temp]"
   ]
  },
  {
   "cell_type": "code",
   "execution_count": 83,
   "metadata": {},
   "outputs": [],
   "source": [
    "training_1 = prepare_feature_matrix(500,2000)"
   ]
  },
  {
   "cell_type": "code",
   "execution_count": 85,
   "metadata": {},
   "outputs": [],
   "source": [
    "pred_1 = prepare_feature_matrix(2000,2500)"
   ]
  },
  {
   "cell_type": "markdown",
   "metadata": {},
   "source": [
    "## All them models\n",
    "#### Linear SVM"
   ]
  },
  {
   "cell_type": "code",
   "execution_count": 89,
   "metadata": {},
   "outputs": [
    {
     "data": {
      "text/plain": [
       "SVC(C=1.0, cache_size=200, class_weight=None, coef0=0.0,\n",
       "    decision_function_shape='ovr', degree=3, gamma='auto_deprecated',\n",
       "    kernel='rbf', max_iter=-1, probability=False, random_state=None,\n",
       "    shrinking=True, tol=0.001, verbose=False)"
      ]
     },
     "execution_count": 89,
     "metadata": {},
     "output_type": "execute_result"
    }
   ],
   "source": [
    "svm_model=svm.SVC()\n",
    "svm_model.fit(training_1[0],training_1[1])"
   ]
  },
  {
   "cell_type": "code",
   "execution_count": 90,
   "metadata": {},
   "outputs": [
    {
     "name": "stdout",
     "output_type": "stream",
     "text": [
      "0.588\n"
     ]
    }
   ],
   "source": [
    "svm_y_pred=svm_model.predict(pred_1[0])\n",
    "print(metrics.accuracy_score(pred_1[1],svm_y_pred))"
   ]
  },
  {
   "cell_type": "markdown",
   "metadata": {},
   "source": [
    "#### NuSVC"
   ]
  },
  {
   "cell_type": "code",
   "execution_count": 86,
   "metadata": {},
   "outputs": [
    {
     "data": {
      "text/plain": [
       "NuSVC(cache_size=200, class_weight=None, coef0=0.0,\n",
       "      decision_function_shape='ovr', degree=3, gamma='auto', kernel='rbf',\n",
       "      max_iter=-1, nu=0.5, probability=False, random_state=None, shrinking=True,\n",
       "      tol=0.001, verbose=False)"
      ]
     },
     "execution_count": 86,
     "metadata": {},
     "output_type": "execute_result"
    }
   ],
   "source": [
    "NuSVC_model=svm.NuSVC(gamma='auto')\n",
    "NuSVC_model.fit(training_1[0],training_1[1])"
   ]
  },
  {
   "cell_type": "code",
   "execution_count": 91,
   "metadata": {},
   "outputs": [
    {
     "name": "stdout",
     "output_type": "stream",
     "text": [
      "0.588\n"
     ]
    }
   ],
   "source": [
    "NuSVC_y_pred=NuSVC_model.predict(pred_1[0])\n",
    "print(metrics.accuracy_score(pred_1[1],NuSVC_y_pred))"
   ]
  },
  {
   "cell_type": "markdown",
   "metadata": {},
   "source": [
    "#### XGB"
   ]
  },
  {
   "cell_type": "code",
   "execution_count": 92,
   "metadata": {},
   "outputs": [
    {
     "data": {
      "text/plain": [
       "XGBClassifier(base_score=0.5, booster='gbtree', colsample_bylevel=1,\n",
       "              colsample_bynode=1, colsample_bytree=1, gamma=0,\n",
       "              learning_rate=0.1, max_delta_step=0, max_depth=3,\n",
       "              min_child_weight=1, missing=None, n_estimators=100, n_jobs=1,\n",
       "              nthread=None, objective='binary:logistic', random_state=0,\n",
       "              reg_alpha=0, reg_lambda=1, scale_pos_weight=1, seed=None,\n",
       "              silent=None, subsample=1, verbosity=1)"
      ]
     },
     "execution_count": 92,
     "metadata": {},
     "output_type": "execute_result"
    }
   ],
   "source": [
    "xgb_model=XGBClassifier()\n",
    "xgb_model.fit(training_1[0],training_1[1])"
   ]
  },
  {
   "cell_type": "code",
   "execution_count": 93,
   "metadata": {},
   "outputs": [
    {
     "name": "stdout",
     "output_type": "stream",
     "text": [
      "0.576\n"
     ]
    }
   ],
   "source": [
    "xgb_y_pred=xgb_model.predict(pred_1[0])\n",
    "print(metrics.accuracy_score(pred_1[1],xgb_y_pred))"
   ]
  },
  {
   "cell_type": "code",
   "execution_count": 94,
   "metadata": {},
   "outputs": [
    {
     "data": {
      "image/png": "[encoded data removed]",
      "text/plain": [
       "<Figure size 720x1800 with 1 Axes>"
      ]
     },
     "metadata": {
      "needs_background": "light"
     },
     "output_type": "display_data"
    }
   ],
   "source": [
    "importances=xgb_model.feature_importances_\n",
    "indices = np.argsort(importances)\n",
    "\n",
    "plt.figure(figsize = (10,25))\n",
    "plt.title(\"Feature importances\")\n",
    "plt.barh(range(training_1[0].shape[1]), importances[indices], color=\"r\", align=\"center\")\n",
    "plt.yticks(range(training_1[0].shape[1]), indices)\n",
    "plt.ylim([-1, training_1[0].shape[1]])\n",
    "plt.show()"
   ]
  },
  {
   "cell_type": "markdown",
   "metadata": {},
   "source": [
    "# Random Stuff"
   ]
  }
 ],
 "metadata": {
  "kernelspec": {
   "display_name": "Python 3",
   "language": "python",
   "name": "python3"
  },
  "language_info": {
   "codemirror_mode": {
    "name": "ipython",
    "version": 3
   },
   "file_extension": ".py",
   "mimetype": "text/x-python",
   "name": "python",
   "nbconvert_exporter": "python",
   "pygments_lexer": "ipython3",
   "version": "3.7.4"
  }
 },
 "nbformat": 4,
 "nbformat_minor": 2
}
