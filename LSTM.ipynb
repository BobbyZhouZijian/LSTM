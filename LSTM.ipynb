{
 "cells": [
  {
   "cell_type": "markdown",
   "metadata": {},
   "source": [
    "# To Do List\n",
    "\n",
    "Change to use Bloomberg Data.\n",
    "Note that there is no Close due to Open == Close\n",
    "\n",
    "Select better features to train on.\n",
    "We can create our own features. (Like Distance from MA)"
   ]
  },
  {
   "cell_type": "markdown",
   "metadata": {},
   "source": [
    "# Initialisation"
   ]
  },
  {
   "cell_type": "code",
   "execution_count": 3,
   "metadata": {},
   "outputs": [],
   "source": [
    "import pandas as pd\n",
    "import numpy as np\n",
    "import matplotlib.pyplot as plt\n",
    "import matplotlib as mpl\n",
    "mpl.style.use('seaborn')\n",
    "\n",
    "import ta"
   ]
  },
  {
   "cell_type": "code",
   "execution_count": 4,
   "metadata": {},
   "outputs": [],
   "source": [
    "#IMPORTANT\n",
    "import warnings\n",
    "warnings.filterwarnings(\"ignore\")"
   ]
  },
  {
   "cell_type": "code",
   "execution_count": 5,
   "metadata": {},
   "outputs": [],
   "source": [
    "# Load the raw data\n",
    "df_EURUSD = pd.read_csv('./FX Data/EURUSD1.csv', names=['Date','Time','Open','High','Low','Close','Volume'])"
   ]
  },
  {
   "cell_type": "code",
   "execution_count": 6,
   "metadata": {},
   "outputs": [],
   "source": [
    "df_EURUSD['Timestamp'] = 0"
   ]
  },
  {
   "cell_type": "code",
   "execution_count": 7,
   "metadata": {},
   "outputs": [],
   "source": [
    "for i in range(len(df_EURUSD)):\n",
    "    df_EURUSD.at[i,'Timestamp']=i"
   ]
  },
  {
   "cell_type": "code",
   "execution_count": 8,
   "metadata": {},
   "outputs": [],
   "source": [
    "# Add in technical indicators\n",
    "df_ta=ta.add_all_ta_features(df_EURUSD, 'Open','High','Low','Close','Volume',fillna=True)"
   ]
  },
  {
   "cell_type": "code",
   "execution_count": 9,
   "metadata": {},
   "outputs": [
    {
     "data": {
      "text/plain": [
       "(65000, 69)"
      ]
     },
     "execution_count": 9,
     "metadata": {},
     "output_type": "execute_result"
    }
   ],
   "source": [
    "df_EURUSD.shape"
   ]
  },
  {
   "cell_type": "code",
   "execution_count": 10,
   "metadata": {
    "collapsed": true
   },
   "outputs": [
    {
     "data": {
      "text/html": [
       "<div>\n",
       "<style scoped>\n",
       "    .dataframe tbody tr th:only-of-type {\n",
       "        vertical-align: middle;\n",
       "    }\n",
       "\n",
       "    .dataframe tbody tr th {\n",
       "        vertical-align: top;\n",
       "    }\n",
       "\n",
       "    .dataframe thead th {\n",
       "        text-align: right;\n",
       "    }\n",
       "</style>\n",
       "<table border=\"1\" class=\"dataframe\">\n",
       "  <thead>\n",
       "    <tr style=\"text-align: right;\">\n",
       "      <th></th>\n",
       "      <th>Date</th>\n",
       "      <th>Time</th>\n",
       "      <th>Open</th>\n",
       "      <th>High</th>\n",
       "      <th>Low</th>\n",
       "      <th>Close</th>\n",
       "      <th>Volume</th>\n",
       "      <th>Timestamp</th>\n",
       "      <th>volume_adi</th>\n",
       "      <th>volume_obv</th>\n",
       "      <th>...</th>\n",
       "      <th>momentum_uo</th>\n",
       "      <th>momentum_stoch</th>\n",
       "      <th>momentum_stoch_signal</th>\n",
       "      <th>momentum_wr</th>\n",
       "      <th>momentum_ao</th>\n",
       "      <th>momentum_kama</th>\n",
       "      <th>momentum_roc</th>\n",
       "      <th>others_dr</th>\n",
       "      <th>others_dlr</th>\n",
       "      <th>others_cr</th>\n",
       "    </tr>\n",
       "  </thead>\n",
       "  <tbody>\n",
       "    <tr>\n",
       "      <td>0</td>\n",
       "      <td>2019.08.15</td>\n",
       "      <td>15:22</td>\n",
       "      <td>1.11542</td>\n",
       "      <td>1.11547</td>\n",
       "      <td>1.11542</td>\n",
       "      <td>1.11544</td>\n",
       "      <td>20</td>\n",
       "      <td>0</td>\n",
       "      <td>-3.738490</td>\n",
       "      <td>20</td>\n",
       "      <td>...</td>\n",
       "      <td>99.757407</td>\n",
       "      <td>40.000000</td>\n",
       "      <td>40.000000</td>\n",
       "      <td>-60.000000</td>\n",
       "      <td>0.0</td>\n",
       "      <td>1.11544</td>\n",
       "      <td>0.0</td>\n",
       "      <td>1.118336</td>\n",
       "      <td>0.000000</td>\n",
       "      <td>0.000000</td>\n",
       "    </tr>\n",
       "    <tr>\n",
       "      <td>1</td>\n",
       "      <td>2019.08.15</td>\n",
       "      <td>15:23</td>\n",
       "      <td>1.11544</td>\n",
       "      <td>1.11567</td>\n",
       "      <td>1.11544</td>\n",
       "      <td>1.11564</td>\n",
       "      <td>54</td>\n",
       "      <td>1</td>\n",
       "      <td>35.913043</td>\n",
       "      <td>74</td>\n",
       "      <td>...</td>\n",
       "      <td>99.523674</td>\n",
       "      <td>88.000000</td>\n",
       "      <td>64.000000</td>\n",
       "      <td>-12.000000</td>\n",
       "      <td>0.0</td>\n",
       "      <td>1.11564</td>\n",
       "      <td>0.0</td>\n",
       "      <td>0.017930</td>\n",
       "      <td>0.017929</td>\n",
       "      <td>0.017930</td>\n",
       "    </tr>\n",
       "    <tr>\n",
       "      <td>2</td>\n",
       "      <td>2019.08.15</td>\n",
       "      <td>15:24</td>\n",
       "      <td>1.11564</td>\n",
       "      <td>1.11573</td>\n",
       "      <td>1.11563</td>\n",
       "      <td>1.11573</td>\n",
       "      <td>43</td>\n",
       "      <td>2</td>\n",
       "      <td>82.913043</td>\n",
       "      <td>117</td>\n",
       "      <td>...</td>\n",
       "      <td>99.527425</td>\n",
       "      <td>100.000000</td>\n",
       "      <td>76.000000</td>\n",
       "      <td>-0.000000</td>\n",
       "      <td>0.0</td>\n",
       "      <td>1.11573</td>\n",
       "      <td>0.0</td>\n",
       "      <td>0.008067</td>\n",
       "      <td>0.008067</td>\n",
       "      <td>0.025999</td>\n",
       "    </tr>\n",
       "    <tr>\n",
       "      <td>3</td>\n",
       "      <td>2019.08.15</td>\n",
       "      <td>15:25</td>\n",
       "      <td>1.11573</td>\n",
       "      <td>1.11579</td>\n",
       "      <td>1.11570</td>\n",
       "      <td>1.11579</td>\n",
       "      <td>41</td>\n",
       "      <td>3</td>\n",
       "      <td>84.000000</td>\n",
       "      <td>158</td>\n",
       "      <td>...</td>\n",
       "      <td>99.530752</td>\n",
       "      <td>100.000000</td>\n",
       "      <td>96.000000</td>\n",
       "      <td>-0.000000</td>\n",
       "      <td>0.0</td>\n",
       "      <td>1.11579</td>\n",
       "      <td>0.0</td>\n",
       "      <td>0.005378</td>\n",
       "      <td>0.005378</td>\n",
       "      <td>0.031378</td>\n",
       "    </tr>\n",
       "    <tr>\n",
       "      <td>4</td>\n",
       "      <td>2019.08.15</td>\n",
       "      <td>15:26</td>\n",
       "      <td>1.11579</td>\n",
       "      <td>1.11579</td>\n",
       "      <td>1.11569</td>\n",
       "      <td>1.11572</td>\n",
       "      <td>34</td>\n",
       "      <td>4</td>\n",
       "      <td>27.400000</td>\n",
       "      <td>124</td>\n",
       "      <td>...</td>\n",
       "      <td>98.991185</td>\n",
       "      <td>81.081081</td>\n",
       "      <td>93.693694</td>\n",
       "      <td>-18.918919</td>\n",
       "      <td>0.0</td>\n",
       "      <td>1.11572</td>\n",
       "      <td>0.0</td>\n",
       "      <td>-0.006274</td>\n",
       "      <td>-0.006274</td>\n",
       "      <td>0.025102</td>\n",
       "    </tr>\n",
       "  </tbody>\n",
       "</table>\n",
       "<p>5 rows × 69 columns</p>\n",
       "</div>"
      ],
      "text/plain": [
       "         Date   Time     Open     High      Low    Close  Volume  Timestamp  \\\n",
       "0  2019.08.15  15:22  1.11542  1.11547  1.11542  1.11544      20          0   \n",
       "1  2019.08.15  15:23  1.11544  1.11567  1.11544  1.11564      54          1   \n",
       "2  2019.08.15  15:24  1.11564  1.11573  1.11563  1.11573      43          2   \n",
       "3  2019.08.15  15:25  1.11573  1.11579  1.11570  1.11579      41          3   \n",
       "4  2019.08.15  15:26  1.11579  1.11579  1.11569  1.11572      34          4   \n",
       "\n",
       "   volume_adi  volume_obv  ...  momentum_uo  momentum_stoch  \\\n",
       "0   -3.738490          20  ...    99.757407       40.000000   \n",
       "1   35.913043          74  ...    99.523674       88.000000   \n",
       "2   82.913043         117  ...    99.527425      100.000000   \n",
       "3   84.000000         158  ...    99.530752      100.000000   \n",
       "4   27.400000         124  ...    98.991185       81.081081   \n",
       "\n",
       "   momentum_stoch_signal  momentum_wr  momentum_ao  momentum_kama  \\\n",
       "0              40.000000   -60.000000          0.0        1.11544   \n",
       "1              64.000000   -12.000000          0.0        1.11564   \n",
       "2              76.000000    -0.000000          0.0        1.11573   \n",
       "3              96.000000    -0.000000          0.0        1.11579   \n",
       "4              93.693694   -18.918919          0.0        1.11572   \n",
       "\n",
       "   momentum_roc  others_dr  others_dlr  others_cr  \n",
       "0           0.0   1.118336    0.000000   0.000000  \n",
       "1           0.0   0.017930    0.017929   0.017930  \n",
       "2           0.0   0.008067    0.008067   0.025999  \n",
       "3           0.0   0.005378    0.005378   0.031378  \n",
       "4           0.0  -0.006274   -0.006274   0.025102  \n",
       "\n",
       "[5 rows x 69 columns]"
      ]
     },
     "execution_count": 10,
     "metadata": {},
     "output_type": "execute_result"
    }
   ],
   "source": [
    "df_EURUSD.head()"
   ]
  },
  {
   "cell_type": "markdown",
   "metadata": {},
   "source": [
    "# Let's Plot Some Features! (detour)"
   ]
  },
  {
   "cell_type": "markdown",
   "metadata": {},
   "source": [
    "### Bollinger Bands"
   ]
  },
  {
   "cell_type": "code",
   "execution_count": 11,
   "metadata": {},
   "outputs": [
    {
     "data": {
      "image/png": "[encoded data removed]",
      "text/plain": [
       "<Figure size 432x288 with 1 Axes>"
      ]
     },
     "metadata": {
      "needs_background": "light"
     },
     "output_type": "display_data"
    }
   ],
   "source": [
    "plt.plot(df_EURUSD[500:800].Close)\n",
    "plt.plot(df_EURUSD[500:800].volatility_bbh, label='High BB')\n",
    "plt.plot(df_EURUSD[500:800].volatility_bbl, label='Low BB')\n",
    "plt.plot(df_EURUSD[500:800].volatility_bbm, label='EMA BB')\n",
    "plt.title('Bollinger Bands')\n",
    "plt.legend()\n",
    "plt.show()"
   ]
  },
  {
   "cell_type": "markdown",
   "metadata": {},
   "source": [
    "# Classifiers"
   ]
  },
  {
   "cell_type": "markdown",
   "metadata": {},
   "source": [
    "\n",
    "Stack RBF SVM, Decision Tree, and KNN together with with Logistic Regression as a meta-classifier.\n",
    "\n",
    "#### Imports and Functions"
   ]
  },
  {
   "cell_type": "code",
   "execution_count": 38,
   "metadata": {},
   "outputs": [],
   "source": [
    "from xgboost import XGBClassifier\n",
    "from xgboost import plot_importance\n",
    "from sklearn import svm\n",
    "from sklearn import metrics\n",
    "from sklearn.ensemble import RandomForestClassifier\n",
    "from sklearn.model_selection import RandomizedSearchCV\n",
    "from sklearn.model_selection import cross_val_score\n",
    "from sklearn.tree import DecisionTreeClassifier\n",
    "from sklearn.neighbors import KNeighborsClassifier\n",
    "from sklearn.linear_model import LogisticRegression"
   ]
  },
  {
   "cell_type": "code",
   "execution_count": 13,
   "metadata": {},
   "outputs": [],
   "source": [
    "def prepare_feature_matrix(start_ind, end_ind):\n",
    "    df_temp=df_EURUSD[start_ind:end_ind]\n",
    "    df_temp['delta']=0\n",
    "    for i in range(start_ind, start_ind+len(df_temp)-1):\n",
    "        if df_temp.loc[i+1,'Close'] > df_temp.loc[i,'Close']:\n",
    "            df_temp.loc[i,'delta'] = 1\n",
    "    X_temp = df_temp.drop(axis=1, labels=['Close','Timestamp','Date','Time','Open','High','Low','Volume','delta']).values\n",
    "    y_temp=df_temp['delta'].to_frame().values\n",
    "    return [X_temp,y_temp]"
   ]
  },
  {
   "cell_type": "code",
   "execution_count": 77,
   "metadata": {},
   "outputs": [],
   "source": [
    "training_1 = prepare_feature_matrix(500,4500)"
   ]
  },
  {
   "cell_type": "code",
   "execution_count": 78,
   "metadata": {},
   "outputs": [],
   "source": [
    "pred_1 = prepare_feature_matrix(5000,5500)"
   ]
  },
  {
   "cell_type": "code",
   "execution_count": 16,
   "metadata": {},
   "outputs": [],
   "source": [
    "ta_list=df_EURUSD.columns.to_list()\n",
    "\n",
    "for name in ['Close','Timestamp','Date','Time','Open','High','Low','Volume']:\n",
    "    ta_list.remove(name)"
   ]
  },
  {
   "cell_type": "markdown",
   "metadata": {},
   "source": [
    "## All them models\n",
    "#### RBF SVM"
   ]
  },
  {
   "cell_type": "code",
   "execution_count": 36,
   "metadata": {},
   "outputs": [
    {
     "data": {
      "text/plain": [
       "SVC(C=1.0, cache_size=200, class_weight=None, coef0=0.0,\n",
       "    decision_function_shape='ovr', degree=3, gamma='auto_deprecated',\n",
       "    kernel='rbf', max_iter=-1, probability=False, random_state=None,\n",
       "    shrinking=True, tol=0.001, verbose=False)"
      ]
     },
     "execution_count": 36,
     "metadata": {},
     "output_type": "execute_result"
    }
   ],
   "source": [
    "svm_model=svm.SVC()\n",
    "svm_model.fit(training_1[0],training_1[1])"
   ]
  },
  {
   "cell_type": "code",
   "execution_count": 37,
   "metadata": {},
   "outputs": [
    {
     "name": "stdout",
     "output_type": "stream",
     "text": [
      "0.62\n"
     ]
    }
   ],
   "source": [
    "svm_y_pred=svm_model.predict(pred_1[0])\n",
    "print(metrics.accuracy_score(pred_1[1],svm_y_pred))"
   ]
  },
  {
   "cell_type": "markdown",
   "metadata": {},
   "source": [
    "#### Decision Tree"
   ]
  },
  {
   "cell_type": "code",
   "execution_count": 19,
   "metadata": {},
   "outputs": [
    {
     "data": {
      "text/plain": [
       "DecisionTreeClassifier(class_weight=None, criterion='gini', max_depth=None,\n",
       "                       max_features=None, max_leaf_nodes=None,\n",
       "                       min_impurity_decrease=0.0, min_impurity_split=None,\n",
       "                       min_samples_leaf=1, min_samples_split=2,\n",
       "                       min_weight_fraction_leaf=0.0, presort=False,\n",
       "                       random_state=None, splitter='best')"
      ]
     },
     "execution_count": 19,
     "metadata": {},
     "output_type": "execute_result"
    }
   ],
   "source": [
    "dt_model=DecisionTreeClassifier()\n",
    "dt_model.fit(training_1[0],training_1[1])"
   ]
  },
  {
   "cell_type": "code",
   "execution_count": 20,
   "metadata": {},
   "outputs": [
    {
     "name": "stdout",
     "output_type": "stream",
     "text": [
      "0.536\n"
     ]
    }
   ],
   "source": [
    "dt_y_pred=dt_model.predict(pred_1[0])\n",
    "print(metrics.accuracy_score(pred_1[1],dt_y_pred))"
   ]
  },
  {
   "cell_type": "markdown",
   "metadata": {},
   "source": [
    "#### KNN"
   ]
  },
  {
   "cell_type": "code",
   "execution_count": 33,
   "metadata": {},
   "outputs": [
    {
     "data": {
      "text/plain": [
       "KNeighborsClassifier(algorithm='auto', leaf_size=30, metric='minkowski',\n",
       "                     metric_params=None, n_jobs=None, n_neighbors=10, p=2,\n",
       "                     weights='uniform')"
      ]
     },
     "execution_count": 33,
     "metadata": {},
     "output_type": "execute_result"
    }
   ],
   "source": [
    "knn_model=KNeighborsClassifier(n_neighbors=10)\n",
    "knn_model.fit(training_1[0],training_1[1])"
   ]
  },
  {
   "cell_type": "code",
   "execution_count": 34,
   "metadata": {},
   "outputs": [
    {
     "name": "stdout",
     "output_type": "stream",
     "text": [
      "0.62\n"
     ]
    }
   ],
   "source": [
    "knn_y_pred=knn_model.predict(pred_1[0])\n",
    "print(metrics.accuracy_score(pred_1[1],knn_y_pred))"
   ]
  },
  {
   "cell_type": "markdown",
   "metadata": {},
   "source": [
    "#### Logistic Regression (Stacking)"
   ]
  },
  {
   "cell_type": "code",
   "execution_count": 66,
   "metadata": {},
   "outputs": [],
   "source": [
    "lr_stack = LogisticRegression(random_state=0, solver='saga',multi_class='multinomial')"
   ]
  },
  {
   "cell_type": "code",
   "execution_count": 63,
   "metadata": {},
   "outputs": [
    {
     "data": {
      "text/plain": [
       "array([1], dtype=int64)"
      ]
     },
     "execution_count": 63,
     "metadata": {},
     "output_type": "execute_result"
    }
   ],
   "source": [
    "svm_model.predict([training_1[0][0]])"
   ]
  },
  {
   "cell_type": "code",
   "execution_count": 89,
   "metadata": {},
   "outputs": [],
   "source": [
    "def prepare_master_feature(start_ind, end_ind):\n",
    "    master_feature=[]\n",
    "    for ele in prepare_feature_matrix(start_ind,end_ind)[0]:\n",
    "        temp_list=[]\n",
    "        feature_matrix=ele.reshape(1,-1)\n",
    "        temp_list.append(svm_model.predict(feature_matrix))\n",
    "        temp_list.append(dt_model.predict(feature_matrix))\n",
    "        temp_list.append(knn_model.predict(feature_matrix))\n",
    "        master_feature.append(temp_list)\n",
    "    return np.asarray(master_feature)"
   ]
  },
  {
   "cell_type": "code",
   "execution_count": 64,
   "metadata": {},
   "outputs": [],
   "source": [
    "master_feature=[]\n",
    "for i in range(len(training_1[1])):\n",
    "    temp_list=[]\n",
    "    temp_list.append(svm_model.predict([training_1[0][i]]))\n",
    "    temp_list.append(dt_model.predict([training_1[0][i]]))\n",
    "    temp_list.append(knn_model.predict([training_1[0][i]]))\n",
    "    master_feature.append(temp_list)"
   ]
  },
  {
   "cell_type": "code",
   "execution_count": 91,
   "metadata": {},
   "outputs": [],
   "source": [
    "mf1=prepare_master_feature(5000,5500)"
   ]
  },
  {
   "cell_type": "code",
   "execution_count": 94,
   "metadata": {},
   "outputs": [
    {
     "data": {
      "text/plain": [
       "(500, 3, 1)"
      ]
     },
     "execution_count": 94,
     "metadata": {},
     "output_type": "execute_result"
    }
   ],
   "source": [
    "mf1.shape"
   ]
  },
  {
   "cell_type": "code",
   "execution_count": 88,
   "metadata": {},
   "outputs": [
    {
     "data": {
      "text/plain": [
       "array([[ 7.33333333e+01,  1.21700000e+04,  1.84832079e-01,\n",
       "        -3.69000000e-03,  6.00000000e-04, -1.96747457e-03,\n",
       "         1.35149746e-03,  9.97828538e+02,  3.93458805e-05,\n",
       "         1.10996088e+00,  1.10982312e+00,  1.10989200e+00,\n",
       "         0.00000000e+00,  0.00000000e+00,  1.10987067e+00,\n",
       "         1.10987067e+00,  1.10982967e+00,  0.00000000e+00,\n",
       "         0.00000000e+00,  1.10985000e+00,  1.10996000e+00,\n",
       "         0.00000000e+00,  0.00000000e+00, -1.60098081e-05,\n",
       "        -2.02363157e-05,  4.22650761e-06,  1.10988419e+00,\n",
       "         1.10990020e+00,  2.75077049e+01,  1.69650680e+01,\n",
       "         2.75495342e+01,  8.86792453e-01,  1.03773585e+00,\n",
       "        -1.50943396e-01, -2.67042540e-04,  2.54349363e+01,\n",
       "        -3.83141762e+00, -3.20000000e-05, -6.54370003e-02,\n",
       "        -5.84699883e-02, -6.96701202e-03,  1.10988750e+00,\n",
       "         1.10993000e+00,  1.10992500e+00,  1.10995000e+00,\n",
       "         4.00000000e+00,  6.00000000e+01, -5.60000000e+01,\n",
       "         5.19365842e+01,  7.04169751e+01, -7.05932164e+00,\n",
       "         6.04414636e+01,  1.00000000e+02,  7.43589744e+01,\n",
       "        -0.00000000e+00, -3.66176471e-05,  1.10987053e+00,\n",
       "         3.60402570e-03,  2.70299492e-03,  2.70295839e-03,\n",
       "        -4.95768486e-01]])"
      ]
     },
     "execution_count": 88,
     "metadata": {},
     "output_type": "execute_result"
    }
   ],
   "source": [
    "prepare_feature_matrix(5000,5500)[0][1].reshape(1,-1)"
   ]
  },
  {
   "cell_type": "code",
   "execution_count": 71,
   "metadata": {},
   "outputs": [],
   "source": [
    "master_feature=np.asarray(master_feature)"
   ]
  },
  {
   "cell_type": "code",
   "execution_count": 73,
   "metadata": {},
   "outputs": [
    {
     "data": {
      "text/plain": [
       "(4000, 3, 1)"
      ]
     },
     "execution_count": 73,
     "metadata": {},
     "output_type": "execute_result"
    }
   ],
   "source": [
    "master_feature.shape"
   ]
  },
  {
   "cell_type": "code",
   "execution_count": 74,
   "metadata": {},
   "outputs": [],
   "source": [
    "master_feature=master_feature.reshape((4000,3))"
   ]
  },
  {
   "cell_type": "code",
   "execution_count": 76,
   "metadata": {},
   "outputs": [
    {
     "data": {
      "text/plain": [
       "array([[1, 1, 0],\n",
       "       [0, 0, 0],\n",
       "       [0, 0, 0],\n",
       "       ...,\n",
       "       [1, 1, 0],\n",
       "       [0, 0, 0],\n",
       "       [0, 0, 0]], dtype=int64)"
      ]
     },
     "execution_count": 76,
     "metadata": {},
     "output_type": "execute_result"
    }
   ],
   "source": [
    "master_feature"
   ]
  },
  {
   "cell_type": "code",
   "execution_count": 75,
   "metadata": {},
   "outputs": [
    {
     "data": {
      "text/plain": [
       "LogisticRegression(C=1.0, class_weight=None, dual=False, fit_intercept=True,\n",
       "                   intercept_scaling=1, l1_ratio=None, max_iter=100,\n",
       "                   multi_class='multinomial', n_jobs=None, penalty='l2',\n",
       "                   random_state=0, solver='saga', tol=0.0001, verbose=0,\n",
       "                   warm_start=False)"
      ]
     },
     "execution_count": 75,
     "metadata": {},
     "output_type": "execute_result"
    }
   ],
   "source": [
    "lr_stack.fit(master_feature,training_1[1])"
   ]
  },
  {
   "cell_type": "code",
   "execution_count": 95,
   "metadata": {},
   "outputs": [],
   "source": [
    "lr_pred=lr_stack.predict(mf1.reshape(500,3))"
   ]
  },
  {
   "cell_type": "code",
   "execution_count": 96,
   "metadata": {},
   "outputs": [
    {
     "name": "stdout",
     "output_type": "stream",
     "text": [
      "0.62\n"
     ]
    }
   ],
   "source": [
    "print(metrics.accuracy_score(pred_1[1],lr_pred))"
   ]
  },
  {
   "cell_type": "markdown",
   "metadata": {},
   "source": [
    "#### NuSVC"
   ]
  },
  {
   "cell_type": "code",
   "execution_count": 31,
   "metadata": {},
   "outputs": [
    {
     "data": {
      "text/plain": [
       "NuSVC(cache_size=200, class_weight=None, coef0=0.0,\n",
       "      decision_function_shape='ovr', degree=3, gamma='auto', kernel='rbf',\n",
       "      max_iter=-1, nu=0.5, probability=False, random_state=None, shrinking=True,\n",
       "      tol=0.001, verbose=False)"
      ]
     },
     "execution_count": 31,
     "metadata": {},
     "output_type": "execute_result"
    }
   ],
   "source": [
    "NuSVC_model=svm.NuSVC(gamma='auto')\n",
    "NuSVC_model.fit(training_1[0],training_1[1])"
   ]
  },
  {
   "cell_type": "code",
   "execution_count": 32,
   "metadata": {},
   "outputs": [
    {
     "name": "stdout",
     "output_type": "stream",
     "text": [
      "0.62\n"
     ]
    }
   ],
   "source": [
    "NuSVC_y_pred=NuSVC_model.predict(pred_1[0])\n",
    "print(metrics.accuracy_score(pred_1[1],NuSVC_y_pred))"
   ]
  },
  {
   "cell_type": "markdown",
   "metadata": {},
   "source": [
    "#### Random Forest Classifier"
   ]
  },
  {
   "cell_type": "code",
   "execution_count": 58,
   "metadata": {},
   "outputs": [
    {
     "name": "stdout",
     "output_type": "stream",
     "text": [
      "{'n_estimators': [200, 400, 600, 800, 1000, 1200, 1400, 1600, 1800, 2000], 'max_features': ['auto', 'sqrt'], 'max_depth': [10, 20, 30, 40, 50, 60, 70, 80, 90, 100, 110, None], 'min_samples_split': [2, 5, 10], 'min_samples_leaf': [1, 2, 4], 'bootstrap': [True, False]}\n"
     ]
    }
   ],
   "source": [
    "# Number of trees in random forest\n",
    "n_estimators = [int(x) for x in np.linspace(start = 200, stop = 2000, num = 10)]\n",
    "# Number of features to consider at every split\n",
    "max_features = ['auto', 'sqrt']\n",
    "# Maximum number of levels in tree\n",
    "max_depth = [int(x) for x in np.linspace(10, 110, num = 11)]\n",
    "max_depth.append(None)\n",
    "# Minimum number of samples required to split a node\n",
    "min_samples_split = [2, 5, 10]\n",
    "# Minimum number of samples required at each leaf node\n",
    "min_samples_leaf = [1, 2, 4]\n",
    "# Method of selecting samples for training each tree\n",
    "bootstrap = [True, False]\n",
    "# Create the random grid\n",
    "random_grid = {'n_estimators': n_estimators,\n",
    "               'max_features': max_features,\n",
    "               'max_depth': max_depth,\n",
    "               'min_samples_split': min_samples_split,\n",
    "               'min_samples_leaf': min_samples_leaf,\n",
    "               'bootstrap': bootstrap}\n",
    "print(random_grid)"
   ]
  },
  {
   "cell_type": "code",
   "execution_count": 59,
   "metadata": {},
   "outputs": [],
   "source": [
    "rfc_model=RandomForestClassifier(n_jobs=2)"
   ]
  },
  {
   "cell_type": "markdown",
   "metadata": {},
   "source": [
    "##### We do a search to find best parameters."
   ]
  },
  {
   "cell_type": "code",
   "execution_count": 62,
   "metadata": {},
   "outputs": [],
   "source": [
    "rfc_random= RandomizedSearchCV(estimator=rfc_model, param_distributions = random_grid, n_iter = 100, cv = 3, verbose=2, random_state=42, n_jobs = -1)"
   ]
  },
  {
   "cell_type": "code",
   "execution_count": 66,
   "metadata": {},
   "outputs": [
    {
     "name": "stdout",
     "output_type": "stream",
     "text": [
      "Fitting 3 folds for each of 100 candidates, totalling 300 fits\n"
     ]
    },
    {
     "name": "stderr",
     "output_type": "stream",
     "text": [
      "[Parallel(n_jobs=-1)]: Using backend LokyBackend with 4 concurrent workers.\n",
      "[Parallel(n_jobs=-1)]: Done  33 tasks      | elapsed:  1.7min\n",
      "[Parallel(n_jobs=-1)]: Done 154 tasks      | elapsed:  7.6min\n",
      "[Parallel(n_jobs=-1)]: Done 300 out of 300 | elapsed: 14.4min finished\n"
     ]
    },
    {
     "data": {
      "text/plain": [
       "RandomizedSearchCV(cv=3, error_score='raise-deprecating',\n",
       "                   estimator=RandomForestClassifier(bootstrap=True,\n",
       "                                                    class_weight=None,\n",
       "                                                    criterion='gini',\n",
       "                                                    max_depth=None,\n",
       "                                                    max_features='auto',\n",
       "                                                    max_leaf_nodes=None,\n",
       "                                                    min_impurity_decrease=0.0,\n",
       "                                                    min_impurity_split=None,\n",
       "                                                    min_samples_leaf=1,\n",
       "                                                    min_samples_split=2,\n",
       "                                                    min_weight_fraction_leaf=0.0,\n",
       "                                                    n_estimators=10, n_jobs=2,\n",
       "                                                    oob_score=Fal...\n",
       "                   param_distributions={'bootstrap': [True, False],\n",
       "                                        'max_depth': [10, 20, 30, 40, 50, 60,\n",
       "                                                      70, 80, 90, 100, 110,\n",
       "                                                      None],\n",
       "                                        'max_features': ['auto', 'sqrt'],\n",
       "                                        'min_samples_leaf': [1, 2, 4],\n",
       "                                        'min_samples_split': [2, 5, 10],\n",
       "                                        'n_estimators': [200, 400, 600, 800,\n",
       "                                                         1000, 1200, 1400, 1600,\n",
       "                                                         1800, 2000]},\n",
       "                   pre_dispatch='2*n_jobs', random_state=42, refit=True,\n",
       "                   return_train_score=False, scoring=None, verbose=2)"
      ]
     },
     "execution_count": 66,
     "metadata": {},
     "output_type": "execute_result"
    }
   ],
   "source": [
    "rfc_random.fit(training_1[0],training_1[1])"
   ]
  },
  {
   "cell_type": "code",
   "execution_count": 67,
   "metadata": {},
   "outputs": [
    {
     "data": {
      "text/plain": [
       "{'n_estimators': 200,\n",
       " 'min_samples_split': 5,\n",
       " 'min_samples_leaf': 4,\n",
       " 'max_features': 'auto',\n",
       " 'max_depth': 10,\n",
       " 'bootstrap': True}"
      ]
     },
     "execution_count": 67,
     "metadata": {},
     "output_type": "execute_result"
    }
   ],
   "source": [
    "rfc_random.best_params_"
   ]
  },
  {
   "cell_type": "code",
   "execution_count": 56,
   "metadata": {},
   "outputs": [
    {
     "name": "stdout",
     "output_type": "stream",
     "text": [
      "0.582\n"
     ]
    }
   ],
   "source": [
    "rfc_y_pred=rfc_model.predict(pred_1[0])\n",
    "print(metrics.accuracy_score(pred_1[1],rfc_y_pred))"
   ]
  },
  {
   "cell_type": "code",
   "execution_count": 70,
   "metadata": {},
   "outputs": [],
   "source": [
    "rfc_tuned=RandomForestClassifier(n_estimators=200, \n",
    "                                 min_samples_split=5, \n",
    "                                 min_samples_leaf=4, \n",
    "                                max_features='auto',\n",
    "                                max_depth=10,\n",
    "                                bootstrap=True)"
   ]
  },
  {
   "cell_type": "code",
   "execution_count": 71,
   "metadata": {},
   "outputs": [
    {
     "data": {
      "text/plain": [
       "RandomForestClassifier(bootstrap=True, class_weight=None, criterion='gini',\n",
       "                       max_depth=10, max_features='auto', max_leaf_nodes=None,\n",
       "                       min_impurity_decrease=0.0, min_impurity_split=None,\n",
       "                       min_samples_leaf=4, min_samples_split=5,\n",
       "                       min_weight_fraction_leaf=0.0, n_estimators=200,\n",
       "                       n_jobs=None, oob_score=False, random_state=None,\n",
       "                       verbose=0, warm_start=False)"
      ]
     },
     "execution_count": 71,
     "metadata": {},
     "output_type": "execute_result"
    }
   ],
   "source": [
    "rfc_tuned.fit(training_1[0],training_1[1])"
   ]
  },
  {
   "cell_type": "code",
   "execution_count": 72,
   "metadata": {},
   "outputs": [
    {
     "name": "stdout",
     "output_type": "stream",
     "text": [
      "0.6\n"
     ]
    }
   ],
   "source": [
    "rfc_tuned_y_pred=rfc_tuned.predict(pred_1[0])\n",
    "print(metrics.accuracy_score(pred_1[1],rfc_tuned_y_pred))"
   ]
  },
  {
   "cell_type": "markdown",
   "metadata": {},
   "source": [
    "##### Can even do GridSearchCV to further improve results."
   ]
  },
  {
   "cell_type": "markdown",
   "metadata": {},
   "source": [
    "#### XGB"
   ]
  },
  {
   "cell_type": "code",
   "execution_count": 47,
   "metadata": {},
   "outputs": [
    {
     "data": {
      "text/plain": [
       "XGBClassifier(base_score=0.5, booster='gbtree', colsample_bylevel=1,\n",
       "              colsample_bynode=1, colsample_bytree=1, gamma=0,\n",
       "              learning_rate=0.1, max_delta_step=0, max_depth=3,\n",
       "              min_child_weight=1, missing=None, n_estimators=100, n_jobs=1,\n",
       "              nthread=None, objective='binary:logistic', random_state=0,\n",
       "              reg_alpha=0, reg_lambda=1, scale_pos_weight=1, seed=None,\n",
       "              silent=None, subsample=1, verbosity=1)"
      ]
     },
     "execution_count": 47,
     "metadata": {},
     "output_type": "execute_result"
    }
   ],
   "source": [
    "xgb_model=XGBClassifier()\n",
    "xgb_model.fit(training_1[0],training_1[1])"
   ]
  },
  {
   "cell_type": "code",
   "execution_count": 48,
   "metadata": {},
   "outputs": [
    {
     "name": "stdout",
     "output_type": "stream",
     "text": [
      "0.576\n"
     ]
    }
   ],
   "source": [
    "xgb_y_pred=xgb_model.predict(pred_1[0])\n",
    "print(metrics.accuracy_score(pred_1[1],xgb_y_pred))"
   ]
  },
  {
   "cell_type": "code",
   "execution_count": 51,
   "metadata": {},
   "outputs": [],
   "source": [
    "flist=list(zip(ta_list,xgb_model.feature_importances_))"
   ]
  },
  {
   "cell_type": "code",
   "execution_count": 52,
   "metadata": {},
   "outputs": [
    {
     "data": {
      "text/plain": [
       "('momentum_stoch_signal', 0.033068422)"
      ]
     },
     "execution_count": 52,
     "metadata": {},
     "output_type": "execute_result"
    }
   ],
   "source": [
    "flist[53]"
   ]
  },
  {
   "cell_type": "code",
   "execution_count": 73,
   "metadata": {},
   "outputs": [
    {
     "data": {
      "text/plain": [
       "[('volume_adi', 0.018726664),\n",
       " ('volume_obv', 0.024882253),\n",
       " ('volume_cmf', 0.013570454),\n",
       " ('volume_fi', 0.017151598),\n",
       " ('volume_em', 0.017188232),\n",
       " ('volume_sma_em', 0.020002875),\n",
       " ('volume_vpt', 0.023072047),\n",
       " ('volume_nvi', 0.025042659),\n",
       " ('volatility_atr', 0.025332808),\n",
       " ('volatility_bbh', 0.012741786),\n",
       " ('volatility_bbl', 0.0108969305),\n",
       " ('volatility_bbm', 0.02439562),\n",
       " ('volatility_bbhi', 0.0),\n",
       " ('volatility_bbli', 0.0),\n",
       " ('volatility_kcc', 0.01432274),\n",
       " ('volatility_kch', 0.0),\n",
       " ('volatility_kcl', 0.022804623),\n",
       " ('volatility_kchi', 0.0),\n",
       " ('volatility_kcli', 0.0),\n",
       " ('volatility_dcl', 0.019303326),\n",
       " ('volatility_dch', 0.026901037),\n",
       " ('volatility_dchi', 0.0),\n",
       " ('volatility_dcli', 0.0),\n",
       " ('trend_macd', 0.016886238),\n",
       " ('trend_macd_signal', 0.019235482),\n",
       " ('trend_macd_diff', 0.015208815),\n",
       " ('trend_ema_fast', 0.02118907),\n",
       " ('trend_ema_slow', 0.022253638),\n",
       " ('trend_adx', 0.016276736),\n",
       " ('trend_adx_pos', 0.016418941),\n",
       " ('trend_adx_neg', 0.018656578),\n",
       " ('trend_vortex_ind_pos', 0.017893046),\n",
       " ('trend_vortex_ind_neg', 0.017963331),\n",
       " ('trend_vortex_ind_diff', 0.027527679),\n",
       " ('trend_trix', 0.02179779),\n",
       " ('trend_mass_index', 0.015699022),\n",
       " ('trend_cci', 0.013177656),\n",
       " ('trend_dpo', 0.016181553),\n",
       " ('trend_kst', 0.016104486),\n",
       " ('trend_kst_sig', 0.023819419),\n",
       " ('trend_kst_diff', 0.01792656),\n",
       " ('trend_ichimoku_a', 0.011174144),\n",
       " ('trend_ichimoku_b', 0.0),\n",
       " ('trend_visual_ichimoku_a', 0.016032923),\n",
       " ('trend_visual_ichimoku_b', 0.012956523),\n",
       " ('trend_aroon_up', 0.018180853),\n",
       " ('trend_aroon_down', 0.021502392),\n",
       " ('trend_aroon_ind', 0.020148661),\n",
       " ('momentum_rsi', 0.025539923),\n",
       " ('momentum_mfi', 0.017854976),\n",
       " ('momentum_tsi', 0.023665914),\n",
       " ('momentum_uo', 0.019390399),\n",
       " ('momentum_stoch', 0.023485271),\n",
       " ('momentum_stoch_signal', 0.033068422),\n",
       " ('momentum_wr', 0.0),\n",
       " ('momentum_ao', 0.017432226),\n",
       " ('momentum_kama', 0.017092017),\n",
       " ('momentum_roc', 0.018709958),\n",
       " ('others_dr', 0.021701958),\n",
       " ('others_dlr', 0.0),\n",
       " ('others_cr', 0.031511787)]"
      ]
     },
     "execution_count": 73,
     "metadata": {},
     "output_type": "execute_result"
    }
   ],
   "source": [
    "flist"
   ]
  },
  {
   "cell_type": "code",
   "execution_count": 49,
   "metadata": {},
   "outputs": [
    {
     "data": {
      "image/png": "[encoded data removed]",
      "text/plain": [
       "<Figure size 720x1800 with 1 Axes>"
      ]
     },
     "metadata": {},
     "output_type": "display_data"
    }
   ],
   "source": [
    "importances=xgb_model.feature_importances_\n",
    "indices = np.argsort(importances)\n",
    "\n",
    "plt.figure(figsize = (10,25))\n",
    "plt.title(\"Feature importances\")\n",
    "plt.barh(range(training_1[0].shape[1]), importances[indices], color=\"r\", align=\"center\")\n",
    "plt.yticks(range(training_1[0].shape[1]), indices)\n",
    "plt.ylim([-1, training_1[0].shape[1]])\n",
    "plt.show()"
   ]
  },
  {
   "cell_type": "markdown",
   "metadata": {},
   "source": [
    "# Random Stuff"
   ]
  }
 ],
 "metadata": {
  "kernelspec": {
   "display_name": "Python 3",
   "language": "python",
   "name": "python3"
  },
  "language_info": {
   "codemirror_mode": {
    "name": "ipython",
    "version": 3
   },
   "file_extension": ".py",
   "mimetype": "text/x-python",
   "name": "python",
   "nbconvert_exporter": "python",
   "pygments_lexer": "ipython3",
   "version": "3.7.4"
  }
 },
 "nbformat": 4,
 "nbformat_minor": 2
}
