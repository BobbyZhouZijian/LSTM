{
 "cells": [
  {
   "cell_type": "code",
   "execution_count": 1,
   "metadata": {},
   "outputs": [
    {
     "name": "stderr",
     "output_type": "stream",
     "text": [
      "Using TensorFlow backend.\n"
     ]
    }
   ],
   "source": [
    "import numpy as np\n",
    "import pandas as pd \n",
    "import matplotlib.pyplot as plt\n",
    "import os\n",
    "from sklearn.preprocessing import MinMaxScaler\n",
    "from keras.layers import Dense, LSTM, BatchNormalization\n",
    "from keras.models import Sequential, load_model"
   ]
  },
  {
   "cell_type": "code",
   "execution_count": 2,
   "metadata": {},
   "outputs": [],
   "source": [
    "df = pd.read_parquet('../Dataframes/df.parquet.gzip')"
   ]
  },
  {
   "cell_type": "code",
   "execution_count": 3,
   "metadata": {},
   "outputs": [],
   "source": [
    "need_num = 50 # Number of data points for validation/ testing\n",
    "training_num = 150\n",
    "epoch = 10\n",
    "batch_size = 512\n",
    "capital = 1000000\n",
    "\n",
    "\n",
    "data = df\n",
    "dataset = data.iloc[:, 9:10].values\n",
    "training_dataset = dataset[:training_num]\n",
    "sc = MinMaxScaler(feature_range = (-1, 1))\n",
    "\n",
    "\n",
    "training_dataset_scaled = sc.fit_transform(X=training_dataset)"
   ]
  },
  {
   "cell_type": "code",
   "execution_count": 4,
   "metadata": {},
   "outputs": [
    {
     "data": {
      "text/plain": [
       "(150, 1)"
      ]
     },
     "execution_count": 4,
     "metadata": {},
     "output_type": "execute_result"
    }
   ],
   "source": [
    "training_dataset.shape"
   ]
  },
  {
   "cell_type": "code",
   "execution_count": 5,
   "metadata": {},
   "outputs": [],
   "source": [
    "x_train = []\n",
    "y_train = []\n",
    "\n",
    "for i in range(need_num, training_dataset_scaled.shape[0]):\n",
    "\tx_train.append(training_dataset_scaled[i - need_num : i])\n",
    "\ty_train.append(training_dataset_scaled[i, 0])\n",
    "\n",
    "x_train, y_train = np.array(x_train), np.array(y_train)"
   ]
  },
  {
   "cell_type": "code",
   "execution_count": null,
   "metadata": {},
   "outputs": [],
   "source": []
  },
  {
   "cell_type": "code",
   "execution_count": 8,
   "metadata": {},
   "outputs": [
    {
     "name": "stdout",
     "output_type": "stream",
     "text": [
      "Epoch 1/10\n",
      "100/100 [==============================] - 1s 12ms/step - loss: 5.3450\n",
      "Epoch 2/10\n",
      "100/100 [==============================] - 0s 2ms/step - loss: 18.2657\n",
      "Epoch 3/10\n",
      "100/100 [==============================] - 0s 2ms/step - loss: 1.5517\n",
      "Epoch 4/10\n",
      "100/100 [==============================] - 0s 2ms/step - loss: 1.8155\n",
      "Epoch 5/10\n",
      "100/100 [==============================] - 0s 2ms/step - loss: 0.6266\n",
      "Epoch 6/10\n",
      "100/100 [==============================] - 0s 2ms/step - loss: 0.2679\n",
      "Epoch 7/10\n",
      "100/100 [==============================] - 0s 2ms/step - loss: 0.2205\n",
      "Epoch 8/10\n",
      "100/100 [==============================] - 0s 2ms/step - loss: 0.2080\n",
      "Epoch 9/10\n",
      "100/100 [==============================] - 0s 2ms/step - loss: 0.2017\n",
      "Epoch 10/10\n",
      "100/100 [==============================] - 0s 2ms/step - loss: 0.1970\n"
     ]
    }
   ],
   "source": [
    "#file = \"./Models/\" + \"GBPUSD\" + \".model\"\n",
    "file = \"\"\n",
    "model = None\n",
    "if os.path.exists(file):\n",
    "\tmodel = load_model(file)\n",
    "else:\n",
    "\tmodel = Sequential()\n",
    "\tmodel.add(LSTM(units = 128, return_sequences = True, input_shape = [x_train.shape[1], 1]))\n",
    "\tmodel.add(BatchNormalization())\n",
    "\n",
    "\tmodel.add(LSTM(units = 128))\n",
    "\tmodel.add(BatchNormalization())\n",
    "\n",
    "\tmodel.add(Dense(units = 1))\n",
    "\n",
    "\tmodel.compile(loss = \"mse\", optimizer = \"rmsprop\")\n",
    "\tmodel.fit(x_train, y_train, epochs = epoch, batch_size = batch_size)\n",
    "\n",
    "\t#model.save(file)\n",
    "\n",
    "\n",
    "inputs = dataset[training_num - need_num:]\n",
    "inputs = inputs.reshape(-1, 1)\n",
    "inputs = sc.transform(inputs)\n",
    "\n",
    "predictions = []\n",
    "\n",
    "\n",
    "\n",
    "for i in range(need_num, inputs.shape[0]):\n",
    "\tpredictions.append(inputs[i - need_num: i, 0])\n",
    "\n",
    "predictions = np.array(predictions)\n",
    "predictions = np.reshape(predictions, (predictions.shape[0], predictions.shape[1], 1))\n",
    "\n",
    "\n",
    "real_price = dataset[training_num:]\n",
    "predicted_price = model.predict(predictions)"
   ]
  },
  {
   "cell_type": "code",
   "execution_count": 12,
   "metadata": {},
   "outputs": [
    {
     "data": {
      "image/png": "[encoded data removed]",
      "text/plain": [
       "<Figure size 432x288 with 1 Axes>"
      ]
     },
     "metadata": {
      "needs_background": "light"
     },
     "output_type": "display_data"
    }
   ],
   "source": [
    "def predict(dataset):\n",
    "\tlatest = dataset[-need_num:]\n",
    "\n",
    "\tfor i in range(need_num):\n",
    "\t\ttmp = latest[np.newaxis,:,:]\n",
    "\t\tcur = (model.predict(tmp) * 0.1 + 1) * (latest[-1][0])\n",
    "\t\tlatest = np.append(latest[1:], cur, axis = 0)\n",
    "\n",
    "\tplt.plot(latest, color = 'blue', label = 'predicted price')\n",
    "\n",
    "predict(dataset)"
   ]
  },
  {
   "cell_type": "code",
   "execution_count": 16,
   "metadata": {},
   "outputs": [
    {
     "data": {
      "image/png": "[encoded data removed]",
      "text/plain": [
       "<Figure size 432x288 with 1 Axes>"
      ]
     },
     "metadata": {
      "needs_background": "light"
     },
     "output_type": "display_data"
    }
   ],
   "source": [
    "predict(dataset)"
   ]
  },
  {
   "cell_type": "code",
   "execution_count": 16,
   "metadata": {},
   "outputs": [
    {
     "name": "stderr",
     "output_type": "stream",
     "text": [
      "No handles with labels found to put in legend.\n"
     ]
    },
    {
     "name": "stdout",
     "output_type": "stream",
     "text": [
      "0.005272958469577081\n"
     ]
    },
    {
     "data": {
      "image/png": "[encoded data removed]",
      "text/plain": [
       "<Figure size 432x288 with 1 Axes>"
      ]
     },
     "metadata": {
      "needs_background": "light"
     },
     "output_type": "display_data"
    },
    {
     "data": {
      "text/plain": [
       "'\\npredicted_price = sc.inverse_transform(predicted_price)\\nplt.plot(real_price, color=\\'red\\', label=\\'Real Stock Price\\')\\nplt.plot(predicted_price, color=\\'blue\\', label=\\'Predicted Stock Price\\')\\nplt.title(label = ticker + \" prediction\")\\nplt.xlabel(xlabel=\\'Time\\')\\nplt.ylabel(ylabel= ticker + \\' Stock Price\\')\\nplt.legend()\\nplt.show()\\n'"
      ]
     },
     "execution_count": 16,
     "metadata": {},
     "output_type": "execute_result"
    }
   ],
   "source": [
    "#calculate charpe\n",
    "def calc_sharpe(d, predicted_price):\n",
    "\tdata = d.copy()\n",
    "\tdata = data.iloc[training_num:]\n",
    "\tdata['alpha'] = pd.DataFrame(predicted_price.flatten())\n",
    "\tdata['allocated_capital'] = capital * data['alpha']\n",
    "\tdata['pct_change'] = data['close'].pct_change()\n",
    "\tdata['daily_pnl'] = data['allocated_capital'] * data['pct_change']\n",
    "\n",
    "\t#plt.plot(data['daily_pnl'].cumsum(), color = 'red', label = 'predicted pnl')\n",
    "\n",
    "\treturn np.sqrt(252) * data['daily_pnl'].mean() / data['daily_pnl'].std()\n",
    "\n",
    "\n",
    "print(calc_sharpe(data, predicted_price))\n",
    "\n",
    "\n",
    "plt.xlabel(xlabel = 'Time')\n",
    "plt.ylabel(ylabel = 'Returns/Prices')\n",
    "plt.legend()\n",
    "plt.show()\n",
    "\n",
    "\n",
    "'''\n",
    "predicted_price = sc.inverse_transform(predicted_price)\n",
    "plt.plot(real_price, color='red', label='Real Stock Price')\n",
    "plt.plot(predicted_price, color='blue', label='Predicted Stock Price')\n",
    "plt.title(label = ticker + \" prediction\")\n",
    "plt.xlabel(xlabel='Time')\n",
    "plt.ylabel(ylabel= ticker + ' Stock Price')\n",
    "plt.legend()\n",
    "plt.show()\n",
    "'''"
   ]
  },
  {
   "cell_type": "code",
   "execution_count": null,
   "metadata": {},
   "outputs": [],
   "source": []
  },
  {
   "cell_type": "code",
   "execution_count": null,
   "metadata": {},
   "outputs": [],
   "source": []
  }
 ],
 "metadata": {
  "kernelspec": {
   "display_name": "Python 3",
   "language": "python",
   "name": "python3"
  },
  "language_info": {
   "codemirror_mode": {
    "name": "ipython",
    "version": 3
   },
   "file_extension": ".py",
   "mimetype": "text/x-python",
   "name": "python",
   "nbconvert_exporter": "python",
   "pygments_lexer": "ipython3",
   "version": "3.7.3"
  }
 },
 "nbformat": 4,
 "nbformat_minor": 2
}
