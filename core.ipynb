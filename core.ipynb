{
 "cells": [
  {
   "cell_type": "markdown",
   "metadata": {},
   "source": [
    "# Initialisation"
   ]
  },
  {
   "cell_type": "code",
   "execution_count": 46,
   "metadata": {
    "scrolled": true
   },
   "outputs": [],
   "source": [
    "import pandas as pd\n",
    "import numpy as np\n",
    "import matplotlib.pyplot as plt\n",
    "import matplotlib as mpl\n",
    "mpl.style.use('seaborn')\n",
    "\n",
    "import ta\n",
    "import plotly\n",
    "import plotly.express as px\n",
    "import plotly.graph_objects as go\n",
    "import cufflinks as cf\n",
    "\n",
    "from datetime import datetime\n",
    "from arch import arch_model"
   ]
  },
  {
   "cell_type": "code",
   "execution_count": 47,
   "metadata": {},
   "outputs": [],
   "source": [
    "from scipy.stats import linregress"
   ]
  },
  {
   "cell_type": "code",
   "execution_count": 48,
   "metadata": {},
   "outputs": [],
   "source": [
    "# Load the raw data\n",
    "df_l = pd.read_csv('./FX Data/GBPUSD.csv', names=['date','open','high','low','close'])"
   ]
  },
  {
   "cell_type": "code",
   "execution_count": 49,
   "metadata": {},
   "outputs": [],
   "source": [
    "df = df_l[0:500]"
   ]
  },
  {
   "cell_type": "code",
   "execution_count": 50,
   "metadata": {},
   "outputs": [
    {
     "data": {
      "text/plain": [
       "5180"
      ]
     },
     "execution_count": 50,
     "metadata": {},
     "output_type": "execute_result"
    }
   ],
   "source": [
    "len(df_l)\n"
   ]
  },
  {
   "cell_type": "markdown",
   "metadata": {},
   "source": [
    "# Charts"
   ]
  },
  {
   "cell_type": "code",
   "execution_count": 51,
   "metadata": {},
   "outputs": [],
   "source": [
    "#fig_cdls = go.Figure(data=[go.Candlestick(x=df['Date'][0:100],open=df['Open'],high=df['High'],low=df['Low'],close=df['Close'])])\n",
    "#fig_cdls.show()"
   ]
  },
  {
   "cell_type": "code",
   "execution_count": 52,
   "metadata": {},
   "outputs": [],
   "source": [
    "#fig = px.line(df[0:500],x='Date',y='Close')\n",
    "#fig.show()"
   ]
  },
  {
   "cell_type": "code",
   "execution_count": 53,
   "metadata": {},
   "outputs": [],
   "source": [
    "# ind_EMA = ta.trend.EMAIndicator(close=df['Close'],n=10,fillna=False)\n",
    "\n",
    "# df['EMA'] = ind_EMA.ema_indicator()"
   ]
  },
  {
   "cell_type": "code",
   "execution_count": 54,
   "metadata": {},
   "outputs": [],
   "source": [
    "# fig_ind = go.Figure()\n",
    "\n",
    "# fig_ind.update_layout(xaxis_range=[0,50],\n",
    "#                       yaxis_range=(1.5,1.7),\n",
    "#                  title_text = \"Close and EMA\")\n",
    "\n",
    "# fig_ind.add_trace(go.Scatter(\n",
    "#                     x=df['Date'],\n",
    "#                     y=df['Close'],\n",
    "#                     name='Close',\n",
    "#                     line_color='dimgray',\n",
    "#                     opacity=0.4))\n",
    "\n",
    "# fig_ind.add_trace(go.Scatter(\n",
    "#                     x=df['Date'],\n",
    "#                     y=df['EMA'],\n",
    "#                     name='EMA',\n",
    "#                     line_color='deepskyblue',\n",
    "#                     opacity=0.4))\n",
    "\n",
    "# fig_ind.show()"
   ]
  },
  {
   "cell_type": "markdown",
   "metadata": {},
   "source": [
    "# Adding features\n",
    "## Technical Analysis features"
   ]
  },
  {
   "cell_type": "code",
   "execution_count": 55,
   "metadata": {},
   "outputs": [],
   "source": [
    "df['wclose'] = (df['close']*2+df['high']+df['low'])/4"
   ]
  },
  {
   "cell_type": "code",
   "execution_count": 56,
   "metadata": {},
   "outputs": [],
   "source": [
    "for i in range(1,len(df)):\n",
    "    if df.at[i,'high'] > df.at[i-1,'high']:\n",
    "        df.at[i,'delta'] = 1\n",
    "    else:\n",
    "        df.at[i,'delta'] = 0"
   ]
  },
  {
   "cell_type": "code",
   "execution_count": 57,
   "metadata": {},
   "outputs": [],
   "source": [
    "def add_SO(i):\n",
    "    ind_SO = ta.momentum.StochasticOscillator(high=df['high'],low=df['low'],close=df['close'],n=i)\n",
    "    name = 'so_%s' %(i)\n",
    "    df[name] = ind_SO.stoch()\n",
    "    return\n",
    "\n",
    "for i in [3,4,5,8,9,10]:\n",
    "    add_SO(i)"
   ]
  },
  {
   "cell_type": "code",
   "execution_count": 58,
   "metadata": {},
   "outputs": [],
   "source": [
    "def add_WR(i):\n",
    "    ind_WR = ta.momentum.WilliamsRIndicator(high=df['high'],low=df['low'],close=df['close'],lbp=i)\n",
    "    name = 'wr_%s' %(i)\n",
    "    df[name] = ind_WR.wr()\n",
    "    return\n",
    "\n",
    "for i in [6,7,8,9,10]:\n",
    "    add_WR(i)"
   ]
  },
  {
   "cell_type": "code",
   "execution_count": 59,
   "metadata": {},
   "outputs": [],
   "source": [
    "def add_ROC(i):\n",
    "    ind_ROC = ta.momentum.ROCIndicator(close=df['close'],n=i)\n",
    "    name = 'roc_%s' %(i)\n",
    "    df[name] = ind_ROC.roc()\n",
    "    return\n",
    "\n",
    "for i in [12,13,14,15]:\n",
    "    add_ROC(i)"
   ]
  },
  {
   "cell_type": "code",
   "execution_count": 60,
   "metadata": {},
   "outputs": [],
   "source": [
    "def add_WCP(i):\n",
    "    ind_WCP = ta.trend.EMAIndicator(close=df['wclose'],n=i)\n",
    "    name = 'wcp_%s' %(i)\n",
    "    df[name] = ind_WCP.ema_indicator()\n",
    "    return\n",
    "\n",
    "add_WCP(15)"
   ]
  },
  {
   "cell_type": "code",
   "execution_count": 61,
   "metadata": {},
   "outputs": [],
   "source": [
    "def add_MACD(i,j):\n",
    "    ind_MACD = ta.trend.MACD(close=df['close'],n_fast=i,n_slow=j)\n",
    "    name ='macd_%s_%s' %(i,j)\n",
    "    df[name] = ind_MACD.macd()\n",
    "    return\n",
    "\n",
    "add_MACD(15,30)  "
   ]
  },
  {
   "cell_type": "code",
   "execution_count": 62,
   "metadata": {},
   "outputs": [],
   "source": [
    "def add_CCI(i):\n",
    "    ind_CCI = ta.trend.cci(high=df['high'],low=df['low'],close=df['close'],n=i)\n",
    "    name = 'cci_%s' %(i)\n",
    "    df[name] = ind_CCI\n",
    "    return\n",
    "\n",
    "add_CCI(15)"
   ]
  },
  {
   "cell_type": "markdown",
   "metadata": {},
   "source": [
    "## Signal Processing features"
   ]
  },
  {
   "cell_type": "code",
   "execution_count": 63,
   "metadata": {},
   "outputs": [],
   "source": [
    "for i in range(1,len(df)):\n",
    "    df.at[i,'hi_avg_2'] =  (df.at[i-1,'high'] + df.at[i,'high'])/2\n",
    "    df.at[i,'lo_avg_2'] =  (df.at[i-1,'low'] + df.at[i,'low'])/2\n",
    "    df.at[i,'hilo_avg_2'] = (df.at[i,'hi_avg_2'] + df.at[i,'lo_avg_2'])/2\n",
    "    df.at[i,'hilo_avg'] = (df.at[i,'high'] + df.at[i,'low'])/2"
   ]
  },
  {
   "cell_type": "code",
   "execution_count": 64,
   "metadata": {},
   "outputs": [],
   "source": [
    "def add_slope(i):\n",
    "    for j in range(i-1,len(df)):\n",
    "        a=df['high'][j-(i-1):j+1]\n",
    "        b=[]\n",
    "        for k in range(i):\n",
    "            b.append(k)\n",
    "        name = 'slope_%s' %(i)\n",
    "        df.at[j,name] = linregress(a,b).slope\n",
    "    \n",
    "for i in [3,4,5,10,20,30]:\n",
    "    add_slope(i)"
   ]
  },
  {
   "cell_type": "code",
   "execution_count": 65,
   "metadata": {},
   "outputs": [
    {
     "data": {
      "text/html": [
       "<div>\n",
       "<style scoped>\n",
       "    .dataframe tbody tr th:only-of-type {\n",
       "        vertical-align: middle;\n",
       "    }\n",
       "\n",
       "    .dataframe tbody tr th {\n",
       "        vertical-align: top;\n",
       "    }\n",
       "\n",
       "    .dataframe thead th {\n",
       "        text-align: right;\n",
       "    }\n",
       "</style>\n",
       "<table border=\"1\" class=\"dataframe\">\n",
       "  <thead>\n",
       "    <tr style=\"text-align: right;\">\n",
       "      <th></th>\n",
       "      <th>date</th>\n",
       "      <th>open</th>\n",
       "      <th>high</th>\n",
       "      <th>low</th>\n",
       "      <th>close</th>\n",
       "      <th>wclose</th>\n",
       "      <th>delta</th>\n",
       "      <th>so_3</th>\n",
       "      <th>so_4</th>\n",
       "      <th>so_5</th>\n",
       "      <th>...</th>\n",
       "      <th>hi_avg_2</th>\n",
       "      <th>lo_avg_2</th>\n",
       "      <th>hilo_avg_2</th>\n",
       "      <th>hilo_avg</th>\n",
       "      <th>slope_3</th>\n",
       "      <th>slope_4</th>\n",
       "      <th>slope_5</th>\n",
       "      <th>slope_10</th>\n",
       "      <th>slope_20</th>\n",
       "      <th>slope_30</th>\n",
       "    </tr>\n",
       "  </thead>\n",
       "  <tbody>\n",
       "    <tr>\n",
       "      <th>0</th>\n",
       "      <td>3/1/2000</td>\n",
       "      <td>1.6147</td>\n",
       "      <td>1.6396</td>\n",
       "      <td>1.6145</td>\n",
       "      <td>1.6358</td>\n",
       "      <td>1.631425</td>\n",
       "      <td>NaN</td>\n",
       "      <td>84.860558</td>\n",
       "      <td>84.860558</td>\n",
       "      <td>84.860558</td>\n",
       "      <td>...</td>\n",
       "      <td>NaN</td>\n",
       "      <td>NaN</td>\n",
       "      <td>NaN</td>\n",
       "      <td>NaN</td>\n",
       "      <td>NaN</td>\n",
       "      <td>NaN</td>\n",
       "      <td>NaN</td>\n",
       "      <td>NaN</td>\n",
       "      <td>NaN</td>\n",
       "      <td>NaN</td>\n",
       "    </tr>\n",
       "    <tr>\n",
       "      <th>1</th>\n",
       "      <td>4/1/2000</td>\n",
       "      <td>1.6358</td>\n",
       "      <td>1.6413</td>\n",
       "      <td>1.6316</td>\n",
       "      <td>1.6373</td>\n",
       "      <td>1.636875</td>\n",
       "      <td>1.0</td>\n",
       "      <td>85.074627</td>\n",
       "      <td>85.074627</td>\n",
       "      <td>85.074627</td>\n",
       "      <td>...</td>\n",
       "      <td>1.64045</td>\n",
       "      <td>1.62305</td>\n",
       "      <td>1.631750</td>\n",
       "      <td>1.63645</td>\n",
       "      <td>NaN</td>\n",
       "      <td>NaN</td>\n",
       "      <td>NaN</td>\n",
       "      <td>NaN</td>\n",
       "      <td>NaN</td>\n",
       "      <td>NaN</td>\n",
       "    </tr>\n",
       "    <tr>\n",
       "      <th>2</th>\n",
       "      <td>5/1/2000</td>\n",
       "      <td>1.6373</td>\n",
       "      <td>1.6451</td>\n",
       "      <td>1.6352</td>\n",
       "      <td>1.6419</td>\n",
       "      <td>1.641025</td>\n",
       "      <td>1.0</td>\n",
       "      <td>89.542484</td>\n",
       "      <td>89.542484</td>\n",
       "      <td>89.542484</td>\n",
       "      <td>...</td>\n",
       "      <td>1.64320</td>\n",
       "      <td>1.63340</td>\n",
       "      <td>1.638300</td>\n",
       "      <td>1.64015</td>\n",
       "      <td>346.784363</td>\n",
       "      <td>NaN</td>\n",
       "      <td>NaN</td>\n",
       "      <td>NaN</td>\n",
       "      <td>NaN</td>\n",
       "      <td>NaN</td>\n",
       "    </tr>\n",
       "    <tr>\n",
       "      <th>3</th>\n",
       "      <td>6/1/2000</td>\n",
       "      <td>1.6419</td>\n",
       "      <td>1.6509</td>\n",
       "      <td>1.6412</td>\n",
       "      <td>1.6477</td>\n",
       "      <td>1.646875</td>\n",
       "      <td>1.0</td>\n",
       "      <td>83.419689</td>\n",
       "      <td>91.208791</td>\n",
       "      <td>91.208791</td>\n",
       "      <td>...</td>\n",
       "      <td>1.64800</td>\n",
       "      <td>1.63820</td>\n",
       "      <td>1.643100</td>\n",
       "      <td>1.64605</td>\n",
       "      <td>205.362236</td>\n",
       "      <td>250.440097</td>\n",
       "      <td>NaN</td>\n",
       "      <td>NaN</td>\n",
       "      <td>NaN</td>\n",
       "      <td>NaN</td>\n",
       "    </tr>\n",
       "    <tr>\n",
       "      <th>4</th>\n",
       "      <td>7/1/2000</td>\n",
       "      <td>1.6477</td>\n",
       "      <td>1.6498</td>\n",
       "      <td>1.6361</td>\n",
       "      <td>1.6388</td>\n",
       "      <td>1.640875</td>\n",
       "      <td>0.0</td>\n",
       "      <td>22.929936</td>\n",
       "      <td>37.305699</td>\n",
       "      <td>66.758242</td>\n",
       "      <td>...</td>\n",
       "      <td>1.65035</td>\n",
       "      <td>1.63865</td>\n",
       "      <td>1.644500</td>\n",
       "      <td>1.64295</td>\n",
       "      <td>247.629083</td>\n",
       "      <td>265.490479</td>\n",
       "      <td>299.604522</td>\n",
       "      <td>NaN</td>\n",
       "      <td>NaN</td>\n",
       "      <td>NaN</td>\n",
       "    </tr>\n",
       "    <tr>\n",
       "      <th>5</th>\n",
       "      <td>10/1/2000</td>\n",
       "      <td>1.6388</td>\n",
       "      <td>1.6400</td>\n",
       "      <td>1.6335</td>\n",
       "      <td>1.6369</td>\n",
       "      <td>1.636825</td>\n",
       "      <td>0.0</td>\n",
       "      <td>19.540230</td>\n",
       "      <td>19.540230</td>\n",
       "      <td>27.461140</td>\n",
       "      <td>...</td>\n",
       "      <td>1.64490</td>\n",
       "      <td>1.63480</td>\n",
       "      <td>1.639850</td>\n",
       "      <td>1.63675</td>\n",
       "      <td>-151.346848</td>\n",
       "      <td>-110.141034</td>\n",
       "      <td>21.950914</td>\n",
       "      <td>NaN</td>\n",
       "      <td>NaN</td>\n",
       "      <td>NaN</td>\n",
       "    </tr>\n",
       "    <tr>\n",
       "      <th>6</th>\n",
       "      <td>11/1/2000</td>\n",
       "      <td>1.6369</td>\n",
       "      <td>1.6491</td>\n",
       "      <td>1.6350</td>\n",
       "      <td>1.6468</td>\n",
       "      <td>1.644425</td>\n",
       "      <td>1.0</td>\n",
       "      <td>81.595092</td>\n",
       "      <td>76.436782</td>\n",
       "      <td>76.436782</td>\n",
       "      <td>...</td>\n",
       "      <td>1.64455</td>\n",
       "      <td>1.63425</td>\n",
       "      <td>1.639400</td>\n",
       "      <td>1.64205</td>\n",
       "      <td>-11.709602</td>\n",
       "      <td>-100.462657</td>\n",
       "      <td>-36.219214</td>\n",
       "      <td>NaN</td>\n",
       "      <td>NaN</td>\n",
       "      <td>NaN</td>\n",
       "    </tr>\n",
       "    <tr>\n",
       "      <th>7</th>\n",
       "      <td>12/1/2000</td>\n",
       "      <td>1.6468</td>\n",
       "      <td>1.6508</td>\n",
       "      <td>1.6454</td>\n",
       "      <td>1.6471</td>\n",
       "      <td>1.647600</td>\n",
       "      <td>1.0</td>\n",
       "      <td>78.612717</td>\n",
       "      <td>78.612717</td>\n",
       "      <td>78.160920</td>\n",
       "      <td>...</td>\n",
       "      <td>1.64995</td>\n",
       "      <td>1.64020</td>\n",
       "      <td>1.645075</td>\n",
       "      <td>1.64810</td>\n",
       "      <td>160.126520</td>\n",
       "      <td>80.701637</td>\n",
       "      <td>-10.634778</td>\n",
       "      <td>NaN</td>\n",
       "      <td>NaN</td>\n",
       "      <td>NaN</td>\n",
       "    </tr>\n",
       "    <tr>\n",
       "      <th>8</th>\n",
       "      <td>13/1/2000</td>\n",
       "      <td>1.6471</td>\n",
       "      <td>1.6499</td>\n",
       "      <td>1.6412</td>\n",
       "      <td>1.6469</td>\n",
       "      <td>1.646225</td>\n",
       "      <td>0.0</td>\n",
       "      <td>75.316456</td>\n",
       "      <td>77.456647</td>\n",
       "      <td>77.456647</td>\n",
       "      <td>...</td>\n",
       "      <td>1.65035</td>\n",
       "      <td>1.64330</td>\n",
       "      <td>1.646825</td>\n",
       "      <td>1.64555</td>\n",
       "      <td>552.995392</td>\n",
       "      <td>208.084824</td>\n",
       "      <td>137.727250</td>\n",
       "      <td>NaN</td>\n",
       "      <td>NaN</td>\n",
       "      <td>NaN</td>\n",
       "    </tr>\n",
       "    <tr>\n",
       "      <th>9</th>\n",
       "      <td>14/1/2000</td>\n",
       "      <td>1.6469</td>\n",
       "      <td>1.6479</td>\n",
       "      <td>1.6313</td>\n",
       "      <td>1.6346</td>\n",
       "      <td>1.637100</td>\n",
       "      <td>0.0</td>\n",
       "      <td>16.923077</td>\n",
       "      <td>16.923077</td>\n",
       "      <td>16.923077</td>\n",
       "      <td>...</td>\n",
       "      <td>1.64890</td>\n",
       "      <td>1.63625</td>\n",
       "      <td>1.642575</td>\n",
       "      <td>1.63960</td>\n",
       "      <td>-658.093797</td>\n",
       "      <td>-494.777350</td>\n",
       "      <td>219.541872</td>\n",
       "      <td>394.476268</td>\n",
       "      <td>NaN</td>\n",
       "      <td>NaN</td>\n",
       "    </tr>\n",
       "  </tbody>\n",
       "</table>\n",
       "<p>10 rows × 35 columns</p>\n",
       "</div>"
      ],
      "text/plain": [
       "        date    open    high     low   close    wclose  delta       so_3  \\\n",
       "0   3/1/2000  1.6147  1.6396  1.6145  1.6358  1.631425    NaN  84.860558   \n",
       "1   4/1/2000  1.6358  1.6413  1.6316  1.6373  1.636875    1.0  85.074627   \n",
       "2   5/1/2000  1.6373  1.6451  1.6352  1.6419  1.641025    1.0  89.542484   \n",
       "3   6/1/2000  1.6419  1.6509  1.6412  1.6477  1.646875    1.0  83.419689   \n",
       "4   7/1/2000  1.6477  1.6498  1.6361  1.6388  1.640875    0.0  22.929936   \n",
       "5  10/1/2000  1.6388  1.6400  1.6335  1.6369  1.636825    0.0  19.540230   \n",
       "6  11/1/2000  1.6369  1.6491  1.6350  1.6468  1.644425    1.0  81.595092   \n",
       "7  12/1/2000  1.6468  1.6508  1.6454  1.6471  1.647600    1.0  78.612717   \n",
       "8  13/1/2000  1.6471  1.6499  1.6412  1.6469  1.646225    0.0  75.316456   \n",
       "9  14/1/2000  1.6469  1.6479  1.6313  1.6346  1.637100    0.0  16.923077   \n",
       "\n",
       "        so_4       so_5  ...  hi_avg_2  lo_avg_2  hilo_avg_2  hilo_avg  \\\n",
       "0  84.860558  84.860558  ...       NaN       NaN         NaN       NaN   \n",
       "1  85.074627  85.074627  ...   1.64045   1.62305    1.631750   1.63645   \n",
       "2  89.542484  89.542484  ...   1.64320   1.63340    1.638300   1.64015   \n",
       "3  91.208791  91.208791  ...   1.64800   1.63820    1.643100   1.64605   \n",
       "4  37.305699  66.758242  ...   1.65035   1.63865    1.644500   1.64295   \n",
       "5  19.540230  27.461140  ...   1.64490   1.63480    1.639850   1.63675   \n",
       "6  76.436782  76.436782  ...   1.64455   1.63425    1.639400   1.64205   \n",
       "7  78.612717  78.160920  ...   1.64995   1.64020    1.645075   1.64810   \n",
       "8  77.456647  77.456647  ...   1.65035   1.64330    1.646825   1.64555   \n",
       "9  16.923077  16.923077  ...   1.64890   1.63625    1.642575   1.63960   \n",
       "\n",
       "      slope_3     slope_4     slope_5    slope_10  slope_20  slope_30  \n",
       "0         NaN         NaN         NaN         NaN       NaN       NaN  \n",
       "1         NaN         NaN         NaN         NaN       NaN       NaN  \n",
       "2  346.784363         NaN         NaN         NaN       NaN       NaN  \n",
       "3  205.362236  250.440097         NaN         NaN       NaN       NaN  \n",
       "4  247.629083  265.490479  299.604522         NaN       NaN       NaN  \n",
       "5 -151.346848 -110.141034   21.950914         NaN       NaN       NaN  \n",
       "6  -11.709602 -100.462657  -36.219214         NaN       NaN       NaN  \n",
       "7  160.126520   80.701637  -10.634778         NaN       NaN       NaN  \n",
       "8  552.995392  208.084824  137.727250         NaN       NaN       NaN  \n",
       "9 -658.093797 -494.777350  219.541872  394.476268       NaN       NaN  \n",
       "\n",
       "[10 rows x 35 columns]"
      ]
     },
     "execution_count": 65,
     "metadata": {},
     "output_type": "execute_result"
    }
   ],
   "source": [
    "df.head(n=10)"
   ]
  },
  {
   "cell_type": "markdown",
   "metadata": {},
   "source": [
    "# Classifiers"
   ]
  },
  {
   "cell_type": "markdown",
   "metadata": {},
   "source": [
    "<img src=\"files/algorithm cheat sheet.png\">"
   ]
  },
  {
   "cell_type": "code",
   "execution_count": 24,
   "metadata": {},
   "outputs": [],
   "source": [
    "from sklearn.svm import SVC"
   ]
  },
  {
   "cell_type": "markdown",
   "metadata": {},
   "source": [
    "## RBF Classifier"
   ]
  },
  {
   "cell_type": "code",
   "execution_count": 43,
   "metadata": {},
   "outputs": [],
   "source": [
    "training_labels =df['close']"
   ]
  },
  {
   "cell_type": "code",
   "execution_count": 45,
   "metadata": {},
   "outputs": [
    {
     "data": {
      "text/plain": [
       "pandas.core.series.Series"
      ]
     },
     "execution_count": 45,
     "metadata": {},
     "output_type": "execute_result"
    }
   ],
   "source": [
    "type(training_labels)"
   ]
  },
  {
   "cell_type": "code",
   "execution_count": 38,
   "metadata": {},
   "outputs": [],
   "source": [
    "feature_matrix=df.drop(columns=['date','open','high','low','close','wclose','delta'])"
   ]
  },
  {
   "cell_type": "code",
   "execution_count": 41,
   "metadata": {},
   "outputs": [
    {
     "data": {
      "text/plain": [
       "0      1.6145\n",
       "1      1.6316\n",
       "2      1.6352\n",
       "3      1.6412\n",
       "4      1.6361\n",
       "        ...  \n",
       "495    1.4101\n",
       "496    1.4150\n",
       "497    1.4136\n",
       "498    1.4211\n",
       "499    1.4222\n",
       "Name: low, Length: 500, dtype: float64"
      ]
     },
     "execution_count": 41,
     "metadata": {},
     "output_type": "execute_result"
    }
   ],
   "source": [
    "feature_matrix['low']"
   ]
  },
  {
   "cell_type": "code",
   "execution_count": null,
   "metadata": {},
   "outputs": [],
   "source": []
  }
 ],
 "metadata": {
  "kernelspec": {
   "display_name": "Python 3",
   "language": "python",
   "name": "python3"
  },
  "language_info": {
   "codemirror_mode": {
    "name": "ipython",
    "version": 3
   },
   "file_extension": ".py",
   "mimetype": "text/x-python",
   "name": "python",
   "nbconvert_exporter": "python",
   "pygments_lexer": "ipython3",
   "version": "3.7.5"
  }
 },
 "nbformat": 4,
 "nbformat_minor": 2
}
