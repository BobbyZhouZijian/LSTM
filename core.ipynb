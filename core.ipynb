{
 "cells": [
  {
   "cell_type": "markdown",
   "metadata": {},
   "source": [
    "# Initialisation"
   ]
  },
  {
   "cell_type": "code",
   "execution_count": 1,
   "metadata": {
    "scrolled": true
   },
   "outputs": [],
   "source": [
    "import pandas as pd\n",
    "import numpy as np\n",
    "import matplotlib.pyplot as plt\n",
    "import matplotlib as mpl\n",
    "mpl.style.use('seaborn')\n",
    "\n",
    "import ta\n",
    "import plotly\n",
    "import plotly.express as px\n",
    "import plotly.graph_objects as go\n",
    "import cufflinks as cf\n",
    "\n",
    "from datetime import datetime\n",
    "from arch import arch_model"
   ]
  },
  {
   "cell_type": "code",
   "execution_count": 2,
   "metadata": {},
   "outputs": [],
   "source": [
    "from scipy.stats import linregress"
   ]
  },
  {
   "cell_type": "code",
   "execution_count": 3,
   "metadata": {},
   "outputs": [],
   "source": [
    "# Load the raw data\n",
    "df_l = pd.read_csv('./FX Data/GBPUSD.csv', names=['date','open','high','low','close'])"
   ]
  },
  {
   "cell_type": "code",
   "execution_count": 4,
   "metadata": {},
   "outputs": [],
   "source": [
    "df = df_l[0:500]"
   ]
  },
  {
   "cell_type": "markdown",
   "metadata": {},
   "source": [
    "# Charts"
   ]
  },
  {
   "cell_type": "code",
   "execution_count": 6,
   "metadata": {},
   "outputs": [],
   "source": [
    "#fig_cdls = go.Figure(data=[go.Candlestick(x=df['Date'][0:100],open=df['Open'],high=df['High'],low=df['Low'],close=df['Close'])])\n",
    "#fig_cdls.show()"
   ]
  },
  {
   "cell_type": "code",
   "execution_count": null,
   "metadata": {},
   "outputs": [],
   "source": [
    "#fig = px.line(df[0:500],x='Date',y='Close')\n",
    "#fig.show()"
   ]
  },
  {
   "cell_type": "code",
   "execution_count": null,
   "metadata": {},
   "outputs": [],
   "source": [
    "# ind_EMA = ta.trend.EMAIndicator(close=df['Close'],n=10,fillna=False)\n",
    "\n",
    "# df['EMA'] = ind_EMA.ema_indicator()"
   ]
  },
  {
   "cell_type": "code",
   "execution_count": null,
   "metadata": {},
   "outputs": [],
   "source": [
    "# fig_ind = go.Figure()\n",
    "\n",
    "# fig_ind.update_layout(xaxis_range=[0,50],\n",
    "#                       yaxis_range=(1.5,1.7),\n",
    "#                  title_text = \"Close and EMA\")\n",
    "\n",
    "# fig_ind.add_trace(go.Scatter(\n",
    "#                     x=df['Date'],\n",
    "#                     y=df['Close'],\n",
    "#                     name='Close',\n",
    "#                     line_color='dimgray',\n",
    "#                     opacity=0.4))\n",
    "\n",
    "# fig_ind.add_trace(go.Scatter(\n",
    "#                     x=df['Date'],\n",
    "#                     y=df['EMA'],\n",
    "#                     name='EMA',\n",
    "#                     line_color='deepskyblue',\n",
    "#                     opacity=0.4))\n",
    "\n",
    "# fig_ind.show()"
   ]
  },
  {
   "cell_type": "markdown",
   "metadata": {},
   "source": [
    "# Adding features\n",
    "## Technical Analysis features"
   ]
  },
  {
   "cell_type": "code",
   "execution_count": 7,
   "metadata": {},
   "outputs": [],
   "source": [
    "df['wclose'] = (df['close']*2+df['high']+df['low'])/4"
   ]
  },
  {
   "cell_type": "code",
   "execution_count": 8,
   "metadata": {},
   "outputs": [],
   "source": [
    "for i in range(1,len(df)):\n",
    "    if df.at[i,'high'] > df.at[i-1,'high']:\n",
    "        df.at[i,'delta'] = 1\n",
    "    else:\n",
    "        df.at[i,'delta'] = 0"
   ]
  },
  {
   "cell_type": "code",
   "execution_count": 37,
   "metadata": {},
   "outputs": [],
   "source": [
    "def add_SO(i):\n",
    "    ind_SO = ta.momentum.StochasticOscillator(high=df['high'],low=df['low'],close=df['close'],n=i)\n",
    "    name = 'so_%s' %(i)\n",
    "    df[name] = ind_SO.stoch()\n",
    "    return\n",
    "\n",
    "for i in [3,4,5,8,9,10]:\n",
    "    add_SO(i)"
   ]
  },
  {
   "cell_type": "code",
   "execution_count": 41,
   "metadata": {},
   "outputs": [],
   "source": [
    "def add_WR(i):\n",
    "    ind_WR = ta.momentum.WilliamsRIndicator(high=df['high'],low=df['low'],close=df['close'],lbp=i)\n",
    "    name = 'wr_%s' %(i)\n",
    "    df[name] = ind_WR.wr()\n",
    "    return\n",
    "\n",
    "for i in [6,7,8,9,10]:\n",
    "    add_WR(i)"
   ]
  },
  {
   "cell_type": "code",
   "execution_count": 47,
   "metadata": {},
   "outputs": [],
   "source": [
    "def add_ROC(i):\n",
    "    ind_ROC = ta.momentum.ROCIndicator(close=df['close'],n=i)\n",
    "    name = 'roc_%s' %(i)\n",
    "    df[name] = ind_ROC.roc()\n",
    "    return\n",
    "\n",
    "for i in [12,13,14,15]:\n",
    "    add_ROC(i)"
   ]
  },
  {
   "cell_type": "code",
   "execution_count": null,
   "metadata": {},
   "outputs": [],
   "source": [
    "def add_WCP(i):\n",
    "    ind_WCP = ta.momentum.EMAIndicator(close=df['wclose'],n=i)\n",
    "    name = 'wcp_%s' %(i)\n",
    "    df[name] = ind_WCP.ema_indicator()\n",
    "    return\n",
    "\n",
    "add_WCP(15)"
   ]
  },
  {
   "cell_type": "code",
   "execution_count": 52,
   "metadata": {},
   "outputs": [],
   "source": [
    "def add_MACD(i,j):\n",
    "    ind_MACD = ta.trend.MACD(close=df['close'],n_fast=i,n_slow=j)\n",
    "    name ='macd_%s_%s' %(i,j)\n",
    "    df[name] = ind_MACD.macd()\n",
    "    return\n",
    "\n",
    "add_MACD(15,30)  "
   ]
  },
  {
   "cell_type": "code",
   "execution_count": 61,
   "metadata": {},
   "outputs": [],
   "source": [
    "def add_CCI(i):\n",
    "    ind_CCI = ta.trend.cci(high=df['high'],low=df['low'],close=df['close'],n=i)\n",
    "    name = 'cci_%s' %(i)\n",
    "    df[name] = ind_CCI\n",
    "    return\n",
    "\n",
    "add_CCI(15)"
   ]
  },
  {
   "cell_type": "markdown",
   "metadata": {},
   "source": [
    "## Signal Processing features"
   ]
  },
  {
   "cell_type": "code",
   "execution_count": 115,
   "metadata": {},
   "outputs": [],
   "source": [
    "for i in range(1,len(df)):\n",
    "    df.at[i,'hi_avg_2'] =  (df.at[i-1,'high'] + df.at[i,'high'])/2\n",
    "    df.at[i,'lo_avg_2'] =  (df.at[i-1,'low'] + df.at[i,'low'])/2\n",
    "    df.at[i,'hilo_avg_2'] = (df.at[i,'hi_avg_2'] + df.at[i,'lo_avg_2'])/2\n",
    "    df.at[i,'hilo_avg'] = (df.at[i,'high'] + df.at[i,'low'])/2"
   ]
  },
  {
   "cell_type": "code",
   "execution_count": 148,
   "metadata": {},
   "outputs": [],
   "source": [
    "def add_slope(i):\n",
    "    for j in range(i-1,len(df)):\n",
    "        a=df['high'][j-(i-1):j+1]\n",
    "        b=[]\n",
    "        for k in range(i):\n",
    "            b.append(k)\n",
    "        name = 'slope_%s' %(i)\n",
    "        df.at[j,name] = linregress(a,b).slope\n",
    "    \n",
    "for i in [3,4,5,10,20,30]:\n",
    "    add_slope(i)"
   ]
  },
  {
   "cell_type": "code",
   "execution_count": 9,
   "metadata": {},
   "outputs": [
    {
     "data": {
      "text/html": [
       "<div>\n",
       "<style scoped>\n",
       "    .dataframe tbody tr th:only-of-type {\n",
       "        vertical-align: middle;\n",
       "    }\n",
       "\n",
       "    .dataframe tbody tr th {\n",
       "        vertical-align: top;\n",
       "    }\n",
       "\n",
       "    .dataframe thead th {\n",
       "        text-align: right;\n",
       "    }\n",
       "</style>\n",
       "<table border=\"1\" class=\"dataframe\">\n",
       "  <thead>\n",
       "    <tr style=\"text-align: right;\">\n",
       "      <th></th>\n",
       "      <th>date</th>\n",
       "      <th>open</th>\n",
       "      <th>high</th>\n",
       "      <th>low</th>\n",
       "      <th>close</th>\n",
       "      <th>wclose</th>\n",
       "      <th>delta</th>\n",
       "    </tr>\n",
       "  </thead>\n",
       "  <tbody>\n",
       "    <tr>\n",
       "      <th>0</th>\n",
       "      <td>3/1/2000</td>\n",
       "      <td>1.6147</td>\n",
       "      <td>1.6396</td>\n",
       "      <td>1.6145</td>\n",
       "      <td>1.6358</td>\n",
       "      <td>1.631425</td>\n",
       "      <td>NaN</td>\n",
       "    </tr>\n",
       "    <tr>\n",
       "      <th>1</th>\n",
       "      <td>4/1/2000</td>\n",
       "      <td>1.6358</td>\n",
       "      <td>1.6413</td>\n",
       "      <td>1.6316</td>\n",
       "      <td>1.6373</td>\n",
       "      <td>1.636875</td>\n",
       "      <td>1.0</td>\n",
       "    </tr>\n",
       "    <tr>\n",
       "      <th>2</th>\n",
       "      <td>5/1/2000</td>\n",
       "      <td>1.6373</td>\n",
       "      <td>1.6451</td>\n",
       "      <td>1.6352</td>\n",
       "      <td>1.6419</td>\n",
       "      <td>1.641025</td>\n",
       "      <td>1.0</td>\n",
       "    </tr>\n",
       "    <tr>\n",
       "      <th>3</th>\n",
       "      <td>6/1/2000</td>\n",
       "      <td>1.6419</td>\n",
       "      <td>1.6509</td>\n",
       "      <td>1.6412</td>\n",
       "      <td>1.6477</td>\n",
       "      <td>1.646875</td>\n",
       "      <td>1.0</td>\n",
       "    </tr>\n",
       "    <tr>\n",
       "      <th>4</th>\n",
       "      <td>7/1/2000</td>\n",
       "      <td>1.6477</td>\n",
       "      <td>1.6498</td>\n",
       "      <td>1.6361</td>\n",
       "      <td>1.6388</td>\n",
       "      <td>1.640875</td>\n",
       "      <td>0.0</td>\n",
       "    </tr>\n",
       "  </tbody>\n",
       "</table>\n",
       "</div>"
      ],
      "text/plain": [
       "       date    open    high     low   close    wclose  delta\n",
       "0  3/1/2000  1.6147  1.6396  1.6145  1.6358  1.631425    NaN\n",
       "1  4/1/2000  1.6358  1.6413  1.6316  1.6373  1.636875    1.0\n",
       "2  5/1/2000  1.6373  1.6451  1.6352  1.6419  1.641025    1.0\n",
       "3  6/1/2000  1.6419  1.6509  1.6412  1.6477  1.646875    1.0\n",
       "4  7/1/2000  1.6477  1.6498  1.6361  1.6388  1.640875    0.0"
      ]
     },
     "execution_count": 9,
     "metadata": {},
     "output_type": "execute_result"
    }
   ],
   "source": [
    "df.head()"
   ]
  },
  {
   "cell_type": "markdown",
   "metadata": {},
   "source": [
    "# Classifiers\n",
    "## RBF Classifier"
   ]
  },
  {
   "cell_type": "code",
   "execution_count": null,
   "metadata": {},
   "outputs": [],
   "source": []
  }
 ],
 "metadata": {
  "kernelspec": {
   "display_name": "Python 3",
   "language": "python",
   "name": "python3"
  },
  "language_info": {
   "codemirror_mode": {
    "name": "ipython",
    "version": 3
   },
   "file_extension": ".py",
   "mimetype": "text/x-python",
   "name": "python",
   "nbconvert_exporter": "python",
   "pygments_lexer": "ipython3",
   "version": "3.7.5"
  }
 },
 "nbformat": 4,
 "nbformat_minor": 2
}
