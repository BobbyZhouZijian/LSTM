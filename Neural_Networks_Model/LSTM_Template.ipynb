{
 "cells": [
  {
   "cell_type": "code",
   "execution_count": null,
   "metadata": {},
   "outputs": [],
   "source": [
    "import numpy as np\n",
    "import pandas as pd\n",
    "import math\n",
    "import matplotlib.pyplot as plt\n",
    "import os\n",
    "from sklearn.preprocessing import MinMaxScaler, LabelEncoder\n",
    "from sklearn.metrics import mean_squared_error\n",
    "from keras.layers import Dense, LSTM, BatchNormalization\n",
    "from keras.models import Sequential, load_model"
   ]
  },
  {
   "cell_type": "code",
   "execution_count": null,
   "metadata": {},
   "outputs": [],
   "source": [
    "currency_name = str(intput(\"Enter the currency pair eg. EURUSD:\"))"
   ]
  },
  {
   "cell_type": "code",
   "execution_count": null,
   "metadata": {},
   "outputs": [],
   "source": [
    "df = pd.read_parquet('../Dataframes/df_' + currency_name + '.parquet.gzip')"
   ]
  },
  {
   "cell_type": "code",
   "execution_count": null,
   "metadata": {},
   "outputs": [],
   "source": [
    "df.head()"
   ]
  },
  {
   "cell_type": "code",
   "execution_count": null,
   "metadata": {},
   "outputs": [],
   "source": [
    "# swap high price and opening price\n",
    "\n",
    "# now the second column is now daily high price\n",
    "\n",
    "def swap_columns(df, c1, c2):\n",
    "    df['temp'] = df[c1]\n",
    "    df[c1] = df[c2]\n",
    "    df[c2] = df['temp']\n",
    "    df.drop(columns=['temp'], inplace=True)\n",
    "    df.rename(columns={c1: c2, c2: c1}, inplace=True)\n",
    "    \n",
    "swap_columns(df, 'open', 'high')"
   ]
  },
  {
   "cell_type": "code",
   "execution_count": null,
   "metadata": {},
   "outputs": [],
   "source": [
    "df.drop(columns=['delta'],inplace=True)"
   ]
  },
  {
   "cell_type": "code",
   "execution_count": null,
   "metadata": {},
   "outputs": [],
   "source": [
    "df.head()"
   ]
  },
  {
   "cell_type": "markdown",
   "metadata": {},
   "source": [
    "### Change the normalization to be (0, 1)"
   ]
  },
  {
   "cell_type": "code",
   "execution_count": null,
   "metadata": {},
   "outputs": [],
   "source": [
    "data = df\n",
    "\n",
    "# constants\n",
    "lookback = 50\n",
    "batch_size = 512\n",
    "epoch = 10\n",
    "\n",
    "# 30% of the data used for testing\n",
    "test_size = int(.1 * (len(data)-lookback))\n",
    "\n",
    "\n",
    "# feed the lstm with all features starting from the open price\n",
    "# still contains the high\n",
    "input_features = data.iloc[:, 1:].values\n",
    "input_data = input_features\n",
    "\n",
    "# train a numpy array of input vectors\n",
    "sc = MinMaxScaler(feature_range = (0, 1))\n",
    "\n",
    "input_data[:,:] = sc.fit_transform(input_features[:,:])"
   ]
  },
  {
   "cell_type": "code",
   "execution_count": null,
   "metadata": {},
   "outputs": [],
   "source": [
    "input_features"
   ]
  },
  {
   "cell_type": "code",
   "execution_count": null,
   "metadata": {},
   "outputs": [],
   "source": [
    "input_data.shape"
   ]
  },
  {
   "cell_type": "code",
   "execution_count": null,
   "metadata": {},
   "outputs": [],
   "source": [
    "# number of features excluding the target feature\n",
    "feature_size = input_data.shape[1] - 1\n",
    "feature_size"
   ]
  },
  {
   "cell_type": "code",
   "execution_count": null,
   "metadata": {},
   "outputs": [],
   "source": [
    "input_data"
   ]
  },
  {
   "cell_type": "code",
   "execution_count": null,
   "metadata": {},
   "outputs": [],
   "source": [
    "input_data[[0],1:]"
   ]
  },
  {
   "cell_type": "code",
   "execution_count": null,
   "metadata": {},
   "outputs": [],
   "source": [
    "'''\n",
    "package data into packs of 50 each, starting from the oldest data\n",
    "up to len(data) - test_size - lookback - 1\n",
    "\n",
    "X is excluded from the daily high price: the target value\n",
    "\n",
    "and convert X and y to numpy array\n",
    "'''\n",
    "X = []\n",
    "y = []\n",
    "for i in range(len(data)- lookback):\n",
    "    t = []\n",
    "    for j in range(lookback):\n",
    "        t.append(input_data[[(i + j)], 1:])\n",
    "    X.append(t)\n",
    "    y.append(input_data[i + lookback, 0])\n",
    "\n",
    "X, y = np.array(X), np.array(y)"
   ]
  },
  {
   "cell_type": "code",
   "execution_count": null,
   "metadata": {},
   "outputs": [],
   "source": [
    "X"
   ]
  },
  {
   "cell_type": "code",
   "execution_count": null,
   "metadata": {},
   "outputs": [],
   "source": [
    "# test data taken from the latest (size - (test_size + lookback)) data points\n",
    "X_test = X[-test_size:]\n",
    "\n",
    "# cut the test data out\n",
    "X = X[:-(test_size)]\n",
    "y = y[:-(test_size)]\n",
    "\n",
    "# reshape\n",
    "X = X.reshape(X.shape[0], lookback, feature_size)\n",
    "X_test = X_test.reshape(X_test.shape[0],lookback, feature_size)\n",
    "X.shape"
   ]
  },
  {
   "cell_type": "code",
   "execution_count": null,
   "metadata": {},
   "outputs": [],
   "source": [
    "file = \"./Models/\" + currency_name + \".model\"\n",
    "model = None\n",
    "if os.path.exists(file):\n",
    "    model = load_model(file)\n",
    "else:\n",
    "    model = Sequential()\n",
    "    model.add(LSTM(units=30, return_sequences= True, input_shape=(X.shape[1],feature_size)))\n",
    "    model.add(LSTM(units=30, return_sequences=True))\n",
    "    model.add(LSTM(units=30))\n",
    "    model.add(Dense(units=1))\n",
    "    model.summary()\n",
    "    model.compile(optimizer='adam', loss='mean_squared_error')\n",
    "    model.fit(X, y, epochs=5, batch_size=32)\n",
    "    model.save(file)"
   ]
  },
  {
   "cell_type": "code",
   "execution_count": null,
   "metadata": {},
   "outputs": [],
   "source": [
    "# put the predicted target value inside input_data\n",
    "\n",
    "# inverse tranform the predicted data\n",
    "\n",
    "predicted_value = model.predict(X_test)\n",
    "li = input_data.shape[0]\n",
    "lp = predicted_value.shape[0]\n",
    "for i in range(li - lp, li - 1):\n",
    "    input_data[i + 1][0] = predicted_value[i - (li - lp)][0]\n",
    "\n",
    "input_data = sc.inverse_transform(input_data)\n",
    "\n",
    "input_data = input_data[-(test_size) + 1:,0]"
   ]
  },
  {
   "cell_type": "code",
   "execution_count": null,
   "metadata": {},
   "outputs": [],
   "source": [
    "actual_data = data.iloc[:, 1:].values[-(test_size) + 1:,0]\n",
    "actual_data"
   ]
  },
  {
   "cell_type": "code",
   "execution_count": null,
   "metadata": {
    "scrolled": true
   },
   "outputs": [],
   "source": [
    "plt.figure(figsize=(15,5))\n",
    "plt.plot(input_data, color= 'red', label=\"predicted price\")\n",
    "plt.plot(actual_data, color='green', label=\"real price\")\n",
    "plt.title(\"Daily High price of the selected stock\")\n",
    "plt.xlabel(\"Time (day)\")\n",
    "plt.ylabel(\"Stock Daily High Price ($)\")\n",
    "\n",
    "plt.legend()"
   ]
  },
  {
   "cell_type": "code",
   "execution_count": null,
   "metadata": {},
   "outputs": [],
   "source": [
    "# generate alphas\n",
    "frame = pd.DataFrame({'actual': actual_data, 'predict': input_data})"
   ]
  },
  {
   "cell_type": "code",
   "execution_count": null,
   "metadata": {},
   "outputs": [],
   "source": [
    "frame['p1'] = frame['predict'].shift(1)\n",
    "frame['diff1'] = frame['predict'] - frame['p1']\n",
    "frame"
   ]
  },
  {
   "cell_type": "code",
   "execution_count": null,
   "metadata": {},
   "outputs": [],
   "source": [
    "frame['alpha'] = frame['diff1'] / frame['actual'] * 200"
   ]
  },
  {
   "cell_type": "code",
   "execution_count": null,
   "metadata": {},
   "outputs": [],
   "source": [
    "frame['wclose'] = data['wclose'].values[-(test_size) + 1:]\n",
    "frame['pct_change'] = frame['wclose'].pct_change()\n",
    "frame.head(10)"
   ]
  },
  {
   "cell_type": "code",
   "execution_count": null,
   "metadata": {},
   "outputs": [],
   "source": [
    "capital = 100000\n",
    "frame['capital_allocation'] = frame['alpha'] * capital\n",
    "frame['daily_pnl'] = frame['capital_allocation'] * frame['pct_change']"
   ]
  },
  {
   "cell_type": "code",
   "execution_count": null,
   "metadata": {},
   "outputs": [],
   "source": [
    "cumsum = frame['daily_pnl'].cumsum()"
   ]
  },
  {
   "cell_type": "code",
   "execution_count": null,
   "metadata": {},
   "outputs": [],
   "source": [
    "plt.figure(figsize=(15,5))\n",
    "plt.plot(cumsum)\n",
    "plt.show()"
   ]
  },
  {
   "cell_type": "code",
   "execution_count": null,
   "metadata": {},
   "outputs": [],
   "source": [
    "# calculate sharpe ratio\n",
    "\n",
    "sharpe = np.sqrt(252) * (frame['daily_pnl'].mean()) / (frame['daily_pnl'].std())\n",
    "sharpe"
   ]
  },
  {
   "cell_type": "code",
   "execution_count": null,
   "metadata": {},
   "outputs": [],
   "source": [
    "# calculate win/loss ratio\n",
    "\n",
    "wins = 0\n",
    "losses = 0\n",
    "\n",
    "length = frame['daily_pnl'].count()\n",
    "\n",
    "for i in range(length):\n",
    "    if frame['daily_pnl'][i] > 0:\n",
    "        wins += 1\n",
    "    elif frame['daily_pnl'][i] < 0:\n",
    "        losses += 1\n",
    "\n",
    "wl = wins / losses\n",
    "wl"
   ]
  },
  {
   "cell_type": "code",
   "execution_count": null,
   "metadata": {},
   "outputs": [],
   "source": [
    "# maximum drawdown\n",
    "maxm = 0\n",
    "drawdown = 0\n",
    "cur_low = 0\n",
    "size = len(cumsum)\n",
    "\n",
    "final_start = 0\n",
    "final_end = 0\n",
    "\n",
    "start_date = 0\n",
    "end_date = 0\n",
    "\n",
    "for i in range(1, size):\n",
    "    cur_val = cumsum[i]\n",
    "    if cur_val >= maxm:\n",
    "        \n",
    "        drawdown = max(drawdown, maxm - cur_low)\n",
    "        \n",
    "        if drawdown == maxm - cur_low:\n",
    "            final_start = start_date\n",
    "            final_end = end_date\n",
    "            \n",
    "        maxm = cur_val\n",
    "        cur_low = cur_val\n",
    "        \n",
    "        start_date = i\n",
    "    else:\n",
    "        cur_low = min(cur_low, cur_val)\n",
    "        if cur_low == cur_val:\n",
    "            end_date = i\n",
    "\n",
    "print('drawdown is:', drawdown, ', from day', final_start, ', to day', final_end)"
   ]
  },
  {
   "cell_type": "code",
   "execution_count": null,
   "metadata": {},
   "outputs": [],
   "source": []
  }
 ],
 "metadata": {
  "kernelspec": {
   "display_name": "Python 3",
   "language": "python",
   "name": "python3"
  },
  "language_info": {
   "codemirror_mode": {
    "name": "ipython",
    "version": 3
   },
   "file_extension": ".py",
   "mimetype": "text/x-python",
   "name": "python",
   "nbconvert_exporter": "python",
   "pygments_lexer": "ipython3",
   "version": "3.7.7"
  }
 },
 "nbformat": 4,
 "nbformat_minor": 2
}
