{
 "cells": [
  {
   "cell_type": "markdown",
   "metadata": {},
   "source": [
    "# Initialisation"
   ]
  },
  {
   "cell_type": "code",
   "execution_count": 1,
   "metadata": {
    "scrolled": true
   },
   "outputs": [],
   "source": [
    "# Important packages\n",
    "import pandas as pd\n",
    "import numpy as np\n",
    "import ta\n",
    "import matplotlib.pyplot as plt\n",
    "import matplotlib as mpl\n",
    "mpl.style.use('seaborn')\n",
    "\n",
    "from scipy.stats import linregress\n",
    "\n",
    "# Charting stuff\n",
    "#import plotly\n",
    "#import plotly.express as px\n",
    "#import plotly.graph_objects as go\n",
    "#import cufflinks as cf\n",
    "#from datetime import datetime"
   ]
  },
  {
   "cell_type": "code",
   "execution_count": 2,
   "metadata": {},
   "outputs": [
    {
     "data": {
      "text/plain": [
       "5180"
      ]
     },
     "execution_count": 2,
     "metadata": {},
     "output_type": "execute_result"
    }
   ],
   "source": [
    "# Load the raw data\n",
    "df_long = pd.read_csv('./FX Data/GBPUSD.csv', names=['date','open','high','low','close'])\n",
    "len(df_long)"
   ]
  },
  {
   "cell_type": "markdown",
   "metadata": {},
   "source": [
    "## Important!\n",
    "Run the cell below to import the dataframe with features so that you can save computational time.\n",
    "You can then skip to the classifer part right away as the features have already been added.\n",
    "\n",
    "You need to have the pyarrow package."
   ]
  },
  {
   "cell_type": "code",
   "execution_count": 17,
   "metadata": {},
   "outputs": [],
   "source": [
    "df = pd.read_parquet('./Dataframes/df.parquet.gzip')"
   ]
  },
  {
   "cell_type": "markdown",
   "metadata": {},
   "source": [
    "Run this if you want to create a dataframe with new features."
   ]
  },
  {
   "cell_type": "code",
   "execution_count": 18,
   "metadata": {},
   "outputs": [
    {
     "data": {
      "text/html": [
       "<div>\n",
       "<style scoped>\n",
       "    .dataframe tbody tr th:only-of-type {\n",
       "        vertical-align: middle;\n",
       "    }\n",
       "\n",
       "    .dataframe tbody tr th {\n",
       "        vertical-align: top;\n",
       "    }\n",
       "\n",
       "    .dataframe thead th {\n",
       "        text-align: right;\n",
       "    }\n",
       "</style>\n",
       "<table border=\"1\" class=\"dataframe\">\n",
       "  <thead>\n",
       "    <tr style=\"text-align: right;\">\n",
       "      <th></th>\n",
       "      <th>date</th>\n",
       "      <th>open</th>\n",
       "      <th>high</th>\n",
       "      <th>low</th>\n",
       "      <th>close</th>\n",
       "      <th>wclose</th>\n",
       "      <th>delta</th>\n",
       "      <th>so_3</th>\n",
       "      <th>so_4</th>\n",
       "      <th>so_5</th>\n",
       "      <th>...</th>\n",
       "      <th>hi_avg_2</th>\n",
       "      <th>lo_avg_2</th>\n",
       "      <th>hilo_avg_2</th>\n",
       "      <th>hilo_avg</th>\n",
       "      <th>slope_3</th>\n",
       "      <th>slope_4</th>\n",
       "      <th>slope_5</th>\n",
       "      <th>slope_10</th>\n",
       "      <th>slope_20</th>\n",
       "      <th>slope_30</th>\n",
       "    </tr>\n",
       "  </thead>\n",
       "  <tbody>\n",
       "    <tr>\n",
       "      <th>50</th>\n",
       "      <td>13/3/2000</td>\n",
       "      <td>1.5773</td>\n",
       "      <td>1.5829</td>\n",
       "      <td>1.5761</td>\n",
       "      <td>1.5786</td>\n",
       "      <td>1.579050</td>\n",
       "      <td>0.0</td>\n",
       "      <td>34.042553</td>\n",
       "      <td>29.078014</td>\n",
       "      <td>47.368421</td>\n",
       "      <td>...</td>\n",
       "      <td>1.58335</td>\n",
       "      <td>1.57575</td>\n",
       "      <td>1.579550</td>\n",
       "      <td>1.57950</td>\n",
       "      <td>-1051.660517</td>\n",
       "      <td>-480.169784</td>\n",
       "      <td>-124.552390</td>\n",
       "      <td>-374.380286</td>\n",
       "      <td>-405.042029</td>\n",
       "      <td>-553.768912</td>\n",
       "    </tr>\n",
       "    <tr>\n",
       "      <th>51</th>\n",
       "      <td>14/3/2000</td>\n",
       "      <td>1.5786</td>\n",
       "      <td>1.5795</td>\n",
       "      <td>1.5682</td>\n",
       "      <td>1.5787</td>\n",
       "      <td>1.576275</td>\n",
       "      <td>0.0</td>\n",
       "      <td>67.307692</td>\n",
       "      <td>63.253012</td>\n",
       "      <td>51.470588</td>\n",
       "      <td>...</td>\n",
       "      <td>1.58120</td>\n",
       "      <td>1.57215</td>\n",
       "      <td>1.576675</td>\n",
       "      <td>1.57385</td>\n",
       "      <td>-418.016850</td>\n",
       "      <td>-528.634361</td>\n",
       "      <td>-464.546547</td>\n",
       "      <td>-528.940484</td>\n",
       "      <td>-418.450089</td>\n",
       "      <td>-548.468327</td>\n",
       "    </tr>\n",
       "    <tr>\n",
       "      <th>52</th>\n",
       "      <td>15/3/2000</td>\n",
       "      <td>1.5787</td>\n",
       "      <td>1.5787</td>\n",
       "      <td>1.5699</td>\n",
       "      <td>1.5733</td>\n",
       "      <td>1.573800</td>\n",
       "      <td>0.0</td>\n",
       "      <td>34.693878</td>\n",
       "      <td>32.692308</td>\n",
       "      <td>30.722892</td>\n",
       "      <td>...</td>\n",
       "      <td>1.57910</td>\n",
       "      <td>1.56905</td>\n",
       "      <td>1.574075</td>\n",
       "      <td>1.57430</td>\n",
       "      <td>-422.252011</td>\n",
       "      <td>-497.671324</td>\n",
       "      <td>-568.730181</td>\n",
       "      <td>-608.062000</td>\n",
       "      <td>-416.686639</td>\n",
       "      <td>-543.624365</td>\n",
       "    </tr>\n",
       "    <tr>\n",
       "      <th>53</th>\n",
       "      <td>16/3/2000</td>\n",
       "      <td>1.5733</td>\n",
       "      <td>1.5775</td>\n",
       "      <td>1.5692</td>\n",
       "      <td>1.5765</td>\n",
       "      <td>1.574925</td>\n",
       "      <td>0.0</td>\n",
       "      <td>73.451327</td>\n",
       "      <td>56.462585</td>\n",
       "      <td>53.205128</td>\n",
       "      <td>...</td>\n",
       "      <td>1.57810</td>\n",
       "      <td>1.56955</td>\n",
       "      <td>1.573825</td>\n",
       "      <td>1.57335</td>\n",
       "      <td>-986.842105</td>\n",
       "      <td>-527.622595</td>\n",
       "      <td>-562.098501</td>\n",
       "      <td>-598.903980</td>\n",
       "      <td>-423.601117</td>\n",
       "      <td>-539.882002</td>\n",
       "    </tr>\n",
       "    <tr>\n",
       "      <th>54</th>\n",
       "      <td>17/3/2000</td>\n",
       "      <td>1.5765</td>\n",
       "      <td>1.5766</td>\n",
       "      <td>1.5702</td>\n",
       "      <td>1.5753</td>\n",
       "      <td>1.574350</td>\n",
       "      <td>0.0</td>\n",
       "      <td>64.210526</td>\n",
       "      <td>62.831858</td>\n",
       "      <td>48.299320</td>\n",
       "      <td>...</td>\n",
       "      <td>1.57705</td>\n",
       "      <td>1.56970</td>\n",
       "      <td>1.573375</td>\n",
       "      <td>1.57340</td>\n",
       "      <td>-945.945946</td>\n",
       "      <td>-1004.566210</td>\n",
       "      <td>-619.904891</td>\n",
       "      <td>-605.513402</td>\n",
       "      <td>-425.768716</td>\n",
       "      <td>-543.211462</td>\n",
       "    </tr>\n",
       "  </tbody>\n",
       "</table>\n",
       "<p>5 rows × 35 columns</p>\n",
       "</div>"
      ],
      "text/plain": [
       "         date    open    high     low   close    wclose  delta       so_3  \\\n",
       "50  13/3/2000  1.5773  1.5829  1.5761  1.5786  1.579050    0.0  34.042553   \n",
       "51  14/3/2000  1.5786  1.5795  1.5682  1.5787  1.576275    0.0  67.307692   \n",
       "52  15/3/2000  1.5787  1.5787  1.5699  1.5733  1.573800    0.0  34.693878   \n",
       "53  16/3/2000  1.5733  1.5775  1.5692  1.5765  1.574925    0.0  73.451327   \n",
       "54  17/3/2000  1.5765  1.5766  1.5702  1.5753  1.574350    0.0  64.210526   \n",
       "\n",
       "         so_4       so_5  ...  hi_avg_2  lo_avg_2  hilo_avg_2  hilo_avg  \\\n",
       "50  29.078014  47.368421  ...   1.58335   1.57575    1.579550   1.57950   \n",
       "51  63.253012  51.470588  ...   1.58120   1.57215    1.576675   1.57385   \n",
       "52  32.692308  30.722892  ...   1.57910   1.56905    1.574075   1.57430   \n",
       "53  56.462585  53.205128  ...   1.57810   1.56955    1.573825   1.57335   \n",
       "54  62.831858  48.299320  ...   1.57705   1.56970    1.573375   1.57340   \n",
       "\n",
       "        slope_3      slope_4     slope_5    slope_10    slope_20    slope_30  \n",
       "50 -1051.660517  -480.169784 -124.552390 -374.380286 -405.042029 -553.768912  \n",
       "51  -418.016850  -528.634361 -464.546547 -528.940484 -418.450089 -548.468327  \n",
       "52  -422.252011  -497.671324 -568.730181 -608.062000 -416.686639 -543.624365  \n",
       "53  -986.842105  -527.622595 -562.098501 -598.903980 -423.601117 -539.882002  \n",
       "54  -945.945946 -1004.566210 -619.904891 -605.513402 -425.768716 -543.211462  \n",
       "\n",
       "[5 rows x 35 columns]"
      ]
     },
     "execution_count": 18,
     "metadata": {},
     "output_type": "execute_result"
    }
   ],
   "source": [
    "df.head()"
   ]
  },
  {
   "cell_type": "code",
   "execution_count": 3,
   "metadata": {},
   "outputs": [],
   "source": [
    "# Limit to small case for easy testing, will change back to whole dataframe eventually\n",
    "df = df_long"
   ]
  },
  {
   "cell_type": "markdown",
   "metadata": {},
   "source": [
    "# Adding features\n",
    "## Technical Analysis features"
   ]
  },
  {
   "cell_type": "code",
   "execution_count": 4,
   "metadata": {},
   "outputs": [],
   "source": [
    "df['wclose'] = (df['close']*2+df['high']+df['low'])/4"
   ]
  },
  {
   "cell_type": "code",
   "execution_count": 5,
   "metadata": {},
   "outputs": [],
   "source": [
    "for i in range(1,len(df)):\n",
    "    if df.at[i,'high'] > df.at[i-1,'high']:\n",
    "        df.at[i,'delta'] = 1\n",
    "    else:\n",
    "        df.at[i,'delta'] = 0"
   ]
  },
  {
   "cell_type": "code",
   "execution_count": 6,
   "metadata": {},
   "outputs": [],
   "source": [
    "def add_SO(i):\n",
    "    ind_SO = ta.momentum.StochasticOscillator(high=df['high'],low=df['low'],close=df['close'],n=i)\n",
    "    name = 'so_%s' %(i)\n",
    "    df[name] = ind_SO.stoch()\n",
    "    return\n",
    "\n",
    "for i in [3,4,5,8,9,10]:\n",
    "    add_SO(i)"
   ]
  },
  {
   "cell_type": "code",
   "execution_count": 7,
   "metadata": {},
   "outputs": [],
   "source": [
    "def add_WR(i):\n",
    "    ind_WR = ta.momentum.WilliamsRIndicator(high=df['high'],low=df['low'],close=df['close'],lbp=i)\n",
    "    name = 'wr_%s' %(i)\n",
    "    df[name] = ind_WR.wr()\n",
    "    return\n",
    "\n",
    "for i in [6,7,8,9,10]:\n",
    "    add_WR(i)"
   ]
  },
  {
   "cell_type": "code",
   "execution_count": 8,
   "metadata": {},
   "outputs": [],
   "source": [
    "def add_ROC(i):\n",
    "    ind_ROC = ta.momentum.ROCIndicator(close=df['close'],n=i)\n",
    "    name = 'roc_%s' %(i)\n",
    "    df[name] = ind_ROC.roc()\n",
    "    return\n",
    "\n",
    "for i in [12,13,14,15]:\n",
    "    add_ROC(i)"
   ]
  },
  {
   "cell_type": "code",
   "execution_count": 9,
   "metadata": {},
   "outputs": [],
   "source": [
    "def add_WCP(i):\n",
    "    ind_WCP = ta.trend.EMAIndicator(close=df['wclose'],n=i)\n",
    "    name = 'wcp_%s' %(i)\n",
    "    df[name] = ind_WCP.ema_indicator()\n",
    "    return\n",
    "\n",
    "add_WCP(15)"
   ]
  },
  {
   "cell_type": "code",
   "execution_count": 10,
   "metadata": {},
   "outputs": [],
   "source": [
    "def add_MACD(i,j):\n",
    "    ind_MACD = ta.trend.MACD(close=df['close'],n_fast=i,n_slow=j)\n",
    "    name ='macd_%s_%s' %(i,j)\n",
    "    df[name] = ind_MACD.macd()\n",
    "    return\n",
    "\n",
    "add_MACD(15,30)  "
   ]
  },
  {
   "cell_type": "code",
   "execution_count": 11,
   "metadata": {},
   "outputs": [],
   "source": [
    "def add_CCI(i):\n",
    "    ind_CCI = ta.trend.cci(high=df['high'],low=df['low'],close=df['close'],n=i)\n",
    "    name = 'cci_%s' %(i)\n",
    "    df[name] = ind_CCI\n",
    "    return\n",
    "\n",
    "add_CCI(15)"
   ]
  },
  {
   "cell_type": "markdown",
   "metadata": {},
   "source": [
    "## Signal Processing features"
   ]
  },
  {
   "cell_type": "code",
   "execution_count": 12,
   "metadata": {},
   "outputs": [],
   "source": [
    "for i in range(1,len(df)):\n",
    "    df.at[i,'hi_avg_2'] =  (df.at[i-1,'high'] + df.at[i,'high'])/2\n",
    "    df.at[i,'lo_avg_2'] =  (df.at[i-1,'low'] + df.at[i,'low'])/2\n",
    "    df.at[i,'hilo_avg_2'] = (df.at[i,'hi_avg_2'] + df.at[i,'lo_avg_2'])/2\n",
    "    df.at[i,'hilo_avg'] = (df.at[i,'high'] + df.at[i,'low'])/2"
   ]
  },
  {
   "cell_type": "code",
   "execution_count": 13,
   "metadata": {},
   "outputs": [
    {
     "name": "stderr",
     "output_type": "stream",
     "text": [
      "c:\\program files\\python37\\lib\\site-packages\\scipy\\stats\\_distn_infrastructure.py:901: RuntimeWarning: invalid value encountered in greater\n",
      "  return (a < x) & (x < b)\n",
      "c:\\program files\\python37\\lib\\site-packages\\scipy\\stats\\_distn_infrastructure.py:901: RuntimeWarning: invalid value encountered in less\n",
      "  return (a < x) & (x < b)\n",
      "c:\\program files\\python37\\lib\\site-packages\\scipy\\stats\\_distn_infrastructure.py:1892: RuntimeWarning: invalid value encountered in less_equal\n",
      "  cond2 = cond0 & (x <= _a)\n"
     ]
    }
   ],
   "source": [
    "def add_slope(i):\n",
    "    for j in range(i-1,len(df)):\n",
    "        a=df['high'][j-(i-1):j+1]\n",
    "        b=[]\n",
    "        for k in range(i):\n",
    "            b.append(k)\n",
    "        name = 'slope_%s' %(i)\n",
    "        df.at[j,name] = linregress(a,b).slope\n",
    "    \n",
    "for i in [3,4,5,10,20,30]:\n",
    "    add_slope(i)"
   ]
  },
  {
   "cell_type": "code",
   "execution_count": 14,
   "metadata": {},
   "outputs": [],
   "source": [
    "df = df[50:]"
   ]
  },
  {
   "cell_type": "code",
   "execution_count": 20,
   "metadata": {},
   "outputs": [
    {
     "data": {
      "text/plain": [
       "(5130, 35)"
      ]
     },
     "execution_count": 20,
     "metadata": {},
     "output_type": "execute_result"
    }
   ],
   "source": [
    "df.shape"
   ]
  },
  {
   "cell_type": "markdown",
   "metadata": {},
   "source": [
    "## Run the cell below if you want to save the dataframe for future use"
   ]
  },
  {
   "cell_type": "code",
   "execution_count": 21,
   "metadata": {},
   "outputs": [],
   "source": [
    "df.to_parquet('./Dataframes/df.parquet.gzip',compression='gzip')"
   ]
  },
  {
   "cell_type": "markdown",
   "metadata": {},
   "source": [
    "# Classifiers"
   ]
  },
  {
   "cell_type": "markdown",
   "metadata": {},
   "source": [
    "<img src=\"files/Images/algo cheat sheet.png\">"
   ]
  },
  {
   "cell_type": "code",
   "execution_count": 5,
   "metadata": {},
   "outputs": [],
   "source": [
    "from sklearn.svm import SVC\n",
    "from sklearn.ensemble import RandomForestClassifier\n",
    "\n",
    "from sklearn.metrics import accuracy_score"
   ]
  },
  {
   "cell_type": "code",
   "execution_count": 6,
   "metadata": {},
   "outputs": [],
   "source": [
    "def get_feature_matrix(start_ind, end_ind):\n",
    "    return df[start_ind:end_ind].drop(columns=['date','open','high','low','close','wclose','delta'])\n",
    "def get_training_labels(start_ind, end_ind):\n",
    "    return df[start_ind:end_ind]['delta']"
   ]
  },
  {
   "cell_type": "markdown",
   "metadata": {},
   "source": [
    "## Random Forest Classifier"
   ]
  },
  {
   "cell_type": "code",
   "execution_count": 12,
   "metadata": {},
   "outputs": [],
   "source": [
    "# \"feature matrix a\" and \"training labels a\"\n",
    "ft_mtx_a = get_feature_matrix(0,3000)\n",
    "tr_lbl_a = get_training_labels(0,3000)"
   ]
  },
  {
   "cell_type": "code",
   "execution_count": 13,
   "metadata": {},
   "outputs": [],
   "source": [
    "# \"prediction matrix a\" and \"real label a\"\n",
    "pdr_mtx_a = get_feature_matrix(3000,3500)\n",
    "rl_lbl_a = get_training_labels(3000,3500)"
   ]
  },
  {
   "cell_type": "code",
   "execution_count": 14,
   "metadata": {},
   "outputs": [
    {
     "data": {
      "text/plain": [
       "RandomForestClassifier(bootstrap=True, ccp_alpha=0.0, class_weight=None,\n",
       "                       criterion='gini', max_depth=2, max_features='auto',\n",
       "                       max_leaf_nodes=None, max_samples=None,\n",
       "                       min_impurity_decrease=0.0, min_impurity_split=None,\n",
       "                       min_samples_leaf=1, min_samples_split=2,\n",
       "                       min_weight_fraction_leaf=0.0, n_estimators=100,\n",
       "                       n_jobs=None, oob_score=False, random_state=0, verbose=0,\n",
       "                       warm_start=False)"
      ]
     },
     "execution_count": 14,
     "metadata": {},
     "output_type": "execute_result"
    }
   ],
   "source": [
    "clf_frst = RandomForestClassifier(max_depth=2, random_state=0)\n",
    "clf_frst.fit(ft_mtx_a, tr_lbl_a)"
   ]
  },
  {
   "cell_type": "code",
   "execution_count": 15,
   "metadata": {},
   "outputs": [
    {
     "data": {
      "text/plain": [
       "0.786"
      ]
     },
     "execution_count": 15,
     "metadata": {},
     "output_type": "execute_result"
    }
   ],
   "source": [
    "accuracy_score(rl_lbl_a,clf_frst.predict(pdr_mtx_a))"
   ]
  },
  {
   "cell_type": "code",
   "execution_count": 19,
   "metadata": {},
   "outputs": [
    {
     "data": {
      "text/plain": [
       "array([0., 0., 0., 0., 0., 0., 0., 0., 0., 0., 1., 1., 1., 1., 0., 0., 0.,\n",
       "       0., 1., 1., 1., 1., 1., 1., 1., 1., 0., 1., 0., 1., 1., 1., 1., 1.,\n",
       "       1., 1., 0., 0., 0., 1., 1., 1., 0., 0., 1., 0., 0., 0., 0., 0., 0.,\n",
       "       0., 0., 0., 0., 0., 1., 1., 1., 0., 0., 0., 1., 0., 1., 0., 0., 0.,\n",
       "       0., 1., 0., 1., 1., 1., 0., 0., 0., 0., 0., 0., 1., 1., 1., 0., 0.,\n",
       "       0., 0., 0., 0., 0., 0., 1., 1., 1., 1., 1., 1., 1., 1., 1., 1., 1.,\n",
       "       1., 1., 0., 0., 1., 1., 0., 0., 0., 0., 0., 1., 1., 1., 1., 0., 0.,\n",
       "       1., 1., 1., 1., 1., 0., 0., 0., 0., 1., 0., 0., 0., 0., 0., 1., 1.,\n",
       "       1., 1., 0., 0., 1., 1., 0., 0., 1., 1., 0., 0., 0., 0., 1., 0., 1.,\n",
       "       1., 0., 0., 1., 1., 1., 1., 1., 1., 1., 1., 1., 1., 0., 0., 0., 0.,\n",
       "       0., 0., 0., 0., 0., 0., 0., 0., 0., 0., 0., 0., 0., 0., 0., 0., 0.,\n",
       "       0., 0., 0., 0., 0., 1., 1., 1., 0., 1., 1., 1., 1., 1., 1., 0., 0.,\n",
       "       0., 0., 1., 0., 0., 1., 1., 1., 0., 0., 0., 0., 0., 0., 0., 1., 1.,\n",
       "       1., 1., 1., 1., 0., 0., 0., 1., 1., 1., 0., 0., 0., 0., 0., 1., 1.,\n",
       "       1., 1., 1., 1., 0., 1., 1., 0., 1., 1., 1., 0., 0., 0., 1., 0., 1.,\n",
       "       1., 1., 1., 1., 1., 1., 1., 1., 1., 1., 1., 1., 0., 0., 1., 0., 0.,\n",
       "       0., 1., 0., 0., 0., 0., 1., 0., 0., 0., 0., 0., 1., 1., 1., 1., 0.,\n",
       "       0., 0., 0., 1., 1., 1., 0., 0., 1., 1., 0., 0., 0., 0., 0., 0., 0.,\n",
       "       0., 0., 0., 1., 1., 1., 1., 1., 1., 1., 1., 0., 1., 1., 1., 1., 1.,\n",
       "       0., 0., 0., 1., 1., 1., 1., 1., 1., 1., 1., 0., 0., 0., 0., 0., 1.,\n",
       "       1., 1., 1., 0., 0., 0., 0., 0., 1., 1., 0., 0., 0., 0., 0., 0., 0.,\n",
       "       0., 0., 0., 0., 0., 1., 1., 0., 0., 0., 0., 0., 1., 0., 0., 0., 0.,\n",
       "       0., 0., 0., 0., 0., 0., 0., 0., 0., 1., 0., 0., 1., 0., 0., 0., 0.,\n",
       "       0., 0., 1., 1., 1., 0., 1., 1., 1., 1., 0., 0., 1., 1., 1., 0., 0.,\n",
       "       1., 1., 1., 1., 1., 1., 1., 0., 0., 0., 0., 0., 0., 0., 0., 1., 1.,\n",
       "       1., 1., 1., 1., 1., 1., 0., 1., 0., 0., 0., 0., 0., 0., 0., 0., 0.,\n",
       "       0., 0., 0., 1., 0., 1., 1., 1., 1., 1., 1., 1., 1., 0., 1., 1., 1.,\n",
       "       1., 1., 0., 0., 0., 0., 0., 0., 0., 0., 0., 0., 0., 1., 0., 0., 0.,\n",
       "       0., 1., 1., 1., 0., 1., 1., 1., 1., 1., 1., 1., 1., 1., 0., 0., 0.,\n",
       "       0., 1., 1., 1., 1., 1., 1.])"
      ]
     },
     "execution_count": 19,
     "metadata": {},
     "output_type": "execute_result"
    }
   ],
   "source": [
    "clf_frst.predict(pdr_mtx_a)"
   ]
  },
  {
   "cell_type": "markdown",
   "metadata": {},
   "source": [
    "## Support Vector Machine Classifier"
   ]
  },
  {
   "cell_type": "code",
   "execution_count": null,
   "metadata": {},
   "outputs": [],
   "source": [
    "clf_svm = "
   ]
  },
  {
   "cell_type": "markdown",
   "metadata": {},
   "source": [
    "# Charts (Not using these yet)"
   ]
  },
  {
   "cell_type": "code",
   "execution_count": 7,
   "metadata": {},
   "outputs": [],
   "source": [
    "#fig_cdls = go.Figure(data=[go.Candlestick(x=df['Date'][0:100],open=df['Open'],high=df['High'],low=df['Low'],close=df['Close'])])\n",
    "#fig_cdls.show()"
   ]
  },
  {
   "cell_type": "code",
   "execution_count": 8,
   "metadata": {},
   "outputs": [],
   "source": [
    "#fig = px.line(df[0:500],x='Date',y='Close')\n",
    "#fig.show()"
   ]
  },
  {
   "cell_type": "code",
   "execution_count": 9,
   "metadata": {},
   "outputs": [],
   "source": [
    "# ind_EMA = ta.trend.EMAIndicator(close=df['Close'],n=10,fillna=False)\n",
    "\n",
    "# df['EMA'] = ind_EMA.ema_indicator()"
   ]
  },
  {
   "cell_type": "code",
   "execution_count": 10,
   "metadata": {},
   "outputs": [],
   "source": [
    "# fig_ind = go.Figure()\n",
    "\n",
    "# fig_ind.update_layout(xaxis_range=[0,50],\n",
    "#                       yaxis_range=(1.5,1.7),\n",
    "#                  title_text = \"Close and EMA\")\n",
    "\n",
    "# fig_ind.add_trace(go.Scatter(\n",
    "#                     x=df['Date'],\n",
    "#                     y=df['Close'],\n",
    "#                     name='Close',\n",
    "#                     line_color='dimgray',\n",
    "#                     opacity=0.4))\n",
    "\n",
    "# fig_ind.add_trace(go.Scatter(\n",
    "#                     x=df['Date'],\n",
    "#                     y=df['EMA'],\n",
    "#                     name='EMA',\n",
    "#                     line_color='deepskyblue',\n",
    "#                     opacity=0.4))\n",
    "\n",
    "# fig_ind.show()"
   ]
  }
 ],
 "metadata": {
  "kernelspec": {
   "display_name": "Python 3",
   "language": "python",
   "name": "python3"
  },
  "language_info": {
   "codemirror_mode": {
    "name": "ipython",
    "version": 3
   },
   "file_extension": ".py",
   "mimetype": "text/x-python",
   "name": "python",
   "nbconvert_exporter": "python",
   "pygments_lexer": "ipython3",
   "version": "3.7.3"
  }
 },
 "nbformat": 4,
 "nbformat_minor": 2
}
