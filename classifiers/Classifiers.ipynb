{
 "cells": [
  {
   "cell_type": "markdown",
   "metadata": {},
   "source": [
    "# Classifiers"
   ]
  },
  {
   "cell_type": "code",
   "execution_count": 103,
   "metadata": {},
   "outputs": [],
   "source": [
    "# Important packages\n",
    "import pandas as pd\n",
    "import numpy as np\n",
    "import ta\n",
    "import matplotlib.pyplot as plt\n",
    "\n",
    "from scipy.stats import linregress\n",
    "from sklearn.model_selection import train_test_split\n",
    "from sklearn.metrics import accuracy_score\n",
    "from sklearn.feature_selection import SelectKBest, chi2\n",
    "\n",
    "from sklearn.ensemble import RandomForestClassifier\n",
    "from sklearn.svm import SVC\n",
    "from xgboost import XGBClassifier"
   ]
  },
  {
   "cell_type": "code",
   "execution_count": 104,
   "metadata": {},
   "outputs": [],
   "source": [
    "df = pd.read_parquet('../Dataframes/df.parquet.gzip')"
   ]
  },
  {
   "cell_type": "code",
   "execution_count": 105,
   "metadata": {},
   "outputs": [],
   "source": [
    "# Clean null data\n",
    "df.dropna(inplace=True)\n",
    "\n",
    "# Make date the index\n",
    "df.index = df[\"date\"]\n",
    "df.drop([\"date\"], axis=1, inplace=True)"
   ]
  },
  {
   "cell_type": "code",
   "execution_count": 106,
   "metadata": {},
   "outputs": [],
   "source": [
    "# Make df['delta'] the expected output\n",
    "target = df['delta']\n",
    "df.drop(['delta'], axis = 1, inplace = True)"
   ]
  },
  {
   "cell_type": "code",
   "execution_count": 107,
   "metadata": {},
   "outputs": [],
   "source": [
    "# Features\n",
    "feat_labels = ['open', 'high', 'low', 'close', 'wclose', 'so_3', 'so_4', 'so_5',\n",
    "       'so_8', 'so_9', 'so_10', 'wr_6', 'wr_7', 'wr_8', 'wr_9', 'wr_10',\n",
    "       'roc_12', 'roc_13', 'roc_14', 'roc_15', 'wcp_15', 'macd_15_30',\n",
    "       'cci_15', 'hi_avg_2', 'lo_avg_2', 'hilo_avg_2', 'hilo_avg', 'slope_3',\n",
    "       'slope_4', 'slope_5', 'slope_10', 'slope_20', 'slope_30']"
   ]
  },
  {
   "cell_type": "markdown",
   "metadata": {},
   "source": [
    "## Random Forest Classifier"
   ]
  },
  {
   "cell_type": "markdown",
   "metadata": {},
   "source": [
    "### All features"
   ]
  },
  {
   "cell_type": "code",
   "execution_count": 97,
   "metadata": {},
   "outputs": [
    {
     "name": "stdout",
     "output_type": "stream",
     "text": [
      "RandomForest accuracy :  0.7914230019493177\n"
     ]
    }
   ],
   "source": [
    "# Train and Test samples\n",
    "X_train, X_test, y_train, y_test = train_test_split(df, target, test_size = 0.30)\n",
    "\n",
    "rf_model = RandomForestClassifier(n_estimators=20, max_depth=2, random_state=0)\n",
    "\n",
    "rf_model.fit(X_train, y_train)\n",
    "\n",
    "print(\"RandomForest accuracy : \",accuracy_score(y_test, rf_model.predict(X_test), normalize = True))"
   ]
  },
  {
   "cell_type": "markdown",
   "metadata": {},
   "source": [
    "### Features Selection"
   ]
  },
  {
   "cell_type": "code",
   "execution_count": 70,
   "metadata": {},
   "outputs": [],
   "source": [
    "top_n_features = 10"
   ]
  },
  {
   "cell_type": "code",
   "execution_count": 71,
   "metadata": {
    "scrolled": true
   },
   "outputs": [
    {
     "data": {
      "image/png": "[encoded data removed]",
      "text/plain": [
       "<Figure size 432x288 with 1 Axes>"
      ]
     },
     "metadata": {
      "needs_background": "light"
     },
     "output_type": "display_data"
    }
   ],
   "source": [
    "feat_importances = pd.Series(rf_model.feature_importances_, index=X_train.columns)\n",
    "feat_importances.nlargest(top_n_features).plot(kind='barh')\n",
    "plt.show()"
   ]
  },
  {
   "cell_type": "code",
   "execution_count": 72,
   "metadata": {
    "scrolled": true
   },
   "outputs": [],
   "source": [
    "top_feats = list(feat_importances.nlargest(top_n_features).index)\n",
    "df2 = df[top_feats]"
   ]
  },
  {
   "cell_type": "markdown",
   "metadata": {},
   "source": [
    "### Top N Features"
   ]
  },
  {
   "cell_type": "code",
   "execution_count": 73,
   "metadata": {},
   "outputs": [
    {
     "name": "stdout",
     "output_type": "stream",
     "text": [
      "RandomForest accuracy :  0.7933723196881092\n"
     ]
    }
   ],
   "source": [
    "# Train and Test samples\n",
    "X_train, X_test, y_train, y_test = train_test_split(df2, target, test_size = 0.30)\n",
    "\n",
    "rf_model = RandomForestClassifier(n_estimators=20, max_depth=2, random_state=0)\n",
    "\n",
    "rf_model.fit(X_train, y_train)\n",
    "\n",
    "print(\"RandomForest accuracy : \",accuracy_score(y_test, rf_model.predict(X_test), normalize = True))"
   ]
  },
  {
   "cell_type": "markdown",
   "metadata": {},
   "source": [
    "## Support Vector Machine Classifier"
   ]
  },
  {
   "cell_type": "code",
   "execution_count": 134,
   "metadata": {},
   "outputs": [
    {
     "name": "stdout",
     "output_type": "stream",
     "text": [
      "LinearSVC accuracy :  0.5120207927225471\n"
     ]
    }
   ],
   "source": [
    "# Train and Test samples\n",
    "X_train, X_test, y_train, y_test = train_test_split(df, target, test_size = 0.30)\n",
    "\n",
    "svm_model = SVC(random_state=0, gamma='auto')\n",
    "\n",
    "svm_model.fit(X_train, y_train)\n",
    "\n",
    "print(\"LinearSVC accuracy : \",accuracy_score(y_test, svm_model.predict(X_test), normalize = True))"
   ]
  },
  {
   "cell_type": "markdown",
   "metadata": {},
   "source": [
    "## XGBoost"
   ]
  },
  {
   "cell_type": "markdown",
   "metadata": {},
   "source": [
    "### All Features"
   ]
  },
  {
   "cell_type": "code",
   "execution_count": 124,
   "metadata": {},
   "outputs": [
    {
     "name": "stdout",
     "output_type": "stream",
     "text": [
      "XGBoost accuracy :  0.8083170890188434\n"
     ]
    }
   ],
   "source": [
    "# Train and Test samples\n",
    "X_train, X_test, y_train, y_test = train_test_split(df, target, test_size = 0.30)\n",
    "\n",
    "boost_model = XGBClassifier()\n",
    "\n",
    "boost_model.fit(X_train, y_train)\n",
    "\n",
    "print(\"XGBoost accuracy : \",accuracy_score(y_test, boost_model.predict(X_test), normalize = True))"
   ]
  },
  {
   "cell_type": "markdown",
   "metadata": {},
   "source": [
    "### Features Selection"
   ]
  },
  {
   "cell_type": "code",
   "execution_count": 125,
   "metadata": {},
   "outputs": [],
   "source": [
    "top_n_features = 10"
   ]
  },
  {
   "cell_type": "code",
   "execution_count": 126,
   "metadata": {
    "scrolled": true
   },
   "outputs": [
    {
     "data": {
      "image/png": "[encoded data removed]",
      "text/plain": [
       "<Figure size 432x288 with 1 Axes>"
      ]
     },
     "metadata": {
      "needs_background": "light"
     },
     "output_type": "display_data"
    }
   ],
   "source": [
    "feat_importances = pd.Series(boost_model.feature_importances_, index=X_train.columns)\n",
    "feat_importances.nlargest(top_n_features).plot(kind='barh')\n",
    "plt.show()"
   ]
  },
  {
   "cell_type": "code",
   "execution_count": 127,
   "metadata": {
    "scrolled": true
   },
   "outputs": [],
   "source": [
    "top_feats = list(feat_importances.nlargest(top_n_features).index)\n",
    "df2 = df[top_feats]"
   ]
  },
  {
   "cell_type": "markdown",
   "metadata": {},
   "source": [
    "### Top N Features"
   ]
  },
  {
   "cell_type": "code",
   "execution_count": 130,
   "metadata": {},
   "outputs": [
    {
     "name": "stdout",
     "output_type": "stream",
     "text": [
      "XGBoost accuracy :  0.8011695906432749\n"
     ]
    }
   ],
   "source": [
    "# Train and Test samples\n",
    "X_train, X_test, y_train, y_test = train_test_split(df2, target, test_size = 0.30)\n",
    "\n",
    "boost_model = XGBClassifier()\n",
    "\n",
    "boost_model.fit(X_train, y_train)\n",
    "\n",
    "print(\"XGBoost accuracy : \",accuracy_score(y_test, boost_model.predict(X_test), normalize = True))"
   ]
  }
 ],
 "metadata": {
  "kernelspec": {
   "display_name": "Python 3",
   "language": "python",
   "name": "python3"
  },
  "language_info": {
   "codemirror_mode": {
    "name": "ipython",
    "version": 3
   },
   "file_extension": ".py",
   "mimetype": "text/x-python",
   "name": "python",
   "nbconvert_exporter": "python",
   "pygments_lexer": "ipython3",
   "version": "3.7.4"
  }
 },
 "nbformat": 4,
 "nbformat_minor": 2
}
