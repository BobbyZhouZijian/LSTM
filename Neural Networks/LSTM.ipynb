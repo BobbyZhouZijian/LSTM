{
 "cells": [
  {
   "cell_type": "code",
   "execution_count": 2,
   "metadata": {},
   "outputs": [
    {
     "name": "stderr",
     "output_type": "stream",
     "text": [
      "Using TensorFlow backend.\n"
     ]
    }
   ],
   "source": [
    "import numpy as np\n",
    "import pandas as pd\n",
    "import math\n",
    "import matplotlib.pyplot as plt\n",
    "import os\n",
    "from sklearn.preprocessing import MinMaxScaler, LabelEncoder\n",
    "from sklearn.metrics import mean_squared_error\n",
    "from keras.layers import Dense, LSTM, BatchNormalization\n",
    "from keras.models import Sequential, load_model"
   ]
  },
  {
   "cell_type": "code",
   "execution_count": 3,
   "metadata": {},
   "outputs": [],
   "source": [
    "df = pd.read_parquet('../Dataframes/df.parquet.gzip')"
   ]
  },
  {
   "cell_type": "code",
   "execution_count": 4,
   "metadata": {},
   "outputs": [
    {
     "data": {
      "text/html": [
       "<div>\n",
       "<style scoped>\n",
       "    .dataframe tbody tr th:only-of-type {\n",
       "        vertical-align: middle;\n",
       "    }\n",
       "\n",
       "    .dataframe tbody tr th {\n",
       "        vertical-align: top;\n",
       "    }\n",
       "\n",
       "    .dataframe thead th {\n",
       "        text-align: right;\n",
       "    }\n",
       "</style>\n",
       "<table border=\"1\" class=\"dataframe\">\n",
       "  <thead>\n",
       "    <tr style=\"text-align: right;\">\n",
       "      <th></th>\n",
       "      <th>date</th>\n",
       "      <th>open</th>\n",
       "      <th>high</th>\n",
       "      <th>low</th>\n",
       "      <th>close</th>\n",
       "      <th>wclose</th>\n",
       "      <th>delta</th>\n",
       "      <th>so_3</th>\n",
       "      <th>so_4</th>\n",
       "      <th>so_5</th>\n",
       "      <th>...</th>\n",
       "      <th>hi_avg_2</th>\n",
       "      <th>lo_avg_2</th>\n",
       "      <th>hilo_avg_2</th>\n",
       "      <th>hilo_avg</th>\n",
       "      <th>slope_3</th>\n",
       "      <th>slope_4</th>\n",
       "      <th>slope_5</th>\n",
       "      <th>slope_10</th>\n",
       "      <th>slope_20</th>\n",
       "      <th>slope_30</th>\n",
       "    </tr>\n",
       "  </thead>\n",
       "  <tbody>\n",
       "    <tr>\n",
       "      <th>50</th>\n",
       "      <td>13/3/2000</td>\n",
       "      <td>1.5773</td>\n",
       "      <td>1.5829</td>\n",
       "      <td>1.5761</td>\n",
       "      <td>1.5786</td>\n",
       "      <td>1.579050</td>\n",
       "      <td>0.0</td>\n",
       "      <td>34.042553</td>\n",
       "      <td>29.078014</td>\n",
       "      <td>47.368421</td>\n",
       "      <td>...</td>\n",
       "      <td>1.58335</td>\n",
       "      <td>1.57575</td>\n",
       "      <td>1.579550</td>\n",
       "      <td>1.57950</td>\n",
       "      <td>-1051.660517</td>\n",
       "      <td>-480.169784</td>\n",
       "      <td>-124.552390</td>\n",
       "      <td>-374.380286</td>\n",
       "      <td>-405.042029</td>\n",
       "      <td>-553.768912</td>\n",
       "    </tr>\n",
       "    <tr>\n",
       "      <th>51</th>\n",
       "      <td>14/3/2000</td>\n",
       "      <td>1.5786</td>\n",
       "      <td>1.5795</td>\n",
       "      <td>1.5682</td>\n",
       "      <td>1.5787</td>\n",
       "      <td>1.576275</td>\n",
       "      <td>0.0</td>\n",
       "      <td>67.307692</td>\n",
       "      <td>63.253012</td>\n",
       "      <td>51.470588</td>\n",
       "      <td>...</td>\n",
       "      <td>1.58120</td>\n",
       "      <td>1.57215</td>\n",
       "      <td>1.576675</td>\n",
       "      <td>1.57385</td>\n",
       "      <td>-418.016850</td>\n",
       "      <td>-528.634361</td>\n",
       "      <td>-464.546547</td>\n",
       "      <td>-528.940484</td>\n",
       "      <td>-418.450089</td>\n",
       "      <td>-548.468327</td>\n",
       "    </tr>\n",
       "    <tr>\n",
       "      <th>52</th>\n",
       "      <td>15/3/2000</td>\n",
       "      <td>1.5787</td>\n",
       "      <td>1.5787</td>\n",
       "      <td>1.5699</td>\n",
       "      <td>1.5733</td>\n",
       "      <td>1.573800</td>\n",
       "      <td>0.0</td>\n",
       "      <td>34.693878</td>\n",
       "      <td>32.692308</td>\n",
       "      <td>30.722892</td>\n",
       "      <td>...</td>\n",
       "      <td>1.57910</td>\n",
       "      <td>1.56905</td>\n",
       "      <td>1.574075</td>\n",
       "      <td>1.57430</td>\n",
       "      <td>-422.252011</td>\n",
       "      <td>-497.671324</td>\n",
       "      <td>-568.730181</td>\n",
       "      <td>-608.062000</td>\n",
       "      <td>-416.686639</td>\n",
       "      <td>-543.624365</td>\n",
       "    </tr>\n",
       "    <tr>\n",
       "      <th>53</th>\n",
       "      <td>16/3/2000</td>\n",
       "      <td>1.5733</td>\n",
       "      <td>1.5775</td>\n",
       "      <td>1.5692</td>\n",
       "      <td>1.5765</td>\n",
       "      <td>1.574925</td>\n",
       "      <td>0.0</td>\n",
       "      <td>73.451327</td>\n",
       "      <td>56.462585</td>\n",
       "      <td>53.205128</td>\n",
       "      <td>...</td>\n",
       "      <td>1.57810</td>\n",
       "      <td>1.56955</td>\n",
       "      <td>1.573825</td>\n",
       "      <td>1.57335</td>\n",
       "      <td>-986.842105</td>\n",
       "      <td>-527.622595</td>\n",
       "      <td>-562.098501</td>\n",
       "      <td>-598.903980</td>\n",
       "      <td>-423.601117</td>\n",
       "      <td>-539.882002</td>\n",
       "    </tr>\n",
       "    <tr>\n",
       "      <th>54</th>\n",
       "      <td>17/3/2000</td>\n",
       "      <td>1.5765</td>\n",
       "      <td>1.5766</td>\n",
       "      <td>1.5702</td>\n",
       "      <td>1.5753</td>\n",
       "      <td>1.574350</td>\n",
       "      <td>0.0</td>\n",
       "      <td>64.210526</td>\n",
       "      <td>62.831858</td>\n",
       "      <td>48.299320</td>\n",
       "      <td>...</td>\n",
       "      <td>1.57705</td>\n",
       "      <td>1.56970</td>\n",
       "      <td>1.573375</td>\n",
       "      <td>1.57340</td>\n",
       "      <td>-945.945946</td>\n",
       "      <td>-1004.566210</td>\n",
       "      <td>-619.904891</td>\n",
       "      <td>-605.513402</td>\n",
       "      <td>-425.768716</td>\n",
       "      <td>-543.211462</td>\n",
       "    </tr>\n",
       "  </tbody>\n",
       "</table>\n",
       "<p>5 rows × 35 columns</p>\n",
       "</div>"
      ],
      "text/plain": [
       "         date    open    high     low   close    wclose  delta       so_3  \\\n",
       "50  13/3/2000  1.5773  1.5829  1.5761  1.5786  1.579050    0.0  34.042553   \n",
       "51  14/3/2000  1.5786  1.5795  1.5682  1.5787  1.576275    0.0  67.307692   \n",
       "52  15/3/2000  1.5787  1.5787  1.5699  1.5733  1.573800    0.0  34.693878   \n",
       "53  16/3/2000  1.5733  1.5775  1.5692  1.5765  1.574925    0.0  73.451327   \n",
       "54  17/3/2000  1.5765  1.5766  1.5702  1.5753  1.574350    0.0  64.210526   \n",
       "\n",
       "         so_4       so_5  ...  hi_avg_2  lo_avg_2  hilo_avg_2  hilo_avg  \\\n",
       "50  29.078014  47.368421  ...   1.58335   1.57575    1.579550   1.57950   \n",
       "51  63.253012  51.470588  ...   1.58120   1.57215    1.576675   1.57385   \n",
       "52  32.692308  30.722892  ...   1.57910   1.56905    1.574075   1.57430   \n",
       "53  56.462585  53.205128  ...   1.57810   1.56955    1.573825   1.57335   \n",
       "54  62.831858  48.299320  ...   1.57705   1.56970    1.573375   1.57340   \n",
       "\n",
       "        slope_3      slope_4     slope_5    slope_10    slope_20    slope_30  \n",
       "50 -1051.660517  -480.169784 -124.552390 -374.380286 -405.042029 -553.768912  \n",
       "51  -418.016850  -528.634361 -464.546547 -528.940484 -418.450089 -548.468327  \n",
       "52  -422.252011  -497.671324 -568.730181 -608.062000 -416.686639 -543.624365  \n",
       "53  -986.842105  -527.622595 -562.098501 -598.903980 -423.601117 -539.882002  \n",
       "54  -945.945946 -1004.566210 -619.904891 -605.513402 -425.768716 -543.211462  \n",
       "\n",
       "[5 rows x 35 columns]"
      ]
     },
     "execution_count": 4,
     "metadata": {},
     "output_type": "execute_result"
    }
   ],
   "source": [
    "df.head()"
   ]
  },
  {
   "cell_type": "code",
   "execution_count": 5,
   "metadata": {},
   "outputs": [],
   "source": [
    "# swap high price and opening price\n",
    "\n",
    "# now the second column is now daily high price\n",
    "\n",
    "def swap_columns(df, c1, c2):\n",
    "    df['temp'] = df[c1]\n",
    "    df[c1] = df[c2]\n",
    "    df[c2] = df['temp']\n",
    "    df.drop(columns=['temp'], inplace=True)\n",
    "    df.rename(columns={c1: c2, c2: c1}, inplace=True)\n",
    "    \n",
    "swap_columns(df, 'open', 'high')"
   ]
  },
  {
   "cell_type": "code",
   "execution_count": 6,
   "metadata": {},
   "outputs": [
    {
     "data": {
      "text/html": [
       "<div>\n",
       "<style scoped>\n",
       "    .dataframe tbody tr th:only-of-type {\n",
       "        vertical-align: middle;\n",
       "    }\n",
       "\n",
       "    .dataframe tbody tr th {\n",
       "        vertical-align: top;\n",
       "    }\n",
       "\n",
       "    .dataframe thead th {\n",
       "        text-align: right;\n",
       "    }\n",
       "</style>\n",
       "<table border=\"1\" class=\"dataframe\">\n",
       "  <thead>\n",
       "    <tr style=\"text-align: right;\">\n",
       "      <th></th>\n",
       "      <th>date</th>\n",
       "      <th>high</th>\n",
       "      <th>open</th>\n",
       "      <th>low</th>\n",
       "      <th>close</th>\n",
       "      <th>wclose</th>\n",
       "      <th>delta</th>\n",
       "      <th>so_3</th>\n",
       "      <th>so_4</th>\n",
       "      <th>so_5</th>\n",
       "      <th>...</th>\n",
       "      <th>hi_avg_2</th>\n",
       "      <th>lo_avg_2</th>\n",
       "      <th>hilo_avg_2</th>\n",
       "      <th>hilo_avg</th>\n",
       "      <th>slope_3</th>\n",
       "      <th>slope_4</th>\n",
       "      <th>slope_5</th>\n",
       "      <th>slope_10</th>\n",
       "      <th>slope_20</th>\n",
       "      <th>slope_30</th>\n",
       "    </tr>\n",
       "  </thead>\n",
       "  <tbody>\n",
       "    <tr>\n",
       "      <th>50</th>\n",
       "      <td>13/3/2000</td>\n",
       "      <td>1.5829</td>\n",
       "      <td>1.5773</td>\n",
       "      <td>1.5761</td>\n",
       "      <td>1.5786</td>\n",
       "      <td>1.579050</td>\n",
       "      <td>0.0</td>\n",
       "      <td>34.042553</td>\n",
       "      <td>29.078014</td>\n",
       "      <td>47.368421</td>\n",
       "      <td>...</td>\n",
       "      <td>1.58335</td>\n",
       "      <td>1.57575</td>\n",
       "      <td>1.579550</td>\n",
       "      <td>1.57950</td>\n",
       "      <td>-1051.660517</td>\n",
       "      <td>-480.169784</td>\n",
       "      <td>-124.552390</td>\n",
       "      <td>-374.380286</td>\n",
       "      <td>-405.042029</td>\n",
       "      <td>-553.768912</td>\n",
       "    </tr>\n",
       "    <tr>\n",
       "      <th>51</th>\n",
       "      <td>14/3/2000</td>\n",
       "      <td>1.5795</td>\n",
       "      <td>1.5786</td>\n",
       "      <td>1.5682</td>\n",
       "      <td>1.5787</td>\n",
       "      <td>1.576275</td>\n",
       "      <td>0.0</td>\n",
       "      <td>67.307692</td>\n",
       "      <td>63.253012</td>\n",
       "      <td>51.470588</td>\n",
       "      <td>...</td>\n",
       "      <td>1.58120</td>\n",
       "      <td>1.57215</td>\n",
       "      <td>1.576675</td>\n",
       "      <td>1.57385</td>\n",
       "      <td>-418.016850</td>\n",
       "      <td>-528.634361</td>\n",
       "      <td>-464.546547</td>\n",
       "      <td>-528.940484</td>\n",
       "      <td>-418.450089</td>\n",
       "      <td>-548.468327</td>\n",
       "    </tr>\n",
       "    <tr>\n",
       "      <th>52</th>\n",
       "      <td>15/3/2000</td>\n",
       "      <td>1.5787</td>\n",
       "      <td>1.5787</td>\n",
       "      <td>1.5699</td>\n",
       "      <td>1.5733</td>\n",
       "      <td>1.573800</td>\n",
       "      <td>0.0</td>\n",
       "      <td>34.693878</td>\n",
       "      <td>32.692308</td>\n",
       "      <td>30.722892</td>\n",
       "      <td>...</td>\n",
       "      <td>1.57910</td>\n",
       "      <td>1.56905</td>\n",
       "      <td>1.574075</td>\n",
       "      <td>1.57430</td>\n",
       "      <td>-422.252011</td>\n",
       "      <td>-497.671324</td>\n",
       "      <td>-568.730181</td>\n",
       "      <td>-608.062000</td>\n",
       "      <td>-416.686639</td>\n",
       "      <td>-543.624365</td>\n",
       "    </tr>\n",
       "    <tr>\n",
       "      <th>53</th>\n",
       "      <td>16/3/2000</td>\n",
       "      <td>1.5775</td>\n",
       "      <td>1.5733</td>\n",
       "      <td>1.5692</td>\n",
       "      <td>1.5765</td>\n",
       "      <td>1.574925</td>\n",
       "      <td>0.0</td>\n",
       "      <td>73.451327</td>\n",
       "      <td>56.462585</td>\n",
       "      <td>53.205128</td>\n",
       "      <td>...</td>\n",
       "      <td>1.57810</td>\n",
       "      <td>1.56955</td>\n",
       "      <td>1.573825</td>\n",
       "      <td>1.57335</td>\n",
       "      <td>-986.842105</td>\n",
       "      <td>-527.622595</td>\n",
       "      <td>-562.098501</td>\n",
       "      <td>-598.903980</td>\n",
       "      <td>-423.601117</td>\n",
       "      <td>-539.882002</td>\n",
       "    </tr>\n",
       "    <tr>\n",
       "      <th>54</th>\n",
       "      <td>17/3/2000</td>\n",
       "      <td>1.5766</td>\n",
       "      <td>1.5765</td>\n",
       "      <td>1.5702</td>\n",
       "      <td>1.5753</td>\n",
       "      <td>1.574350</td>\n",
       "      <td>0.0</td>\n",
       "      <td>64.210526</td>\n",
       "      <td>62.831858</td>\n",
       "      <td>48.299320</td>\n",
       "      <td>...</td>\n",
       "      <td>1.57705</td>\n",
       "      <td>1.56970</td>\n",
       "      <td>1.573375</td>\n",
       "      <td>1.57340</td>\n",
       "      <td>-945.945946</td>\n",
       "      <td>-1004.566210</td>\n",
       "      <td>-619.904891</td>\n",
       "      <td>-605.513402</td>\n",
       "      <td>-425.768716</td>\n",
       "      <td>-543.211462</td>\n",
       "    </tr>\n",
       "  </tbody>\n",
       "</table>\n",
       "<p>5 rows × 35 columns</p>\n",
       "</div>"
      ],
      "text/plain": [
       "         date    high    open     low   close    wclose  delta       so_3  \\\n",
       "50  13/3/2000  1.5829  1.5773  1.5761  1.5786  1.579050    0.0  34.042553   \n",
       "51  14/3/2000  1.5795  1.5786  1.5682  1.5787  1.576275    0.0  67.307692   \n",
       "52  15/3/2000  1.5787  1.5787  1.5699  1.5733  1.573800    0.0  34.693878   \n",
       "53  16/3/2000  1.5775  1.5733  1.5692  1.5765  1.574925    0.0  73.451327   \n",
       "54  17/3/2000  1.5766  1.5765  1.5702  1.5753  1.574350    0.0  64.210526   \n",
       "\n",
       "         so_4       so_5  ...  hi_avg_2  lo_avg_2  hilo_avg_2  hilo_avg  \\\n",
       "50  29.078014  47.368421  ...   1.58335   1.57575    1.579550   1.57950   \n",
       "51  63.253012  51.470588  ...   1.58120   1.57215    1.576675   1.57385   \n",
       "52  32.692308  30.722892  ...   1.57910   1.56905    1.574075   1.57430   \n",
       "53  56.462585  53.205128  ...   1.57810   1.56955    1.573825   1.57335   \n",
       "54  62.831858  48.299320  ...   1.57705   1.56970    1.573375   1.57340   \n",
       "\n",
       "        slope_3      slope_4     slope_5    slope_10    slope_20    slope_30  \n",
       "50 -1051.660517  -480.169784 -124.552390 -374.380286 -405.042029 -553.768912  \n",
       "51  -418.016850  -528.634361 -464.546547 -528.940484 -418.450089 -548.468327  \n",
       "52  -422.252011  -497.671324 -568.730181 -608.062000 -416.686639 -543.624365  \n",
       "53  -986.842105  -527.622595 -562.098501 -598.903980 -423.601117 -539.882002  \n",
       "54  -945.945946 -1004.566210 -619.904891 -605.513402 -425.768716 -543.211462  \n",
       "\n",
       "[5 rows x 35 columns]"
      ]
     },
     "execution_count": 6,
     "metadata": {},
     "output_type": "execute_result"
    }
   ],
   "source": [
    "df.head()"
   ]
  },
  {
   "cell_type": "markdown",
   "metadata": {},
   "source": [
    "### Change the normalization to be (0, 1)"
   ]
  },
  {
   "cell_type": "code",
   "execution_count": 7,
   "metadata": {},
   "outputs": [],
   "source": [
    "data = df\n",
    "\n",
    "# constants\n",
    "lookback = 50\n",
    "batch_size = 512\n",
    "epoch = 10\n",
    "\n",
    "# 30% of the data used for testing\n",
    "test_size = int(.3 * len(data))\n",
    "\n",
    "\n",
    "# feed the lstm with all features starting from the open price\n",
    "# still contains the high\n",
    "input_features = data.iloc[:, 1:].values\n",
    "input_data = input_features\n",
    "\n",
    "# train a numpy array of input vectors\n",
    "sc = MinMaxScaler(feature_range = (0, 1))\n",
    "\n",
    "input_data[:,:] = sc.fit_transform(input_features[:,:])"
   ]
  },
  {
   "cell_type": "code",
   "execution_count": 8,
   "metadata": {},
   "outputs": [
    {
     "data": {
      "text/plain": [
       "array([[0.41251653, 0.41280745, 0.42930676, ..., 0.46913067, 0.36107467,\n",
       "        0.21184698],\n",
       "       [0.40877038, 0.41424773, 0.42065491, ..., 0.41475371, 0.35501519,\n",
       "        0.21448553],\n",
       "       [0.40788894, 0.41435852, 0.4225167 , ..., 0.38691739, 0.35581214,\n",
       "        0.21689679],\n",
       "       ...,\n",
       "       [0.08946673, 0.09273211, 0.10984558, ..., 0.66828302, 0.65686441,\n",
       "        0.62213368],\n",
       "       [0.08737329, 0.08951917, 0.10447925, ..., 0.65676381, 0.65939083,\n",
       "        0.62156358],\n",
       "       [       nan,        nan,        nan, ...,        nan,        nan,\n",
       "               nan]])"
      ]
     },
     "execution_count": 8,
     "metadata": {},
     "output_type": "execute_result"
    }
   ],
   "source": [
    "input_features"
   ]
  },
  {
   "cell_type": "code",
   "execution_count": 9,
   "metadata": {},
   "outputs": [
    {
     "data": {
      "text/plain": [
       "(5130, 34)"
      ]
     },
     "execution_count": 9,
     "metadata": {},
     "output_type": "execute_result"
    }
   ],
   "source": [
    "input_data.shape"
   ]
  },
  {
   "cell_type": "code",
   "execution_count": 10,
   "metadata": {},
   "outputs": [
    {
     "data": {
      "text/plain": [
       "33"
      ]
     },
     "execution_count": 10,
     "metadata": {},
     "output_type": "execute_result"
    }
   ],
   "source": [
    "# number of features excluding the target feature\n",
    "feature_size = input_data.shape[1] - 1\n",
    "feature_size"
   ]
  },
  {
   "cell_type": "code",
   "execution_count": 11,
   "metadata": {},
   "outputs": [
    {
     "data": {
      "text/plain": [
       "array([[0.41251653, 0.41280745, 0.42930676, ..., 0.46913067, 0.36107467,\n",
       "        0.21184698],\n",
       "       [0.40877038, 0.41424773, 0.42065491, ..., 0.41475371, 0.35501519,\n",
       "        0.21448553],\n",
       "       [0.40788894, 0.41435852, 0.4225167 , ..., 0.38691739, 0.35581214,\n",
       "        0.21689679],\n",
       "       ...,\n",
       "       [0.08946673, 0.09273211, 0.10984558, ..., 0.66828302, 0.65686441,\n",
       "        0.62213368],\n",
       "       [0.08737329, 0.08951917, 0.10447925, ..., 0.65676381, 0.65939083,\n",
       "        0.62156358],\n",
       "       [       nan,        nan,        nan, ...,        nan,        nan,\n",
       "               nan]])"
      ]
     },
     "execution_count": 11,
     "metadata": {},
     "output_type": "execute_result"
    }
   ],
   "source": [
    "input_data"
   ]
  },
  {
   "cell_type": "code",
   "execution_count": 12,
   "metadata": {},
   "outputs": [],
   "source": [
    "'''\n",
    "package data into packs of 50 each, starting from the oldest data\n",
    "up to len(data) - test_size - lookback - 1\n",
    "\n",
    "X is excluded from the daily high price: the target value\n",
    "\n",
    "and convert X and y to numpy array\n",
    "'''\n",
    "X = []\n",
    "y = []\n",
    "for i in range(len(data) - test_size - lookback):\n",
    "    t = []\n",
    "    for j in range(lookback):\n",
    "        t.append(input_data[[(i + j)], 1:])\n",
    "    X.append(t)\n",
    "    y.append(input_data[i + lookback, 0])\n",
    "\n",
    "X, y = np.array(X), np.array(y)"
   ]
  },
  {
   "cell_type": "code",
   "execution_count": 13,
   "metadata": {},
   "outputs": [
    {
     "data": {
      "text/plain": [
       "(1952, 50, 33)"
      ]
     },
     "execution_count": 13,
     "metadata": {},
     "output_type": "execute_result"
    }
   ],
   "source": [
    "# test data taken from the latest (size - (test_size + lookback)) data points\n",
    "X_test = X[-(test_size+lookback):]\n",
    "\n",
    "# cut the test data out\n",
    "X = X[:-(test_size + lookback)]\n",
    "y = y[:-(test_size + lookback)]\n",
    "\n",
    "# reshape\n",
    "X = X.reshape(X.shape[0], lookback, feature_size)\n",
    "X_test = X_test.reshape(X_test.shape[0],lookback, feature_size)\n",
    "X.shape"
   ]
  },
  {
   "cell_type": "code",
   "execution_count": 14,
   "metadata": {},
   "outputs": [
    {
     "name": "stdout",
     "output_type": "stream",
     "text": [
      "Model: \"sequential_1\"\n",
      "_________________________________________________________________\n",
      "Layer (type)                 Output Shape              Param #   \n",
      "=================================================================\n",
      "lstm_1 (LSTM)                (None, 50, 30)            7680      \n",
      "_________________________________________________________________\n",
      "lstm_2 (LSTM)                (None, 50, 30)            7320      \n",
      "_________________________________________________________________\n",
      "lstm_3 (LSTM)                (None, 30)                7320      \n",
      "_________________________________________________________________\n",
      "dense_1 (Dense)              (None, 1)                 31        \n",
      "=================================================================\n",
      "Total params: 22,351\n",
      "Trainable params: 22,351\n",
      "Non-trainable params: 0\n",
      "_________________________________________________________________\n",
      "Epoch 1/5\n",
      "1952/1952 [==============================] - 4s 2ms/step - loss: 0.0200\n",
      "Epoch 2/5\n",
      "1952/1952 [==============================] - 3s 1ms/step - loss: 6.6496e-04\n",
      "Epoch 3/5\n",
      "1952/1952 [==============================] - 3s 1ms/step - loss: 5.5843e-04\n",
      "Epoch 4/5\n",
      "1952/1952 [==============================] - 3s 1ms/step - loss: 4.6854e-04\n",
      "Epoch 5/5\n",
      "1952/1952 [==============================] - 3s 1ms/step - loss: 3.8866e-04\n"
     ]
    }
   ],
   "source": [
    "file = \"./Models/\" + \"Model\" + \".model\"\n",
    "model = None\n",
    "if os.path.exists(file):\n",
    "    model = load_model(file)\n",
    "else:\n",
    "    model = Sequential()\n",
    "    model.add(LSTM(units=30, return_sequences= True, input_shape=(X.shape[1],feature_size)))\n",
    "    model.add(LSTM(units=30, return_sequences=True))\n",
    "    model.add(LSTM(units=30))\n",
    "    model.add(Dense(units=1))\n",
    "    model.summary()\n",
    "    model.compile(optimizer='adam', loss='mean_squared_error')\n",
    "    model.fit(X, y, epochs=5, batch_size=32)\n",
    "    # model.save(file)"
   ]
  },
  {
   "cell_type": "code",
   "execution_count": 15,
   "metadata": {},
   "outputs": [],
   "source": [
    "# put the predicted target value inside input_data\n",
    "\n",
    "# inverse tranform the predicted data\n",
    "\n",
    "predicted_value = model.predict(X_test)\n",
    "li = input_data.shape[0]\n",
    "lp = predicted_value.shape[0]\n",
    "for i in range(li - lp, li - 1):\n",
    "    input_data[i + 1][0] = predicted_value[i - (li - lp)][0]\n",
    "\n",
    "input_data = sc.inverse_transform(input_data)\n",
    "\n",
    "input_data = input_data[-(test_size+lookback) + 1:,0]"
   ]
  },
  {
   "cell_type": "code",
   "execution_count": 16,
   "metadata": {},
   "outputs": [
    {
     "data": {
      "text/plain": [
       "array([1.6122, 1.5979, 1.6002, ..., 1.2897, 1.2878,    nan])"
      ]
     },
     "execution_count": 16,
     "metadata": {},
     "output_type": "execute_result"
    }
   ],
   "source": [
    "actual_data = data.iloc[:, 1:].values[-(test_size+lookback) + 1:,0]\n",
    "actual_data"
   ]
  },
  {
   "cell_type": "code",
   "execution_count": 17,
   "metadata": {
    "scrolled": true
   },
   "outputs": [
    {
     "data": {
      "text/plain": [
       "<matplotlib.legend.Legend at 0x11b2abe50>"
      ]
     },
     "execution_count": 17,
     "metadata": {},
     "output_type": "execute_result"
    },
    {
     "data": {
      "image/png": "[encoded data removed]",
      "text/plain": [
       "<Figure size 1080x360 with 1 Axes>"
      ]
     },
     "metadata": {
      "needs_background": "light"
     },
     "output_type": "display_data"
    }
   ],
   "source": [
    "plt.figure(figsize=(15,5))\n",
    "plt.plot(input_data, color= 'red', label=\"predicted price\")\n",
    "plt.plot(actual_data, color='green', label=\"real price\")\n",
    "plt.title(\"Daily High price of the selected stock\")\n",
    "plt.xlabel(\"Time (day)\")\n",
    "plt.ylabel(\"Stock Daily High Price ($)\")\n",
    "\n",
    "plt.legend()"
   ]
  },
  {
   "cell_type": "code",
   "execution_count": 18,
   "metadata": {},
   "outputs": [],
   "source": [
    "# generate alphas\n",
    "frame = pd.DataFrame({'actual': actual_data, 'predict': input_data})"
   ]
  },
  {
   "cell_type": "code",
   "execution_count": 19,
   "metadata": {},
   "outputs": [],
   "source": [
    "frame['p1'] = frame['predict'].shift(1)\n",
    "frame['diff1'] = frame['predict'] - frame['p1']"
   ]
  },
  {
   "cell_type": "code",
   "execution_count": 20,
   "metadata": {},
   "outputs": [],
   "source": [
    "frame['alpha'] = frame['diff1'] / frame['actual'] * 20"
   ]
  },
  {
   "cell_type": "code",
   "execution_count": 21,
   "metadata": {},
   "outputs": [
    {
     "data": {
      "text/html": [
       "<div>\n",
       "<style scoped>\n",
       "    .dataframe tbody tr th:only-of-type {\n",
       "        vertical-align: middle;\n",
       "    }\n",
       "\n",
       "    .dataframe tbody tr th {\n",
       "        vertical-align: top;\n",
       "    }\n",
       "\n",
       "    .dataframe thead th {\n",
       "        text-align: right;\n",
       "    }\n",
       "</style>\n",
       "<table border=\"1\" class=\"dataframe\">\n",
       "  <thead>\n",
       "    <tr style=\"text-align: right;\">\n",
       "      <th></th>\n",
       "      <th>actual</th>\n",
       "      <th>predict</th>\n",
       "      <th>p1</th>\n",
       "      <th>diff1</th>\n",
       "      <th>alpha</th>\n",
       "      <th>wclose</th>\n",
       "      <th>pct_change</th>\n",
       "    </tr>\n",
       "  </thead>\n",
       "  <tbody>\n",
       "    <tr>\n",
       "      <th>0</th>\n",
       "      <td>1.6122</td>\n",
       "      <td>2.084160</td>\n",
       "      <td>NaN</td>\n",
       "      <td>NaN</td>\n",
       "      <td>NaN</td>\n",
       "      <td>1.598650</td>\n",
       "      <td>NaN</td>\n",
       "    </tr>\n",
       "    <tr>\n",
       "      <th>1</th>\n",
       "      <td>1.5979</td>\n",
       "      <td>2.079797</td>\n",
       "      <td>2.084160</td>\n",
       "      <td>-0.004363</td>\n",
       "      <td>-0.054603</td>\n",
       "      <td>1.595725</td>\n",
       "      <td>-0.001830</td>\n",
       "    </tr>\n",
       "    <tr>\n",
       "      <th>2</th>\n",
       "      <td>1.6002</td>\n",
       "      <td>2.072758</td>\n",
       "      <td>2.079797</td>\n",
       "      <td>-0.007040</td>\n",
       "      <td>-0.087985</td>\n",
       "      <td>1.595650</td>\n",
       "      <td>-0.000047</td>\n",
       "    </tr>\n",
       "    <tr>\n",
       "      <th>3</th>\n",
       "      <td>1.6018</td>\n",
       "      <td>2.065602</td>\n",
       "      <td>2.072758</td>\n",
       "      <td>-0.007156</td>\n",
       "      <td>-0.089352</td>\n",
       "      <td>1.598275</td>\n",
       "      <td>0.001645</td>\n",
       "    </tr>\n",
       "    <tr>\n",
       "      <th>4</th>\n",
       "      <td>1.6009</td>\n",
       "      <td>2.060176</td>\n",
       "      <td>2.065602</td>\n",
       "      <td>-0.005426</td>\n",
       "      <td>-0.067786</td>\n",
       "      <td>1.598000</td>\n",
       "      <td>-0.000172</td>\n",
       "    </tr>\n",
       "    <tr>\n",
       "      <th>...</th>\n",
       "      <td>...</td>\n",
       "      <td>...</td>\n",
       "      <td>...</td>\n",
       "      <td>...</td>\n",
       "      <td>...</td>\n",
       "      <td>...</td>\n",
       "      <td>...</td>\n",
       "    </tr>\n",
       "    <tr>\n",
       "      <th>1583</th>\n",
       "      <td>1.2946</td>\n",
       "      <td>1.660569</td>\n",
       "      <td>1.660812</td>\n",
       "      <td>-0.000242</td>\n",
       "      <td>-0.003743</td>\n",
       "      <td>1.289750</td>\n",
       "      <td>-0.003631</td>\n",
       "    </tr>\n",
       "    <tr>\n",
       "      <th>1584</th>\n",
       "      <td>1.2917</td>\n",
       "      <td>1.662717</td>\n",
       "      <td>1.660569</td>\n",
       "      <td>0.002147</td>\n",
       "      <td>0.033249</td>\n",
       "      <td>1.288600</td>\n",
       "      <td>-0.000892</td>\n",
       "    </tr>\n",
       "    <tr>\n",
       "      <th>1585</th>\n",
       "      <td>1.2897</td>\n",
       "      <td>1.665944</td>\n",
       "      <td>1.662717</td>\n",
       "      <td>0.003227</td>\n",
       "      <td>0.050044</td>\n",
       "      <td>1.286275</td>\n",
       "      <td>-0.001804</td>\n",
       "    </tr>\n",
       "    <tr>\n",
       "      <th>1586</th>\n",
       "      <td>1.2878</td>\n",
       "      <td>1.667017</td>\n",
       "      <td>1.665944</td>\n",
       "      <td>0.001073</td>\n",
       "      <td>0.016670</td>\n",
       "      <td>1.282625</td>\n",
       "      <td>-0.002838</td>\n",
       "    </tr>\n",
       "    <tr>\n",
       "      <th>1587</th>\n",
       "      <td>NaN</td>\n",
       "      <td>1.665912</td>\n",
       "      <td>1.667017</td>\n",
       "      <td>-0.001105</td>\n",
       "      <td>NaN</td>\n",
       "      <td>NaN</td>\n",
       "      <td>0.000000</td>\n",
       "    </tr>\n",
       "  </tbody>\n",
       "</table>\n",
       "<p>1588 rows × 7 columns</p>\n",
       "</div>"
      ],
      "text/plain": [
       "      actual   predict        p1     diff1     alpha    wclose  pct_change\n",
       "0     1.6122  2.084160       NaN       NaN       NaN  1.598650         NaN\n",
       "1     1.5979  2.079797  2.084160 -0.004363 -0.054603  1.595725   -0.001830\n",
       "2     1.6002  2.072758  2.079797 -0.007040 -0.087985  1.595650   -0.000047\n",
       "3     1.6018  2.065602  2.072758 -0.007156 -0.089352  1.598275    0.001645\n",
       "4     1.6009  2.060176  2.065602 -0.005426 -0.067786  1.598000   -0.000172\n",
       "...      ...       ...       ...       ...       ...       ...         ...\n",
       "1583  1.2946  1.660569  1.660812 -0.000242 -0.003743  1.289750   -0.003631\n",
       "1584  1.2917  1.662717  1.660569  0.002147  0.033249  1.288600   -0.000892\n",
       "1585  1.2897  1.665944  1.662717  0.003227  0.050044  1.286275   -0.001804\n",
       "1586  1.2878  1.667017  1.665944  0.001073  0.016670  1.282625   -0.002838\n",
       "1587     NaN  1.665912  1.667017 -0.001105       NaN       NaN    0.000000\n",
       "\n",
       "[1588 rows x 7 columns]"
      ]
     },
     "execution_count": 21,
     "metadata": {},
     "output_type": "execute_result"
    }
   ],
   "source": [
    "frame['wclose'] = data['wclose'].values[-(test_size+lookback) + 1:]\n",
    "frame['pct_change'] = frame['wclose'].pct_change()\n",
    "frame.head(10)"
   ]
  },
  {
   "cell_type": "code",
   "execution_count": 22,
   "metadata": {},
   "outputs": [],
   "source": [
    "capital = 100000\n",
    "frame['capital_allocation'] = frame['alpha'] * capital\n",
    "frame['daily_pnl'] = frame['capital_allocation'] * frame['pct_change']"
   ]
  },
  {
   "cell_type": "code",
   "execution_count": 24,
   "metadata": {},
   "outputs": [
    {
     "data": {
      "image/png": "[encoded data removed]",
      "text/plain": [
       "<Figure size 432x288 with 1 Axes>"
      ]
     },
     "metadata": {
      "needs_background": "light"
     },
     "output_type": "display_data"
    }
   ],
   "source": [
    "plt.plot(frame['daily_pnl'].cumsum())\n",
    "plt.show()"
   ]
  },
  {
   "cell_type": "code",
   "execution_count": 25,
   "metadata": {},
   "outputs": [
    {
     "data": {
      "text/plain": [
       "0.28229691924911565"
      ]
     },
     "execution_count": 25,
     "metadata": {},
     "output_type": "execute_result"
    }
   ],
   "source": [
    "# calculate sharpe ratio\n",
    "\n",
    "sharpe = np.sqrt(252) * (frame['daily_pnl'].mean()) / (frame['daily_pnl'].std())\n",
    "sharpe"
   ]
  },
  {
   "cell_type": "code",
   "execution_count": 27,
   "metadata": {},
   "outputs": [
    {
     "data": {
      "text/plain": [
       "1.1050531914893618"
      ]
     },
     "execution_count": 27,
     "metadata": {},
     "output_type": "execute_result"
    }
   ],
   "source": [
    "# calculate win/loss ratio\n",
    "\n",
    "wins = 0\n",
    "losses = 0\n",
    "\n",
    "length = frame['daily_pnl'].count()\n",
    "\n",
    "for i in range(length):\n",
    "    if frame['daily_pnl'][i] > 0:\n",
    "        wins += 1\n",
    "    elif frame['daily_pnl'][i] < 0:\n",
    "        losses += 1\n",
    "\n",
    "wl = wins / losses\n",
    "wl"
   ]
  },
  {
   "cell_type": "code",
   "execution_count": null,
   "metadata": {},
   "outputs": [],
   "source": []
  }
 ],
 "metadata": {
  "kernelspec": {
   "display_name": "Python 3",
   "language": "python",
   "name": "python3"
  },
  "language_info": {
   "codemirror_mode": {
    "name": "ipython",
    "version": 3
   },
   "file_extension": ".py",
   "mimetype": "text/x-python",
   "name": "python",
   "nbconvert_exporter": "python",
   "pygments_lexer": "ipython3",
   "version": "3.7.7"
  }
 },
 "nbformat": 4,
 "nbformat_minor": 2
}
