{
 "cells": [
  {
   "cell_type": "code",
   "execution_count": 1,
   "metadata": {},
   "outputs": [
    {
     "name": "stderr",
     "output_type": "stream",
     "text": [
      "Using TensorFlow backend.\n"
     ]
    }
   ],
   "source": [
    "import numpy as np\n",
    "import pandas as pd\n",
    "import math\n",
    "import matplotlib.pyplot as plt\n",
    "import os\n",
    "from sklearn.preprocessing import MinMaxScaler, LabelEncoder\n",
    "from sklearn.metrics import mean_squared_error\n",
    "from keras.layers import Dense, LSTM, BatchNormalization\n",
    "from keras.models import Sequential, load_model"
   ]
  },
  {
   "cell_type": "code",
   "execution_count": 2,
   "metadata": {},
   "outputs": [],
   "source": [
    "df = pd.read_parquet('../Dataframes/df.parquet.gzip')"
   ]
  },
  {
   "cell_type": "code",
   "execution_count": 3,
   "metadata": {},
   "outputs": [
    {
     "data": {
      "text/html": [
       "<div>\n",
       "<style scoped>\n",
       "    .dataframe tbody tr th:only-of-type {\n",
       "        vertical-align: middle;\n",
       "    }\n",
       "\n",
       "    .dataframe tbody tr th {\n",
       "        vertical-align: top;\n",
       "    }\n",
       "\n",
       "    .dataframe thead th {\n",
       "        text-align: right;\n",
       "    }\n",
       "</style>\n",
       "<table border=\"1\" class=\"dataframe\">\n",
       "  <thead>\n",
       "    <tr style=\"text-align: right;\">\n",
       "      <th></th>\n",
       "      <th>date</th>\n",
       "      <th>open</th>\n",
       "      <th>high</th>\n",
       "      <th>low</th>\n",
       "      <th>close</th>\n",
       "      <th>delta</th>\n",
       "      <th>wclose</th>\n",
       "      <th>so_3</th>\n",
       "      <th>so_4</th>\n",
       "      <th>so_5</th>\n",
       "      <th>...</th>\n",
       "      <th>hi_avg_2</th>\n",
       "      <th>lo_avg_2</th>\n",
       "      <th>hilo_avg_2</th>\n",
       "      <th>hilo_avg</th>\n",
       "      <th>slope_3</th>\n",
       "      <th>slope_4</th>\n",
       "      <th>slope_5</th>\n",
       "      <th>slope_10</th>\n",
       "      <th>slope_20</th>\n",
       "      <th>slope_30</th>\n",
       "    </tr>\n",
       "  </thead>\n",
       "  <tbody>\n",
       "    <tr>\n",
       "      <th>29</th>\n",
       "      <td>11/2/2000</td>\n",
       "      <td>1.6087</td>\n",
       "      <td>1.6104</td>\n",
       "      <td>1.5879</td>\n",
       "      <td>1.5927</td>\n",
       "      <td>0.0</td>\n",
       "      <td>1.595925</td>\n",
       "      <td>16.326531</td>\n",
       "      <td>16.326531</td>\n",
       "      <td>16.326531</td>\n",
       "      <td>...</td>\n",
       "      <td>1.61380</td>\n",
       "      <td>1.59660</td>\n",
       "      <td>1.605200</td>\n",
       "      <td>1.59915</td>\n",
       "      <td>141.857175</td>\n",
       "      <td>183.609406</td>\n",
       "      <td>224.795834</td>\n",
       "      <td>47.024049</td>\n",
       "      <td>-580.628944</td>\n",
       "      <td>-558.700648</td>\n",
       "    </tr>\n",
       "    <tr>\n",
       "      <th>30</th>\n",
       "      <td>14/2/2000</td>\n",
       "      <td>1.5927</td>\n",
       "      <td>1.5971</td>\n",
       "      <td>1.5860</td>\n",
       "      <td>1.5873</td>\n",
       "      <td>1.0</td>\n",
       "      <td>1.589425</td>\n",
       "      <td>4.166667</td>\n",
       "      <td>4.153355</td>\n",
       "      <td>4.153355</td>\n",
       "      <td>...</td>\n",
       "      <td>1.60375</td>\n",
       "      <td>1.58695</td>\n",
       "      <td>1.595350</td>\n",
       "      <td>1.59155</td>\n",
       "      <td>123.669380</td>\n",
       "      <td>146.514411</td>\n",
       "      <td>172.781294</td>\n",
       "      <td>252.413836</td>\n",
       "      <td>-379.571709</td>\n",
       "      <td>-528.186512</td>\n",
       "    </tr>\n",
       "    <tr>\n",
       "      <th>31</th>\n",
       "      <td>15/2/2000</td>\n",
       "      <td>1.5873</td>\n",
       "      <td>1.5976</td>\n",
       "      <td>1.5851</td>\n",
       "      <td>1.5960</td>\n",
       "      <td>1.0</td>\n",
       "      <td>1.593675</td>\n",
       "      <td>43.083004</td>\n",
       "      <td>33.956386</td>\n",
       "      <td>33.850932</td>\n",
       "      <td>...</td>\n",
       "      <td>1.59735</td>\n",
       "      <td>1.58555</td>\n",
       "      <td>1.591450</td>\n",
       "      <td>1.59135</td>\n",
       "      <td>191.458027</td>\n",
       "      <td>144.278393</td>\n",
       "      <td>157.105210</td>\n",
       "      <td>266.956749</td>\n",
       "      <td>-81.647095</td>\n",
       "      <td>-483.338404</td>\n",
       "    </tr>\n",
       "    <tr>\n",
       "      <th>32</th>\n",
       "      <td>16/2/2000</td>\n",
       "      <td>1.5960</td>\n",
       "      <td>1.6100</td>\n",
       "      <td>1.5946</td>\n",
       "      <td>1.6072</td>\n",
       "      <td>1.0</td>\n",
       "      <td>1.604750</td>\n",
       "      <td>88.755020</td>\n",
       "      <td>87.351779</td>\n",
       "      <td>68.847352</td>\n",
       "      <td>...</td>\n",
       "      <td>1.60380</td>\n",
       "      <td>1.58985</td>\n",
       "      <td>1.596825</td>\n",
       "      <td>1.60230</td>\n",
       "      <td>-107.547908</td>\n",
       "      <td>37.248993</td>\n",
       "      <td>132.796436</td>\n",
       "      <td>273.808202</td>\n",
       "      <td>136.045358</td>\n",
       "      <td>-474.973133</td>\n",
       "    </tr>\n",
       "    <tr>\n",
       "      <th>33</th>\n",
       "      <td>17/2/2000</td>\n",
       "      <td>1.6072</td>\n",
       "      <td>1.6138</td>\n",
       "      <td>1.6027</td>\n",
       "      <td>1.6083</td>\n",
       "      <td>0.0</td>\n",
       "      <td>1.608275</td>\n",
       "      <td>80.836237</td>\n",
       "      <td>80.836237</td>\n",
       "      <td>80.836237</td>\n",
       "      <td>...</td>\n",
       "      <td>1.61190</td>\n",
       "      <td>1.59865</td>\n",
       "      <td>1.605275</td>\n",
       "      <td>1.60825</td>\n",
       "      <td>-68.693550</td>\n",
       "      <td>-67.738396</td>\n",
       "      <td>101.820193</td>\n",
       "      <td>273.911976</td>\n",
       "      <td>330.800262</td>\n",
       "      <td>-430.288438</td>\n",
       "    </tr>\n",
       "  </tbody>\n",
       "</table>\n",
       "<p>5 rows × 35 columns</p>\n",
       "</div>"
      ],
      "text/plain": [
       "         date    open    high     low   close  delta    wclose       so_3  \\\n",
       "29  11/2/2000  1.6087  1.6104  1.5879  1.5927    0.0  1.595925  16.326531   \n",
       "30  14/2/2000  1.5927  1.5971  1.5860  1.5873    1.0  1.589425   4.166667   \n",
       "31  15/2/2000  1.5873  1.5976  1.5851  1.5960    1.0  1.593675  43.083004   \n",
       "32  16/2/2000  1.5960  1.6100  1.5946  1.6072    1.0  1.604750  88.755020   \n",
       "33  17/2/2000  1.6072  1.6138  1.6027  1.6083    0.0  1.608275  80.836237   \n",
       "\n",
       "         so_4       so_5  ...  hi_avg_2  lo_avg_2  hilo_avg_2  hilo_avg  \\\n",
       "29  16.326531  16.326531  ...   1.61380   1.59660    1.605200   1.59915   \n",
       "30   4.153355   4.153355  ...   1.60375   1.58695    1.595350   1.59155   \n",
       "31  33.956386  33.850932  ...   1.59735   1.58555    1.591450   1.59135   \n",
       "32  87.351779  68.847352  ...   1.60380   1.58985    1.596825   1.60230   \n",
       "33  80.836237  80.836237  ...   1.61190   1.59865    1.605275   1.60825   \n",
       "\n",
       "       slope_3     slope_4     slope_5    slope_10    slope_20    slope_30  \n",
       "29  141.857175  183.609406  224.795834   47.024049 -580.628944 -558.700648  \n",
       "30  123.669380  146.514411  172.781294  252.413836 -379.571709 -528.186512  \n",
       "31  191.458027  144.278393  157.105210  266.956749  -81.647095 -483.338404  \n",
       "32 -107.547908   37.248993  132.796436  273.808202  136.045358 -474.973133  \n",
       "33  -68.693550  -67.738396  101.820193  273.911976  330.800262 -430.288438  \n",
       "\n",
       "[5 rows x 35 columns]"
      ]
     },
     "execution_count": 3,
     "metadata": {},
     "output_type": "execute_result"
    }
   ],
   "source": [
    "df.head()"
   ]
  },
  {
   "cell_type": "code",
   "execution_count": 4,
   "metadata": {},
   "outputs": [],
   "source": [
    "# swap high price and opening price\n",
    "\n",
    "# now the second column is now daily high price\n",
    "\n",
    "def swap_columns(df, c1, c2):\n",
    "    df['temp'] = df[c1]\n",
    "    df[c1] = df[c2]\n",
    "    df[c2] = df['temp']\n",
    "    df.drop(columns=['temp'], inplace=True)\n",
    "    df.rename(columns={c1: c2, c2: c1}, inplace=True)\n",
    "    \n",
    "swap_columns(df, 'open', 'high')"
   ]
  },
  {
   "cell_type": "code",
   "execution_count": 5,
   "metadata": {},
   "outputs": [],
   "source": [
    "df.drop(columns=['delta'],inplace=True)"
   ]
  },
  {
   "cell_type": "code",
   "execution_count": 6,
   "metadata": {},
   "outputs": [
    {
     "data": {
      "text/html": [
       "<div>\n",
       "<style scoped>\n",
       "    .dataframe tbody tr th:only-of-type {\n",
       "        vertical-align: middle;\n",
       "    }\n",
       "\n",
       "    .dataframe tbody tr th {\n",
       "        vertical-align: top;\n",
       "    }\n",
       "\n",
       "    .dataframe thead th {\n",
       "        text-align: right;\n",
       "    }\n",
       "</style>\n",
       "<table border=\"1\" class=\"dataframe\">\n",
       "  <thead>\n",
       "    <tr style=\"text-align: right;\">\n",
       "      <th></th>\n",
       "      <th>date</th>\n",
       "      <th>high</th>\n",
       "      <th>open</th>\n",
       "      <th>low</th>\n",
       "      <th>close</th>\n",
       "      <th>wclose</th>\n",
       "      <th>so_3</th>\n",
       "      <th>so_4</th>\n",
       "      <th>so_5</th>\n",
       "      <th>so_8</th>\n",
       "      <th>...</th>\n",
       "      <th>hi_avg_2</th>\n",
       "      <th>lo_avg_2</th>\n",
       "      <th>hilo_avg_2</th>\n",
       "      <th>hilo_avg</th>\n",
       "      <th>slope_3</th>\n",
       "      <th>slope_4</th>\n",
       "      <th>slope_5</th>\n",
       "      <th>slope_10</th>\n",
       "      <th>slope_20</th>\n",
       "      <th>slope_30</th>\n",
       "    </tr>\n",
       "  </thead>\n",
       "  <tbody>\n",
       "    <tr>\n",
       "      <th>29</th>\n",
       "      <td>11/2/2000</td>\n",
       "      <td>1.6104</td>\n",
       "      <td>1.6087</td>\n",
       "      <td>1.5879</td>\n",
       "      <td>1.5927</td>\n",
       "      <td>1.595925</td>\n",
       "      <td>16.326531</td>\n",
       "      <td>16.326531</td>\n",
       "      <td>16.326531</td>\n",
       "      <td>27.218935</td>\n",
       "      <td>...</td>\n",
       "      <td>1.61380</td>\n",
       "      <td>1.59660</td>\n",
       "      <td>1.605200</td>\n",
       "      <td>1.59915</td>\n",
       "      <td>141.857175</td>\n",
       "      <td>183.609406</td>\n",
       "      <td>224.795834</td>\n",
       "      <td>47.024049</td>\n",
       "      <td>-580.628944</td>\n",
       "      <td>-558.700648</td>\n",
       "    </tr>\n",
       "    <tr>\n",
       "      <th>30</th>\n",
       "      <td>14/2/2000</td>\n",
       "      <td>1.5971</td>\n",
       "      <td>1.5927</td>\n",
       "      <td>1.5860</td>\n",
       "      <td>1.5873</td>\n",
       "      <td>1.589425</td>\n",
       "      <td>4.166667</td>\n",
       "      <td>4.153355</td>\n",
       "      <td>4.153355</td>\n",
       "      <td>11.242604</td>\n",
       "      <td>...</td>\n",
       "      <td>1.60375</td>\n",
       "      <td>1.58695</td>\n",
       "      <td>1.595350</td>\n",
       "      <td>1.59155</td>\n",
       "      <td>123.669380</td>\n",
       "      <td>146.514411</td>\n",
       "      <td>172.781294</td>\n",
       "      <td>252.413836</td>\n",
       "      <td>-379.571709</td>\n",
       "      <td>-528.186512</td>\n",
       "    </tr>\n",
       "    <tr>\n",
       "      <th>31</th>\n",
       "      <td>15/2/2000</td>\n",
       "      <td>1.5976</td>\n",
       "      <td>1.5873</td>\n",
       "      <td>1.5851</td>\n",
       "      <td>1.5960</td>\n",
       "      <td>1.593675</td>\n",
       "      <td>43.083004</td>\n",
       "      <td>33.956386</td>\n",
       "      <td>33.850932</td>\n",
       "      <td>36.982249</td>\n",
       "      <td>...</td>\n",
       "      <td>1.59735</td>\n",
       "      <td>1.58555</td>\n",
       "      <td>1.591450</td>\n",
       "      <td>1.59135</td>\n",
       "      <td>191.458027</td>\n",
       "      <td>144.278393</td>\n",
       "      <td>157.105210</td>\n",
       "      <td>266.956749</td>\n",
       "      <td>-81.647095</td>\n",
       "      <td>-483.338404</td>\n",
       "    </tr>\n",
       "    <tr>\n",
       "      <th>32</th>\n",
       "      <td>16/2/2000</td>\n",
       "      <td>1.6100</td>\n",
       "      <td>1.5960</td>\n",
       "      <td>1.5946</td>\n",
       "      <td>1.6072</td>\n",
       "      <td>1.604750</td>\n",
       "      <td>88.755020</td>\n",
       "      <td>87.351779</td>\n",
       "      <td>68.847352</td>\n",
       "      <td>68.633540</td>\n",
       "      <td>...</td>\n",
       "      <td>1.60380</td>\n",
       "      <td>1.58985</td>\n",
       "      <td>1.596825</td>\n",
       "      <td>1.60230</td>\n",
       "      <td>-107.547908</td>\n",
       "      <td>37.248993</td>\n",
       "      <td>132.796436</td>\n",
       "      <td>273.808202</td>\n",
       "      <td>136.045358</td>\n",
       "      <td>-474.973133</td>\n",
       "    </tr>\n",
       "    <tr>\n",
       "      <th>33</th>\n",
       "      <td>17/2/2000</td>\n",
       "      <td>1.6138</td>\n",
       "      <td>1.6072</td>\n",
       "      <td>1.6027</td>\n",
       "      <td>1.6083</td>\n",
       "      <td>1.608275</td>\n",
       "      <td>80.836237</td>\n",
       "      <td>80.836237</td>\n",
       "      <td>80.836237</td>\n",
       "      <td>72.049689</td>\n",
       "      <td>...</td>\n",
       "      <td>1.61190</td>\n",
       "      <td>1.59865</td>\n",
       "      <td>1.605275</td>\n",
       "      <td>1.60825</td>\n",
       "      <td>-68.693550</td>\n",
       "      <td>-67.738396</td>\n",
       "      <td>101.820193</td>\n",
       "      <td>273.911976</td>\n",
       "      <td>330.800262</td>\n",
       "      <td>-430.288438</td>\n",
       "    </tr>\n",
       "  </tbody>\n",
       "</table>\n",
       "<p>5 rows × 34 columns</p>\n",
       "</div>"
      ],
      "text/plain": [
       "         date    high    open     low   close    wclose       so_3       so_4  \\\n",
       "29  11/2/2000  1.6104  1.6087  1.5879  1.5927  1.595925  16.326531  16.326531   \n",
       "30  14/2/2000  1.5971  1.5927  1.5860  1.5873  1.589425   4.166667   4.153355   \n",
       "31  15/2/2000  1.5976  1.5873  1.5851  1.5960  1.593675  43.083004  33.956386   \n",
       "32  16/2/2000  1.6100  1.5960  1.5946  1.6072  1.604750  88.755020  87.351779   \n",
       "33  17/2/2000  1.6138  1.6072  1.6027  1.6083  1.608275  80.836237  80.836237   \n",
       "\n",
       "         so_5       so_8  ...  hi_avg_2  lo_avg_2  hilo_avg_2  hilo_avg  \\\n",
       "29  16.326531  27.218935  ...   1.61380   1.59660    1.605200   1.59915   \n",
       "30   4.153355  11.242604  ...   1.60375   1.58695    1.595350   1.59155   \n",
       "31  33.850932  36.982249  ...   1.59735   1.58555    1.591450   1.59135   \n",
       "32  68.847352  68.633540  ...   1.60380   1.58985    1.596825   1.60230   \n",
       "33  80.836237  72.049689  ...   1.61190   1.59865    1.605275   1.60825   \n",
       "\n",
       "       slope_3     slope_4     slope_5    slope_10    slope_20    slope_30  \n",
       "29  141.857175  183.609406  224.795834   47.024049 -580.628944 -558.700648  \n",
       "30  123.669380  146.514411  172.781294  252.413836 -379.571709 -528.186512  \n",
       "31  191.458027  144.278393  157.105210  266.956749  -81.647095 -483.338404  \n",
       "32 -107.547908   37.248993  132.796436  273.808202  136.045358 -474.973133  \n",
       "33  -68.693550  -67.738396  101.820193  273.911976  330.800262 -430.288438  \n",
       "\n",
       "[5 rows x 34 columns]"
      ]
     },
     "execution_count": 6,
     "metadata": {},
     "output_type": "execute_result"
    }
   ],
   "source": [
    "df.head()"
   ]
  },
  {
   "cell_type": "markdown",
   "metadata": {},
   "source": [
    "### Change the normalization to be (0, 1)"
   ]
  },
  {
   "cell_type": "code",
   "execution_count": 28,
   "metadata": {},
   "outputs": [],
   "source": [
    "data = df\n",
    "\n",
    "# constants\n",
    "lookback = 50\n",
    "batch_size = 512\n",
    "epoch = 10\n",
    "\n",
    "# 30% of the data used for testing\n",
    "test_size = int(.3 * (len(data)-lookback))\n",
    "\n",
    "\n",
    "# feed the lstm with all features starting from the open price\n",
    "# still contains the high\n",
    "input_features = data.iloc[:, 1:].values\n",
    "input_data = input_features\n",
    "\n",
    "# train a numpy array of input vectors\n",
    "sc = MinMaxScaler(feature_range = (0, 1))\n",
    "\n",
    "input_data[:,:] = sc.fit_transform(input_features[:,:])"
   ]
  },
  {
   "cell_type": "code",
   "execution_count": 29,
   "metadata": {},
   "outputs": [
    {
     "data": {
      "text/plain": [
       "array([[0.44281622, 0.44759583, 0.44222977, ..., 0.61738803, 0.28172206,\n",
       "        0.20939202],\n",
       "       [0.42816219, 0.42986927, 0.44014894, ..., 0.68964772, 0.37258541,\n",
       "        0.22458155],\n",
       "       [0.42871309, 0.42388655, 0.43916329, ..., 0.69476417, 0.50722582,\n",
       "        0.24690633],\n",
       "       ...,\n",
       "       [0.04605553, 0.04232218, 0.06275326, ..., 0.61691424, 0.63203772,\n",
       "        0.62162521],\n",
       "       [0.04561481, 0.04874806, 0.05552513, ..., 0.70709414, 0.63798728,\n",
       "        0.62209126],\n",
       "       [0.03261349, 0.03390206, 0.05059687, ..., 0.66828302, 0.65686441,\n",
       "        0.62213368]])"
      ]
     },
     "execution_count": 29,
     "metadata": {},
     "output_type": "execute_result"
    }
   ],
   "source": [
    "input_features"
   ]
  },
  {
   "cell_type": "code",
   "execution_count": 30,
   "metadata": {},
   "outputs": [
    {
     "data": {
      "text/plain": [
       "(5120, 33)"
      ]
     },
     "execution_count": 30,
     "metadata": {},
     "output_type": "execute_result"
    }
   ],
   "source": [
    "input_data.shape"
   ]
  },
  {
   "cell_type": "code",
   "execution_count": 31,
   "metadata": {},
   "outputs": [
    {
     "data": {
      "text/plain": [
       "32"
      ]
     },
     "execution_count": 31,
     "metadata": {},
     "output_type": "execute_result"
    }
   ],
   "source": [
    "# number of features excluding the target feature\n",
    "feature_size = input_data.shape[1] - 1\n",
    "feature_size"
   ]
  },
  {
   "cell_type": "code",
   "execution_count": 32,
   "metadata": {},
   "outputs": [
    {
     "data": {
      "text/plain": [
       "array([[0.44281622, 0.44759583, 0.44222977, ..., 0.61738803, 0.28172206,\n",
       "        0.20939202],\n",
       "       [0.42816219, 0.42986927, 0.44014894, ..., 0.68964772, 0.37258541,\n",
       "        0.22458155],\n",
       "       [0.42871309, 0.42388655, 0.43916329, ..., 0.69476417, 0.50722582,\n",
       "        0.24690633],\n",
       "       ...,\n",
       "       [0.04605553, 0.04232218, 0.06275326, ..., 0.61691424, 0.63203772,\n",
       "        0.62162521],\n",
       "       [0.04561481, 0.04874806, 0.05552513, ..., 0.70709414, 0.63798728,\n",
       "        0.62209126],\n",
       "       [0.03261349, 0.03390206, 0.05059687, ..., 0.66828302, 0.65686441,\n",
       "        0.62213368]])"
      ]
     },
     "execution_count": 32,
     "metadata": {},
     "output_type": "execute_result"
    }
   ],
   "source": [
    "input_data"
   ]
  },
  {
   "cell_type": "code",
   "execution_count": 33,
   "metadata": {},
   "outputs": [
    {
     "data": {
      "text/plain": [
       "array([[0.44759583, 0.44222977, 0.42986927, 0.43448849, 0.34793734,\n",
       "        0.3515838 , 0.35583121, 0.41457158, 0.41260087, 0.38039569,\n",
       "        0.43195315, 0.43195315, 0.41457158, 0.41260087, 0.38039569,\n",
       "        0.44437551, 0.42939113, 0.38444778, 0.407909  , 0.46295867,\n",
       "        0.52271439, 0.33917658, 0.44676144, 0.44447556, 0.44459004,\n",
       "        0.43930315, 0.44478368, 0.61087005, 0.64403346, 0.61738803,\n",
       "        0.28172206, 0.20939202]])"
      ]
     },
     "execution_count": 33,
     "metadata": {},
     "output_type": "execute_result"
    }
   ],
   "source": [
    "input_data[[0],1:]"
   ]
  },
  {
   "cell_type": "code",
   "execution_count": 34,
   "metadata": {},
   "outputs": [],
   "source": [
    "'''\n",
    "package data into packs of 50 each, starting from the oldest data\n",
    "up to len(data) - test_size - lookback - 1\n",
    "\n",
    "X is excluded from the daily high price: the target value\n",
    "\n",
    "and convert X and y to numpy array\n",
    "'''\n",
    "X = []\n",
    "y = []\n",
    "for i in range(len(data)- lookback):\n",
    "    t = []\n",
    "    for j in range(lookback):\n",
    "        t.append(input_data[[(i + j)], 1:])\n",
    "    X.append(t)\n",
    "    y.append(input_data[i + lookback, 0])\n",
    "\n",
    "X, y = np.array(X), np.array(y)"
   ]
  },
  {
   "cell_type": "code",
   "execution_count": 35,
   "metadata": {},
   "outputs": [
    {
     "data": {
      "text/plain": [
       "array([[[[0.44759583, 0.44222977, 0.42986927, ..., 0.61738803,\n",
       "          0.28172206, 0.20939202]],\n",
       "\n",
       "        [[0.42986927, 0.44014894, 0.42388655, ..., 0.68964772,\n",
       "          0.37258541, 0.22458155]],\n",
       "\n",
       "        [[0.42388655, 0.43916329, 0.43352537, ..., 0.69476417,\n",
       "          0.50722582, 0.24690633]],\n",
       "\n",
       "        ...,\n",
       "\n",
       "        [[0.41635276, 0.42788304, 0.41236428, ..., 0.51574587,\n",
       "          0.45447428, 0.37550568]],\n",
       "\n",
       "        [[0.41236428, 0.42952579, 0.41856858, ..., 0.59300695,\n",
       "          0.45093511, 0.37489426]],\n",
       "\n",
       "        [[0.41856858, 0.43138758, 0.41557722, ..., 0.64002525,\n",
       "          0.44483384, 0.37407491]]],\n",
       "\n",
       "\n",
       "       [[[0.42986927, 0.44014894, 0.42388655, ..., 0.68964772,\n",
       "          0.37258541, 0.22458155]],\n",
       "\n",
       "        [[0.42388655, 0.43916329, 0.43352537, ..., 0.69476417,\n",
       "          0.50722582, 0.24690633]],\n",
       "\n",
       "        [[0.43352537, 0.44956741, 0.44593397, ..., 0.69717463,\n",
       "          0.60560709, 0.25107045]],\n",
       "\n",
       "        ...,\n",
       "\n",
       "        [[0.41236428, 0.42952579, 0.41856858, ..., 0.59300695,\n",
       "          0.45093511, 0.37489426]],\n",
       "\n",
       "        [[0.41856858, 0.43138758, 0.41557722, ..., 0.64002525,\n",
       "          0.44483384, 0.37407491]],\n",
       "\n",
       "        [[0.41557722, 0.43040193, 0.4121427 , ..., 0.67046719,\n",
       "          0.43446688, 0.37300724]]],\n",
       "\n",
       "\n",
       "       [[[0.42388655, 0.43916329, 0.43352537, ..., 0.69476417,\n",
       "          0.50722582, 0.24690633]],\n",
       "\n",
       "        [[0.43352537, 0.44956741, 0.44593397, ..., 0.69717463,\n",
       "          0.60560709, 0.25107045]],\n",
       "\n",
       "        [[0.44593397, 0.45843829, 0.44715267, ..., 0.69721114,\n",
       "          0.69362224, 0.27331389]],\n",
       "\n",
       "        ...,\n",
       "\n",
       "        [[0.41856858, 0.43138758, 0.41557722, ..., 0.64002525,\n",
       "          0.44483384, 0.37407491]],\n",
       "\n",
       "        [[0.41557722, 0.43040193, 0.4121427 , ..., 0.67046719,\n",
       "          0.43446688, 0.37300724]],\n",
       "\n",
       "        [[0.4121427 , 0.42854014, 0.41613118, ..., 0.67347007,\n",
       "          0.44339969, 0.37246395]]],\n",
       "\n",
       "\n",
       "       ...,\n",
       "\n",
       "\n",
       "       [[[0.051961  , 0.06089147, 0.03988478, ..., 0.74173436,\n",
       "          0.64259163, 0.27971383]],\n",
       "\n",
       "        [[0.03988478, 0.05924871, 0.04276534, ..., 0.74021645,\n",
       "          0.72146212, 0.29122657]],\n",
       "\n",
       "        [[0.04276534, 0.06417698, 0.05561711, ..., 0.75207276,\n",
       "          0.79523989, 0.30336406]],\n",
       "\n",
       "        ...,\n",
       "\n",
       "        [[0.0470862 , 0.06538167, 0.05306891, ..., 0.44115529,\n",
       "          0.62818802, 0.61580452]],\n",
       "\n",
       "        [[0.05306891, 0.06779104, 0.04752936, ..., 0.49361604,\n",
       "          0.62835868, 0.61837309]],\n",
       "\n",
       "        [[0.04752936, 0.06264374, 0.04232218, ..., 0.54785362,\n",
       "          0.62964572, 0.62099979]]],\n",
       "\n",
       "\n",
       "       [[[0.03988478, 0.05924871, 0.04276534, ..., 0.74021645,\n",
       "          0.72146212, 0.29122657]],\n",
       "\n",
       "        [[0.04276534, 0.06417698, 0.05561711, ..., 0.75207276,\n",
       "          0.79523989, 0.30336406]],\n",
       "\n",
       "        [[0.05561711, 0.06954331, 0.05351208, ..., 0.73687621,\n",
       "          0.7997287 , 0.30956661]],\n",
       "\n",
       "        ...,\n",
       "\n",
       "        [[0.05306891, 0.06779104, 0.04752936, ..., 0.49361604,\n",
       "          0.62835868, 0.61837309]],\n",
       "\n",
       "        [[0.04752936, 0.06264374, 0.04232218, ..., 0.54785362,\n",
       "          0.62964572, 0.62099979]],\n",
       "\n",
       "        [[0.04232218, 0.06275326, 0.04874806, ..., 0.61691424,\n",
       "          0.63203772, 0.62162521]]],\n",
       "\n",
       "\n",
       "       [[[0.04276534, 0.06417698, 0.05561711, ..., 0.75207276,\n",
       "          0.79523989, 0.30336406]],\n",
       "\n",
       "        [[0.05561711, 0.06954331, 0.05351208, ..., 0.73687621,\n",
       "          0.7997287 , 0.30956661]],\n",
       "\n",
       "        [[0.05351208, 0.06735297, 0.04752936, ..., 0.7029477 ,\n",
       "          0.79909269, 0.31782471]],\n",
       "\n",
       "        ...,\n",
       "\n",
       "        [[0.04752936, 0.06264374, 0.04232218, ..., 0.54785362,\n",
       "          0.62964572, 0.62099979]],\n",
       "\n",
       "        [[0.04232218, 0.06275326, 0.04874806, ..., 0.61691424,\n",
       "          0.63203772, 0.62162521]],\n",
       "\n",
       "        [[0.04874806, 0.05552513, 0.03390206, ..., 0.70709414,\n",
       "          0.63798728, 0.62209126]]]])"
      ]
     },
     "execution_count": 35,
     "metadata": {},
     "output_type": "execute_result"
    }
   ],
   "source": [
    "X"
   ]
  },
  {
   "cell_type": "code",
   "execution_count": 36,
   "metadata": {},
   "outputs": [
    {
     "data": {
      "text/plain": [
       "(3549, 50, 32)"
      ]
     },
     "execution_count": 36,
     "metadata": {},
     "output_type": "execute_result"
    }
   ],
   "source": [
    "# test data taken from the latest (size - (test_size + lookback)) data points\n",
    "X_test = X[-test_size:]\n",
    "\n",
    "# cut the test data out\n",
    "X = X[:-(test_size)]\n",
    "y = y[:-(test_size)]\n",
    "\n",
    "# reshape\n",
    "X = X.reshape(X.shape[0], lookback, feature_size)\n",
    "X_test = X_test.reshape(X_test.shape[0],lookback, feature_size)\n",
    "X.shape"
   ]
  },
  {
   "cell_type": "code",
   "execution_count": 37,
   "metadata": {},
   "outputs": [
    {
     "name": "stdout",
     "output_type": "stream",
     "text": [
      "Model: \"sequential_1\"\n",
      "_________________________________________________________________\n",
      "Layer (type)                 Output Shape              Param #   \n",
      "=================================================================\n",
      "lstm_1 (LSTM)                (None, 50, 30)            7560      \n",
      "_________________________________________________________________\n",
      "lstm_2 (LSTM)                (None, 50, 30)            7320      \n",
      "_________________________________________________________________\n",
      "lstm_3 (LSTM)                (None, 30)                7320      \n",
      "_________________________________________________________________\n",
      "dense_1 (Dense)              (None, 1)                 31        \n",
      "=================================================================\n",
      "Total params: 22,231\n",
      "Trainable params: 22,231\n",
      "Non-trainable params: 0\n",
      "_________________________________________________________________\n",
      "Epoch 1/5\n",
      "3549/3549 [==============================] - 4s 1ms/step - loss: 0.0075\n",
      "Epoch 2/5\n",
      "3549/3549 [==============================] - 4s 987us/step - loss: 4.2708e-04\n",
      "Epoch 3/5\n",
      "3549/3549 [==============================] - 4s 1ms/step - loss: 4.3350e-04\n",
      "Epoch 4/5\n",
      "3549/3549 [==============================] - 4s 1ms/step - loss: 2.9455e-04\n",
      "Epoch 5/5\n",
      "3549/3549 [==============================] - 4s 1ms/step - loss: 2.7231e-04\n"
     ]
    }
   ],
   "source": [
    "file = \"./Models/\" + \"Model\" + \".model\"\n",
    "model = None\n",
    "if os.path.exists(file):\n",
    "    model = load_model(file)\n",
    "else:\n",
    "    model = Sequential()\n",
    "    model.add(LSTM(units=30, return_sequences= True, input_shape=(X.shape[1],feature_size)))\n",
    "    model.add(LSTM(units=30, return_sequences=True))\n",
    "    model.add(LSTM(units=30))\n",
    "    model.add(Dense(units=1))\n",
    "    model.summary()\n",
    "    model.compile(optimizer='adam', loss='mean_squared_error')\n",
    "    model.fit(X, y, epochs=5, batch_size=32)\n",
    "    # model.save(file)"
   ]
  },
  {
   "cell_type": "code",
   "execution_count": 38,
   "metadata": {},
   "outputs": [],
   "source": [
    "# put the predicted target value inside input_data\n",
    "\n",
    "# inverse tranform the predicted data\n",
    "\n",
    "predicted_value = model.predict(X_test)\n",
    "li = input_data.shape[0]\n",
    "lp = predicted_value.shape[0]\n",
    "for i in range(li - lp, li - 1):\n",
    "    input_data[i + 1][0] = predicted_value[i - (li - lp)][0]\n",
    "\n",
    "input_data = sc.inverse_transform(input_data)\n",
    "\n",
    "input_data = input_data[-(test_size) + 1:,0]"
   ]
  },
  {
   "cell_type": "code",
   "execution_count": 39,
   "metadata": {},
   "outputs": [
    {
     "data": {
      "text/plain": [
       "array([1.6384, 1.6443, 1.6437, ..., 1.2503, 1.2499, 1.2381])"
      ]
     },
     "execution_count": 39,
     "metadata": {},
     "output_type": "execute_result"
    }
   ],
   "source": [
    "actual_data = data.iloc[:, 1:].values[-(test_size) + 1:,0]\n",
    "actual_data"
   ]
  },
  {
   "cell_type": "code",
   "execution_count": 40,
   "metadata": {
    "scrolled": true
   },
   "outputs": [
    {
     "data": {
      "text/plain": [
       "<matplotlib.legend.Legend at 0x1eef3bfcc48>"
      ]
     },
     "execution_count": 40,
     "metadata": {},
     "output_type": "execute_result"
    },
    {
     "data": {
      "image/png": "[encoded data removed]",
      "text/plain": [
       "<Figure size 1080x360 with 1 Axes>"
      ]
     },
     "metadata": {
      "needs_background": "light"
     },
     "output_type": "display_data"
    }
   ],
   "source": [
    "plt.figure(figsize=(15,5))\n",
    "plt.plot(input_data, color= 'red', label=\"predicted price\")\n",
    "plt.plot(actual_data, color='green', label=\"real price\")\n",
    "plt.title(\"Daily High price of the selected stock\")\n",
    "plt.xlabel(\"Time (day)\")\n",
    "plt.ylabel(\"Stock Daily High Price ($)\")\n",
    "\n",
    "plt.legend()"
   ]
  },
  {
   "cell_type": "code",
   "execution_count": 41,
   "metadata": {},
   "outputs": [],
   "source": [
    "# generate alphas\n",
    "frame = pd.DataFrame({'actual': actual_data, 'predict': input_data})"
   ]
  },
  {
   "cell_type": "code",
   "execution_count": 42,
   "metadata": {},
   "outputs": [],
   "source": [
    "frame['p1'] = frame['predict'].shift(1)\n",
    "frame['diff1'] = frame['predict'] - frame['p1']"
   ]
  },
  {
   "cell_type": "code",
   "execution_count": 43,
   "metadata": {},
   "outputs": [],
   "source": [
    "frame['alpha'] = frame['diff1'] / frame['actual'] * 20"
   ]
  },
  {
   "cell_type": "code",
   "execution_count": 45,
   "metadata": {},
   "outputs": [
    {
     "data": {
      "text/html": [
       "<div>\n",
       "<style scoped>\n",
       "    .dataframe tbody tr th:only-of-type {\n",
       "        vertical-align: middle;\n",
       "    }\n",
       "\n",
       "    .dataframe tbody tr th {\n",
       "        vertical-align: top;\n",
       "    }\n",
       "\n",
       "    .dataframe thead th {\n",
       "        text-align: right;\n",
       "    }\n",
       "</style>\n",
       "<table border=\"1\" class=\"dataframe\">\n",
       "  <thead>\n",
       "    <tr style=\"text-align: right;\">\n",
       "      <th></th>\n",
       "      <th>actual</th>\n",
       "      <th>predict</th>\n",
       "      <th>p1</th>\n",
       "      <th>diff1</th>\n",
       "      <th>alpha</th>\n",
       "      <th>wclose</th>\n",
       "      <th>pct_change</th>\n",
       "    </tr>\n",
       "  </thead>\n",
       "  <tbody>\n",
       "    <tr>\n",
       "      <th>0</th>\n",
       "      <td>1.6384</td>\n",
       "      <td>1.643585</td>\n",
       "      <td>NaN</td>\n",
       "      <td>NaN</td>\n",
       "      <td>NaN</td>\n",
       "      <td>1.636025</td>\n",
       "      <td>NaN</td>\n",
       "    </tr>\n",
       "    <tr>\n",
       "      <th>1</th>\n",
       "      <td>1.6443</td>\n",
       "      <td>1.645956</td>\n",
       "      <td>1.643585</td>\n",
       "      <td>0.002371</td>\n",
       "      <td>0.028838</td>\n",
       "      <td>1.637450</td>\n",
       "      <td>0.000871</td>\n",
       "    </tr>\n",
       "    <tr>\n",
       "      <th>2</th>\n",
       "      <td>1.6437</td>\n",
       "      <td>1.649115</td>\n",
       "      <td>1.645956</td>\n",
       "      <td>0.003160</td>\n",
       "      <td>0.038449</td>\n",
       "      <td>1.639150</td>\n",
       "      <td>0.001038</td>\n",
       "    </tr>\n",
       "    <tr>\n",
       "      <th>3</th>\n",
       "      <td>1.6404</td>\n",
       "      <td>1.650123</td>\n",
       "      <td>1.649115</td>\n",
       "      <td>0.001007</td>\n",
       "      <td>0.012283</td>\n",
       "      <td>1.637500</td>\n",
       "      <td>-0.001007</td>\n",
       "    </tr>\n",
       "    <tr>\n",
       "      <th>4</th>\n",
       "      <td>1.6404</td>\n",
       "      <td>1.651029</td>\n",
       "      <td>1.650123</td>\n",
       "      <td>0.000906</td>\n",
       "      <td>0.011051</td>\n",
       "      <td>1.634275</td>\n",
       "      <td>-0.001969</td>\n",
       "    </tr>\n",
       "    <tr>\n",
       "      <th>5</th>\n",
       "      <td>1.6393</td>\n",
       "      <td>1.651620</td>\n",
       "      <td>1.651029</td>\n",
       "      <td>0.000591</td>\n",
       "      <td>0.007212</td>\n",
       "      <td>1.635025</td>\n",
       "      <td>0.000459</td>\n",
       "    </tr>\n",
       "    <tr>\n",
       "      <th>6</th>\n",
       "      <td>1.6433</td>\n",
       "      <td>1.648919</td>\n",
       "      <td>1.651620</td>\n",
       "      <td>-0.002701</td>\n",
       "      <td>-0.032878</td>\n",
       "      <td>1.640400</td>\n",
       "      <td>0.003287</td>\n",
       "    </tr>\n",
       "    <tr>\n",
       "      <th>7</th>\n",
       "      <td>1.6466</td>\n",
       "      <td>1.647211</td>\n",
       "      <td>1.648919</td>\n",
       "      <td>-0.001708</td>\n",
       "      <td>-0.020740</td>\n",
       "      <td>1.644375</td>\n",
       "      <td>0.002423</td>\n",
       "    </tr>\n",
       "    <tr>\n",
       "      <th>8</th>\n",
       "      <td>1.6458</td>\n",
       "      <td>1.650556</td>\n",
       "      <td>1.647211</td>\n",
       "      <td>0.003344</td>\n",
       "      <td>0.040640</td>\n",
       "      <td>1.638650</td>\n",
       "      <td>-0.003482</td>\n",
       "    </tr>\n",
       "    <tr>\n",
       "      <th>9</th>\n",
       "      <td>1.6418</td>\n",
       "      <td>1.655438</td>\n",
       "      <td>1.650556</td>\n",
       "      <td>0.004883</td>\n",
       "      <td>0.059478</td>\n",
       "      <td>1.635975</td>\n",
       "      <td>-0.001632</td>\n",
       "    </tr>\n",
       "  </tbody>\n",
       "</table>\n",
       "</div>"
      ],
      "text/plain": [
       "   actual   predict        p1     diff1     alpha    wclose  pct_change\n",
       "0  1.6384  1.643585       NaN       NaN       NaN  1.636025         NaN\n",
       "1  1.6443  1.645956  1.643585  0.002371  0.028838  1.637450    0.000871\n",
       "2  1.6437  1.649115  1.645956  0.003160  0.038449  1.639150    0.001038\n",
       "3  1.6404  1.650123  1.649115  0.001007  0.012283  1.637500   -0.001007\n",
       "4  1.6404  1.651029  1.650123  0.000906  0.011051  1.634275   -0.001969\n",
       "5  1.6393  1.651620  1.651029  0.000591  0.007212  1.635025    0.000459\n",
       "6  1.6433  1.648919  1.651620 -0.002701 -0.032878  1.640400    0.003287\n",
       "7  1.6466  1.647211  1.648919 -0.001708 -0.020740  1.644375    0.002423\n",
       "8  1.6458  1.650556  1.647211  0.003344  0.040640  1.638650   -0.003482\n",
       "9  1.6418  1.655438  1.650556  0.004883  0.059478  1.635975   -0.001632"
      ]
     },
     "execution_count": 45,
     "metadata": {},
     "output_type": "execute_result"
    }
   ],
   "source": [
    "frame['wclose'] = data['wclose'].values[-(test_size) + 1:]\n",
    "frame['pct_change'] = frame['wclose'].pct_change()\n",
    "frame.head(10)"
   ]
  },
  {
   "cell_type": "code",
   "execution_count": 46,
   "metadata": {},
   "outputs": [],
   "source": [
    "capital = 100000\n",
    "frame['capital_allocation'] = frame['alpha'] * capital\n",
    "frame['daily_pnl'] = frame['capital_allocation'] * frame['pct_change']"
   ]
  },
  {
   "cell_type": "code",
   "execution_count": 47,
   "metadata": {},
   "outputs": [
    {
     "data": {
      "image/png": "[encoded data removed]",
      "text/plain": [
       "<Figure size 432x288 with 1 Axes>"
      ]
     },
     "metadata": {
      "needs_background": "light"
     },
     "output_type": "display_data"
    }
   ],
   "source": [
    "plt.plot(frame['daily_pnl'].cumsum())\n",
    "plt.show()"
   ]
  },
  {
   "cell_type": "code",
   "execution_count": 48,
   "metadata": {},
   "outputs": [
    {
     "data": {
      "text/plain": [
       "-0.1347866359311857"
      ]
     },
     "execution_count": 48,
     "metadata": {},
     "output_type": "execute_result"
    }
   ],
   "source": [
    "# calculate sharpe ratio\n",
    "\n",
    "sharpe = np.sqrt(252) * (frame['daily_pnl'].mean()) / (frame['daily_pnl'].std())\n",
    "sharpe"
   ]
  },
  {
   "cell_type": "code",
   "execution_count": 49,
   "metadata": {},
   "outputs": [
    {
     "data": {
      "text/plain": [
       "1.0280748663101604"
      ]
     },
     "execution_count": 49,
     "metadata": {},
     "output_type": "execute_result"
    }
   ],
   "source": [
    "# calculate win/loss ratio\n",
    "\n",
    "wins = 0\n",
    "losses = 0\n",
    "\n",
    "length = frame['daily_pnl'].count()\n",
    "\n",
    "for i in range(length):\n",
    "    if frame['daily_pnl'][i] > 0:\n",
    "        wins += 1\n",
    "    elif frame['daily_pnl'][i] < 0:\n",
    "        losses += 1\n",
    "\n",
    "wl = wins / losses\n",
    "wl"
   ]
  },
  {
   "cell_type": "code",
   "execution_count": null,
   "metadata": {},
   "outputs": [],
   "source": []
  }
 ],
 "metadata": {
  "kernelspec": {
   "display_name": "Python 3",
   "language": "python",
   "name": "python3"
  },
  "language_info": {
   "codemirror_mode": {
    "name": "ipython",
    "version": 3
   },
   "file_extension": ".py",
   "mimetype": "text/x-python",
   "name": "python",
   "nbconvert_exporter": "python",
   "pygments_lexer": "ipython3",
   "version": "3.7.5"
  }
 },
 "nbformat": 4,
 "nbformat_minor": 2
}
