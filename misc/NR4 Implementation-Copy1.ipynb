{
 "cells": [
  {
   "cell_type": "code",
   "execution_count": 1,
   "metadata": {},
   "outputs": [],
   "source": [
    "import pandas as pd"
   ]
  },
  {
   "cell_type": "code",
   "execution_count": 2,
   "metadata": {},
   "outputs": [],
   "source": [
    "data = pd.read_csv(\"/Users/caoyuchen/Downloads/In Sample(2)(1).csv\")"
   ]
  },
  {
   "cell_type": "code",
   "execution_count": 3,
   "metadata": {},
   "outputs": [
    {
     "data": {
      "text/html": [
       "<div>\n",
       "<style scoped>\n",
       "    .dataframe tbody tr th:only-of-type {\n",
       "        vertical-align: middle;\n",
       "    }\n",
       "\n",
       "    .dataframe tbody tr th {\n",
       "        vertical-align: top;\n",
       "    }\n",
       "\n",
       "    .dataframe thead th {\n",
       "        text-align: right;\n",
       "    }\n",
       "</style>\n",
       "<table border=\"1\" class=\"dataframe\">\n",
       "  <thead>\n",
       "    <tr style=\"text-align: right;\">\n",
       "      <th></th>\n",
       "      <th>Currency</th>\n",
       "      <th>Date</th>\n",
       "      <th>Open</th>\n",
       "      <th>High</th>\n",
       "      <th>Low</th>\n",
       "      <th>Close</th>\n",
       "      <th>Adj Close</th>\n",
       "      <th>NR4 day</th>\n",
       "    </tr>\n",
       "  </thead>\n",
       "  <tbody>\n",
       "    <tr>\n",
       "      <th>0</th>\n",
       "      <td>CAD</td>\n",
       "      <td>2010/1/1</td>\n",
       "      <td>6.3867</td>\n",
       "      <td>6.3973</td>\n",
       "      <td>6.3867</td>\n",
       "      <td>6.3971</td>\n",
       "      <td>6.3971</td>\n",
       "      <td>0</td>\n",
       "    </tr>\n",
       "    <tr>\n",
       "      <th>1</th>\n",
       "      <td>CAD</td>\n",
       "      <td>2010/1/4</td>\n",
       "      <td>6.4225</td>\n",
       "      <td>6.5819</td>\n",
       "      <td>6.4088</td>\n",
       "      <td>6.4101</td>\n",
       "      <td>6.4101</td>\n",
       "      <td>0</td>\n",
       "    </tr>\n",
       "    <tr>\n",
       "      <th>2</th>\n",
       "      <td>CAD</td>\n",
       "      <td>2010/1/5</td>\n",
       "      <td>6.4111</td>\n",
       "      <td>6.5897</td>\n",
       "      <td>6.4107</td>\n",
       "      <td>6.5659</td>\n",
       "      <td>6.5659</td>\n",
       "      <td>0</td>\n",
       "    </tr>\n",
       "    <tr>\n",
       "      <th>3</th>\n",
       "      <td>CAD</td>\n",
       "      <td>2010/1/6</td>\n",
       "      <td>6.5665</td>\n",
       "      <td>6.6061</td>\n",
       "      <td>6.4676</td>\n",
       "      <td>6.6048</td>\n",
       "      <td>6.6048</td>\n",
       "      <td>0</td>\n",
       "    </tr>\n",
       "    <tr>\n",
       "      <th>4</th>\n",
       "      <td>CAD</td>\n",
       "      <td>2010/1/7</td>\n",
       "      <td>6.6054</td>\n",
       "      <td>6.6199</td>\n",
       "      <td>6.5702</td>\n",
       "      <td>6.5882</td>\n",
       "      <td>6.5882</td>\n",
       "      <td>0</td>\n",
       "    </tr>\n",
       "  </tbody>\n",
       "</table>\n",
       "</div>"
      ],
      "text/plain": [
       "  Currency      Date    Open    High     Low   Close  Adj Close  NR4 day\n",
       "0      CAD  2010/1/1  6.3867  6.3973  6.3867  6.3971     6.3971        0\n",
       "1      CAD  2010/1/4  6.4225  6.5819  6.4088  6.4101     6.4101        0\n",
       "2      CAD  2010/1/5  6.4111  6.5897  6.4107  6.5659     6.5659        0\n",
       "3      CAD  2010/1/6  6.5665  6.6061  6.4676  6.6048     6.6048        0\n",
       "4      CAD  2010/1/7  6.6054  6.6199  6.5702  6.5882     6.5882        0"
      ]
     },
     "execution_count": 3,
     "metadata": {},
     "output_type": "execute_result"
    }
   ],
   "source": [
    "data.head()"
   ]
  },
  {
   "cell_type": "code",
   "execution_count": 4,
   "metadata": {
    "scrolled": true
   },
   "outputs": [],
   "source": [
    "data.rename(columns={'Adj Close':'Adj_close','NR4 day':'NR4_signal'}, inplace = True)"
   ]
  },
  {
   "cell_type": "code",
   "execution_count": 5,
   "metadata": {},
   "outputs": [
    {
     "data": {
      "text/html": [
       "<div>\n",
       "<style scoped>\n",
       "    .dataframe tbody tr th:only-of-type {\n",
       "        vertical-align: middle;\n",
       "    }\n",
       "\n",
       "    .dataframe tbody tr th {\n",
       "        vertical-align: top;\n",
       "    }\n",
       "\n",
       "    .dataframe thead th {\n",
       "        text-align: right;\n",
       "    }\n",
       "</style>\n",
       "<table border=\"1\" class=\"dataframe\">\n",
       "  <thead>\n",
       "    <tr style=\"text-align: right;\">\n",
       "      <th></th>\n",
       "      <th>Currency</th>\n",
       "      <th>Date</th>\n",
       "      <th>Open</th>\n",
       "      <th>High</th>\n",
       "      <th>Low</th>\n",
       "      <th>Close</th>\n",
       "      <th>Adj_close</th>\n",
       "      <th>NR4_signal</th>\n",
       "    </tr>\n",
       "  </thead>\n",
       "  <tbody>\n",
       "    <tr>\n",
       "      <th>0</th>\n",
       "      <td>CAD</td>\n",
       "      <td>2010/1/1</td>\n",
       "      <td>6.3867</td>\n",
       "      <td>6.3973</td>\n",
       "      <td>6.3867</td>\n",
       "      <td>6.3971</td>\n",
       "      <td>6.3971</td>\n",
       "      <td>0</td>\n",
       "    </tr>\n",
       "    <tr>\n",
       "      <th>1</th>\n",
       "      <td>CAD</td>\n",
       "      <td>2010/1/4</td>\n",
       "      <td>6.4225</td>\n",
       "      <td>6.5819</td>\n",
       "      <td>6.4088</td>\n",
       "      <td>6.4101</td>\n",
       "      <td>6.4101</td>\n",
       "      <td>0</td>\n",
       "    </tr>\n",
       "    <tr>\n",
       "      <th>2</th>\n",
       "      <td>CAD</td>\n",
       "      <td>2010/1/5</td>\n",
       "      <td>6.4111</td>\n",
       "      <td>6.5897</td>\n",
       "      <td>6.4107</td>\n",
       "      <td>6.5659</td>\n",
       "      <td>6.5659</td>\n",
       "      <td>0</td>\n",
       "    </tr>\n",
       "    <tr>\n",
       "      <th>3</th>\n",
       "      <td>CAD</td>\n",
       "      <td>2010/1/6</td>\n",
       "      <td>6.5665</td>\n",
       "      <td>6.6061</td>\n",
       "      <td>6.4676</td>\n",
       "      <td>6.6048</td>\n",
       "      <td>6.6048</td>\n",
       "      <td>0</td>\n",
       "    </tr>\n",
       "    <tr>\n",
       "      <th>4</th>\n",
       "      <td>CAD</td>\n",
       "      <td>2010/1/7</td>\n",
       "      <td>6.6054</td>\n",
       "      <td>6.6199</td>\n",
       "      <td>6.5702</td>\n",
       "      <td>6.5882</td>\n",
       "      <td>6.5882</td>\n",
       "      <td>0</td>\n",
       "    </tr>\n",
       "    <tr>\n",
       "      <th>5</th>\n",
       "      <td>CAD</td>\n",
       "      <td>2010/1/8</td>\n",
       "      <td>6.5895</td>\n",
       "      <td>6.6145</td>\n",
       "      <td>6.5626</td>\n",
       "      <td>6.5904</td>\n",
       "      <td>6.5904</td>\n",
       "      <td>0</td>\n",
       "    </tr>\n",
       "    <tr>\n",
       "      <th>6</th>\n",
       "      <td>CAD</td>\n",
       "      <td>2010/1/11</td>\n",
       "      <td>6.5746</td>\n",
       "      <td>6.6420</td>\n",
       "      <td>6.5596</td>\n",
       "      <td>6.6026</td>\n",
       "      <td>6.6026</td>\n",
       "      <td>0</td>\n",
       "    </tr>\n",
       "    <tr>\n",
       "      <th>7</th>\n",
       "      <td>CAD</td>\n",
       "      <td>2010/1/12</td>\n",
       "      <td>6.6037</td>\n",
       "      <td>6.6177</td>\n",
       "      <td>6.5493</td>\n",
       "      <td>6.5780</td>\n",
       "      <td>6.5780</td>\n",
       "      <td>0</td>\n",
       "    </tr>\n",
       "    <tr>\n",
       "      <th>8</th>\n",
       "      <td>CAD</td>\n",
       "      <td>2010/1/13</td>\n",
       "      <td>6.5785</td>\n",
       "      <td>6.6097</td>\n",
       "      <td>6.5441</td>\n",
       "      <td>6.5954</td>\n",
       "      <td>6.5954</td>\n",
       "      <td>0</td>\n",
       "    </tr>\n",
       "    <tr>\n",
       "      <th>9</th>\n",
       "      <td>CAD</td>\n",
       "      <td>2010/1/14</td>\n",
       "      <td>6.5939</td>\n",
       "      <td>6.6492</td>\n",
       "      <td>6.5851</td>\n",
       "      <td>6.6443</td>\n",
       "      <td>6.6443</td>\n",
       "      <td>0</td>\n",
       "    </tr>\n",
       "    <tr>\n",
       "      <th>10</th>\n",
       "      <td>CAD</td>\n",
       "      <td>2010/1/15</td>\n",
       "      <td>6.6447</td>\n",
       "      <td>6.6713</td>\n",
       "      <td>6.6111</td>\n",
       "      <td>6.6161</td>\n",
       "      <td>6.6161</td>\n",
       "      <td>0</td>\n",
       "    </tr>\n",
       "    <tr>\n",
       "      <th>11</th>\n",
       "      <td>CAD</td>\n",
       "      <td>2010/1/18</td>\n",
       "      <td>6.5041</td>\n",
       "      <td>6.6482</td>\n",
       "      <td>6.5018</td>\n",
       "      <td>6.6382</td>\n",
       "      <td>6.6382</td>\n",
       "      <td>0</td>\n",
       "    </tr>\n",
       "    <tr>\n",
       "      <th>12</th>\n",
       "      <td>CAD</td>\n",
       "      <td>2010/1/19</td>\n",
       "      <td>6.6378</td>\n",
       "      <td>6.6464</td>\n",
       "      <td>6.5869</td>\n",
       "      <td>6.5985</td>\n",
       "      <td>6.5985</td>\n",
       "      <td>0</td>\n",
       "    </tr>\n",
       "    <tr>\n",
       "      <th>13</th>\n",
       "      <td>CAD</td>\n",
       "      <td>2010/1/20</td>\n",
       "      <td>6.5985</td>\n",
       "      <td>6.6167</td>\n",
       "      <td>6.4933</td>\n",
       "      <td>6.5074</td>\n",
       "      <td>6.5074</td>\n",
       "      <td>0</td>\n",
       "    </tr>\n",
       "    <tr>\n",
       "      <th>14</th>\n",
       "      <td>CAD</td>\n",
       "      <td>2010/1/21</td>\n",
       "      <td>6.5096</td>\n",
       "      <td>6.5219</td>\n",
       "      <td>6.4718</td>\n",
       "      <td>6.4837</td>\n",
       "      <td>6.4837</td>\n",
       "      <td>0</td>\n",
       "    </tr>\n",
       "    <tr>\n",
       "      <th>15</th>\n",
       "      <td>CAD</td>\n",
       "      <td>2010/1/22</td>\n",
       "      <td>6.4848</td>\n",
       "      <td>6.5101</td>\n",
       "      <td>6.4255</td>\n",
       "      <td>6.4475</td>\n",
       "      <td>6.4475</td>\n",
       "      <td>0</td>\n",
       "    </tr>\n",
       "    <tr>\n",
       "      <th>16</th>\n",
       "      <td>CAD</td>\n",
       "      <td>2010/1/25</td>\n",
       "      <td>6.4454</td>\n",
       "      <td>6.4663</td>\n",
       "      <td>6.3260</td>\n",
       "      <td>6.3353</td>\n",
       "      <td>6.3353</td>\n",
       "      <td>0</td>\n",
       "    </tr>\n",
       "    <tr>\n",
       "      <th>17</th>\n",
       "      <td>CAD</td>\n",
       "      <td>2010/1/26</td>\n",
       "      <td>6.3361</td>\n",
       "      <td>6.4271</td>\n",
       "      <td>6.3302</td>\n",
       "      <td>6.4150</td>\n",
       "      <td>6.4150</td>\n",
       "      <td>0</td>\n",
       "    </tr>\n",
       "    <tr>\n",
       "      <th>18</th>\n",
       "      <td>CAD</td>\n",
       "      <td>2010/1/27</td>\n",
       "      <td>6.4152</td>\n",
       "      <td>6.4219</td>\n",
       "      <td>6.3806</td>\n",
       "      <td>6.4158</td>\n",
       "      <td>6.4158</td>\n",
       "      <td>0</td>\n",
       "    </tr>\n",
       "    <tr>\n",
       "      <th>19</th>\n",
       "      <td>CAD</td>\n",
       "      <td>2010/1/28</td>\n",
       "      <td>6.4148</td>\n",
       "      <td>6.4509</td>\n",
       "      <td>6.3898</td>\n",
       "      <td>6.3951</td>\n",
       "      <td>6.3951</td>\n",
       "      <td>0</td>\n",
       "    </tr>\n",
       "    <tr>\n",
       "      <th>20</th>\n",
       "      <td>CAD</td>\n",
       "      <td>2010/1/29</td>\n",
       "      <td>6.3979</td>\n",
       "      <td>6.4107</td>\n",
       "      <td>6.3667</td>\n",
       "      <td>6.3676</td>\n",
       "      <td>6.3676</td>\n",
       "      <td>0</td>\n",
       "    </tr>\n",
       "    <tr>\n",
       "      <th>21</th>\n",
       "      <td>CAD</td>\n",
       "      <td>2010/2/1</td>\n",
       "      <td>6.2990</td>\n",
       "      <td>6.4101</td>\n",
       "      <td>6.2761</td>\n",
       "      <td>6.4042</td>\n",
       "      <td>6.4042</td>\n",
       "      <td>0</td>\n",
       "    </tr>\n",
       "    <tr>\n",
       "      <th>22</th>\n",
       "      <td>CAD</td>\n",
       "      <td>2010/2/2</td>\n",
       "      <td>6.4060</td>\n",
       "      <td>6.4483</td>\n",
       "      <td>6.3991</td>\n",
       "      <td>6.4353</td>\n",
       "      <td>6.4353</td>\n",
       "      <td>0</td>\n",
       "    </tr>\n",
       "    <tr>\n",
       "      <th>23</th>\n",
       "      <td>CAD</td>\n",
       "      <td>2010/2/3</td>\n",
       "      <td>6.4353</td>\n",
       "      <td>6.4597</td>\n",
       "      <td>6.3083</td>\n",
       "      <td>6.4194</td>\n",
       "      <td>6.4194</td>\n",
       "      <td>0</td>\n",
       "    </tr>\n",
       "    <tr>\n",
       "      <th>24</th>\n",
       "      <td>CAD</td>\n",
       "      <td>2010/2/4</td>\n",
       "      <td>6.4198</td>\n",
       "      <td>6.4353</td>\n",
       "      <td>6.3380</td>\n",
       "      <td>6.3627</td>\n",
       "      <td>6.3627</td>\n",
       "      <td>0</td>\n",
       "    </tr>\n",
       "    <tr>\n",
       "      <th>25</th>\n",
       "      <td>CAD</td>\n",
       "      <td>2010/2/5</td>\n",
       "      <td>6.3628</td>\n",
       "      <td>6.4023</td>\n",
       "      <td>6.3155</td>\n",
       "      <td>6.3367</td>\n",
       "      <td>6.3367</td>\n",
       "      <td>0</td>\n",
       "    </tr>\n",
       "    <tr>\n",
       "      <th>26</th>\n",
       "      <td>CAD</td>\n",
       "      <td>2010/2/8</td>\n",
       "      <td>6.3432</td>\n",
       "      <td>6.3893</td>\n",
       "      <td>6.3393</td>\n",
       "      <td>6.3619</td>\n",
       "      <td>6.3619</td>\n",
       "      <td>1</td>\n",
       "    </tr>\n",
       "    <tr>\n",
       "      <th>27</th>\n",
       "      <td>CAD</td>\n",
       "      <td>2010/2/9</td>\n",
       "      <td>6.3611</td>\n",
       "      <td>6.3952</td>\n",
       "      <td>6.3342</td>\n",
       "      <td>6.3883</td>\n",
       "      <td>6.3883</td>\n",
       "      <td>0</td>\n",
       "    </tr>\n",
       "    <tr>\n",
       "      <th>28</th>\n",
       "      <td>CAD</td>\n",
       "      <td>2010/2/10</td>\n",
       "      <td>6.3878</td>\n",
       "      <td>6.4181</td>\n",
       "      <td>6.3627</td>\n",
       "      <td>6.4032</td>\n",
       "      <td>6.4032</td>\n",
       "      <td>0</td>\n",
       "    </tr>\n",
       "    <tr>\n",
       "      <th>29</th>\n",
       "      <td>CAD</td>\n",
       "      <td>2010/2/11</td>\n",
       "      <td>6.4046</td>\n",
       "      <td>6.4889</td>\n",
       "      <td>6.4027</td>\n",
       "      <td>6.4727</td>\n",
       "      <td>6.4727</td>\n",
       "      <td>0</td>\n",
       "    </tr>\n",
       "    <tr>\n",
       "      <th>...</th>\n",
       "      <td>...</td>\n",
       "      <td>...</td>\n",
       "      <td>...</td>\n",
       "      <td>...</td>\n",
       "      <td>...</td>\n",
       "      <td>...</td>\n",
       "      <td>...</td>\n",
       "      <td>...</td>\n",
       "    </tr>\n",
       "    <tr>\n",
       "      <th>12747</th>\n",
       "      <td>USD</td>\n",
       "      <td>2016/11/21</td>\n",
       "      <td>6.8921</td>\n",
       "      <td>6.9041</td>\n",
       "      <td>6.8734</td>\n",
       "      <td>6.8925</td>\n",
       "      <td>6.8925</td>\n",
       "      <td>0</td>\n",
       "    </tr>\n",
       "    <tr>\n",
       "      <th>12748</th>\n",
       "      <td>USD</td>\n",
       "      <td>2016/11/22</td>\n",
       "      <td>6.8878</td>\n",
       "      <td>6.8968</td>\n",
       "      <td>6.8755</td>\n",
       "      <td>6.8889</td>\n",
       "      <td>6.8889</td>\n",
       "      <td>0</td>\n",
       "    </tr>\n",
       "    <tr>\n",
       "      <th>12749</th>\n",
       "      <td>USD</td>\n",
       "      <td>2016/11/23</td>\n",
       "      <td>6.8891</td>\n",
       "      <td>6.9192</td>\n",
       "      <td>6.8828</td>\n",
       "      <td>6.8893</td>\n",
       "      <td>6.8893</td>\n",
       "      <td>0</td>\n",
       "    </tr>\n",
       "    <tr>\n",
       "      <th>12750</th>\n",
       "      <td>USD</td>\n",
       "      <td>2016/11/24</td>\n",
       "      <td>6.9192</td>\n",
       "      <td>6.9235</td>\n",
       "      <td>6.9089</td>\n",
       "      <td>6.9102</td>\n",
       "      <td>6.9102</td>\n",
       "      <td>0</td>\n",
       "    </tr>\n",
       "    <tr>\n",
       "      <th>12751</th>\n",
       "      <td>USD</td>\n",
       "      <td>2016/11/25</td>\n",
       "      <td>6.9185</td>\n",
       "      <td>6.9233</td>\n",
       "      <td>6.9062</td>\n",
       "      <td>6.9182</td>\n",
       "      <td>6.9182</td>\n",
       "      <td>0</td>\n",
       "    </tr>\n",
       "    <tr>\n",
       "      <th>12752</th>\n",
       "      <td>USD</td>\n",
       "      <td>2016/11/28</td>\n",
       "      <td>6.9217</td>\n",
       "      <td>6.9218</td>\n",
       "      <td>6.8927</td>\n",
       "      <td>6.9217</td>\n",
       "      <td>6.9217</td>\n",
       "      <td>0</td>\n",
       "    </tr>\n",
       "    <tr>\n",
       "      <th>12753</th>\n",
       "      <td>USD</td>\n",
       "      <td>2016/11/29</td>\n",
       "      <td>6.9062</td>\n",
       "      <td>6.9112</td>\n",
       "      <td>6.8810</td>\n",
       "      <td>6.9063</td>\n",
       "      <td>6.9063</td>\n",
       "      <td>0</td>\n",
       "    </tr>\n",
       "    <tr>\n",
       "      <th>12754</th>\n",
       "      <td>USD</td>\n",
       "      <td>2016/11/30</td>\n",
       "      <td>6.8977</td>\n",
       "      <td>6.9009</td>\n",
       "      <td>6.8744</td>\n",
       "      <td>6.8973</td>\n",
       "      <td>6.8973</td>\n",
       "      <td>0</td>\n",
       "    </tr>\n",
       "    <tr>\n",
       "      <th>12755</th>\n",
       "      <td>USD</td>\n",
       "      <td>2016/12/1</td>\n",
       "      <td>6.8908</td>\n",
       "      <td>6.8943</td>\n",
       "      <td>6.8809</td>\n",
       "      <td>6.8908</td>\n",
       "      <td>6.8908</td>\n",
       "      <td>0</td>\n",
       "    </tr>\n",
       "    <tr>\n",
       "      <th>12756</th>\n",
       "      <td>USD</td>\n",
       "      <td>2016/12/2</td>\n",
       "      <td>6.8765</td>\n",
       "      <td>6.8898</td>\n",
       "      <td>6.8711</td>\n",
       "      <td>6.8765</td>\n",
       "      <td>6.8765</td>\n",
       "      <td>0</td>\n",
       "    </tr>\n",
       "    <tr>\n",
       "      <th>12757</th>\n",
       "      <td>USD</td>\n",
       "      <td>2016/12/5</td>\n",
       "      <td>6.8855</td>\n",
       "      <td>6.8875</td>\n",
       "      <td>6.8762</td>\n",
       "      <td>6.8855</td>\n",
       "      <td>6.8855</td>\n",
       "      <td>0</td>\n",
       "    </tr>\n",
       "    <tr>\n",
       "      <th>12758</th>\n",
       "      <td>USD</td>\n",
       "      <td>2016/12/6</td>\n",
       "      <td>7.4784</td>\n",
       "      <td>7.4810</td>\n",
       "      <td>6.8574</td>\n",
       "      <td>6.8710</td>\n",
       "      <td>6.8710</td>\n",
       "      <td>0</td>\n",
       "    </tr>\n",
       "    <tr>\n",
       "      <th>12759</th>\n",
       "      <td>USD</td>\n",
       "      <td>2016/12/7</td>\n",
       "      <td>6.8810</td>\n",
       "      <td>6.8904</td>\n",
       "      <td>6.8718</td>\n",
       "      <td>6.8720</td>\n",
       "      <td>6.8720</td>\n",
       "      <td>0</td>\n",
       "    </tr>\n",
       "    <tr>\n",
       "      <th>12760</th>\n",
       "      <td>USD</td>\n",
       "      <td>2016/12/8</td>\n",
       "      <td>6.8795</td>\n",
       "      <td>6.8795</td>\n",
       "      <td>6.8668</td>\n",
       "      <td>6.8705</td>\n",
       "      <td>6.8705</td>\n",
       "      <td>0</td>\n",
       "    </tr>\n",
       "    <tr>\n",
       "      <th>12761</th>\n",
       "      <td>USD</td>\n",
       "      <td>2016/12/9</td>\n",
       "      <td>6.8789</td>\n",
       "      <td>6.9067</td>\n",
       "      <td>6.8699</td>\n",
       "      <td>6.8699</td>\n",
       "      <td>6.8699</td>\n",
       "      <td>0</td>\n",
       "    </tr>\n",
       "    <tr>\n",
       "      <th>12762</th>\n",
       "      <td>USD</td>\n",
       "      <td>2016/12/12</td>\n",
       "      <td>6.9067</td>\n",
       "      <td>6.9164</td>\n",
       "      <td>6.8973</td>\n",
       "      <td>6.9067</td>\n",
       "      <td>6.9067</td>\n",
       "      <td>0</td>\n",
       "    </tr>\n",
       "    <tr>\n",
       "      <th>12763</th>\n",
       "      <td>USD</td>\n",
       "      <td>2016/12/13</td>\n",
       "      <td>6.9059</td>\n",
       "      <td>6.9059</td>\n",
       "      <td>6.8906</td>\n",
       "      <td>6.8969</td>\n",
       "      <td>6.8969</td>\n",
       "      <td>0</td>\n",
       "    </tr>\n",
       "    <tr>\n",
       "      <th>12764</th>\n",
       "      <td>USD</td>\n",
       "      <td>2016/12/14</td>\n",
       "      <td>6.9007</td>\n",
       "      <td>6.9050</td>\n",
       "      <td>6.8917</td>\n",
       "      <td>6.8917</td>\n",
       "      <td>6.8917</td>\n",
       "      <td>0</td>\n",
       "    </tr>\n",
       "    <tr>\n",
       "      <th>12765</th>\n",
       "      <td>USD</td>\n",
       "      <td>2016/12/15</td>\n",
       "      <td>6.9038</td>\n",
       "      <td>6.9433</td>\n",
       "      <td>6.8951</td>\n",
       "      <td>6.9038</td>\n",
       "      <td>6.9038</td>\n",
       "      <td>0</td>\n",
       "    </tr>\n",
       "    <tr>\n",
       "      <th>12766</th>\n",
       "      <td>USD</td>\n",
       "      <td>2016/12/16</td>\n",
       "      <td>6.9433</td>\n",
       "      <td>6.9590</td>\n",
       "      <td>6.9343</td>\n",
       "      <td>6.9343</td>\n",
       "      <td>6.9343</td>\n",
       "      <td>0</td>\n",
       "    </tr>\n",
       "    <tr>\n",
       "      <th>12767</th>\n",
       "      <td>USD</td>\n",
       "      <td>2016/12/19</td>\n",
       "      <td>6.9583</td>\n",
       "      <td>6.9588</td>\n",
       "      <td>6.9347</td>\n",
       "      <td>6.9583</td>\n",
       "      <td>6.9583</td>\n",
       "      <td>0</td>\n",
       "    </tr>\n",
       "    <tr>\n",
       "      <th>12768</th>\n",
       "      <td>USD</td>\n",
       "      <td>2016/12/20</td>\n",
       "      <td>6.9530</td>\n",
       "      <td>6.9562</td>\n",
       "      <td>6.9408</td>\n",
       "      <td>6.9530</td>\n",
       "      <td>6.9530</td>\n",
       "      <td>0</td>\n",
       "    </tr>\n",
       "    <tr>\n",
       "      <th>12769</th>\n",
       "      <td>USD</td>\n",
       "      <td>2016/12/21</td>\n",
       "      <td>6.9498</td>\n",
       "      <td>6.9503</td>\n",
       "      <td>6.9393</td>\n",
       "      <td>6.9498</td>\n",
       "      <td>6.9498</td>\n",
       "      <td>0</td>\n",
       "    </tr>\n",
       "    <tr>\n",
       "      <th>12770</th>\n",
       "      <td>USD</td>\n",
       "      <td>2016/12/22</td>\n",
       "      <td>6.9414</td>\n",
       "      <td>6.9494</td>\n",
       "      <td>6.9411</td>\n",
       "      <td>6.9414</td>\n",
       "      <td>6.9414</td>\n",
       "      <td>1</td>\n",
       "    </tr>\n",
       "    <tr>\n",
       "      <th>12771</th>\n",
       "      <td>USD</td>\n",
       "      <td>2016/12/23</td>\n",
       "      <td>6.9493</td>\n",
       "      <td>6.9494</td>\n",
       "      <td>6.9361</td>\n",
       "      <td>6.9404</td>\n",
       "      <td>6.9404</td>\n",
       "      <td>0</td>\n",
       "    </tr>\n",
       "    <tr>\n",
       "      <th>12772</th>\n",
       "      <td>USD</td>\n",
       "      <td>2016/12/26</td>\n",
       "      <td>6.9452</td>\n",
       "      <td>6.9453</td>\n",
       "      <td>6.9447</td>\n",
       "      <td>6.9453</td>\n",
       "      <td>6.9453</td>\n",
       "      <td>1</td>\n",
       "    </tr>\n",
       "    <tr>\n",
       "      <th>12773</th>\n",
       "      <td>USD</td>\n",
       "      <td>2016/12/27</td>\n",
       "      <td>6.9447</td>\n",
       "      <td>6.9516</td>\n",
       "      <td>6.9364</td>\n",
       "      <td>6.9447</td>\n",
       "      <td>6.9447</td>\n",
       "      <td>0</td>\n",
       "    </tr>\n",
       "    <tr>\n",
       "      <th>12774</th>\n",
       "      <td>USD</td>\n",
       "      <td>2016/12/28</td>\n",
       "      <td>6.9516</td>\n",
       "      <td>6.9586</td>\n",
       "      <td>6.9425</td>\n",
       "      <td>6.9425</td>\n",
       "      <td>6.9425</td>\n",
       "      <td>0</td>\n",
       "    </tr>\n",
       "    <tr>\n",
       "      <th>12775</th>\n",
       "      <td>USD</td>\n",
       "      <td>2016/12/29</td>\n",
       "      <td>6.9581</td>\n",
       "      <td>6.9584</td>\n",
       "      <td>6.9446</td>\n",
       "      <td>6.9581</td>\n",
       "      <td>6.9581</td>\n",
       "      <td>0</td>\n",
       "    </tr>\n",
       "    <tr>\n",
       "      <th>12776</th>\n",
       "      <td>USD</td>\n",
       "      <td>2016/12/30</td>\n",
       "      <td>6.9546</td>\n",
       "      <td>6.9546</td>\n",
       "      <td>6.9345</td>\n",
       "      <td>6.9453</td>\n",
       "      <td>6.9453</td>\n",
       "      <td>0</td>\n",
       "    </tr>\n",
       "  </tbody>\n",
       "</table>\n",
       "<p>12777 rows × 8 columns</p>\n",
       "</div>"
      ],
      "text/plain": [
       "      Currency        Date    Open    High     Low   Close  Adj_close  \\\n",
       "0          CAD    2010/1/1  6.3867  6.3973  6.3867  6.3971     6.3971   \n",
       "1          CAD    2010/1/4  6.4225  6.5819  6.4088  6.4101     6.4101   \n",
       "2          CAD    2010/1/5  6.4111  6.5897  6.4107  6.5659     6.5659   \n",
       "3          CAD    2010/1/6  6.5665  6.6061  6.4676  6.6048     6.6048   \n",
       "4          CAD    2010/1/7  6.6054  6.6199  6.5702  6.5882     6.5882   \n",
       "5          CAD    2010/1/8  6.5895  6.6145  6.5626  6.5904     6.5904   \n",
       "6          CAD   2010/1/11  6.5746  6.6420  6.5596  6.6026     6.6026   \n",
       "7          CAD   2010/1/12  6.6037  6.6177  6.5493  6.5780     6.5780   \n",
       "8          CAD   2010/1/13  6.5785  6.6097  6.5441  6.5954     6.5954   \n",
       "9          CAD   2010/1/14  6.5939  6.6492  6.5851  6.6443     6.6443   \n",
       "10         CAD   2010/1/15  6.6447  6.6713  6.6111  6.6161     6.6161   \n",
       "11         CAD   2010/1/18  6.5041  6.6482  6.5018  6.6382     6.6382   \n",
       "12         CAD   2010/1/19  6.6378  6.6464  6.5869  6.5985     6.5985   \n",
       "13         CAD   2010/1/20  6.5985  6.6167  6.4933  6.5074     6.5074   \n",
       "14         CAD   2010/1/21  6.5096  6.5219  6.4718  6.4837     6.4837   \n",
       "15         CAD   2010/1/22  6.4848  6.5101  6.4255  6.4475     6.4475   \n",
       "16         CAD   2010/1/25  6.4454  6.4663  6.3260  6.3353     6.3353   \n",
       "17         CAD   2010/1/26  6.3361  6.4271  6.3302  6.4150     6.4150   \n",
       "18         CAD   2010/1/27  6.4152  6.4219  6.3806  6.4158     6.4158   \n",
       "19         CAD   2010/1/28  6.4148  6.4509  6.3898  6.3951     6.3951   \n",
       "20         CAD   2010/1/29  6.3979  6.4107  6.3667  6.3676     6.3676   \n",
       "21         CAD    2010/2/1  6.2990  6.4101  6.2761  6.4042     6.4042   \n",
       "22         CAD    2010/2/2  6.4060  6.4483  6.3991  6.4353     6.4353   \n",
       "23         CAD    2010/2/3  6.4353  6.4597  6.3083  6.4194     6.4194   \n",
       "24         CAD    2010/2/4  6.4198  6.4353  6.3380  6.3627     6.3627   \n",
       "25         CAD    2010/2/5  6.3628  6.4023  6.3155  6.3367     6.3367   \n",
       "26         CAD    2010/2/8  6.3432  6.3893  6.3393  6.3619     6.3619   \n",
       "27         CAD    2010/2/9  6.3611  6.3952  6.3342  6.3883     6.3883   \n",
       "28         CAD   2010/2/10  6.3878  6.4181  6.3627  6.4032     6.4032   \n",
       "29         CAD   2010/2/11  6.4046  6.4889  6.4027  6.4727     6.4727   \n",
       "...        ...         ...     ...     ...     ...     ...        ...   \n",
       "12747      USD  2016/11/21  6.8921  6.9041  6.8734  6.8925     6.8925   \n",
       "12748      USD  2016/11/22  6.8878  6.8968  6.8755  6.8889     6.8889   \n",
       "12749      USD  2016/11/23  6.8891  6.9192  6.8828  6.8893     6.8893   \n",
       "12750      USD  2016/11/24  6.9192  6.9235  6.9089  6.9102     6.9102   \n",
       "12751      USD  2016/11/25  6.9185  6.9233  6.9062  6.9182     6.9182   \n",
       "12752      USD  2016/11/28  6.9217  6.9218  6.8927  6.9217     6.9217   \n",
       "12753      USD  2016/11/29  6.9062  6.9112  6.8810  6.9063     6.9063   \n",
       "12754      USD  2016/11/30  6.8977  6.9009  6.8744  6.8973     6.8973   \n",
       "12755      USD   2016/12/1  6.8908  6.8943  6.8809  6.8908     6.8908   \n",
       "12756      USD   2016/12/2  6.8765  6.8898  6.8711  6.8765     6.8765   \n",
       "12757      USD   2016/12/5  6.8855  6.8875  6.8762  6.8855     6.8855   \n",
       "12758      USD   2016/12/6  7.4784  7.4810  6.8574  6.8710     6.8710   \n",
       "12759      USD   2016/12/7  6.8810  6.8904  6.8718  6.8720     6.8720   \n",
       "12760      USD   2016/12/8  6.8795  6.8795  6.8668  6.8705     6.8705   \n",
       "12761      USD   2016/12/9  6.8789  6.9067  6.8699  6.8699     6.8699   \n",
       "12762      USD  2016/12/12  6.9067  6.9164  6.8973  6.9067     6.9067   \n",
       "12763      USD  2016/12/13  6.9059  6.9059  6.8906  6.8969     6.8969   \n",
       "12764      USD  2016/12/14  6.9007  6.9050  6.8917  6.8917     6.8917   \n",
       "12765      USD  2016/12/15  6.9038  6.9433  6.8951  6.9038     6.9038   \n",
       "12766      USD  2016/12/16  6.9433  6.9590  6.9343  6.9343     6.9343   \n",
       "12767      USD  2016/12/19  6.9583  6.9588  6.9347  6.9583     6.9583   \n",
       "12768      USD  2016/12/20  6.9530  6.9562  6.9408  6.9530     6.9530   \n",
       "12769      USD  2016/12/21  6.9498  6.9503  6.9393  6.9498     6.9498   \n",
       "12770      USD  2016/12/22  6.9414  6.9494  6.9411  6.9414     6.9414   \n",
       "12771      USD  2016/12/23  6.9493  6.9494  6.9361  6.9404     6.9404   \n",
       "12772      USD  2016/12/26  6.9452  6.9453  6.9447  6.9453     6.9453   \n",
       "12773      USD  2016/12/27  6.9447  6.9516  6.9364  6.9447     6.9447   \n",
       "12774      USD  2016/12/28  6.9516  6.9586  6.9425  6.9425     6.9425   \n",
       "12775      USD  2016/12/29  6.9581  6.9584  6.9446  6.9581     6.9581   \n",
       "12776      USD  2016/12/30  6.9546  6.9546  6.9345  6.9453     6.9453   \n",
       "\n",
       "       NR4_signal  \n",
       "0               0  \n",
       "1               0  \n",
       "2               0  \n",
       "3               0  \n",
       "4               0  \n",
       "5               0  \n",
       "6               0  \n",
       "7               0  \n",
       "8               0  \n",
       "9               0  \n",
       "10              0  \n",
       "11              0  \n",
       "12              0  \n",
       "13              0  \n",
       "14              0  \n",
       "15              0  \n",
       "16              0  \n",
       "17              0  \n",
       "18              0  \n",
       "19              0  \n",
       "20              0  \n",
       "21              0  \n",
       "22              0  \n",
       "23              0  \n",
       "24              0  \n",
       "25              0  \n",
       "26              1  \n",
       "27              0  \n",
       "28              0  \n",
       "29              0  \n",
       "...           ...  \n",
       "12747           0  \n",
       "12748           0  \n",
       "12749           0  \n",
       "12750           0  \n",
       "12751           0  \n",
       "12752           0  \n",
       "12753           0  \n",
       "12754           0  \n",
       "12755           0  \n",
       "12756           0  \n",
       "12757           0  \n",
       "12758           0  \n",
       "12759           0  \n",
       "12760           0  \n",
       "12761           0  \n",
       "12762           0  \n",
       "12763           0  \n",
       "12764           0  \n",
       "12765           0  \n",
       "12766           0  \n",
       "12767           0  \n",
       "12768           0  \n",
       "12769           0  \n",
       "12770           1  \n",
       "12771           0  \n",
       "12772           1  \n",
       "12773           0  \n",
       "12774           0  \n",
       "12775           0  \n",
       "12776           0  \n",
       "\n",
       "[12777 rows x 8 columns]"
      ]
     },
     "execution_count": 5,
     "metadata": {},
     "output_type": "execute_result"
    }
   ],
   "source": [
    "data"
   ]
  },
  {
   "cell_type": "code",
   "execution_count": 6,
   "metadata": {},
   "outputs": [],
   "source": [
    "currencies = list(set(data['Currency']))"
   ]
  },
  {
   "cell_type": "code",
   "execution_count": 7,
   "metadata": {},
   "outputs": [
    {
     "data": {
      "text/plain": [
       "['CAD', 'USD', 'JPY', 'CHF', 'SEK', 'EUR', 'GBP']"
      ]
     },
     "execution_count": 7,
     "metadata": {},
     "output_type": "execute_result"
    }
   ],
   "source": [
    "currencies"
   ]
  },
  {
   "cell_type": "code",
   "execution_count": 8,
   "metadata": {},
   "outputs": [],
   "source": [
    "pip = 0.00001"
   ]
  },
  {
   "cell_type": "code",
   "execution_count": 9,
   "metadata": {},
   "outputs": [],
   "source": [
    "daily_return_df= pd.DataFrame(columns=['Date', 'Return', 'Currency'])"
   ]
  },
  {
   "cell_type": "code",
   "execution_count": 10,
   "metadata": {},
   "outputs": [
    {
     "data": {
      "text/html": [
       "<div>\n",
       "<style scoped>\n",
       "    .dataframe tbody tr th:only-of-type {\n",
       "        vertical-align: middle;\n",
       "    }\n",
       "\n",
       "    .dataframe tbody tr th {\n",
       "        vertical-align: top;\n",
       "    }\n",
       "\n",
       "    .dataframe thead th {\n",
       "        text-align: right;\n",
       "    }\n",
       "</style>\n",
       "<table border=\"1\" class=\"dataframe\">\n",
       "  <thead>\n",
       "    <tr style=\"text-align: right;\">\n",
       "      <th></th>\n",
       "      <th>Date</th>\n",
       "      <th>Return</th>\n",
       "      <th>Currency</th>\n",
       "    </tr>\n",
       "  </thead>\n",
       "  <tbody>\n",
       "  </tbody>\n",
       "</table>\n",
       "</div>"
      ],
      "text/plain": [
       "Empty DataFrame\n",
       "Columns: [Date, Return, Currency]\n",
       "Index: []"
      ]
     },
     "execution_count": 10,
     "metadata": {},
     "output_type": "execute_result"
    }
   ],
   "source": [
    "daily_return_df"
   ]
  },
  {
   "cell_type": "code",
   "execution_count": 11,
   "metadata": {},
   "outputs": [
    {
     "name": "stderr",
     "output_type": "stream",
     "text": [
      "/anaconda3/lib/python3.7/site-packages/ipykernel_launcher.py:30: SettingWithCopyWarning: \n",
      "A value is trying to be set on a copy of a slice from a DataFrame\n",
      "\n",
      "See the caveats in the documentation: http://pandas.pydata.org/pandas-docs/stable/indexing.html#indexing-view-versus-copy\n",
      "/anaconda3/lib/python3.7/site-packages/ipykernel_launcher.py:33: SettingWithCopyWarning: \n",
      "A value is trying to be set on a copy of a slice from a DataFrame\n",
      "\n",
      "See the caveats in the documentation: http://pandas.pydata.org/pandas-docs/stable/indexing.html#indexing-view-versus-copy\n"
     ]
    }
   ],
   "source": [
    "count = [0]*7\n",
    "win = [0]*7\n",
    "lose = [0]*7\n",
    "k = 0\n",
    "for currency in currencies:\n",
    "    sub_data_df = data[data['Currency']==currency]\n",
    "    sub_result_lst = list(sub_data_df['Date'])\n",
    "    sub_result_lst = list(map(lambda x:[x, 0, currency],sub_result_lst))\n",
    "    sub_result_df = pd.DataFrame(sub_result_lst)\n",
    "    sub_result_df.rename(columns={0:'Date',1:'Return',2:'Currency'}, inplace=True)\n",
    "    for i in range(len(sub_data_df.index)-3):\n",
    "        if(sub_data_df.iloc[i]['NR4_signal'] != 1):\n",
    "            continue\n",
    "        low_price = sub_data_df.iloc[i]['Low']\n",
    "        high_price = sub_data_df.iloc[i]['High']\n",
    "        if((sub_data_df.iloc[i+1]['High'] <= high_price) and (sub_data_df.iloc[i+1]['Low'] >= low_price)):\n",
    "            continue\n",
    "        if(sub_data_df.iloc[i+1]['High'] > high_price):\n",
    "            count[k] += 1\n",
    "            buy_price = high_price + 2 * pip\n",
    "            notional = 1 / buy_price\n",
    "            if(sub_data_df.iloc[i+1]['Adj_close'] > buy_price):\n",
    "                sell_price = sub_data_df.iloc[i+1]['Adj_close']\n",
    "                sub_result_df.loc[i+1,'Return'] = (sell_price*(1-2/100000)-buy_price*(1+2/100000))*notional\n",
    "                win[k] += 1\n",
    "            else:\n",
    "                temp_lst = []\n",
    "                for j in range(i+1,i+5):\n",
    "                    if j == i+1:\n",
    "                        sub_result_df.loc[j]['Return'] = sub_result_df.iloc[j]['Return'] + (sub_data_df.iloc[j]['Adj_close']*(1-2/100000)-buy_price*(1+2/100000))*notional\n",
    "                        temp_lst.append((sub_data_df.iloc[j]['Adj_close']*(1-2/100000)-buy_price*(1+2/100000))*notional)\n",
    "                    if j != i+1:\n",
    "                        sub_result_df.loc[j]['Return'] = sub_result_df.iloc[j]['Return'] + (sub_data_df.iloc[j]['Adj_close']*(1-2/100000)-sub_data_df.iloc[j-1]['Adj_close']*(1-2/100000))*notional\n",
    "                        temp_lst.append((sub_data_df.iloc[j]['Adj_close']*(1-2/100000)-sub_data_df.iloc[j-1]['Adj_close']*(1-2/100000))*notional)\n",
    "                    if((j <= i+3) and sub_data_df.iloc[j]['Adj_close'] > buy_price):\n",
    "                        break\n",
    "                    elif((j <= i+3) and sub_data_df.iloc[j]['Adj_close'] < low_price):\n",
    "                        break\n",
    "                if(sum(temp_lst) > 0):\n",
    "                    win[k] += 1\n",
    "                else:\n",
    "                    lose[k] += 1\n",
    "        if(sub_data_df.iloc[i+1]['Low'] < low_price):\n",
    "            count[k] += 1\n",
    "            sell_price = low_price - 2 * pip\n",
    "            notional = 1 / sell_price\n",
    "            if(sub_data_df.iloc[i+1]['Adj_close'] < sell_price):\n",
    "                buy_price = sub_data_df.iloc[i+1]['Adj_close']\n",
    "                sub_result_df.loc[i+1,'Return'] = (sell_price*(1-2/100000)-buy_price*(1+2/100000))*notional\n",
    "                win[k] += 1\n",
    "            else:\n",
    "                temp_lst = []\n",
    "                for j in range(i+1,i+5):\n",
    "                    if j == i+1:\n",
    "                        sub_result_df.loc[j,'Return'] = sub_result_df.iloc[j]['Return'] + (-sub_data_df.iloc[j][6]*(1+2/100000)+sell_price*(1-2/100000))*notional\n",
    "                        temp_lst.append((-sub_data_df.iloc[j][6]*(1+2/100000)+sell_price*(1-2/100000))*notional)\n",
    "                    if j != i+1:\n",
    "                        sub_result_df.loc[j,'Return'] = sub_result_df.iloc[j]['Return'] + (-sub_data_df.iloc[j][6]*(1+2/100000)+sub_data_df.iloc[j-1][6]*(1+2/100000))*notional\n",
    "                        temp_lst.append((-sub_data_df.iloc[j][6]*(1+2/100000)+sub_data_df.iloc[j-1][6]*(1+2/100000))*notional)\n",
    "                    if((j <= i+3) and sub_data_df.iloc[j]['Adj_close'] < sell_price):\n",
    "                        break\n",
    "                    elif((j <= i+3) and sub_data_df.iloc[j]['Adj_close'] > high_price):\n",
    "                        break\n",
    "                if(sum(temp_lst) > 0):\n",
    "                    win[k] += 1\n",
    "                else:\n",
    "                    lose[k] += 1\n",
    "    k += 1\n",
    "    daily_return_df = daily_return_df.append(sub_result_df)"
   ]
  },
  {
   "cell_type": "code",
   "execution_count": 12,
   "metadata": {},
   "outputs": [
    {
     "data": {
      "text/plain": [
       "[15, 31, 16, 23, 16, 21, 13]"
      ]
     },
     "execution_count": 12,
     "metadata": {},
     "output_type": "execute_result"
    }
   ],
   "source": [
    "count"
   ]
  },
  {
   "cell_type": "code",
   "execution_count": 13,
   "metadata": {},
   "outputs": [],
   "source": [
    "daily_return_df.to_csv(\"return_new_new.csv\")"
   ]
  },
  {
   "cell_type": "code",
   "execution_count": 14,
   "metadata": {},
   "outputs": [
    {
     "data": {
      "text/html": [
       "<div>\n",
       "<style scoped>\n",
       "    .dataframe tbody tr th:only-of-type {\n",
       "        vertical-align: middle;\n",
       "    }\n",
       "\n",
       "    .dataframe tbody tr th {\n",
       "        vertical-align: top;\n",
       "    }\n",
       "\n",
       "    .dataframe thead th {\n",
       "        text-align: right;\n",
       "    }\n",
       "</style>\n",
       "<table border=\"1\" class=\"dataframe\">\n",
       "  <thead>\n",
       "    <tr style=\"text-align: right;\">\n",
       "      <th></th>\n",
       "      <th>Date</th>\n",
       "      <th>Return</th>\n",
       "      <th>Currency</th>\n",
       "    </tr>\n",
       "  </thead>\n",
       "  <tbody>\n",
       "    <tr>\n",
       "      <th>0</th>\n",
       "      <td>2010/1/1</td>\n",
       "      <td>0.0</td>\n",
       "      <td>CAD</td>\n",
       "    </tr>\n",
       "    <tr>\n",
       "      <th>1</th>\n",
       "      <td>2010/1/4</td>\n",
       "      <td>0.0</td>\n",
       "      <td>CAD</td>\n",
       "    </tr>\n",
       "    <tr>\n",
       "      <th>2</th>\n",
       "      <td>2010/1/5</td>\n",
       "      <td>0.0</td>\n",
       "      <td>CAD</td>\n",
       "    </tr>\n",
       "    <tr>\n",
       "      <th>3</th>\n",
       "      <td>2010/1/6</td>\n",
       "      <td>0.0</td>\n",
       "      <td>CAD</td>\n",
       "    </tr>\n",
       "    <tr>\n",
       "      <th>4</th>\n",
       "      <td>2010/1/7</td>\n",
       "      <td>0.0</td>\n",
       "      <td>CAD</td>\n",
       "    </tr>\n",
       "  </tbody>\n",
       "</table>\n",
       "</div>"
      ],
      "text/plain": [
       "       Date  Return Currency\n",
       "0  2010/1/1     0.0      CAD\n",
       "1  2010/1/4     0.0      CAD\n",
       "2  2010/1/5     0.0      CAD\n",
       "3  2010/1/6     0.0      CAD\n",
       "4  2010/1/7     0.0      CAD"
      ]
     },
     "execution_count": 14,
     "metadata": {},
     "output_type": "execute_result"
    }
   ],
   "source": [
    "daily_return_df.head()"
   ]
  },
  {
   "cell_type": "code",
   "execution_count": 15,
   "metadata": {},
   "outputs": [],
   "source": [
    "cumulative_return_df = daily_return_df.groupby(['Currency', 'Date']).sum().groupby(level=0).cumsum().reset_index()"
   ]
  },
  {
   "cell_type": "code",
   "execution_count": 16,
   "metadata": {},
   "outputs": [],
   "source": [
    "cumulative_return_df.to_csv(\"cumulative_return_new_new.csv\")"
   ]
  },
  {
   "cell_type": "code",
   "execution_count": 17,
   "metadata": {},
   "outputs": [
    {
     "data": {
      "text/html": [
       "<div>\n",
       "<style scoped>\n",
       "    .dataframe tbody tr th:only-of-type {\n",
       "        vertical-align: middle;\n",
       "    }\n",
       "\n",
       "    .dataframe tbody tr th {\n",
       "        vertical-align: top;\n",
       "    }\n",
       "\n",
       "    .dataframe thead th {\n",
       "        text-align: right;\n",
       "    }\n",
       "</style>\n",
       "<table border=\"1\" class=\"dataframe\">\n",
       "  <thead>\n",
       "    <tr style=\"text-align: right;\">\n",
       "      <th></th>\n",
       "      <th>Currency</th>\n",
       "      <th>Date</th>\n",
       "      <th>Return</th>\n",
       "    </tr>\n",
       "  </thead>\n",
       "  <tbody>\n",
       "    <tr>\n",
       "      <th>12772</th>\n",
       "      <td>USD</td>\n",
       "      <td>2016/9/5</td>\n",
       "      <td>-0.004336</td>\n",
       "    </tr>\n",
       "    <tr>\n",
       "      <th>12773</th>\n",
       "      <td>USD</td>\n",
       "      <td>2016/9/6</td>\n",
       "      <td>-0.004336</td>\n",
       "    </tr>\n",
       "    <tr>\n",
       "      <th>12774</th>\n",
       "      <td>USD</td>\n",
       "      <td>2016/9/7</td>\n",
       "      <td>-0.004336</td>\n",
       "    </tr>\n",
       "    <tr>\n",
       "      <th>12775</th>\n",
       "      <td>USD</td>\n",
       "      <td>2016/9/8</td>\n",
       "      <td>-0.004336</td>\n",
       "    </tr>\n",
       "    <tr>\n",
       "      <th>12776</th>\n",
       "      <td>USD</td>\n",
       "      <td>2016/9/9</td>\n",
       "      <td>-0.004336</td>\n",
       "    </tr>\n",
       "  </tbody>\n",
       "</table>\n",
       "</div>"
      ],
      "text/plain": [
       "      Currency      Date    Return\n",
       "12772      USD  2016/9/5 -0.004336\n",
       "12773      USD  2016/9/6 -0.004336\n",
       "12774      USD  2016/9/7 -0.004336\n",
       "12775      USD  2016/9/8 -0.004336\n",
       "12776      USD  2016/9/9 -0.004336"
      ]
     },
     "execution_count": 17,
     "metadata": {},
     "output_type": "execute_result"
    }
   ],
   "source": [
    "cumulative_return_df.tail()"
   ]
  },
  {
   "cell_type": "code",
   "execution_count": 18,
   "metadata": {},
   "outputs": [
    {
     "data": {
      "text/plain": [
       "Currency\n",
       "CAD    AxesSubplot(0.125,0.11;0.775x0.77)\n",
       "CHF    AxesSubplot(0.125,0.11;0.775x0.77)\n",
       "EUR    AxesSubplot(0.125,0.11;0.775x0.77)\n",
       "GBP    AxesSubplot(0.125,0.11;0.775x0.77)\n",
       "JPY    AxesSubplot(0.125,0.11;0.775x0.77)\n",
       "SEK    AxesSubplot(0.125,0.11;0.775x0.77)\n",
       "USD    AxesSubplot(0.125,0.11;0.775x0.77)\n",
       "Name: Return, dtype: object"
      ]
     },
     "execution_count": 18,
     "metadata": {},
     "output_type": "execute_result"
    }
   ],
   "source": [
    "cumulative_return_df.set_index('Date', inplace=True)\n",
    "cumulative_return_df.groupby('Currency')['Return'].plot(legend=True)"
   ]
  },
  {
   "cell_type": "code",
   "execution_count": 19,
   "metadata": {},
   "outputs": [],
   "source": [
    "daily_combined_return = daily_return_df.groupby(['Date'])['Return'].sum()"
   ]
  },
  {
   "cell_type": "code",
   "execution_count": 20,
   "metadata": {},
   "outputs": [],
   "source": [
    "cumulative_combined_return = cumulative_return_df.groupby(['Date'])['Return'].sum()"
   ]
  },
  {
   "cell_type": "code",
   "execution_count": 21,
   "metadata": {},
   "outputs": [
    {
     "data": {
      "text/plain": [
       "Date\n",
       "2010/1/1      0.000000\n",
       "2010/1/11     0.000000\n",
       "2010/1/12     0.000000\n",
       "2010/1/13     0.000000\n",
       "2010/1/14     0.000000\n",
       "2010/1/15     0.000000\n",
       "2010/1/18     0.000000\n",
       "2010/1/19     0.000000\n",
       "2010/1/20     0.000000\n",
       "2010/1/21     0.000000\n",
       "2010/1/22     0.000000\n",
       "2010/1/25     0.000000\n",
       "2010/1/26     0.000000\n",
       "2010/1/27     0.000000\n",
       "2010/1/28     0.000000\n",
       "2010/1/29     0.000000\n",
       "2010/1/4      0.000000\n",
       "2010/1/5      0.000000\n",
       "2010/1/6      0.000000\n",
       "2010/1/7      0.000000\n",
       "2010/1/8      0.000000\n",
       "2010/10/1     0.000000\n",
       "2010/10/11    0.000000\n",
       "2010/10/12    0.000000\n",
       "2010/10/13    0.000000\n",
       "2010/10/14    0.000000\n",
       "2010/10/15    0.000000\n",
       "2010/10/18    0.000000\n",
       "2010/10/19    0.000000\n",
       "2010/10/20    0.000000\n",
       "                ...   \n",
       "2016/8/29     0.000000\n",
       "2016/8/3      0.000000\n",
       "2016/8/30     0.000000\n",
       "2016/8/31     0.000000\n",
       "2016/8/4      0.000000\n",
       "2016/8/5      0.000000\n",
       "2016/8/8      0.000000\n",
       "2016/8/9      0.000000\n",
       "2016/9/1      0.000000\n",
       "2016/9/12     0.000000\n",
       "2016/9/13     0.000000\n",
       "2016/9/14     0.000000\n",
       "2016/9/15     0.000000\n",
       "2016/9/16     0.000000\n",
       "2016/9/19     0.000000\n",
       "2016/9/2      0.000182\n",
       "2016/9/20     0.000000\n",
       "2016/9/21     0.000000\n",
       "2016/9/22     0.000000\n",
       "2016/9/23     0.000000\n",
       "2016/9/26     0.000000\n",
       "2016/9/27     0.000000\n",
       "2016/9/28     0.000000\n",
       "2016/9/29     0.000000\n",
       "2016/9/30     0.000000\n",
       "2016/9/5      0.000000\n",
       "2016/9/6      0.000000\n",
       "2016/9/7      0.000000\n",
       "2016/9/8      0.000000\n",
       "2016/9/9      0.000000\n",
       "Name: Return, Length: 1826, dtype: float64"
      ]
     },
     "execution_count": 21,
     "metadata": {},
     "output_type": "execute_result"
    }
   ],
   "source": [
    "daily_combined_return"
   ]
  },
  {
   "cell_type": "code",
   "execution_count": 254,
   "metadata": {},
   "outputs": [
    {
     "data": {
      "text/plain": [
       "Date\n",
       "2010/1/1      0.000000\n",
       "2010/1/11     0.000000\n",
       "2010/1/12     0.000000\n",
       "2010/1/13     0.000000\n",
       "2010/1/14     0.000000\n",
       "2010/1/15     0.000000\n",
       "2010/1/18     0.000000\n",
       "2010/1/19     0.000000\n",
       "2010/1/20     0.000000\n",
       "2010/1/21     0.000000\n",
       "2010/1/22     0.000000\n",
       "2010/1/25     0.000000\n",
       "2010/1/26     0.000000\n",
       "2010/1/27     0.000000\n",
       "2010/1/28     0.000000\n",
       "2010/1/29     0.000000\n",
       "2010/1/4      0.000000\n",
       "2010/1/5      0.000000\n",
       "2010/1/6      0.000000\n",
       "2010/1/7      0.000000\n",
       "2010/1/8      0.000000\n",
       "2010/10/1     0.000000\n",
       "2010/10/11    0.000000\n",
       "2010/10/12    0.000000\n",
       "2010/10/13    0.000000\n",
       "2010/10/14    0.000000\n",
       "2010/10/15    0.000000\n",
       "2010/10/18    0.000000\n",
       "2010/10/19    0.000000\n",
       "2010/10/20    0.000000\n",
       "                ...   \n",
       "2016/8/29    -0.006690\n",
       "2016/8/3     -0.006690\n",
       "2016/8/30    -0.006690\n",
       "2016/8/31    -0.006690\n",
       "2016/8/4     -0.006690\n",
       "2016/8/5     -0.006690\n",
       "2016/8/8     -0.006690\n",
       "2016/8/9     -0.006690\n",
       "2016/9/1     -0.006690\n",
       "2016/9/12    -0.006690\n",
       "2016/9/13    -0.006690\n",
       "2016/9/14    -0.006690\n",
       "2016/9/15    -0.006690\n",
       "2016/9/16    -0.006690\n",
       "2016/9/19    -0.006690\n",
       "2016/9/2     -0.006509\n",
       "2016/9/20    -0.006509\n",
       "2016/9/21    -0.006509\n",
       "2016/9/22    -0.006509\n",
       "2016/9/23    -0.006509\n",
       "2016/9/26    -0.006509\n",
       "2016/9/27    -0.006509\n",
       "2016/9/28    -0.006509\n",
       "2016/9/29    -0.006509\n",
       "2016/9/30    -0.006509\n",
       "2016/9/5     -0.006509\n",
       "2016/9/6     -0.006509\n",
       "2016/9/7     -0.006509\n",
       "2016/9/8     -0.006509\n",
       "2016/9/9     -0.006509\n",
       "Name: Return, Length: 1826, dtype: float64"
      ]
     },
     "execution_count": 254,
     "metadata": {},
     "output_type": "execute_result"
    }
   ],
   "source": [
    "cumulative_combined_return"
   ]
  },
  {
   "cell_type": "code",
   "execution_count": 255,
   "metadata": {},
   "outputs": [],
   "source": [
    "#type(cumulative_combined_return)"
   ]
  },
  {
   "cell_type": "code",
   "execution_count": 22,
   "metadata": {},
   "outputs": [],
   "source": [
    "daily_combined_return = daily_combined_return.apply(lambda x:x / 7)"
   ]
  },
  {
   "cell_type": "code",
   "execution_count": 23,
   "metadata": {},
   "outputs": [],
   "source": [
    "cumulative_combined_return = cumulative_combined_return.apply(lambda x:x / 7)"
   ]
  },
  {
   "cell_type": "code",
   "execution_count": 24,
   "metadata": {},
   "outputs": [
    {
     "name": "stderr",
     "output_type": "stream",
     "text": [
      "/anaconda3/lib/python3.7/site-packages/ipykernel_launcher.py:1: FutureWarning: The signature of `Series.to_csv` was aligned to that of `DataFrame.to_csv`, and argument 'header' will change its default value from False to True: please pass an explicit value to suppress this warning.\n",
      "  \"\"\"Entry point for launching an IPython kernel.\n"
     ]
    }
   ],
   "source": [
    "cumulative_combined_return.to_csv(\"cumulative_all_return_new_new.csv\")"
   ]
  },
  {
   "cell_type": "code",
   "execution_count": 25,
   "metadata": {},
   "outputs": [],
   "source": [
    "daily_combined_return.columns=['Date','Return']"
   ]
  },
  {
   "cell_type": "code",
   "execution_count": 26,
   "metadata": {},
   "outputs": [
    {
     "data": {
      "text/plain": [
       "Date\n",
       "2010/1/1     0.0\n",
       "2010/1/11    0.0\n",
       "2010/1/12    0.0\n",
       "2010/1/13    0.0\n",
       "2010/1/14    0.0\n",
       "Name: Return, dtype: float64"
      ]
     },
     "execution_count": 26,
     "metadata": {},
     "output_type": "execute_result"
    }
   ],
   "source": [
    "daily_combined_return.head()"
   ]
  },
  {
   "cell_type": "code",
   "execution_count": 27,
   "metadata": {},
   "outputs": [],
   "source": [
    "#daily_combined_df.values.tolist()[-15]"
   ]
  },
  {
   "cell_type": "code",
   "execution_count": 28,
   "metadata": {},
   "outputs": [],
   "source": [
    "cumulative_combined_return_lst = cumulative_combined_return.values.tolist()"
   ]
  },
  {
   "cell_type": "code",
   "execution_count": 29,
   "metadata": {},
   "outputs": [
    {
     "data": {
      "text/plain": [
       "<matplotlib.axes._subplots.AxesSubplot at 0x122445908>"
      ]
     },
     "execution_count": 29,
     "metadata": {},
     "output_type": "execute_result"
    },
    {
     "data": {
      "image/png": "[encoded data removed]",
      "text/plain": [
       "<Figure size 432x288 with 1 Axes>"
      ]
     },
     "metadata": {
      "needs_background": "light"
     },
     "output_type": "display_data"
    }
   ],
   "source": [
    "cumulative_combined_return.plot()"
   ]
  },
  {
   "cell_type": "code",
   "execution_count": 30,
   "metadata": {},
   "outputs": [
    {
     "data": {
      "text/plain": [
       "<matplotlib.axes._subplots.AxesSubplot at 0x122517978>"
      ]
     },
     "execution_count": 30,
     "metadata": {},
     "output_type": "execute_result"
    },
    {
     "data": {
      "image/png": "[encoded data removed]",
      "text/plain": [
       "<Figure size 432x288 with 1 Axes>"
      ]
     },
     "metadata": {
      "needs_background": "light"
     },
     "output_type": "display_data"
    }
   ],
   "source": [
    "daily_combined_return.plot()"
   ]
  },
  {
   "cell_type": "code",
   "execution_count": 31,
   "metadata": {},
   "outputs": [],
   "source": [
    "daily_combined_return_lst = daily_combined_return.values.tolist()"
   ]
  },
  {
   "cell_type": "code",
   "execution_count": 32,
   "metadata": {},
   "outputs": [
    {
     "data": {
      "text/plain": [
       "-0.039773895820464776"
      ]
     },
     "execution_count": 32,
     "metadata": {},
     "output_type": "execute_result"
    }
   ],
   "source": [
    "import statistics \n",
    "import math\n",
    "risk_free_rate = 0\n",
    "Sharpe_ratio = math.sqrt(252) * (statistics.mean(daily_combined_return_lst)-risk_free_rate)/statistics.stdev(daily_combined_return_lst)\n",
    "Sharpe_ratio"
   ]
  },
  {
   "cell_type": "code",
   "execution_count": 33,
   "metadata": {},
   "outputs": [
    {
     "data": {
      "text/plain": [
       "-0.00012831815879364386"
      ]
     },
     "execution_count": 33,
     "metadata": {},
     "output_type": "execute_result"
    }
   ],
   "source": [
    "252 * statistics.mean(daily_combined_return_lst)"
   ]
  },
  {
   "cell_type": "code",
   "execution_count": 34,
   "metadata": {},
   "outputs": [
    {
     "data": {
      "text/plain": [
       "0.003226190347881904"
      ]
     },
     "execution_count": 34,
     "metadata": {},
     "output_type": "execute_result"
    }
   ],
   "source": [
    "math.sqrt(252) * statistics.stdev(daily_combined_return_lst)"
   ]
  },
  {
   "cell_type": "code",
   "execution_count": 35,
   "metadata": {},
   "outputs": [],
   "source": [
    "#final_all_df.skew(axis = 0)"
   ]
  },
  {
   "cell_type": "code",
   "execution_count": 36,
   "metadata": {},
   "outputs": [
    {
     "data": {
      "text/plain": [
       "5.460539408096272"
      ]
     },
     "execution_count": 36,
     "metadata": {},
     "output_type": "execute_result"
    }
   ],
   "source": [
    "def find_skewness(lst):\n",
    "    n = len(lst)\n",
    "    mean = statistics.mean(lst)\n",
    "    m_2 = sum(list(map(lambda x:(x-mean)**2, lst))) / n\n",
    "    m_3 = sum(list(map(lambda x:(x-mean)**3, lst))) / n\n",
    "    if m_2 == 0:\n",
    "        return 0\n",
    "    else:\n",
    "        skewness = math.sqrt(n*(n-1))/(n-2)*m_3/m_2**1.5\n",
    "        return skewness\n",
    "skewness = find_skewness(daily_combined_return_lst)\n",
    "skewness"
   ]
  },
  {
   "cell_type": "code",
   "execution_count": 37,
   "metadata": {},
   "outputs": [
    {
     "data": {
      "text/plain": [
       "155.33832372296246"
      ]
     },
     "execution_count": 37,
     "metadata": {},
     "output_type": "execute_result"
    }
   ],
   "source": [
    "def find_kurtosis(lst):\n",
    "    n = len(lst)\n",
    "    mean = statistics.mean(lst)\n",
    "    m_2 = sum(list(map(lambda x:(x-mean)**2, lst))) / n\n",
    "    m_4 = sum(list(map(lambda x:(x-mean)**4, lst))) / n\n",
    "    kurtosis = (n-1)/((n-2)*(n-3)) * ((n+1)*m_4/m_2**2-3*(n-1))\n",
    "    return kurtosis\n",
    "kurtosis = find_kurtosis(daily_combined_return_lst)\n",
    "kurtosis"
   ]
  },
  {
   "cell_type": "code",
   "execution_count": 38,
   "metadata": {},
   "outputs": [],
   "source": [
    "return_mean = daily_return_df.groupby(['Currency'])['Return'].mean()"
   ]
  },
  {
   "cell_type": "code",
   "execution_count": 39,
   "metadata": {
    "scrolled": true
   },
   "outputs": [],
   "source": [
    "return_mean = return_mean.apply(lambda x:x * 252)"
   ]
  },
  {
   "cell_type": "code",
   "execution_count": 40,
   "metadata": {},
   "outputs": [
    {
     "data": {
      "text/plain": [
       "Currency\n",
       "CAD   -0.002097\n",
       "CHF   -0.002060\n",
       "EUR    0.005086\n",
       "GBP    0.003469\n",
       "JPY   -0.002539\n",
       "SEK   -0.002159\n",
       "USD   -0.000599\n",
       "Name: Return, dtype: float64"
      ]
     },
     "execution_count": 40,
     "metadata": {},
     "output_type": "execute_result"
    }
   ],
   "source": [
    "return_mean"
   ]
  },
  {
   "cell_type": "code",
   "execution_count": 41,
   "metadata": {},
   "outputs": [],
   "source": [
    "return_std = daily_return_df.groupby(['Currency'])['Return'].std()"
   ]
  },
  {
   "cell_type": "code",
   "execution_count": 42,
   "metadata": {},
   "outputs": [],
   "source": [
    "return_std = return_std.apply(lambda x:x * 252**0.5)"
   ]
  },
  {
   "cell_type": "code",
   "execution_count": 43,
   "metadata": {},
   "outputs": [
    {
     "data": {
      "text/plain": [
       "Currency\n",
       "CAD    0.004327\n",
       "CHF    0.013354\n",
       "EUR    0.011129\n",
       "GBP    0.008661\n",
       "JPY    0.007986\n",
       "SEK    0.004837\n",
       "USD    0.000969\n",
       "Name: Return, dtype: float64"
      ]
     },
     "execution_count": 43,
     "metadata": {},
     "output_type": "execute_result"
    }
   ],
   "source": [
    "return_std"
   ]
  },
  {
   "cell_type": "code",
   "execution_count": 44,
   "metadata": {},
   "outputs": [
    {
     "data": {
      "text/plain": [
       "[-0.002096997025296977,\n",
       " -0.002060281665065298,\n",
       " 0.005085831156049528,\n",
       " 0.003468824237339488,\n",
       " -0.0025388590082266794,\n",
       " -0.002159070178793568,\n",
       " -0.0005987645201690646]"
      ]
     },
     "execution_count": 44,
     "metadata": {},
     "output_type": "execute_result"
    }
   ],
   "source": [
    "return_mean_lst = return_mean.values.tolist()\n",
    "return_mean_lst"
   ]
  },
  {
   "cell_type": "code",
   "execution_count": 279,
   "metadata": {},
   "outputs": [
    {
     "data": {
      "text/plain": [
       "[0.004326963304772962,\n",
       " 0.013353650377400546,\n",
       " 0.011129372912440056,\n",
       " 0.008660505963213747,\n",
       " 0.007985736210945704,\n",
       " 0.004836529840048552,\n",
       " 0.0009685678393147795]"
      ]
     },
     "execution_count": 279,
     "metadata": {},
     "output_type": "execute_result"
    }
   ],
   "source": [
    "return_vol_lst = return_std.values.tolist()\n",
    "return_vol_lst"
   ]
  },
  {
   "cell_type": "code",
   "execution_count": 280,
   "metadata": {},
   "outputs": [
    {
     "data": {
      "text/plain": [
       "[['CAD', -0.48463480681332183],\n",
       " ['CHF', -0.15428602717891118],\n",
       " ['EUR', 0.4569737393168621],\n",
       " ['GBP', 0.4005336699811328],\n",
       " ['JPY', -0.3179242265411641],\n",
       " ['SEK', -0.44640894405644643],\n",
       " ['USD', -0.6181957482634]]"
      ]
     },
     "execution_count": 280,
     "metadata": {},
     "output_type": "execute_result"
    }
   ],
   "source": [
    "sharpe_ratio_lst = []\n",
    "currency_lst = ['CAD','CHF','EUR','GBP','JPY','SEK','USD']\n",
    "for i in range(len(return_mean_lst)):\n",
    "    sharpe_ratio_lst.append([currency_lst[i],return_mean_lst[i]/return_vol_lst[i]])\n",
    "sharpe_ratio_lst"
   ]
  },
  {
   "cell_type": "code",
   "execution_count": 281,
   "metadata": {},
   "outputs": [
    {
     "data": {
      "text/plain": [
       "[15, 23, 21, 13, 16, 16, 31]"
      ]
     },
     "execution_count": 281,
     "metadata": {},
     "output_type": "execute_result"
    }
   ],
   "source": [
    "count"
   ]
  },
  {
   "cell_type": "code",
   "execution_count": 282,
   "metadata": {},
   "outputs": [
    {
     "data": {
      "text/plain": [
       "[9, 14, 15, 11, 11, 10, 16]"
      ]
     },
     "execution_count": 282,
     "metadata": {},
     "output_type": "execute_result"
    }
   ],
   "source": [
    "win"
   ]
  },
  {
   "cell_type": "code",
   "execution_count": 283,
   "metadata": {},
   "outputs": [
    {
     "data": {
      "text/plain": [
       "[6, 9, 6, 2, 5, 6, 15]"
      ]
     },
     "execution_count": 283,
     "metadata": {},
     "output_type": "execute_result"
    }
   ],
   "source": [
    "lose"
   ]
  },
  {
   "cell_type": "code",
   "execution_count": 284,
   "metadata": {},
   "outputs": [],
   "source": [
    "win_rates = []\n",
    "for i in range(len(win)):\n",
    "    win_rates.append([currencies[i],win[i]/count[i]])"
   ]
  },
  {
   "cell_type": "code",
   "execution_count": 285,
   "metadata": {},
   "outputs": [
    {
     "data": {
      "text/plain": [
       "[['CAD', 0.6],\n",
       " ['CHF', 0.6086956521739131],\n",
       " ['EUR', 0.7142857142857143],\n",
       " ['GBP', 0.8461538461538461],\n",
       " ['JPY', 0.6875],\n",
       " ['SEK', 0.625],\n",
       " ['USD', 0.5161290322580645]]"
      ]
     },
     "execution_count": 285,
     "metadata": {},
     "output_type": "execute_result"
    }
   ],
   "source": [
    "win_rates"
   ]
  },
  {
   "cell_type": "code",
   "execution_count": 286,
   "metadata": {},
   "outputs": [
    {
     "data": {
      "text/plain": [
       "0.6370370370370371"
      ]
     },
     "execution_count": 286,
     "metadata": {},
     "output_type": "execute_result"
    }
   ],
   "source": [
    "total_win_rate = sum(win)/sum(count)\n",
    "total_win_rate"
   ]
  },
  {
   "cell_type": "code",
   "execution_count": 287,
   "metadata": {},
   "outputs": [],
   "source": [
    "return_skewness = daily_return_df.groupby(['Currency'])['Return'].apply(find_skewness)"
   ]
  },
  {
   "cell_type": "code",
   "execution_count": 288,
   "metadata": {},
   "outputs": [
    {
     "data": {
      "text/plain": [
       "Currency\n",
       "CAD   -15.922723\n",
       "CHF     2.934025\n",
       "EUR    18.994994\n",
       "GBP    34.761285\n",
       "JPY     0.529200\n",
       "SEK   -10.202066\n",
       "USD   -17.090694\n",
       "Name: Return, dtype: float64"
      ]
     },
     "execution_count": 288,
     "metadata": {},
     "output_type": "execute_result"
    }
   ],
   "source": [
    "return_skewness"
   ]
  },
  {
   "cell_type": "code",
   "execution_count": 289,
   "metadata": {},
   "outputs": [
    {
     "data": {
      "text/plain": [
       "Currency\n",
       "CAD     451.247781\n",
       "CHF     603.760024\n",
       "EUR     591.069591\n",
       "GBP    1384.068749\n",
       "JPY     215.861577\n",
       "SEK     276.360552\n",
       "USD     384.382298\n",
       "Name: Return, dtype: float64"
      ]
     },
     "execution_count": 289,
     "metadata": {},
     "output_type": "execute_result"
    }
   ],
   "source": [
    "return_kurtosis = daily_return_df.groupby(['Currency'])['Return'].apply(pd.DataFrame.kurt)\n",
    "return_kurtosis"
   ]
  },
  {
   "cell_type": "code",
   "execution_count": null,
   "metadata": {},
   "outputs": [],
   "source": []
  },
  {
   "cell_type": "code",
   "execution_count": null,
   "metadata": {},
   "outputs": [],
   "source": []
  }
 ],
 "metadata": {
  "kernelspec": {
   "display_name": "Python 3",
   "language": "python",
   "name": "python3"
  },
  "language_info": {
   "codemirror_mode": {
    "name": "ipython",
    "version": 3
   },
   "file_extension": ".py",
   "mimetype": "text/x-python",
   "name": "python",
   "nbconvert_exporter": "python",
   "pygments_lexer": "ipython3",
   "version": "3.7.7"
  }
 },
 "nbformat": 4,
 "nbformat_minor": 2
}
