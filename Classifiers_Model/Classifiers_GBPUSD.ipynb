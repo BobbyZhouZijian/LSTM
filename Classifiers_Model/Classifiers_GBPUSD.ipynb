{
 "cells": [
  {
   "cell_type": "markdown",
   "metadata": {},
   "source": [
    "# Classifiers"
   ]
  },
  {
   "cell_type": "code",
   "execution_count": 1,
   "metadata": {},
   "outputs": [],
   "source": [
    "# Important packages\n",
    "import pandas as pd\n",
    "import numpy as np\n",
    "import ta\n",
    "import matplotlib.pyplot as plt\n",
    "\n",
    "from sklearn.model_selection import train_test_split\n",
    "from sklearn.metrics import accuracy_score\n",
    "from sklearn.feature_selection import SelectKBest, chi2\n",
    "\n",
    "from sklearn.linear_model import LogisticRegression\n",
    "from sklearn.ensemble import RandomForestClassifier\n",
    "from sklearn.svm import SVC\n",
    "from xgboost import XGBClassifier"
   ]
  },
  {
   "cell_type": "code",
   "execution_count": 2,
   "metadata": {},
   "outputs": [],
   "source": [
    "currency = \"GBPUSD\""
   ]
  },
  {
   "cell_type": "code",
   "execution_count": 3,
   "metadata": {},
   "outputs": [],
   "source": [
    "df = pd.read_parquet('../Dataframes/df_' + currency + '.parquet.gzip')"
   ]
  },
  {
   "cell_type": "code",
   "execution_count": 4,
   "metadata": {},
   "outputs": [],
   "source": [
    "# Make date the index\n",
    "df.index = df[\"date\"]\n",
    "df.drop([\"date\"], axis=1, inplace=True)"
   ]
  },
  {
   "cell_type": "code",
   "execution_count": 5,
   "metadata": {},
   "outputs": [
    {
     "data": {
      "text/html": [
       "<div>\n",
       "<style scoped>\n",
       "    .dataframe tbody tr th:only-of-type {\n",
       "        vertical-align: middle;\n",
       "    }\n",
       "\n",
       "    .dataframe tbody tr th {\n",
       "        vertical-align: top;\n",
       "    }\n",
       "\n",
       "    .dataframe thead th {\n",
       "        text-align: right;\n",
       "    }\n",
       "</style>\n",
       "<table border=\"1\" class=\"dataframe\">\n",
       "  <thead>\n",
       "    <tr style=\"text-align: right;\">\n",
       "      <th></th>\n",
       "      <th>open</th>\n",
       "      <th>high</th>\n",
       "      <th>low</th>\n",
       "      <th>close</th>\n",
       "      <th>delta</th>\n",
       "      <th>slope_3</th>\n",
       "      <th>slope_4</th>\n",
       "      <th>slope_5</th>\n",
       "      <th>slope_10</th>\n",
       "      <th>slope_20</th>\n",
       "      <th>...</th>\n",
       "      <th>roc_13</th>\n",
       "      <th>roc_14</th>\n",
       "      <th>roc_15</th>\n",
       "      <th>wcp_15</th>\n",
       "      <th>macd_15_30</th>\n",
       "      <th>cci_15</th>\n",
       "      <th>hi_avg_2</th>\n",
       "      <th>lo_avg_2</th>\n",
       "      <th>hilo_avg_2</th>\n",
       "      <th>hilo_avg</th>\n",
       "    </tr>\n",
       "    <tr>\n",
       "      <th>date</th>\n",
       "      <th></th>\n",
       "      <th></th>\n",
       "      <th></th>\n",
       "      <th></th>\n",
       "      <th></th>\n",
       "      <th></th>\n",
       "      <th></th>\n",
       "      <th></th>\n",
       "      <th></th>\n",
       "      <th></th>\n",
       "      <th></th>\n",
       "      <th></th>\n",
       "      <th></th>\n",
       "      <th></th>\n",
       "      <th></th>\n",
       "      <th></th>\n",
       "      <th></th>\n",
       "      <th></th>\n",
       "      <th></th>\n",
       "      <th></th>\n",
       "      <th></th>\n",
       "    </tr>\n",
       "  </thead>\n",
       "  <tbody>\n",
       "    <tr>\n",
       "      <th>11/2/2000</th>\n",
       "      <td>1.6087</td>\n",
       "      <td>1.6104</td>\n",
       "      <td>1.5879</td>\n",
       "      <td>1.5927</td>\n",
       "      <td>0.0</td>\n",
       "      <td>-220.541232</td>\n",
       "      <td>-148.374761</td>\n",
       "      <td>116.575200</td>\n",
       "      <td>-107.755377</td>\n",
       "      <td>-251.128297</td>\n",
       "      <td>...</td>\n",
       "      <td>-3.167558</td>\n",
       "      <td>-3.694522</td>\n",
       "      <td>-3.267537</td>\n",
       "      <td>1.614067</td>\n",
       "      <td>-0.008967</td>\n",
       "      <td>-86.662888</td>\n",
       "      <td>1.61380</td>\n",
       "      <td>1.59660</td>\n",
       "      <td>1.605200</td>\n",
       "      <td>1.59915</td>\n",
       "    </tr>\n",
       "    <tr>\n",
       "      <th>14/2/2000</th>\n",
       "      <td>1.5927</td>\n",
       "      <td>1.5971</td>\n",
       "      <td>1.5860</td>\n",
       "      <td>1.5873</td>\n",
       "      <td>0.0</td>\n",
       "      <td>-96.150780</td>\n",
       "      <td>-124.492058</td>\n",
       "      <td>-143.325143</td>\n",
       "      <td>-106.453867</td>\n",
       "      <td>-249.893985</td>\n",
       "      <td>...</td>\n",
       "      <td>-3.213415</td>\n",
       "      <td>-3.495866</td>\n",
       "      <td>-4.021042</td>\n",
       "      <td>1.610986</td>\n",
       "      <td>-0.009996</td>\n",
       "      <td>-110.447349</td>\n",
       "      <td>1.60375</td>\n",
       "      <td>1.58695</td>\n",
       "      <td>1.595350</td>\n",
       "      <td>1.59155</td>\n",
       "    </tr>\n",
       "    <tr>\n",
       "      <th>15/2/2000</th>\n",
       "      <td>1.5873</td>\n",
       "      <td>1.5976</td>\n",
       "      <td>1.5851</td>\n",
       "      <td>1.5960</td>\n",
       "      <td>1.0</td>\n",
       "      <td>-112.616576</td>\n",
       "      <td>-122.682684</td>\n",
       "      <td>-147.339957</td>\n",
       "      <td>-117.987932</td>\n",
       "      <td>-248.908844</td>\n",
       "      <td>...</td>\n",
       "      <td>-2.629492</td>\n",
       "      <td>-2.682927</td>\n",
       "      <td>-2.966926</td>\n",
       "      <td>1.608822</td>\n",
       "      <td>-0.010231</td>\n",
       "      <td>-89.798011</td>\n",
       "      <td>1.59735</td>\n",
       "      <td>1.58555</td>\n",
       "      <td>1.591450</td>\n",
       "      <td>1.59135</td>\n",
       "    </tr>\n",
       "    <tr>\n",
       "      <th>16/2/2000</th>\n",
       "      <td>1.5960</td>\n",
       "      <td>1.6100</td>\n",
       "      <td>1.5946</td>\n",
       "      <td>1.6072</td>\n",
       "      <td>1.0</td>\n",
       "      <td>120.778978</td>\n",
       "      <td>-2.117010</td>\n",
       "      <td>-87.880276</td>\n",
       "      <td>-35.636482</td>\n",
       "      <td>-248.159165</td>\n",
       "      <td>...</td>\n",
       "      <td>-0.973506</td>\n",
       "      <td>-1.946190</td>\n",
       "      <td>-2.000000</td>\n",
       "      <td>1.608313</td>\n",
       "      <td>-0.009664</td>\n",
       "      <td>-20.623657</td>\n",
       "      <td>1.60380</td>\n",
       "      <td>1.58985</td>\n",
       "      <td>1.596825</td>\n",
       "      <td>1.60230</td>\n",
       "    </tr>\n",
       "    <tr>\n",
       "      <th>17/2/2000</th>\n",
       "      <td>1.6072</td>\n",
       "      <td>1.6138</td>\n",
       "      <td>1.6027</td>\n",
       "      <td>1.6083</td>\n",
       "      <td>1.0</td>\n",
       "      <td>112.855285</td>\n",
       "      <td>142.663121</td>\n",
       "      <td>80.169944</td>\n",
       "      <td>27.926070</td>\n",
       "      <td>-250.532839</td>\n",
       "      <td>...</td>\n",
       "      <td>-0.458006</td>\n",
       "      <td>-0.905730</td>\n",
       "      <td>-1.879080</td>\n",
       "      <td>1.608309</td>\n",
       "      <td>-0.009055</td>\n",
       "      <td>23.711340</td>\n",
       "      <td>1.61190</td>\n",
       "      <td>1.59865</td>\n",
       "      <td>1.605275</td>\n",
       "      <td>1.60825</td>\n",
       "    </tr>\n",
       "  </tbody>\n",
       "</table>\n",
       "<p>5 rows × 34 columns</p>\n",
       "</div>"
      ],
      "text/plain": [
       "             open    high     low   close  delta     slope_3     slope_4  \\\n",
       "date                                                                       \n",
       "11/2/2000  1.6087  1.6104  1.5879  1.5927    0.0 -220.541232 -148.374761   \n",
       "14/2/2000  1.5927  1.5971  1.5860  1.5873    0.0  -96.150780 -124.492058   \n",
       "15/2/2000  1.5873  1.5976  1.5851  1.5960    1.0 -112.616576 -122.682684   \n",
       "16/2/2000  1.5960  1.6100  1.5946  1.6072    1.0  120.778978   -2.117010   \n",
       "17/2/2000  1.6072  1.6138  1.6027  1.6083    1.0  112.855285  142.663121   \n",
       "\n",
       "              slope_5    slope_10    slope_20  ...    roc_13    roc_14  \\\n",
       "date                                           ...                       \n",
       "11/2/2000  116.575200 -107.755377 -251.128297  ... -3.167558 -3.694522   \n",
       "14/2/2000 -143.325143 -106.453867 -249.893985  ... -3.213415 -3.495866   \n",
       "15/2/2000 -147.339957 -117.987932 -248.908844  ... -2.629492 -2.682927   \n",
       "16/2/2000  -87.880276  -35.636482 -248.159165  ... -0.973506 -1.946190   \n",
       "17/2/2000   80.169944   27.926070 -250.532839  ... -0.458006 -0.905730   \n",
       "\n",
       "             roc_15    wcp_15  macd_15_30      cci_15  hi_avg_2  lo_avg_2  \\\n",
       "date                                                                        \n",
       "11/2/2000 -3.267537  1.614067   -0.008967  -86.662888   1.61380   1.59660   \n",
       "14/2/2000 -4.021042  1.610986   -0.009996 -110.447349   1.60375   1.58695   \n",
       "15/2/2000 -2.966926  1.608822   -0.010231  -89.798011   1.59735   1.58555   \n",
       "16/2/2000 -2.000000  1.608313   -0.009664  -20.623657   1.60380   1.58985   \n",
       "17/2/2000 -1.879080  1.608309   -0.009055   23.711340   1.61190   1.59865   \n",
       "\n",
       "           hilo_avg_2  hilo_avg  \n",
       "date                             \n",
       "11/2/2000    1.605200   1.59915  \n",
       "14/2/2000    1.595350   1.59155  \n",
       "15/2/2000    1.591450   1.59135  \n",
       "16/2/2000    1.596825   1.60230  \n",
       "17/2/2000    1.605275   1.60825  \n",
       "\n",
       "[5 rows x 34 columns]"
      ]
     },
     "execution_count": 5,
     "metadata": {},
     "output_type": "execute_result"
    }
   ],
   "source": [
    "df.head()"
   ]
  },
  {
   "cell_type": "code",
   "execution_count": 6,
   "metadata": {},
   "outputs": [],
   "source": [
    "# Make df['delta'] the expected output\n",
    "target = df['delta']\n",
    "df.drop(['delta'], axis = 1, inplace = True)"
   ]
  },
  {
   "cell_type": "code",
   "execution_count": 7,
   "metadata": {},
   "outputs": [],
   "source": [
    "# Features\n",
    "feat_labels = ['open', 'high', 'low', 'close', 'wclose', 'so_3', 'so_4', 'so_5',\n",
    "       'so_8', 'so_9', 'so_10', 'wr_6', 'wr_7', 'wr_8', 'wr_9', 'wr_10',\n",
    "       'roc_12', 'roc_13', 'roc_14', 'roc_15', 'wcp_15', 'macd_15_30',\n",
    "       'cci_15', 'hi_avg_2', 'lo_avg_2', 'hilo_avg_2', 'hilo_avg', 'slope_3',\n",
    "       'slope_4', 'slope_5', 'slope_10', 'slope_20', 'slope_30']"
   ]
  },
  {
   "cell_type": "markdown",
   "metadata": {},
   "source": [
    "## Random Forest Classifier"
   ]
  },
  {
   "cell_type": "markdown",
   "metadata": {},
   "source": [
    "#### All features"
   ]
  },
  {
   "cell_type": "code",
   "execution_count": 8,
   "metadata": {},
   "outputs": [
    {
     "name": "stdout",
     "output_type": "stream",
     "text": [
      "RandomForest accuracy :  0.7819693094629157\n"
     ]
    }
   ],
   "source": [
    "# Train and Test samples\n",
    "train_size = int(len(df) * 0.7)\n",
    "X_train, X_test = df[:train_size], df[train_size:]\n",
    "y_train, y_test = target[:train_size], target[train_size:]\n",
    "\n",
    "rf_model = RandomForestClassifier(n_estimators=20, max_depth=2, random_state=0)\n",
    "\n",
    "rf_model.fit(X_train, y_train)\n",
    "\n",
    "print(\"RandomForest accuracy : \",accuracy_score(y_test, rf_model.predict(X_test), normalize = True))"
   ]
  },
  {
   "cell_type": "markdown",
   "metadata": {},
   "source": [
    "#### Features Selection"
   ]
  },
  {
   "cell_type": "code",
   "execution_count": 9,
   "metadata": {},
   "outputs": [],
   "source": [
    "top_n_features = 10"
   ]
  },
  {
   "cell_type": "code",
   "execution_count": 10,
   "metadata": {
    "scrolled": true
   },
   "outputs": [
    {
     "data": {
      "image/png": "[encoded data removed]",
      "text/plain": [
       "<Figure size 432x288 with 1 Axes>"
      ]
     },
     "metadata": {
      "needs_background": "light"
     },
     "output_type": "display_data"
    }
   ],
   "source": [
    "feat_importances = pd.Series(rf_model.feature_importances_, index=X_train.columns)\n",
    "feat_importances.nlargest(top_n_features).plot(kind='barh')\n",
    "plt.show()"
   ]
  },
  {
   "cell_type": "code",
   "execution_count": 11,
   "metadata": {
    "scrolled": true
   },
   "outputs": [],
   "source": [
    "top_feats = list(feat_importances.nlargest(top_n_features).index)\n",
    "df2 = df[top_feats]"
   ]
  },
  {
   "cell_type": "markdown",
   "metadata": {},
   "source": [
    "#### Top N Features"
   ]
  },
  {
   "cell_type": "code",
   "execution_count": 12,
   "metadata": {},
   "outputs": [
    {
     "name": "stdout",
     "output_type": "stream",
     "text": [
      "RandomForest accuracy :  0.7768542199488491\n"
     ]
    }
   ],
   "source": [
    "# Train and Test samples\n",
    "train_size = int(len(df2) * 0.7)\n",
    "X_train, X_test = df2[:train_size], df2[train_size:]\n",
    "y_train, y_test = target[:train_size], target[train_size:]\n",
    "\n",
    "rf_model = RandomForestClassifier(n_estimators=20, max_depth=2, random_state=0)\n",
    "\n",
    "rf_model.fit(X_train, y_train)\n",
    "\n",
    "print(\"RandomForest accuracy : \",accuracy_score(y_test, rf_model.predict(X_test), normalize = True))"
   ]
  },
  {
   "cell_type": "code",
   "execution_count": 13,
   "metadata": {},
   "outputs": [],
   "source": [
    "rf_pred = rf_model.predict(df2)"
   ]
  },
  {
   "cell_type": "markdown",
   "metadata": {},
   "source": [
    "## Support Vector Machine Classifier (with RBF kernel)"
   ]
  },
  {
   "cell_type": "code",
   "execution_count": 14,
   "metadata": {},
   "outputs": [
    {
     "name": "stdout",
     "output_type": "stream",
     "text": [
      "RBF-SVC accuracy :  0.47634271099744246\n"
     ]
    }
   ],
   "source": [
    "# Train and Test samples\n",
    "train_size = int(len(df) * 0.7)\n",
    "X_train, X_test = df[:train_size], df[train_size:]\n",
    "y_train, y_test = target[:train_size], target[train_size:]\n",
    "\n",
    "svm_model = SVC(kernel='rbf',random_state=0, gamma='auto')\n",
    "\n",
    "svm_model.fit(X_train, y_train)\n",
    "\n",
    "print(\"RBF-SVC accuracy : \",accuracy_score(y_test, svm_model.predict(X_test), normalize = True))"
   ]
  },
  {
   "cell_type": "code",
   "execution_count": 15,
   "metadata": {},
   "outputs": [],
   "source": [
    "svm_pred = svm_model.predict(df)"
   ]
  },
  {
   "cell_type": "markdown",
   "metadata": {},
   "source": [
    "## XGBoost"
   ]
  },
  {
   "cell_type": "markdown",
   "metadata": {},
   "source": [
    "#### All Features"
   ]
  },
  {
   "cell_type": "code",
   "execution_count": 16,
   "metadata": {},
   "outputs": [
    {
     "name": "stdout",
     "output_type": "stream",
     "text": [
      "XGBoost accuracy :  0.8343989769820972\n"
     ]
    }
   ],
   "source": [
    "# Train and Test samples\n",
    "train_size = int(len(df) * 0.7)\n",
    "X_train, X_test = df[:train_size], df[train_size:]\n",
    "y_train, y_test = target[:train_size], target[train_size:]\n",
    "\n",
    "boost_model = XGBClassifier()\n",
    "\n",
    "boost_model.fit(X_train, y_train)\n",
    "\n",
    "print(\"XGBoost accuracy : \",accuracy_score(y_test, boost_model.predict(X_test), normalize = True))"
   ]
  },
  {
   "cell_type": "markdown",
   "metadata": {},
   "source": [
    "#### Features Selection"
   ]
  },
  {
   "cell_type": "code",
   "execution_count": 17,
   "metadata": {},
   "outputs": [],
   "source": [
    "top_n_features = 10"
   ]
  },
  {
   "cell_type": "code",
   "execution_count": 18,
   "metadata": {
    "scrolled": true
   },
   "outputs": [
    {
     "data": {
      "image/png": "[encoded data removed]",
      "text/plain": [
       "<Figure size 432x288 with 1 Axes>"
      ]
     },
     "metadata": {
      "needs_background": "light"
     },
     "output_type": "display_data"
    }
   ],
   "source": [
    "feat_importances = pd.Series(boost_model.feature_importances_, index=X_train.columns)\n",
    "feat_importances.nlargest(top_n_features).plot(kind='barh')\n",
    "plt.show()"
   ]
  },
  {
   "cell_type": "code",
   "execution_count": 19,
   "metadata": {
    "scrolled": true
   },
   "outputs": [],
   "source": [
    "top_feats = list(feat_importances.nlargest(top_n_features).index)\n",
    "df2 = df[top_feats]"
   ]
  },
  {
   "cell_type": "markdown",
   "metadata": {},
   "source": [
    "#### Top N Features"
   ]
  },
  {
   "cell_type": "code",
   "execution_count": 20,
   "metadata": {},
   "outputs": [
    {
     "name": "stdout",
     "output_type": "stream",
     "text": [
      "XGBoost accuracy :  0.8267263427109974\n"
     ]
    }
   ],
   "source": [
    "# Train and Test samples\n",
    "train_size = int(len(df2) * 0.7)\n",
    "X_train, X_test = df2[:train_size], df2[train_size:]\n",
    "y_train, y_test = target[:train_size], target[train_size:]\n",
    "\n",
    "boost_model = XGBClassifier()\n",
    "\n",
    "boost_model.fit(X_train, y_train)\n",
    "\n",
    "print(\"XGBoost accuracy : \",accuracy_score(y_test, boost_model.predict(X_test), normalize = True))"
   ]
  },
  {
   "cell_type": "code",
   "execution_count": 21,
   "metadata": {},
   "outputs": [],
   "source": [
    "boost_pred = boost_model.predict(df2)"
   ]
  },
  {
   "cell_type": "markdown",
   "metadata": {},
   "source": [
    "## Logistic Regression to form meta classifier"
   ]
  },
  {
   "cell_type": "code",
   "execution_count": 22,
   "metadata": {},
   "outputs": [
    {
     "data": {
      "text/html": [
       "<div>\n",
       "<style scoped>\n",
       "    .dataframe tbody tr th:only-of-type {\n",
       "        vertical-align: middle;\n",
       "    }\n",
       "\n",
       "    .dataframe tbody tr th {\n",
       "        vertical-align: top;\n",
       "    }\n",
       "\n",
       "    .dataframe thead th {\n",
       "        text-align: right;\n",
       "    }\n",
       "</style>\n",
       "<table border=\"1\" class=\"dataframe\">\n",
       "  <thead>\n",
       "    <tr style=\"text-align: right;\">\n",
       "      <th></th>\n",
       "      <th>RandomForest</th>\n",
       "      <th>XGBoost</th>\n",
       "    </tr>\n",
       "  </thead>\n",
       "  <tbody>\n",
       "    <tr>\n",
       "      <th>0</th>\n",
       "      <td>0.0</td>\n",
       "      <td>0.0</td>\n",
       "    </tr>\n",
       "    <tr>\n",
       "      <th>1</th>\n",
       "      <td>0.0</td>\n",
       "      <td>0.0</td>\n",
       "    </tr>\n",
       "    <tr>\n",
       "      <th>2</th>\n",
       "      <td>0.0</td>\n",
       "      <td>1.0</td>\n",
       "    </tr>\n",
       "    <tr>\n",
       "      <th>3</th>\n",
       "      <td>1.0</td>\n",
       "      <td>1.0</td>\n",
       "    </tr>\n",
       "    <tr>\n",
       "      <th>4</th>\n",
       "      <td>1.0</td>\n",
       "      <td>1.0</td>\n",
       "    </tr>\n",
       "  </tbody>\n",
       "</table>\n",
       "</div>"
      ],
      "text/plain": [
       "   RandomForest  XGBoost\n",
       "0           0.0      0.0\n",
       "1           0.0      0.0\n",
       "2           0.0      1.0\n",
       "3           1.0      1.0\n",
       "4           1.0      1.0"
      ]
     },
     "execution_count": 22,
     "metadata": {},
     "output_type": "execute_result"
    }
   ],
   "source": [
    "dataset = pd.DataFrame({'RandomForest':rf_pred, \n",
    "                        #'SVM':svm_pred, \n",
    "                        'XGBoost':boost_pred}, \n",
    "                       columns=['RandomForest', 'XGBoost'])\n",
    "dataset.head(n=5)"
   ]
  },
  {
   "cell_type": "code",
   "execution_count": 23,
   "metadata": {},
   "outputs": [
    {
     "name": "stdout",
     "output_type": "stream",
     "text": [
      "Logistic Regression accuracy :  0.8267263427109974\n"
     ]
    }
   ],
   "source": [
    "# Train and Test samples\n",
    "train_size = int(len(dataset) * 0.7)\n",
    "X_train, X_test = dataset[:train_size], dataset[train_size:]\n",
    "y_train, y_test = target[:train_size], target[train_size:]\n",
    "\n",
    "regressor = LogisticRegression(solver='lbfgs')\n",
    "\n",
    "regressor.fit(X_train, y_train)\n",
    "\n",
    "print(\"Logistic Regression accuracy : \",accuracy_score(y_test, regressor.predict(X_test), normalize = True))"
   ]
  },
  {
   "cell_type": "code",
   "execution_count": 24,
   "metadata": {},
   "outputs": [],
   "source": [
    "# Note how the accuracy is exactly the same as the XGBoost accuracy, this means that the model is simply spitting out the XGBoost model predictions, as confirmed by the .coef_"
   ]
  },
  {
   "cell_type": "code",
   "execution_count": 25,
   "metadata": {},
   "outputs": [
    {
     "data": {
      "text/plain": [
       "array([[1.11961561, 9.55768943]])"
      ]
     },
     "execution_count": 25,
     "metadata": {},
     "output_type": "execute_result"
    }
   ],
   "source": [
    "regressor.coef_"
   ]
  },
  {
   "cell_type": "code",
   "execution_count": 26,
   "metadata": {},
   "outputs": [],
   "source": [
    "ohls=df[['open','high','low','close']]"
   ]
  },
  {
   "cell_type": "code",
   "execution_count": 27,
   "metadata": {},
   "outputs": [
    {
     "data": {
      "text/plain": [
       "(5212, 4)"
      ]
     },
     "execution_count": 27,
     "metadata": {},
     "output_type": "execute_result"
    }
   ],
   "source": [
    "ohls.shape"
   ]
  },
  {
   "cell_type": "code",
   "execution_count": 28,
   "metadata": {},
   "outputs": [
    {
     "data": {
      "text/html": [
       "<div>\n",
       "<style scoped>\n",
       "    .dataframe tbody tr th:only-of-type {\n",
       "        vertical-align: middle;\n",
       "    }\n",
       "\n",
       "    .dataframe tbody tr th {\n",
       "        vertical-align: top;\n",
       "    }\n",
       "\n",
       "    .dataframe thead th {\n",
       "        text-align: right;\n",
       "    }\n",
       "</style>\n",
       "<table border=\"1\" class=\"dataframe\">\n",
       "  <thead>\n",
       "    <tr style=\"text-align: right;\">\n",
       "      <th></th>\n",
       "      <th>open</th>\n",
       "      <th>high</th>\n",
       "      <th>low</th>\n",
       "      <th>close</th>\n",
       "    </tr>\n",
       "    <tr>\n",
       "      <th>date</th>\n",
       "      <th></th>\n",
       "      <th></th>\n",
       "      <th></th>\n",
       "      <th></th>\n",
       "    </tr>\n",
       "  </thead>\n",
       "  <tbody>\n",
       "    <tr>\n",
       "      <th>11/2/2000</th>\n",
       "      <td>1.6087</td>\n",
       "      <td>1.6104</td>\n",
       "      <td>1.5879</td>\n",
       "      <td>1.5927</td>\n",
       "    </tr>\n",
       "    <tr>\n",
       "      <th>14/2/2000</th>\n",
       "      <td>1.5927</td>\n",
       "      <td>1.5971</td>\n",
       "      <td>1.5860</td>\n",
       "      <td>1.5873</td>\n",
       "    </tr>\n",
       "    <tr>\n",
       "      <th>15/2/2000</th>\n",
       "      <td>1.5873</td>\n",
       "      <td>1.5976</td>\n",
       "      <td>1.5851</td>\n",
       "      <td>1.5960</td>\n",
       "    </tr>\n",
       "    <tr>\n",
       "      <th>16/2/2000</th>\n",
       "      <td>1.5960</td>\n",
       "      <td>1.6100</td>\n",
       "      <td>1.5946</td>\n",
       "      <td>1.6072</td>\n",
       "    </tr>\n",
       "    <tr>\n",
       "      <th>17/2/2000</th>\n",
       "      <td>1.6072</td>\n",
       "      <td>1.6138</td>\n",
       "      <td>1.6027</td>\n",
       "      <td>1.6083</td>\n",
       "    </tr>\n",
       "  </tbody>\n",
       "</table>\n",
       "</div>"
      ],
      "text/plain": [
       "             open    high     low   close\n",
       "date                                     \n",
       "11/2/2000  1.6087  1.6104  1.5879  1.5927\n",
       "14/2/2000  1.5927  1.5971  1.5860  1.5873\n",
       "15/2/2000  1.5873  1.5976  1.5851  1.5960\n",
       "16/2/2000  1.5960  1.6100  1.5946  1.6072\n",
       "17/2/2000  1.6072  1.6138  1.6027  1.6083"
      ]
     },
     "execution_count": 28,
     "metadata": {},
     "output_type": "execute_result"
    }
   ],
   "source": [
    "ohls.head()"
   ]
  },
  {
   "cell_type": "code",
   "execution_count": 29,
   "metadata": {},
   "outputs": [],
   "source": [
    "alpha_df=ohls[train_size:]"
   ]
  },
  {
   "cell_type": "code",
   "execution_count": 30,
   "metadata": {},
   "outputs": [
    {
     "data": {
      "text/plain": [
       "array([1., 0., 1., ..., 1., 1., 0.])"
      ]
     },
     "execution_count": 30,
     "metadata": {},
     "output_type": "execute_result"
    }
   ],
   "source": [
    "regressor.predict(X_test)"
   ]
  },
  {
   "cell_type": "code",
   "execution_count": 31,
   "metadata": {},
   "outputs": [
    {
     "name": "stderr",
     "output_type": "stream",
     "text": [
      "/usr/local/lib/python3.7/site-packages/ipykernel_launcher.py:1: SettingWithCopyWarning: \n",
      "A value is trying to be set on a copy of a slice from a DataFrame.\n",
      "Try using .loc[row_indexer,col_indexer] = value instead\n",
      "\n",
      "See the caveats in the documentation: https://pandas.pydata.org/pandas-docs/stable/user_guide/indexing.html#returning-a-view-versus-a-copy\n",
      "  \"\"\"Entry point for launching an IPython kernel.\n"
     ]
    }
   ],
   "source": [
    "alpha_df['delta']=regressor.predict(X_test)"
   ]
  },
  {
   "cell_type": "code",
   "execution_count": 32,
   "metadata": {},
   "outputs": [
    {
     "data": {
      "text/html": [
       "<div>\n",
       "<style scoped>\n",
       "    .dataframe tbody tr th:only-of-type {\n",
       "        vertical-align: middle;\n",
       "    }\n",
       "\n",
       "    .dataframe tbody tr th {\n",
       "        vertical-align: top;\n",
       "    }\n",
       "\n",
       "    .dataframe thead th {\n",
       "        text-align: right;\n",
       "    }\n",
       "</style>\n",
       "<table border=\"1\" class=\"dataframe\">\n",
       "  <thead>\n",
       "    <tr style=\"text-align: right;\">\n",
       "      <th></th>\n",
       "      <th>open</th>\n",
       "      <th>high</th>\n",
       "      <th>low</th>\n",
       "      <th>close</th>\n",
       "      <th>delta</th>\n",
       "    </tr>\n",
       "    <tr>\n",
       "      <th>date</th>\n",
       "      <th></th>\n",
       "      <th></th>\n",
       "      <th></th>\n",
       "      <th></th>\n",
       "      <th></th>\n",
       "    </tr>\n",
       "  </thead>\n",
       "  <tbody>\n",
       "    <tr>\n",
       "      <th>5/2/2014</th>\n",
       "      <td>1.6325</td>\n",
       "      <td>1.6341</td>\n",
       "      <td>1.6252</td>\n",
       "      <td>1.6309</td>\n",
       "      <td>1.0</td>\n",
       "    </tr>\n",
       "    <tr>\n",
       "      <th>6/2/2014</th>\n",
       "      <td>1.6309</td>\n",
       "      <td>1.6349</td>\n",
       "      <td>1.6273</td>\n",
       "      <td>1.6322</td>\n",
       "      <td>0.0</td>\n",
       "    </tr>\n",
       "    <tr>\n",
       "      <th>7/2/2014</th>\n",
       "      <td>1.6322</td>\n",
       "      <td>1.6418</td>\n",
       "      <td>1.6302</td>\n",
       "      <td>1.6410</td>\n",
       "      <td>1.0</td>\n",
       "    </tr>\n",
       "    <tr>\n",
       "      <th>10/2/2014</th>\n",
       "      <td>1.6410</td>\n",
       "      <td>1.6428</td>\n",
       "      <td>1.6383</td>\n",
       "      <td>1.6403</td>\n",
       "      <td>1.0</td>\n",
       "    </tr>\n",
       "    <tr>\n",
       "      <th>11/2/2014</th>\n",
       "      <td>1.6403</td>\n",
       "      <td>1.6487</td>\n",
       "      <td>1.6392</td>\n",
       "      <td>1.6450</td>\n",
       "      <td>1.0</td>\n",
       "    </tr>\n",
       "    <tr>\n",
       "      <th>12/2/2014</th>\n",
       "      <td>1.6450</td>\n",
       "      <td>1.6600</td>\n",
       "      <td>1.6426</td>\n",
       "      <td>1.6595</td>\n",
       "      <td>1.0</td>\n",
       "    </tr>\n",
       "    <tr>\n",
       "      <th>13/2/2014</th>\n",
       "      <td>1.6595</td>\n",
       "      <td>1.6673</td>\n",
       "      <td>1.6593</td>\n",
       "      <td>1.6659</td>\n",
       "      <td>1.0</td>\n",
       "    </tr>\n",
       "    <tr>\n",
       "      <th>14/2/2014</th>\n",
       "      <td>1.6659</td>\n",
       "      <td>1.6756</td>\n",
       "      <td>1.6645</td>\n",
       "      <td>1.6747</td>\n",
       "      <td>1.0</td>\n",
       "    </tr>\n",
       "    <tr>\n",
       "      <th>17/2/2014</th>\n",
       "      <td>1.6747</td>\n",
       "      <td>1.6823</td>\n",
       "      <td>1.6696</td>\n",
       "      <td>1.6714</td>\n",
       "      <td>0.0</td>\n",
       "    </tr>\n",
       "    <tr>\n",
       "      <th>18/2/2014</th>\n",
       "      <td>1.6714</td>\n",
       "      <td>1.6742</td>\n",
       "      <td>1.6655</td>\n",
       "      <td>1.6684</td>\n",
       "      <td>0.0</td>\n",
       "    </tr>\n",
       "  </tbody>\n",
       "</table>\n",
       "</div>"
      ],
      "text/plain": [
       "             open    high     low   close  delta\n",
       "date                                            \n",
       "5/2/2014   1.6325  1.6341  1.6252  1.6309    1.0\n",
       "6/2/2014   1.6309  1.6349  1.6273  1.6322    0.0\n",
       "7/2/2014   1.6322  1.6418  1.6302  1.6410    1.0\n",
       "10/2/2014  1.6410  1.6428  1.6383  1.6403    1.0\n",
       "11/2/2014  1.6403  1.6487  1.6392  1.6450    1.0\n",
       "12/2/2014  1.6450  1.6600  1.6426  1.6595    1.0\n",
       "13/2/2014  1.6595  1.6673  1.6593  1.6659    1.0\n",
       "14/2/2014  1.6659  1.6756  1.6645  1.6747    1.0\n",
       "17/2/2014  1.6747  1.6823  1.6696  1.6714    0.0\n",
       "18/2/2014  1.6714  1.6742  1.6655  1.6684    0.0"
      ]
     },
     "execution_count": 32,
     "metadata": {},
     "output_type": "execute_result"
    }
   ],
   "source": [
    "alpha_df.head(n=10)"
   ]
  },
  {
   "cell_type": "code",
   "execution_count": 33,
   "metadata": {},
   "outputs": [
    {
     "data": {
      "text/plain": [
       "1.0"
      ]
     },
     "execution_count": 33,
     "metadata": {},
     "output_type": "execute_result"
    }
   ],
   "source": [
    "alpha_df.iloc[2]['delta']"
   ]
  },
  {
   "cell_type": "code",
   "execution_count": 34,
   "metadata": {},
   "outputs": [
    {
     "name": "stdout",
     "output_type": "stream",
     "text": [
      "81185.55020000019 -124234.39249999968 0\n"
     ]
    }
   ],
   "source": [
    "capital=100000\n",
    "cumulative_profit = 0\n",
    "shares = 0\n",
    "for i in range(len(alpha_df)):\n",
    "    curr_delta=alpha_df.iloc[i]['delta']\n",
    "    \n",
    "    if i>0 and curr_delta==0 and (shares or alpha_df.iloc[i]['close']<alpha_df.iloc[i-1]['close']): # if shares at hand\n",
    "        cumulative_profit+= (alpha_df.iloc[i]['close']-alpha_df.iloc[i-1]['close'])*shares\n",
    "    \n",
    "    \n",
    "    if curr_delta == 0:\n",
    "        capital += shares*alpha_df.iloc[i]['close']\n",
    "        shares=0\n",
    "    elif shares==0: # curr_delta is 1 and shares\n",
    "        shares+=capital//alpha_df.iloc[i]['close']\n",
    "        capital-=shares*alpha_df.iloc[i]['close']\n",
    "        \n",
    "print (capital,cumulative_profit,shares)"
   ]
  },
  {
   "cell_type": "code",
   "execution_count": 35,
   "metadata": {},
   "outputs": [
    {
     "data": {
      "image/png": "[encoded data removed]",
      "text/plain": [
       "<Figure size 1080x360 with 1 Axes>"
      ]
     },
     "metadata": {
      "needs_background": "light"
     },
     "output_type": "display_data"
    },
    {
     "name": "stdout",
     "output_type": "stream",
     "text": [
      "new capital:  81186.74784641687 cumulative_profit:  -18813.252153583366\n"
     ]
    }
   ],
   "source": [
    "capital=100000\n",
    "cumulative_profit = 0\n",
    "unit_per_trade = 1000\n",
    "daily_pnl = []\n",
    "for i in range(len(alpha_df)-1):\n",
    "    curr_delta=alpha_df.iloc[i]['delta']\n",
    "    shares = capital // alpha_df.iloc[i+1]['open']\n",
    "    change = 0\n",
    "    if curr_delta == 1:\n",
    "        change = (alpha_df.iloc[i+1]['close']-alpha_df.iloc[i+1]['open']) * shares\n",
    "        capital += change\n",
    "        cumulative_profit += change\n",
    "    else:\n",
    "        change = ((alpha_df.iloc[i+1]['open']-alpha_df.iloc[i+1]['close'])/alpha_df.iloc[i+1]['open'])*unit_per_trade\n",
    "        capital += change\n",
    "        cumulative_profit += change\n",
    "    daily_pnl.append(change)    \n",
    "    \n",
    "daily_pnl = np.array(daily_pnl)\n",
    "plt.figure(figsize=(15, 5))\n",
    "plt.plot(daily_pnl.cumsum())\n",
    "plt.title(currency)\n",
    "plt.show()\n",
    "print (\"new capital: \", capital, \"cumulative_profit: \", cumulative_profit)"
   ]
  },
  {
   "cell_type": "code",
   "execution_count": 36,
   "metadata": {},
   "outputs": [
    {
     "data": {
      "text/plain": [
       "-0.49517685043273035"
      ]
     },
     "execution_count": 36,
     "metadata": {},
     "output_type": "execute_result"
    }
   ],
   "source": [
    "# calculate sharpe ratio\n",
    "\n",
    "sharpe = np.sqrt(252) * (daily_pnl.mean()) / (daily_pnl.std())\n",
    "sharpe"
   ]
  },
  {
   "cell_type": "code",
   "execution_count": 37,
   "metadata": {},
   "outputs": [
    {
     "data": {
      "text/plain": [
       "0.9872122762148338"
      ]
     },
     "execution_count": 37,
     "metadata": {},
     "output_type": "execute_result"
    }
   ],
   "source": [
    "# calculate win/loss ratio\n",
    "\n",
    "wins = 0\n",
    "losses = 0\n",
    "\n",
    "length = len(daily_pnl)\n",
    "\n",
    "for i in range(length):\n",
    "    if daily_pnl[i] > 0:\n",
    "        wins += 1\n",
    "    elif daily_pnl[i] < 0:\n",
    "        losses += 1\n",
    "\n",
    "wl = wins / losses\n",
    "wl"
   ]
  },
  {
   "cell_type": "code",
   "execution_count": 38,
   "metadata": {},
   "outputs": [
    {
     "name": "stdout",
     "output_type": "stream",
     "text": [
      "drawdown is: 831.0449291615564 , from day 16 , to day 34\n"
     ]
    }
   ],
   "source": [
    "# maximum drawdown\n",
    "cumsum = daily_pnl.cumsum()\n",
    "maxm = 0\n",
    "drawdown = 0\n",
    "cur_low = 0\n",
    "size = len(cumsum)\n",
    "\n",
    "final_start = 0\n",
    "final_end = 0\n",
    "\n",
    "start_date = 0\n",
    "end_date = 0\n",
    "\n",
    "for i in range(1, size):\n",
    "    cur_val = cumsum[i]\n",
    "    if cur_val >= maxm:\n",
    "        \n",
    "        drawdown = max(drawdown, maxm - cur_low)\n",
    "        \n",
    "        if drawdown == maxm - cur_low:\n",
    "            final_start = start_date\n",
    "            final_end = end_date\n",
    "            \n",
    "        maxm = cur_val\n",
    "        cur_low = cur_val\n",
    "        \n",
    "        start_date = i\n",
    "    else:\n",
    "        cur_low = min(cur_low, cur_val)\n",
    "        if cur_low == cur_val:\n",
    "            end_date = i\n",
    "\n",
    "print('drawdown is:', drawdown, ', from day', final_start, ', to day', final_end)"
   ]
  },
  {
   "cell_type": "code",
   "execution_count": null,
   "metadata": {},
   "outputs": [],
   "source": []
  }
 ],
 "metadata": {
  "kernelspec": {
   "display_name": "Python 3",
   "language": "python",
   "name": "python3"
  },
  "language_info": {
   "codemirror_mode": {
    "name": "ipython",
    "version": 3
   },
   "file_extension": ".py",
   "mimetype": "text/x-python",
   "name": "python",
   "nbconvert_exporter": "python",
   "pygments_lexer": "ipython3",
   "version": "3.7.7"
  }
 },
 "nbformat": 4,
 "nbformat_minor": 2
}
