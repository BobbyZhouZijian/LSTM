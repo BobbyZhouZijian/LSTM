{
 "cells": [
  {
   "cell_type": "markdown",
   "metadata": {},
   "source": [
    "# Classifiers"
   ]
  },
  {
   "cell_type": "code",
   "execution_count": 38,
   "metadata": {},
   "outputs": [],
   "source": [
    "# Important packages\n",
    "import pandas as pd\n",
    "import numpy as np\n",
    "import ta\n",
    "import matplotlib.pyplot as plt\n",
    "\n",
    "from sklearn.model_selection import train_test_split\n",
    "from sklearn.metrics import accuracy_score\n",
    "from sklearn.feature_selection import SelectKBest, chi2\n",
    "\n",
    "from sklearn.linear_model import LogisticRegression\n",
    "from sklearn.ensemble import RandomForestClassifier\n",
    "from sklearn.svm import SVC\n",
    "from xgboost import XGBClassifier"
   ]
  },
  {
   "cell_type": "code",
   "execution_count": 39,
   "metadata": {},
   "outputs": [],
   "source": [
    "df = pd.read_parquet('../Dataframes/df_EURUSD.parquet.gzip')"
   ]
  },
  {
   "cell_type": "code",
   "execution_count": 40,
   "metadata": {},
   "outputs": [],
   "source": [
    "# Make date the index\n",
    "df.index = df[\"date\"]\n",
    "df.drop([\"date\"], axis=1, inplace=True)"
   ]
  },
  {
   "cell_type": "code",
   "execution_count": 41,
   "metadata": {},
   "outputs": [
    {
     "data": {
      "text/html": [
       "<div>\n",
       "<style scoped>\n",
       "    .dataframe tbody tr th:only-of-type {\n",
       "        vertical-align: middle;\n",
       "    }\n",
       "\n",
       "    .dataframe tbody tr th {\n",
       "        vertical-align: top;\n",
       "    }\n",
       "\n",
       "    .dataframe thead th {\n",
       "        text-align: right;\n",
       "    }\n",
       "</style>\n",
       "<table border=\"1\" class=\"dataframe\">\n",
       "  <thead>\n",
       "    <tr style=\"text-align: right;\">\n",
       "      <th></th>\n",
       "      <th>open</th>\n",
       "      <th>high</th>\n",
       "      <th>low</th>\n",
       "      <th>close</th>\n",
       "      <th>delta</th>\n",
       "      <th>slope_3</th>\n",
       "      <th>slope_4</th>\n",
       "      <th>slope_5</th>\n",
       "      <th>slope_10</th>\n",
       "      <th>slope_20</th>\n",
       "      <th>...</th>\n",
       "      <th>roc_13</th>\n",
       "      <th>roc_14</th>\n",
       "      <th>roc_15</th>\n",
       "      <th>wcp_15</th>\n",
       "      <th>macd_15_30</th>\n",
       "      <th>cci_15</th>\n",
       "      <th>hi_avg_2</th>\n",
       "      <th>lo_avg_2</th>\n",
       "      <th>hilo_avg_2</th>\n",
       "      <th>hilo_avg</th>\n",
       "    </tr>\n",
       "    <tr>\n",
       "      <th>date</th>\n",
       "      <th></th>\n",
       "      <th></th>\n",
       "      <th></th>\n",
       "      <th></th>\n",
       "      <th></th>\n",
       "      <th></th>\n",
       "      <th></th>\n",
       "      <th></th>\n",
       "      <th></th>\n",
       "      <th></th>\n",
       "      <th></th>\n",
       "      <th></th>\n",
       "      <th></th>\n",
       "      <th></th>\n",
       "      <th></th>\n",
       "      <th></th>\n",
       "      <th></th>\n",
       "      <th></th>\n",
       "      <th></th>\n",
       "      <th></th>\n",
       "      <th></th>\n",
       "    </tr>\n",
       "  </thead>\n",
       "  <tbody>\n",
       "    <tr>\n",
       "      <th>11/2/2000</th>\n",
       "      <td>0.9852</td>\n",
       "      <td>0.9880</td>\n",
       "      <td>0.9787</td>\n",
       "      <td>0.9870</td>\n",
       "      <td>1.0</td>\n",
       "      <td>-182.288029</td>\n",
       "      <td>-107.547908</td>\n",
       "      <td>110.180352</td>\n",
       "      <td>267.659617</td>\n",
       "      <td>-332.418693</td>\n",
       "      <td>...</td>\n",
       "      <td>-1.408451</td>\n",
       "      <td>-1.986097</td>\n",
       "      <td>-1.575588</td>\n",
       "      <td>0.989968</td>\n",
       "      <td>-0.008951</td>\n",
       "      <td>-18.604988</td>\n",
       "      <td>0.99210</td>\n",
       "      <td>0.98095</td>\n",
       "      <td>0.986525</td>\n",
       "      <td>0.98335</td>\n",
       "    </tr>\n",
       "    <tr>\n",
       "      <th>14/2/2000</th>\n",
       "      <td>0.9870</td>\n",
       "      <td>0.9915</td>\n",
       "      <td>0.9775</td>\n",
       "      <td>0.9782</td>\n",
       "      <td>0.0</td>\n",
       "      <td>-138.806852</td>\n",
       "      <td>-232.694564</td>\n",
       "      <td>-163.570730</td>\n",
       "      <td>243.455671</td>\n",
       "      <td>-326.011450</td>\n",
       "      <td>...</td>\n",
       "      <td>-2.238657</td>\n",
       "      <td>-2.287484</td>\n",
       "      <td>-2.859980</td>\n",
       "      <td>0.988890</td>\n",
       "      <td>-0.009095</td>\n",
       "      <td>-29.003535</td>\n",
       "      <td>0.98975</td>\n",
       "      <td>0.97810</td>\n",
       "      <td>0.983925</td>\n",
       "      <td>0.98450</td>\n",
       "    </tr>\n",
       "    <tr>\n",
       "      <th>15/2/2000</th>\n",
       "      <td>0.9782</td>\n",
       "      <td>0.9864</td>\n",
       "      <td>0.9764</td>\n",
       "      <td>0.9816</td>\n",
       "      <td>1.0</td>\n",
       "      <td>-117.589417</td>\n",
       "      <td>-229.011008</td>\n",
       "      <td>-290.630887</td>\n",
       "      <td>82.508251</td>\n",
       "      <td>-324.186875</td>\n",
       "      <td>...</td>\n",
       "      <td>-0.677932</td>\n",
       "      <td>-1.898861</td>\n",
       "      <td>-1.947857</td>\n",
       "      <td>0.987967</td>\n",
       "      <td>-0.008934</td>\n",
       "      <td>-28.932141</td>\n",
       "      <td>0.98895</td>\n",
       "      <td>0.97695</td>\n",
       "      <td>0.982950</td>\n",
       "      <td>0.98140</td>\n",
       "    </tr>\n",
       "    <tr>\n",
       "      <th>16/2/2000</th>\n",
       "      <td>0.9816</td>\n",
       "      <td>0.9873</td>\n",
       "      <td>0.9791</td>\n",
       "      <td>0.9865</td>\n",
       "      <td>1.0</td>\n",
       "      <td>-283.400810</td>\n",
       "      <td>-240.963855</td>\n",
       "      <td>-299.068878</td>\n",
       "      <td>-241.600482</td>\n",
       "      <td>-321.825656</td>\n",
       "      <td>...</td>\n",
       "      <td>0.941369</td>\n",
       "      <td>-0.182131</td>\n",
       "      <td>-1.409155</td>\n",
       "      <td>0.987577</td>\n",
       "      <td>-0.008434</td>\n",
       "      <td>22.823606</td>\n",
       "      <td>0.98685</td>\n",
       "      <td>0.97775</td>\n",
       "      <td>0.982300</td>\n",
       "      <td>0.98320</td>\n",
       "    </tr>\n",
       "    <tr>\n",
       "      <th>17/2/2000</th>\n",
       "      <td>0.9865</td>\n",
       "      <td>0.9952</td>\n",
       "      <td>0.9842</td>\n",
       "      <td>0.9881</td>\n",
       "      <td>1.0</td>\n",
       "      <td>187.686620</td>\n",
       "      <td>121.212121</td>\n",
       "      <td>192.351211</td>\n",
       "      <td>-27.659384</td>\n",
       "      <td>-293.587579</td>\n",
       "      <td>...</td>\n",
       "      <td>1.750592</td>\n",
       "      <td>1.105085</td>\n",
       "      <td>-0.020237</td>\n",
       "      <td>0.987742</td>\n",
       "      <td>-0.007860</td>\n",
       "      <td>102.152374</td>\n",
       "      <td>0.99125</td>\n",
       "      <td>0.98165</td>\n",
       "      <td>0.986450</td>\n",
       "      <td>0.98970</td>\n",
       "    </tr>\n",
       "  </tbody>\n",
       "</table>\n",
       "<p>5 rows × 34 columns</p>\n",
       "</div>"
      ],
      "text/plain": [
       "             open    high     low   close  delta     slope_3     slope_4  \\\n",
       "date                                                                       \n",
       "11/2/2000  0.9852  0.9880  0.9787  0.9870    1.0 -182.288029 -107.547908   \n",
       "14/2/2000  0.9870  0.9915  0.9775  0.9782    0.0 -138.806852 -232.694564   \n",
       "15/2/2000  0.9782  0.9864  0.9764  0.9816    1.0 -117.589417 -229.011008   \n",
       "16/2/2000  0.9816  0.9873  0.9791  0.9865    1.0 -283.400810 -240.963855   \n",
       "17/2/2000  0.9865  0.9952  0.9842  0.9881    1.0  187.686620  121.212121   \n",
       "\n",
       "              slope_5    slope_10    slope_20  ...    roc_13    roc_14  \\\n",
       "date                                           ...                       \n",
       "11/2/2000  110.180352  267.659617 -332.418693  ... -1.408451 -1.986097   \n",
       "14/2/2000 -163.570730  243.455671 -326.011450  ... -2.238657 -2.287484   \n",
       "15/2/2000 -290.630887   82.508251 -324.186875  ... -0.677932 -1.898861   \n",
       "16/2/2000 -299.068878 -241.600482 -321.825656  ...  0.941369 -0.182131   \n",
       "17/2/2000  192.351211  -27.659384 -293.587579  ...  1.750592  1.105085   \n",
       "\n",
       "             roc_15    wcp_15  macd_15_30      cci_15  hi_avg_2  lo_avg_2  \\\n",
       "date                                                                        \n",
       "11/2/2000 -1.575588  0.989968   -0.008951  -18.604988   0.99210   0.98095   \n",
       "14/2/2000 -2.859980  0.988890   -0.009095  -29.003535   0.98975   0.97810   \n",
       "15/2/2000 -1.947857  0.987967   -0.008934  -28.932141   0.98895   0.97695   \n",
       "16/2/2000 -1.409155  0.987577   -0.008434   22.823606   0.98685   0.97775   \n",
       "17/2/2000 -0.020237  0.987742   -0.007860  102.152374   0.99125   0.98165   \n",
       "\n",
       "           hilo_avg_2  hilo_avg  \n",
       "date                             \n",
       "11/2/2000    0.986525   0.98335  \n",
       "14/2/2000    0.983925   0.98450  \n",
       "15/2/2000    0.982950   0.98140  \n",
       "16/2/2000    0.982300   0.98320  \n",
       "17/2/2000    0.986450   0.98970  \n",
       "\n",
       "[5 rows x 34 columns]"
      ]
     },
     "execution_count": 41,
     "metadata": {},
     "output_type": "execute_result"
    }
   ],
   "source": [
    "df.head()"
   ]
  },
  {
   "cell_type": "code",
   "execution_count": 42,
   "metadata": {},
   "outputs": [],
   "source": [
    "# Make df['delta'] the expected output\n",
    "target = df['delta']\n",
    "df.drop(['delta'], axis = 1, inplace = True)"
   ]
  },
  {
   "cell_type": "code",
   "execution_count": 43,
   "metadata": {},
   "outputs": [],
   "source": [
    "# Features\n",
    "feat_labels = ['open', 'high', 'low', 'close', 'wclose', 'so_3', 'so_4', 'so_5',\n",
    "       'so_8', 'so_9', 'so_10', 'wr_6', 'wr_7', 'wr_8', 'wr_9', 'wr_10',\n",
    "       'roc_12', 'roc_13', 'roc_14', 'roc_15', 'wcp_15', 'macd_15_30',\n",
    "       'cci_15', 'hi_avg_2', 'lo_avg_2', 'hilo_avg_2', 'hilo_avg', 'slope_3',\n",
    "       'slope_4', 'slope_5', 'slope_10', 'slope_20', 'slope_30']"
   ]
  },
  {
   "cell_type": "markdown",
   "metadata": {},
   "source": [
    "## Random Forest Classifier"
   ]
  },
  {
   "cell_type": "markdown",
   "metadata": {},
   "source": [
    "#### All features"
   ]
  },
  {
   "cell_type": "code",
   "execution_count": 44,
   "metadata": {},
   "outputs": [
    {
     "name": "stdout",
     "output_type": "stream",
     "text": [
      "RandomForest accuracy :  0.7627877237851662\n"
     ]
    }
   ],
   "source": [
    "# Train and Test samples\n",
    "train_size = int(len(df) * 0.7)\n",
    "X_train, X_test = df[:train_size], df[train_size:]\n",
    "y_train, y_test = target[:train_size], target[train_size:]\n",
    "\n",
    "rf_model = RandomForestClassifier(n_estimators=20, max_depth=2, random_state=0)\n",
    "\n",
    "rf_model.fit(X_train, y_train)\n",
    "\n",
    "print(\"RandomForest accuracy : \",accuracy_score(y_test, rf_model.predict(X_test), normalize = True))"
   ]
  },
  {
   "cell_type": "markdown",
   "metadata": {},
   "source": [
    "#### Features Selection"
   ]
  },
  {
   "cell_type": "code",
   "execution_count": 45,
   "metadata": {},
   "outputs": [],
   "source": [
    "top_n_features = 10"
   ]
  },
  {
   "cell_type": "code",
   "execution_count": 46,
   "metadata": {
    "scrolled": true
   },
   "outputs": [
    {
     "data": {
      "image/png": "[encoded data removed]",
      "text/plain": [
       "<Figure size 432x288 with 1 Axes>"
      ]
     },
     "metadata": {
      "needs_background": "light"
     },
     "output_type": "display_data"
    }
   ],
   "source": [
    "feat_importances = pd.Series(rf_model.feature_importances_, index=X_train.columns)\n",
    "feat_importances.nlargest(top_n_features).plot(kind='barh')\n",
    "plt.show()"
   ]
  },
  {
   "cell_type": "code",
   "execution_count": 47,
   "metadata": {
    "scrolled": true
   },
   "outputs": [],
   "source": [
    "top_feats = list(feat_importances.nlargest(top_n_features).index)\n",
    "df2 = df[top_feats]"
   ]
  },
  {
   "cell_type": "markdown",
   "metadata": {},
   "source": [
    "#### Top N Features"
   ]
  },
  {
   "cell_type": "code",
   "execution_count": 48,
   "metadata": {},
   "outputs": [
    {
     "name": "stdout",
     "output_type": "stream",
     "text": [
      "RandomForest accuracy :  0.7672634271099744\n"
     ]
    }
   ],
   "source": [
    "# Train and Test samples\n",
    "train_size = int(len(df2) * 0.7)\n",
    "X_train, X_test = df2[:train_size], df2[train_size:]\n",
    "y_train, y_test = target[:train_size], target[train_size:]\n",
    "\n",
    "rf_model = RandomForestClassifier(n_estimators=20, max_depth=2, random_state=0)\n",
    "\n",
    "rf_model.fit(X_train, y_train)\n",
    "\n",
    "print(\"RandomForest accuracy : \",accuracy_score(y_test, rf_model.predict(X_test), normalize = True))"
   ]
  },
  {
   "cell_type": "code",
   "execution_count": 49,
   "metadata": {},
   "outputs": [],
   "source": [
    "rf_pred = rf_model.predict(df2)"
   ]
  },
  {
   "cell_type": "markdown",
   "metadata": {},
   "source": [
    "## Support Vector Machine Classifier (with RBF kernel)"
   ]
  },
  {
   "cell_type": "code",
   "execution_count": 50,
   "metadata": {},
   "outputs": [
    {
     "name": "stdout",
     "output_type": "stream",
     "text": [
      "RBF-SVC accuracy :  0.4904092071611253\n"
     ]
    }
   ],
   "source": [
    "# Train and Test samples\n",
    "train_size = int(len(df) * 0.7)\n",
    "X_train, X_test = df[:train_size], df[train_size:]\n",
    "y_train, y_test = target[:train_size], target[train_size:]\n",
    "\n",
    "svm_model = SVC(kernel='rbf',random_state=0, gamma='auto')\n",
    "\n",
    "svm_model.fit(X_train, y_train)\n",
    "\n",
    "print(\"RBF-SVC accuracy : \",accuracy_score(y_test, svm_model.predict(X_test), normalize = True))"
   ]
  },
  {
   "cell_type": "code",
   "execution_count": 51,
   "metadata": {},
   "outputs": [],
   "source": [
    "svm_pred = svm_model.predict(df)"
   ]
  },
  {
   "cell_type": "markdown",
   "metadata": {},
   "source": [
    "## XGBoost"
   ]
  },
  {
   "cell_type": "markdown",
   "metadata": {},
   "source": [
    "#### All Features"
   ]
  },
  {
   "cell_type": "code",
   "execution_count": 52,
   "metadata": {},
   "outputs": [
    {
     "name": "stdout",
     "output_type": "stream",
     "text": [
      "XGBoost accuracy :  0.8248081841432225\n"
     ]
    }
   ],
   "source": [
    "# Train and Test samples\n",
    "train_size = int(len(df) * 0.7)\n",
    "X_train, X_test = df[:train_size], df[train_size:]\n",
    "y_train, y_test = target[:train_size], target[train_size:]\n",
    "\n",
    "boost_model = XGBClassifier()\n",
    "\n",
    "boost_model.fit(X_train, y_train)\n",
    "\n",
    "print(\"XGBoost accuracy : \",accuracy_score(y_test, boost_model.predict(X_test), normalize = True))"
   ]
  },
  {
   "cell_type": "markdown",
   "metadata": {},
   "source": [
    "#### Features Selection"
   ]
  },
  {
   "cell_type": "code",
   "execution_count": 53,
   "metadata": {},
   "outputs": [],
   "source": [
    "top_n_features = 10"
   ]
  },
  {
   "cell_type": "code",
   "execution_count": 54,
   "metadata": {
    "scrolled": true
   },
   "outputs": [
    {
     "data": {
      "image/png": "[encoded data removed]",
      "text/plain": [
       "<Figure size 432x288 with 1 Axes>"
      ]
     },
     "metadata": {
      "needs_background": "light"
     },
     "output_type": "display_data"
    }
   ],
   "source": [
    "feat_importances = pd.Series(boost_model.feature_importances_, index=X_train.columns)\n",
    "feat_importances.nlargest(top_n_features).plot(kind='barh')\n",
    "plt.show()"
   ]
  },
  {
   "cell_type": "code",
   "execution_count": 55,
   "metadata": {
    "scrolled": true
   },
   "outputs": [],
   "source": [
    "top_feats = list(feat_importances.nlargest(top_n_features).index)\n",
    "df2 = df[top_feats]"
   ]
  },
  {
   "cell_type": "markdown",
   "metadata": {},
   "source": [
    "#### Top N Features"
   ]
  },
  {
   "cell_type": "code",
   "execution_count": 56,
   "metadata": {},
   "outputs": [
    {
     "name": "stdout",
     "output_type": "stream",
     "text": [
      "XGBoost accuracy :  0.8222506393861893\n"
     ]
    }
   ],
   "source": [
    "# Train and Test samples\n",
    "train_size = int(len(df2) * 0.7)\n",
    "X_train, X_test = df2[:train_size], df2[train_size:]\n",
    "y_train, y_test = target[:train_size], target[train_size:]\n",
    "\n",
    "boost_model = XGBClassifier()\n",
    "\n",
    "boost_model.fit(X_train, y_train)\n",
    "\n",
    "print(\"XGBoost accuracy : \",accuracy_score(y_test, boost_model.predict(X_test), normalize = True))"
   ]
  },
  {
   "cell_type": "code",
   "execution_count": 57,
   "metadata": {},
   "outputs": [],
   "source": [
    "boost_pred = boost_model.predict(df2)"
   ]
  },
  {
   "cell_type": "markdown",
   "metadata": {},
   "source": [
    "## Logistic Regression to form meta classifier"
   ]
  },
  {
   "cell_type": "code",
   "execution_count": 58,
   "metadata": {},
   "outputs": [
    {
     "data": {
      "text/html": [
       "<div>\n",
       "<style scoped>\n",
       "    .dataframe tbody tr th:only-of-type {\n",
       "        vertical-align: middle;\n",
       "    }\n",
       "\n",
       "    .dataframe tbody tr th {\n",
       "        vertical-align: top;\n",
       "    }\n",
       "\n",
       "    .dataframe thead th {\n",
       "        text-align: right;\n",
       "    }\n",
       "</style>\n",
       "<table border=\"1\" class=\"dataframe\">\n",
       "  <thead>\n",
       "    <tr style=\"text-align: right;\">\n",
       "      <th></th>\n",
       "      <th>RandomForest</th>\n",
       "      <th>XGBoost</th>\n",
       "    </tr>\n",
       "  </thead>\n",
       "  <tbody>\n",
       "    <tr>\n",
       "      <th>0</th>\n",
       "      <td>0.0</td>\n",
       "      <td>1.0</td>\n",
       "    </tr>\n",
       "    <tr>\n",
       "      <th>1</th>\n",
       "      <td>0.0</td>\n",
       "      <td>0.0</td>\n",
       "    </tr>\n",
       "    <tr>\n",
       "      <th>2</th>\n",
       "      <td>0.0</td>\n",
       "      <td>1.0</td>\n",
       "    </tr>\n",
       "    <tr>\n",
       "      <th>3</th>\n",
       "      <td>1.0</td>\n",
       "      <td>1.0</td>\n",
       "    </tr>\n",
       "    <tr>\n",
       "      <th>4</th>\n",
       "      <td>1.0</td>\n",
       "      <td>1.0</td>\n",
       "    </tr>\n",
       "  </tbody>\n",
       "</table>\n",
       "</div>"
      ],
      "text/plain": [
       "   RandomForest  XGBoost\n",
       "0           0.0      1.0\n",
       "1           0.0      0.0\n",
       "2           0.0      1.0\n",
       "3           1.0      1.0\n",
       "4           1.0      1.0"
      ]
     },
     "execution_count": 58,
     "metadata": {},
     "output_type": "execute_result"
    }
   ],
   "source": [
    "dataset = pd.DataFrame({'RandomForest':rf_pred, \n",
    "                        #'SVM':svm_pred, \n",
    "                        'XGBoost':boost_pred}, \n",
    "                       columns=['RandomForest', 'XGBoost'])\n",
    "dataset.head(n=5)"
   ]
  },
  {
   "cell_type": "code",
   "execution_count": 59,
   "metadata": {},
   "outputs": [
    {
     "name": "stdout",
     "output_type": "stream",
     "text": [
      "Logistic Regression accuracy :  0.8222506393861893\n"
     ]
    }
   ],
   "source": [
    "# Train and Test samples\n",
    "train_size = int(len(dataset) * 0.7)\n",
    "X_train, X_test = dataset[:train_size], dataset[train_size:]\n",
    "y_train, y_test = target[:train_size], target[train_size:]\n",
    "\n",
    "regressor = LogisticRegression(solver='lbfgs')\n",
    "\n",
    "regressor.fit(X_train, y_train)\n",
    "\n",
    "print(\"Logistic Regression accuracy : \",accuracy_score(y_test, regressor.predict(X_test), normalize = True))"
   ]
  },
  {
   "cell_type": "code",
   "execution_count": 60,
   "metadata": {},
   "outputs": [],
   "source": [
    "# Note how the accuracy is exactly the same as the XGBoost accuracy, this means that the model is simply spitting out the XGBoost model predictions, as confirmed by the .coef_"
   ]
  },
  {
   "cell_type": "code",
   "execution_count": 61,
   "metadata": {},
   "outputs": [
    {
     "data": {
      "text/plain": [
       "array([[1.151739  , 9.90536172]])"
      ]
     },
     "execution_count": 61,
     "metadata": {},
     "output_type": "execute_result"
    }
   ],
   "source": [
    "regressor.coef_"
   ]
  },
  {
   "cell_type": "code",
   "execution_count": 62,
   "metadata": {},
   "outputs": [],
   "source": [
    "ohls=df[['open','high','low','close']]"
   ]
  },
  {
   "cell_type": "code",
   "execution_count": 63,
   "metadata": {},
   "outputs": [
    {
     "data": {
      "text/plain": [
       "(5212, 4)"
      ]
     },
     "execution_count": 63,
     "metadata": {},
     "output_type": "execute_result"
    }
   ],
   "source": [
    "ohls.shape"
   ]
  },
  {
   "cell_type": "code",
   "execution_count": 64,
   "metadata": {},
   "outputs": [
    {
     "data": {
      "text/html": [
       "<div>\n",
       "<style scoped>\n",
       "    .dataframe tbody tr th:only-of-type {\n",
       "        vertical-align: middle;\n",
       "    }\n",
       "\n",
       "    .dataframe tbody tr th {\n",
       "        vertical-align: top;\n",
       "    }\n",
       "\n",
       "    .dataframe thead th {\n",
       "        text-align: right;\n",
       "    }\n",
       "</style>\n",
       "<table border=\"1\" class=\"dataframe\">\n",
       "  <thead>\n",
       "    <tr style=\"text-align: right;\">\n",
       "      <th></th>\n",
       "      <th>open</th>\n",
       "      <th>high</th>\n",
       "      <th>low</th>\n",
       "      <th>close</th>\n",
       "    </tr>\n",
       "    <tr>\n",
       "      <th>date</th>\n",
       "      <th></th>\n",
       "      <th></th>\n",
       "      <th></th>\n",
       "      <th></th>\n",
       "    </tr>\n",
       "  </thead>\n",
       "  <tbody>\n",
       "    <tr>\n",
       "      <th>11/2/2000</th>\n",
       "      <td>0.9852</td>\n",
       "      <td>0.9880</td>\n",
       "      <td>0.9787</td>\n",
       "      <td>0.9870</td>\n",
       "    </tr>\n",
       "    <tr>\n",
       "      <th>14/2/2000</th>\n",
       "      <td>0.9870</td>\n",
       "      <td>0.9915</td>\n",
       "      <td>0.9775</td>\n",
       "      <td>0.9782</td>\n",
       "    </tr>\n",
       "    <tr>\n",
       "      <th>15/2/2000</th>\n",
       "      <td>0.9782</td>\n",
       "      <td>0.9864</td>\n",
       "      <td>0.9764</td>\n",
       "      <td>0.9816</td>\n",
       "    </tr>\n",
       "    <tr>\n",
       "      <th>16/2/2000</th>\n",
       "      <td>0.9816</td>\n",
       "      <td>0.9873</td>\n",
       "      <td>0.9791</td>\n",
       "      <td>0.9865</td>\n",
       "    </tr>\n",
       "    <tr>\n",
       "      <th>17/2/2000</th>\n",
       "      <td>0.9865</td>\n",
       "      <td>0.9952</td>\n",
       "      <td>0.9842</td>\n",
       "      <td>0.9881</td>\n",
       "    </tr>\n",
       "  </tbody>\n",
       "</table>\n",
       "</div>"
      ],
      "text/plain": [
       "             open    high     low   close\n",
       "date                                     \n",
       "11/2/2000  0.9852  0.9880  0.9787  0.9870\n",
       "14/2/2000  0.9870  0.9915  0.9775  0.9782\n",
       "15/2/2000  0.9782  0.9864  0.9764  0.9816\n",
       "16/2/2000  0.9816  0.9873  0.9791  0.9865\n",
       "17/2/2000  0.9865  0.9952  0.9842  0.9881"
      ]
     },
     "execution_count": 64,
     "metadata": {},
     "output_type": "execute_result"
    }
   ],
   "source": [
    "ohls.head()"
   ]
  },
  {
   "cell_type": "code",
   "execution_count": 65,
   "metadata": {},
   "outputs": [],
   "source": [
    "alpha_df=ohls[train_size:]"
   ]
  },
  {
   "cell_type": "code",
   "execution_count": 66,
   "metadata": {},
   "outputs": [
    {
     "data": {
      "text/plain": [
       "array([1., 1., 1., ..., 1., 1., 0.])"
      ]
     },
     "execution_count": 66,
     "metadata": {},
     "output_type": "execute_result"
    }
   ],
   "source": [
    "regressor.predict(X_test)"
   ]
  },
  {
   "cell_type": "code",
   "execution_count": 67,
   "metadata": {},
   "outputs": [
    {
     "name": "stderr",
     "output_type": "stream",
     "text": [
      "/usr/local/lib/python3.7/site-packages/ipykernel_launcher.py:1: SettingWithCopyWarning: \n",
      "A value is trying to be set on a copy of a slice from a DataFrame.\n",
      "Try using .loc[row_indexer,col_indexer] = value instead\n",
      "\n",
      "See the caveats in the documentation: https://pandas.pydata.org/pandas-docs/stable/user_guide/indexing.html#returning-a-view-versus-a-copy\n",
      "  \"\"\"Entry point for launching an IPython kernel.\n"
     ]
    }
   ],
   "source": [
    "alpha_df['delta']=regressor.predict(X_test)"
   ]
  },
  {
   "cell_type": "code",
   "execution_count": 68,
   "metadata": {},
   "outputs": [
    {
     "data": {
      "text/html": [
       "<div>\n",
       "<style scoped>\n",
       "    .dataframe tbody tr th:only-of-type {\n",
       "        vertical-align: middle;\n",
       "    }\n",
       "\n",
       "    .dataframe tbody tr th {\n",
       "        vertical-align: top;\n",
       "    }\n",
       "\n",
       "    .dataframe thead th {\n",
       "        text-align: right;\n",
       "    }\n",
       "</style>\n",
       "<table border=\"1\" class=\"dataframe\">\n",
       "  <thead>\n",
       "    <tr style=\"text-align: right;\">\n",
       "      <th></th>\n",
       "      <th>open</th>\n",
       "      <th>high</th>\n",
       "      <th>low</th>\n",
       "      <th>close</th>\n",
       "      <th>delta</th>\n",
       "    </tr>\n",
       "    <tr>\n",
       "      <th>date</th>\n",
       "      <th></th>\n",
       "      <th></th>\n",
       "      <th></th>\n",
       "      <th></th>\n",
       "      <th></th>\n",
       "    </tr>\n",
       "  </thead>\n",
       "  <tbody>\n",
       "    <tr>\n",
       "      <th>5/2/2014</th>\n",
       "      <td>1.3519</td>\n",
       "      <td>1.3555</td>\n",
       "      <td>1.3499</td>\n",
       "      <td>1.3533</td>\n",
       "      <td>1.0</td>\n",
       "    </tr>\n",
       "    <tr>\n",
       "      <th>6/2/2014</th>\n",
       "      <td>1.3533</td>\n",
       "      <td>1.3619</td>\n",
       "      <td>1.3484</td>\n",
       "      <td>1.3590</td>\n",
       "      <td>1.0</td>\n",
       "    </tr>\n",
       "    <tr>\n",
       "      <th>7/2/2014</th>\n",
       "      <td>1.3590</td>\n",
       "      <td>1.3642</td>\n",
       "      <td>1.3552</td>\n",
       "      <td>1.3634</td>\n",
       "      <td>1.0</td>\n",
       "    </tr>\n",
       "    <tr>\n",
       "      <th>10/2/2014</th>\n",
       "      <td>1.3634</td>\n",
       "      <td>1.3651</td>\n",
       "      <td>1.3609</td>\n",
       "      <td>1.3646</td>\n",
       "      <td>1.0</td>\n",
       "    </tr>\n",
       "    <tr>\n",
       "      <th>11/2/2014</th>\n",
       "      <td>1.3646</td>\n",
       "      <td>1.3683</td>\n",
       "      <td>1.3630</td>\n",
       "      <td>1.3638</td>\n",
       "      <td>1.0</td>\n",
       "    </tr>\n",
       "    <tr>\n",
       "      <th>12/2/2014</th>\n",
       "      <td>1.3638</td>\n",
       "      <td>1.3653</td>\n",
       "      <td>1.3562</td>\n",
       "      <td>1.3593</td>\n",
       "      <td>0.0</td>\n",
       "    </tr>\n",
       "    <tr>\n",
       "      <th>13/2/2014</th>\n",
       "      <td>1.3593</td>\n",
       "      <td>1.3692</td>\n",
       "      <td>1.3585</td>\n",
       "      <td>1.3681</td>\n",
       "      <td>1.0</td>\n",
       "    </tr>\n",
       "    <tr>\n",
       "      <th>14/2/2014</th>\n",
       "      <td>1.3681</td>\n",
       "      <td>1.3715</td>\n",
       "      <td>1.3674</td>\n",
       "      <td>1.3688</td>\n",
       "      <td>1.0</td>\n",
       "    </tr>\n",
       "    <tr>\n",
       "      <th>17/2/2014</th>\n",
       "      <td>1.3688</td>\n",
       "      <td>1.3724</td>\n",
       "      <td>1.3688</td>\n",
       "      <td>1.3707</td>\n",
       "      <td>1.0</td>\n",
       "    </tr>\n",
       "    <tr>\n",
       "      <th>18/2/2014</th>\n",
       "      <td>1.3707</td>\n",
       "      <td>1.3770</td>\n",
       "      <td>1.3695</td>\n",
       "      <td>1.3759</td>\n",
       "      <td>1.0</td>\n",
       "    </tr>\n",
       "  </tbody>\n",
       "</table>\n",
       "</div>"
      ],
      "text/plain": [
       "             open    high     low   close  delta\n",
       "date                                            \n",
       "5/2/2014   1.3519  1.3555  1.3499  1.3533    1.0\n",
       "6/2/2014   1.3533  1.3619  1.3484  1.3590    1.0\n",
       "7/2/2014   1.3590  1.3642  1.3552  1.3634    1.0\n",
       "10/2/2014  1.3634  1.3651  1.3609  1.3646    1.0\n",
       "11/2/2014  1.3646  1.3683  1.3630  1.3638    1.0\n",
       "12/2/2014  1.3638  1.3653  1.3562  1.3593    0.0\n",
       "13/2/2014  1.3593  1.3692  1.3585  1.3681    1.0\n",
       "14/2/2014  1.3681  1.3715  1.3674  1.3688    1.0\n",
       "17/2/2014  1.3688  1.3724  1.3688  1.3707    1.0\n",
       "18/2/2014  1.3707  1.3770  1.3695  1.3759    1.0"
      ]
     },
     "execution_count": 68,
     "metadata": {},
     "output_type": "execute_result"
    }
   ],
   "source": [
    "alpha_df.head(n=10)"
   ]
  },
  {
   "cell_type": "code",
   "execution_count": 69,
   "metadata": {},
   "outputs": [
    {
     "data": {
      "text/plain": [
       "1.0"
      ]
     },
     "execution_count": 69,
     "metadata": {},
     "output_type": "execute_result"
    }
   ],
   "source": [
    "alpha_df.iloc[2]['delta']"
   ]
  },
  {
   "cell_type": "code",
   "execution_count": 70,
   "metadata": {},
   "outputs": [
    {
     "name": "stdout",
     "output_type": "stream",
     "text": [
      "89997.58650000005 -106288.17649999997 0\n"
     ]
    }
   ],
   "source": [
    "capital=100000\n",
    "cumulative_profit = 0\n",
    "shares = 0\n",
    "for i in range(len(alpha_df)):\n",
    "    curr_delta=alpha_df.iloc[i]['delta']\n",
    "    \n",
    "    if i>0 and curr_delta==0 and (shares or alpha_df.iloc[i]['close']<alpha_df.iloc[i-1]['close']): # if shares at hand\n",
    "        cumulative_profit+= (alpha_df.iloc[i]['close']-alpha_df.iloc[i-1]['close'])*shares\n",
    "    \n",
    "    \n",
    "    if curr_delta == 0:\n",
    "        capital += shares*alpha_df.iloc[i]['close']\n",
    "        shares=0\n",
    "    elif shares==0: # curr_delta is 1 and shares\n",
    "        shares+=capital//alpha_df.iloc[i]['close']\n",
    "        capital-=shares*alpha_df.iloc[i]['close']\n",
    "        \n",
    "print (capital,cumulative_profit,shares)"
   ]
  },
  {
   "cell_type": "code",
   "execution_count": 71,
   "metadata": {},
   "outputs": [
    {
     "data": {
      "image/png": "[encoded data removed]",
      "text/plain": [
       "<Figure size 432x288 with 1 Axes>"
      ]
     },
     "metadata": {
      "needs_background": "light"
     },
     "output_type": "display_data"
    },
    {
     "name": "stdout",
     "output_type": "stream",
     "text": [
      "new capital:  90079.84241289491 cumulative_profit:  -9920.157587104964\n"
     ]
    }
   ],
   "source": [
    "capital=100000\n",
    "cumulative_profit = 0\n",
    "unit_per_trade = 1000\n",
    "daily_pnl = []\n",
    "for i in range(len(alpha_df)-1):\n",
    "    curr_delta=alpha_df.iloc[i]['delta']\n",
    "    shares = capital // alpha_df.iloc[i+1]['open']\n",
    "    change = 0\n",
    "    if curr_delta == 1:\n",
    "        change = (alpha_df.iloc[i+1]['close']-alpha_df.iloc[i+1]['open']) * shares\n",
    "        capital += change\n",
    "        cumulative_profit += change\n",
    "    else:\n",
    "        change = ((alpha_df.iloc[i+1]['open']-alpha_df.iloc[i+1]['close'])/alpha_df.iloc[i+1]['open'])*unit_per_trade\n",
    "        capital += change\n",
    "        cumulative_profit += change\n",
    "    daily_pnl.append(change)    \n",
    "    \n",
    "daily_pnl = np.array(daily_pnl)\n",
    "plt.plot(daily_pnl.cumsum())\n",
    "plt.show()\n",
    "print (\"new capital: \", capital, \"cumulative_profit: \", cumulative_profit)"
   ]
  },
  {
   "cell_type": "code",
   "execution_count": 72,
   "metadata": {},
   "outputs": [
    {
     "data": {
      "text/plain": [
       "-0.31879530782279764"
      ]
     },
     "execution_count": 72,
     "metadata": {},
     "output_type": "execute_result"
    }
   ],
   "source": [
    "# calculate sharpe ratio\n",
    "\n",
    "sharpe = np.sqrt(252) * (daily_pnl.mean()) / (daily_pnl.std())\n",
    "sharpe"
   ]
  },
  {
   "cell_type": "code",
   "execution_count": 73,
   "metadata": {},
   "outputs": [
    {
     "data": {
      "text/plain": [
       "0.9846153846153847"
      ]
     },
     "execution_count": 73,
     "metadata": {},
     "output_type": "execute_result"
    }
   ],
   "source": [
    "# calculate win/loss ratio\n",
    "\n",
    "wins = 0\n",
    "losses = 0\n",
    "\n",
    "length = len(daily_pnl)\n",
    "\n",
    "for i in range(length):\n",
    "    if daily_pnl[i] > 0:\n",
    "        wins += 1\n",
    "    elif daily_pnl[i] < 0:\n",
    "        losses += 1\n",
    "\n",
    "wl = wins / losses\n",
    "wl"
   ]
  },
  {
   "cell_type": "code",
   "execution_count": 74,
   "metadata": {},
   "outputs": [
    {
     "name": "stdout",
     "output_type": "stream",
     "text": [
      "drawdown is: 1208.333981895178 , from day 16 , to day 29\n"
     ]
    }
   ],
   "source": [
    "# maximum drawdown\n",
    "cumsum = daily_pnl.cumsum()\n",
    "maxm = 0\n",
    "drawdown = 0\n",
    "cur_low = 0\n",
    "size = len(cumsum)\n",
    "\n",
    "final_start = 0\n",
    "final_end = 0\n",
    "\n",
    "start_date = 0\n",
    "end_date = 0\n",
    "\n",
    "for i in range(1, size):\n",
    "    cur_val = cumsum[i]\n",
    "    if cur_val >= maxm:\n",
    "        \n",
    "        drawdown = max(drawdown, maxm - cur_low)\n",
    "        \n",
    "        if drawdown == maxm - cur_low:\n",
    "            final_start = start_date\n",
    "            final_end = end_date\n",
    "            \n",
    "        maxm = cur_val\n",
    "        cur_low = cur_val\n",
    "        \n",
    "        start_date = i\n",
    "    else:\n",
    "        cur_low = min(cur_low, cur_val)\n",
    "        if cur_low == cur_val:\n",
    "            end_date = i\n",
    "\n",
    "print('drawdown is:', drawdown, ', from day', final_start, ', to day', final_end)"
   ]
  },
  {
   "cell_type": "code",
   "execution_count": null,
   "metadata": {},
   "outputs": [],
   "source": []
  }
 ],
 "metadata": {
  "kernelspec": {
   "display_name": "Python 3",
   "language": "python",
   "name": "python3"
  },
  "language_info": {
   "codemirror_mode": {
    "name": "ipython",
    "version": 3
   },
   "file_extension": ".py",
   "mimetype": "text/x-python",
   "name": "python",
   "nbconvert_exporter": "python",
   "pygments_lexer": "ipython3",
   "version": "3.7.7"
  }
 },
 "nbformat": 4,
 "nbformat_minor": 2
}
