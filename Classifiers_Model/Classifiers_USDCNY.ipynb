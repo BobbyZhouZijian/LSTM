{
 "cells": [
  {
   "cell_type": "markdown",
   "metadata": {},
   "source": [
    "# Classifiers"
   ]
  },
  {
   "cell_type": "code",
   "execution_count": 1,
   "metadata": {},
   "outputs": [],
   "source": [
    "# Important packages\n",
    "import pandas as pd\n",
    "import numpy as np\n",
    "import ta\n",
    "import matplotlib.pyplot as plt\n",
    "\n",
    "from sklearn.model_selection import train_test_split\n",
    "from sklearn.metrics import accuracy_score\n",
    "from sklearn.feature_selection import SelectKBest, chi2\n",
    "\n",
    "from sklearn.linear_model import LogisticRegression\n",
    "from sklearn.ensemble import RandomForestClassifier\n",
    "from sklearn.svm import SVC\n",
    "from xgboost import XGBClassifier"
   ]
  },
  {
   "cell_type": "code",
   "execution_count": 2,
   "metadata": {},
   "outputs": [],
   "source": [
    "currency = \"USDCNY\""
   ]
  },
  {
   "cell_type": "code",
   "execution_count": 3,
   "metadata": {},
   "outputs": [],
   "source": [
    "df = pd.read_parquet('../Dataframes/df_' + currency + '.parquet.gzip')"
   ]
  },
  {
   "cell_type": "code",
   "execution_count": 4,
   "metadata": {},
   "outputs": [],
   "source": [
    "# Make date the index\n",
    "df.index = df[\"date\"]\n",
    "df.drop([\"date\"], axis=1, inplace=True)"
   ]
  },
  {
   "cell_type": "code",
   "execution_count": 5,
   "metadata": {},
   "outputs": [
    {
     "data": {
      "text/html": [
       "<div>\n",
       "<style scoped>\n",
       "    .dataframe tbody tr th:only-of-type {\n",
       "        vertical-align: middle;\n",
       "    }\n",
       "\n",
       "    .dataframe tbody tr th {\n",
       "        vertical-align: top;\n",
       "    }\n",
       "\n",
       "    .dataframe thead th {\n",
       "        text-align: right;\n",
       "    }\n",
       "</style>\n",
       "<table border=\"1\" class=\"dataframe\">\n",
       "  <thead>\n",
       "    <tr style=\"text-align: right;\">\n",
       "      <th></th>\n",
       "      <th>open</th>\n",
       "      <th>high</th>\n",
       "      <th>low</th>\n",
       "      <th>close</th>\n",
       "      <th>delta</th>\n",
       "      <th>slope_3</th>\n",
       "      <th>slope_4</th>\n",
       "      <th>slope_5</th>\n",
       "      <th>slope_10</th>\n",
       "      <th>slope_20</th>\n",
       "      <th>...</th>\n",
       "      <th>roc_13</th>\n",
       "      <th>roc_14</th>\n",
       "      <th>roc_15</th>\n",
       "      <th>wcp_15</th>\n",
       "      <th>macd_15_30</th>\n",
       "      <th>cci_15</th>\n",
       "      <th>hi_avg_2</th>\n",
       "      <th>lo_avg_2</th>\n",
       "      <th>hilo_avg_2</th>\n",
       "      <th>hilo_avg</th>\n",
       "    </tr>\n",
       "    <tr>\n",
       "      <th>date</th>\n",
       "      <th></th>\n",
       "      <th></th>\n",
       "      <th></th>\n",
       "      <th></th>\n",
       "      <th></th>\n",
       "      <th></th>\n",
       "      <th></th>\n",
       "      <th></th>\n",
       "      <th></th>\n",
       "      <th></th>\n",
       "      <th></th>\n",
       "      <th></th>\n",
       "      <th></th>\n",
       "      <th></th>\n",
       "      <th></th>\n",
       "      <th></th>\n",
       "      <th></th>\n",
       "      <th></th>\n",
       "      <th></th>\n",
       "      <th></th>\n",
       "      <th></th>\n",
       "    </tr>\n",
       "  </thead>\n",
       "  <tbody>\n",
       "    <tr>\n",
       "      <th>14/2/2000</th>\n",
       "      <td>8.2781</td>\n",
       "      <td>8.2785</td>\n",
       "      <td>8.2778</td>\n",
       "      <td>8.2779</td>\n",
       "      <td>0.0</td>\n",
       "      <td>-5000.000000</td>\n",
       "      <td>-6666.666667</td>\n",
       "      <td>-8333.333333</td>\n",
       "      <td>4059.405941</td>\n",
       "      <td>-4424.035056</td>\n",
       "      <td>...</td>\n",
       "      <td>-0.003624</td>\n",
       "      <td>-0.008456</td>\n",
       "      <td>-0.012079</td>\n",
       "      <td>8.278471</td>\n",
       "      <td>-0.000317</td>\n",
       "      <td>-32.710280</td>\n",
       "      <td>8.27865</td>\n",
       "      <td>8.27830</td>\n",
       "      <td>8.278475</td>\n",
       "      <td>8.27815</td>\n",
       "    </tr>\n",
       "    <tr>\n",
       "      <th>15/2/2000</th>\n",
       "      <td>8.2779</td>\n",
       "      <td>8.2784</td>\n",
       "      <td>8.2775</td>\n",
       "      <td>8.2777</td>\n",
       "      <td>0.0</td>\n",
       "      <td>-4615.384615</td>\n",
       "      <td>-5882.352941</td>\n",
       "      <td>-7236.842105</td>\n",
       "      <td>3079.331942</td>\n",
       "      <td>-4039.184112</td>\n",
       "      <td>...</td>\n",
       "      <td>-0.007248</td>\n",
       "      <td>-0.006040</td>\n",
       "      <td>-0.010871</td>\n",
       "      <td>8.278390</td>\n",
       "      <td>-0.000340</td>\n",
       "      <td>-58.139535</td>\n",
       "      <td>8.27845</td>\n",
       "      <td>8.27765</td>\n",
       "      <td>8.278050</td>\n",
       "      <td>8.27795</td>\n",
       "    </tr>\n",
       "    <tr>\n",
       "      <th>16/2/2000</th>\n",
       "      <td>8.2777</td>\n",
       "      <td>8.2777</td>\n",
       "      <td>8.2777</td>\n",
       "      <td>8.2777</td>\n",
       "      <td>0.0</td>\n",
       "      <td>-2105.263158</td>\n",
       "      <td>-2615.384615</td>\n",
       "      <td>-3201.970443</td>\n",
       "      <td>-2981.132075</td>\n",
       "      <td>-3985.585586</td>\n",
       "      <td>...</td>\n",
       "      <td>-0.004832</td>\n",
       "      <td>-0.007248</td>\n",
       "      <td>-0.006040</td>\n",
       "      <td>8.278304</td>\n",
       "      <td>-0.000357</td>\n",
       "      <td>-75.568599</td>\n",
       "      <td>8.27805</td>\n",
       "      <td>8.27760</td>\n",
       "      <td>8.277825</td>\n",
       "      <td>8.27770</td>\n",
       "    </tr>\n",
       "    <tr>\n",
       "      <th>17/2/2000</th>\n",
       "      <td>8.2777</td>\n",
       "      <td>8.2777</td>\n",
       "      <td>8.2769</td>\n",
       "      <td>8.2772</td>\n",
       "      <td>0.0</td>\n",
       "      <td>-2142.857143</td>\n",
       "      <td>-2731.277533</td>\n",
       "      <td>-3036.437247</td>\n",
       "      <td>-5604.155276</td>\n",
       "      <td>-3871.743487</td>\n",
       "      <td>...</td>\n",
       "      <td>-0.006040</td>\n",
       "      <td>-0.010872</td>\n",
       "      <td>-0.013288</td>\n",
       "      <td>8.278172</td>\n",
       "      <td>-0.000398</td>\n",
       "      <td>-122.604098</td>\n",
       "      <td>8.27770</td>\n",
       "      <td>8.27730</td>\n",
       "      <td>8.277500</td>\n",
       "      <td>8.27730</td>\n",
       "    </tr>\n",
       "    <tr>\n",
       "      <th>18/2/2000</th>\n",
       "      <td>8.2772</td>\n",
       "      <td>8.2772</td>\n",
       "      <td>8.2772</td>\n",
       "      <td>8.2779</td>\n",
       "      <td>1.0</td>\n",
       "      <td>-3000.000000</td>\n",
       "      <td>-2465.753425</td>\n",
       "      <td>-2796.610169</td>\n",
       "      <td>-4539.781591</td>\n",
       "      <td>-3894.318876</td>\n",
       "      <td>...</td>\n",
       "      <td>0.006041</td>\n",
       "      <td>0.002416</td>\n",
       "      <td>-0.002416</td>\n",
       "      <td>8.278094</td>\n",
       "      <td>-0.000386</td>\n",
       "      <td>-84.355828</td>\n",
       "      <td>8.27745</td>\n",
       "      <td>8.27705</td>\n",
       "      <td>8.277250</td>\n",
       "      <td>8.27720</td>\n",
       "    </tr>\n",
       "  </tbody>\n",
       "</table>\n",
       "<p>5 rows × 34 columns</p>\n",
       "</div>"
      ],
      "text/plain": [
       "             open    high     low   close  delta      slope_3      slope_4  \\\n",
       "date                                                                         \n",
       "14/2/2000  8.2781  8.2785  8.2778  8.2779    0.0 -5000.000000 -6666.666667   \n",
       "15/2/2000  8.2779  8.2784  8.2775  8.2777    0.0 -4615.384615 -5882.352941   \n",
       "16/2/2000  8.2777  8.2777  8.2777  8.2777    0.0 -2105.263158 -2615.384615   \n",
       "17/2/2000  8.2777  8.2777  8.2769  8.2772    0.0 -2142.857143 -2731.277533   \n",
       "18/2/2000  8.2772  8.2772  8.2772  8.2779    1.0 -3000.000000 -2465.753425   \n",
       "\n",
       "               slope_5     slope_10     slope_20  ...    roc_13    roc_14  \\\n",
       "date                                              ...                       \n",
       "14/2/2000 -8333.333333  4059.405941 -4424.035056  ... -0.003624 -0.008456   \n",
       "15/2/2000 -7236.842105  3079.331942 -4039.184112  ... -0.007248 -0.006040   \n",
       "16/2/2000 -3201.970443 -2981.132075 -3985.585586  ... -0.004832 -0.007248   \n",
       "17/2/2000 -3036.437247 -5604.155276 -3871.743487  ... -0.006040 -0.010872   \n",
       "18/2/2000 -2796.610169 -4539.781591 -3894.318876  ...  0.006041  0.002416   \n",
       "\n",
       "             roc_15    wcp_15  macd_15_30      cci_15  hi_avg_2  lo_avg_2  \\\n",
       "date                                                                        \n",
       "14/2/2000 -0.012079  8.278471   -0.000317  -32.710280   8.27865   8.27830   \n",
       "15/2/2000 -0.010871  8.278390   -0.000340  -58.139535   8.27845   8.27765   \n",
       "16/2/2000 -0.006040  8.278304   -0.000357  -75.568599   8.27805   8.27760   \n",
       "17/2/2000 -0.013288  8.278172   -0.000398 -122.604098   8.27770   8.27730   \n",
       "18/2/2000 -0.002416  8.278094   -0.000386  -84.355828   8.27745   8.27705   \n",
       "\n",
       "           hilo_avg_2  hilo_avg  \n",
       "date                             \n",
       "14/2/2000    8.278475   8.27815  \n",
       "15/2/2000    8.278050   8.27795  \n",
       "16/2/2000    8.277825   8.27770  \n",
       "17/2/2000    8.277500   8.27730  \n",
       "18/2/2000    8.277250   8.27720  \n",
       "\n",
       "[5 rows x 34 columns]"
      ]
     },
     "execution_count": 5,
     "metadata": {},
     "output_type": "execute_result"
    }
   ],
   "source": [
    "df.head()"
   ]
  },
  {
   "cell_type": "code",
   "execution_count": 6,
   "metadata": {},
   "outputs": [],
   "source": [
    "# Make df['delta'] the expected output\n",
    "target = df['delta']\n",
    "df.drop(['delta'], axis = 1, inplace = True)"
   ]
  },
  {
   "cell_type": "code",
   "execution_count": 7,
   "metadata": {},
   "outputs": [],
   "source": [
    "# Features\n",
    "feat_labels = ['open', 'high', 'low', 'close', 'wclose', 'so_3', 'so_4', 'so_5',\n",
    "       'so_8', 'so_9', 'so_10', 'wr_6', 'wr_7', 'wr_8', 'wr_9', 'wr_10',\n",
    "       'roc_12', 'roc_13', 'roc_14', 'roc_15', 'wcp_15', 'macd_15_30',\n",
    "       'cci_15', 'hi_avg_2', 'lo_avg_2', 'hilo_avg_2', 'hilo_avg', 'slope_3',\n",
    "       'slope_4', 'slope_5', 'slope_10', 'slope_20', 'slope_30']"
   ]
  },
  {
   "cell_type": "markdown",
   "metadata": {},
   "source": [
    "## Random Forest Classifier"
   ]
  },
  {
   "cell_type": "markdown",
   "metadata": {},
   "source": [
    "#### All features"
   ]
  },
  {
   "cell_type": "code",
   "execution_count": 8,
   "metadata": {},
   "outputs": [
    {
     "name": "stdout",
     "output_type": "stream",
     "text": [
      "RandomForest accuracy :  0.7323446327683616\n"
     ]
    }
   ],
   "source": [
    "# Train and Test samples\n",
    "train_size = int(len(df) * 0.7)\n",
    "X_train, X_test = df[:train_size], df[train_size:]\n",
    "y_train, y_test = target[:train_size], target[train_size:]\n",
    "\n",
    "rf_model = RandomForestClassifier(n_estimators=20, max_depth=2, random_state=0)\n",
    "\n",
    "rf_model.fit(X_train, y_train)\n",
    "\n",
    "print(\"RandomForest accuracy : \",accuracy_score(y_test, rf_model.predict(X_test), normalize = True))"
   ]
  },
  {
   "cell_type": "markdown",
   "metadata": {},
   "source": [
    "#### Features Selection"
   ]
  },
  {
   "cell_type": "code",
   "execution_count": 9,
   "metadata": {},
   "outputs": [],
   "source": [
    "top_n_features = 10"
   ]
  },
  {
   "cell_type": "code",
   "execution_count": 10,
   "metadata": {
    "scrolled": true
   },
   "outputs": [
    {
     "data": {
      "image/png": "[encoded data removed]",
      "text/plain": [
       "<Figure size 432x288 with 1 Axes>"
      ]
     },
     "metadata": {
      "needs_background": "light"
     },
     "output_type": "display_data"
    }
   ],
   "source": [
    "feat_importances = pd.Series(rf_model.feature_importances_, index=X_train.columns)\n",
    "feat_importances.nlargest(top_n_features).plot(kind='barh')\n",
    "plt.show()"
   ]
  },
  {
   "cell_type": "code",
   "execution_count": 11,
   "metadata": {
    "scrolled": true
   },
   "outputs": [],
   "source": [
    "top_feats = list(feat_importances.nlargest(top_n_features).index)\n",
    "df2 = df[top_feats]"
   ]
  },
  {
   "cell_type": "markdown",
   "metadata": {},
   "source": [
    "#### Top N Features"
   ]
  },
  {
   "cell_type": "code",
   "execution_count": 12,
   "metadata": {},
   "outputs": [
    {
     "name": "stdout",
     "output_type": "stream",
     "text": [
      "RandomForest accuracy :  0.7387005649717514\n"
     ]
    }
   ],
   "source": [
    "# Train and Test samples\n",
    "train_size = int(len(df2) * 0.7)\n",
    "X_train, X_test = df2[:train_size], df2[train_size:]\n",
    "y_train, y_test = target[:train_size], target[train_size:]\n",
    "\n",
    "rf_model = RandomForestClassifier(n_estimators=20, max_depth=2, random_state=0)\n",
    "\n",
    "rf_model.fit(X_train, y_train)\n",
    "\n",
    "print(\"RandomForest accuracy : \",accuracy_score(y_test, rf_model.predict(X_test), normalize = True))"
   ]
  },
  {
   "cell_type": "code",
   "execution_count": 13,
   "metadata": {},
   "outputs": [],
   "source": [
    "rf_pred = rf_model.predict(df2)"
   ]
  },
  {
   "cell_type": "markdown",
   "metadata": {},
   "source": [
    "## Support Vector Machine Classifier (with RBF kernel)"
   ]
  },
  {
   "cell_type": "code",
   "execution_count": 14,
   "metadata": {},
   "outputs": [
    {
     "name": "stdout",
     "output_type": "stream",
     "text": [
      "RBF-SVC accuracy :  0.490819209039548\n"
     ]
    }
   ],
   "source": [
    "# Train and Test samples\n",
    "train_size = int(len(df) * 0.7)\n",
    "X_train, X_test = df[:train_size], df[train_size:]\n",
    "y_train, y_test = target[:train_size], target[train_size:]\n",
    "\n",
    "svm_model = SVC(kernel='rbf',random_state=0, gamma='auto')\n",
    "\n",
    "svm_model.fit(X_train, y_train)\n",
    "\n",
    "print(\"RBF-SVC accuracy : \",accuracy_score(y_test, svm_model.predict(X_test), normalize = True))"
   ]
  },
  {
   "cell_type": "code",
   "execution_count": 15,
   "metadata": {},
   "outputs": [],
   "source": [
    "svm_pred = svm_model.predict(df)"
   ]
  },
  {
   "cell_type": "markdown",
   "metadata": {},
   "source": [
    "## XGBoost"
   ]
  },
  {
   "cell_type": "markdown",
   "metadata": {},
   "source": [
    "#### All Features"
   ]
  },
  {
   "cell_type": "code",
   "execution_count": 16,
   "metadata": {},
   "outputs": [
    {
     "name": "stdout",
     "output_type": "stream",
     "text": [
      "XGBoost accuracy :  0.7634180790960452\n"
     ]
    }
   ],
   "source": [
    "# Train and Test samples\n",
    "train_size = int(len(df) * 0.7)\n",
    "X_train, X_test = df[:train_size], df[train_size:]\n",
    "y_train, y_test = target[:train_size], target[train_size:]\n",
    "\n",
    "boost_model = XGBClassifier()\n",
    "\n",
    "boost_model.fit(X_train, y_train)\n",
    "\n",
    "print(\"XGBoost accuracy : \",accuracy_score(y_test, boost_model.predict(X_test), normalize = True))"
   ]
  },
  {
   "cell_type": "markdown",
   "metadata": {},
   "source": [
    "#### Features Selection"
   ]
  },
  {
   "cell_type": "code",
   "execution_count": 17,
   "metadata": {},
   "outputs": [],
   "source": [
    "top_n_features = 10"
   ]
  },
  {
   "cell_type": "code",
   "execution_count": 18,
   "metadata": {
    "scrolled": true
   },
   "outputs": [
    {
     "data": {
      "image/png": "[encoded data removed]",
      "text/plain": [
       "<Figure size 432x288 with 1 Axes>"
      ]
     },
     "metadata": {
      "needs_background": "light"
     },
     "output_type": "display_data"
    }
   ],
   "source": [
    "feat_importances = pd.Series(boost_model.feature_importances_, index=X_train.columns)\n",
    "feat_importances.nlargest(top_n_features).plot(kind='barh')\n",
    "plt.show()"
   ]
  },
  {
   "cell_type": "code",
   "execution_count": 19,
   "metadata": {
    "scrolled": true
   },
   "outputs": [],
   "source": [
    "top_feats = list(feat_importances.nlargest(top_n_features).index)\n",
    "df2 = df[top_feats]"
   ]
  },
  {
   "cell_type": "markdown",
   "metadata": {},
   "source": [
    "#### Top N Features"
   ]
  },
  {
   "cell_type": "code",
   "execution_count": 20,
   "metadata": {},
   "outputs": [
    {
     "name": "stdout",
     "output_type": "stream",
     "text": [
      "XGBoost accuracy :  0.7966101694915254\n"
     ]
    }
   ],
   "source": [
    "# Train and Test samples\n",
    "train_size = int(len(df2) * 0.7)\n",
    "X_train, X_test = df2[:train_size], df2[train_size:]\n",
    "y_train, y_test = target[:train_size], target[train_size:]\n",
    "\n",
    "boost_model = XGBClassifier()\n",
    "\n",
    "boost_model.fit(X_train, y_train)\n",
    "\n",
    "print(\"XGBoost accuracy : \",accuracy_score(y_test, boost_model.predict(X_test), normalize = True))"
   ]
  },
  {
   "cell_type": "code",
   "execution_count": 21,
   "metadata": {},
   "outputs": [],
   "source": [
    "boost_pred = boost_model.predict(df2)"
   ]
  },
  {
   "cell_type": "markdown",
   "metadata": {},
   "source": [
    "## Logistic Regression to form meta classifier"
   ]
  },
  {
   "cell_type": "code",
   "execution_count": 22,
   "metadata": {},
   "outputs": [
    {
     "data": {
      "text/html": [
       "<div>\n",
       "<style scoped>\n",
       "    .dataframe tbody tr th:only-of-type {\n",
       "        vertical-align: middle;\n",
       "    }\n",
       "\n",
       "    .dataframe tbody tr th {\n",
       "        vertical-align: top;\n",
       "    }\n",
       "\n",
       "    .dataframe thead th {\n",
       "        text-align: right;\n",
       "    }\n",
       "</style>\n",
       "<table border=\"1\" class=\"dataframe\">\n",
       "  <thead>\n",
       "    <tr style=\"text-align: right;\">\n",
       "      <th></th>\n",
       "      <th>RandomForest</th>\n",
       "      <th>XGBoost</th>\n",
       "    </tr>\n",
       "  </thead>\n",
       "  <tbody>\n",
       "    <tr>\n",
       "      <th>0</th>\n",
       "      <td>0.0</td>\n",
       "      <td>0.0</td>\n",
       "    </tr>\n",
       "    <tr>\n",
       "      <th>1</th>\n",
       "      <td>0.0</td>\n",
       "      <td>0.0</td>\n",
       "    </tr>\n",
       "    <tr>\n",
       "      <th>2</th>\n",
       "      <td>0.0</td>\n",
       "      <td>0.0</td>\n",
       "    </tr>\n",
       "    <tr>\n",
       "      <th>3</th>\n",
       "      <td>0.0</td>\n",
       "      <td>0.0</td>\n",
       "    </tr>\n",
       "    <tr>\n",
       "      <th>4</th>\n",
       "      <td>1.0</td>\n",
       "      <td>1.0</td>\n",
       "    </tr>\n",
       "  </tbody>\n",
       "</table>\n",
       "</div>"
      ],
      "text/plain": [
       "   RandomForest  XGBoost\n",
       "0           0.0      0.0\n",
       "1           0.0      0.0\n",
       "2           0.0      0.0\n",
       "3           0.0      0.0\n",
       "4           1.0      1.0"
      ]
     },
     "execution_count": 22,
     "metadata": {},
     "output_type": "execute_result"
    }
   ],
   "source": [
    "dataset = pd.DataFrame({'RandomForest':rf_pred, \n",
    "                        #'SVM':svm_pred, \n",
    "                        'XGBoost':boost_pred}, \n",
    "                       columns=['RandomForest', 'XGBoost'])\n",
    "dataset.head(n=5)"
   ]
  },
  {
   "cell_type": "code",
   "execution_count": 23,
   "metadata": {},
   "outputs": [
    {
     "name": "stdout",
     "output_type": "stream",
     "text": [
      "Logistic Regression accuracy :  0.7966101694915254\n"
     ]
    }
   ],
   "source": [
    "# Train and Test samples\n",
    "train_size = int(len(dataset) * 0.7)\n",
    "X_train, X_test = dataset[:train_size], dataset[train_size:]\n",
    "y_train, y_test = target[:train_size], target[train_size:]\n",
    "\n",
    "regressor = LogisticRegression(solver='lbfgs')\n",
    "\n",
    "regressor.fit(X_train, y_train)\n",
    "\n",
    "print(\"Logistic Regression accuracy : \",accuracy_score(y_test, regressor.predict(X_test), normalize = True))"
   ]
  },
  {
   "cell_type": "code",
   "execution_count": 24,
   "metadata": {},
   "outputs": [],
   "source": [
    "# Note how the accuracy is exactly the same as the XGBoost accuracy, this means that the model is simply spitting out the XGBoost model predictions, as confirmed by the .coef_"
   ]
  },
  {
   "cell_type": "code",
   "execution_count": 25,
   "metadata": {},
   "outputs": [
    {
     "data": {
      "text/plain": [
       "array([[0.33154349, 8.48015427]])"
      ]
     },
     "execution_count": 25,
     "metadata": {},
     "output_type": "execute_result"
    }
   ],
   "source": [
    "regressor.coef_"
   ]
  },
  {
   "cell_type": "code",
   "execution_count": 26,
   "metadata": {},
   "outputs": [],
   "source": [
    "ohls=df[['open','high','low','close']]"
   ]
  },
  {
   "cell_type": "code",
   "execution_count": 27,
   "metadata": {},
   "outputs": [
    {
     "data": {
      "text/plain": [
       "(4719, 4)"
      ]
     },
     "execution_count": 27,
     "metadata": {},
     "output_type": "execute_result"
    }
   ],
   "source": [
    "ohls.shape"
   ]
  },
  {
   "cell_type": "code",
   "execution_count": 28,
   "metadata": {},
   "outputs": [
    {
     "data": {
      "text/html": [
       "<div>\n",
       "<style scoped>\n",
       "    .dataframe tbody tr th:only-of-type {\n",
       "        vertical-align: middle;\n",
       "    }\n",
       "\n",
       "    .dataframe tbody tr th {\n",
       "        vertical-align: top;\n",
       "    }\n",
       "\n",
       "    .dataframe thead th {\n",
       "        text-align: right;\n",
       "    }\n",
       "</style>\n",
       "<table border=\"1\" class=\"dataframe\">\n",
       "  <thead>\n",
       "    <tr style=\"text-align: right;\">\n",
       "      <th></th>\n",
       "      <th>open</th>\n",
       "      <th>high</th>\n",
       "      <th>low</th>\n",
       "      <th>close</th>\n",
       "    </tr>\n",
       "    <tr>\n",
       "      <th>date</th>\n",
       "      <th></th>\n",
       "      <th></th>\n",
       "      <th></th>\n",
       "      <th></th>\n",
       "    </tr>\n",
       "  </thead>\n",
       "  <tbody>\n",
       "    <tr>\n",
       "      <th>14/2/2000</th>\n",
       "      <td>8.2781</td>\n",
       "      <td>8.2785</td>\n",
       "      <td>8.2778</td>\n",
       "      <td>8.2779</td>\n",
       "    </tr>\n",
       "    <tr>\n",
       "      <th>15/2/2000</th>\n",
       "      <td>8.2779</td>\n",
       "      <td>8.2784</td>\n",
       "      <td>8.2775</td>\n",
       "      <td>8.2777</td>\n",
       "    </tr>\n",
       "    <tr>\n",
       "      <th>16/2/2000</th>\n",
       "      <td>8.2777</td>\n",
       "      <td>8.2777</td>\n",
       "      <td>8.2777</td>\n",
       "      <td>8.2777</td>\n",
       "    </tr>\n",
       "    <tr>\n",
       "      <th>17/2/2000</th>\n",
       "      <td>8.2777</td>\n",
       "      <td>8.2777</td>\n",
       "      <td>8.2769</td>\n",
       "      <td>8.2772</td>\n",
       "    </tr>\n",
       "    <tr>\n",
       "      <th>18/2/2000</th>\n",
       "      <td>8.2772</td>\n",
       "      <td>8.2772</td>\n",
       "      <td>8.2772</td>\n",
       "      <td>8.2779</td>\n",
       "    </tr>\n",
       "  </tbody>\n",
       "</table>\n",
       "</div>"
      ],
      "text/plain": [
       "             open    high     low   close\n",
       "date                                     \n",
       "14/2/2000  8.2781  8.2785  8.2778  8.2779\n",
       "15/2/2000  8.2779  8.2784  8.2775  8.2777\n",
       "16/2/2000  8.2777  8.2777  8.2777  8.2777\n",
       "17/2/2000  8.2777  8.2777  8.2769  8.2772\n",
       "18/2/2000  8.2772  8.2772  8.2772  8.2779"
      ]
     },
     "execution_count": 28,
     "metadata": {},
     "output_type": "execute_result"
    }
   ],
   "source": [
    "ohls.head()"
   ]
  },
  {
   "cell_type": "code",
   "execution_count": 29,
   "metadata": {},
   "outputs": [],
   "source": [
    "alpha_df=ohls[train_size:]"
   ]
  },
  {
   "cell_type": "code",
   "execution_count": 30,
   "metadata": {},
   "outputs": [
    {
     "data": {
      "text/plain": [
       "array([0., 0., 1., ..., 0., 0., 1.])"
      ]
     },
     "execution_count": 30,
     "metadata": {},
     "output_type": "execute_result"
    }
   ],
   "source": [
    "regressor.predict(X_test)"
   ]
  },
  {
   "cell_type": "code",
   "execution_count": 31,
   "metadata": {},
   "outputs": [
    {
     "name": "stderr",
     "output_type": "stream",
     "text": [
      "/usr/local/lib/python3.7/site-packages/ipykernel_launcher.py:1: SettingWithCopyWarning: \n",
      "A value is trying to be set on a copy of a slice from a DataFrame.\n",
      "Try using .loc[row_indexer,col_indexer] = value instead\n",
      "\n",
      "See the caveats in the documentation: https://pandas.pydata.org/pandas-docs/stable/user_guide/indexing.html#returning-a-view-versus-a-copy\n",
      "  \"\"\"Entry point for launching an IPython kernel.\n"
     ]
    }
   ],
   "source": [
    "alpha_df['delta']=regressor.predict(X_test)"
   ]
  },
  {
   "cell_type": "code",
   "execution_count": 32,
   "metadata": {},
   "outputs": [
    {
     "data": {
      "text/html": [
       "<div>\n",
       "<style scoped>\n",
       "    .dataframe tbody tr th:only-of-type {\n",
       "        vertical-align: middle;\n",
       "    }\n",
       "\n",
       "    .dataframe tbody tr th {\n",
       "        vertical-align: top;\n",
       "    }\n",
       "\n",
       "    .dataframe thead th {\n",
       "        text-align: right;\n",
       "    }\n",
       "</style>\n",
       "<table border=\"1\" class=\"dataframe\">\n",
       "  <thead>\n",
       "    <tr style=\"text-align: right;\">\n",
       "      <th></th>\n",
       "      <th>open</th>\n",
       "      <th>high</th>\n",
       "      <th>low</th>\n",
       "      <th>close</th>\n",
       "      <th>delta</th>\n",
       "    </tr>\n",
       "    <tr>\n",
       "      <th>date</th>\n",
       "      <th></th>\n",
       "      <th></th>\n",
       "      <th></th>\n",
       "      <th></th>\n",
       "      <th></th>\n",
       "    </tr>\n",
       "  </thead>\n",
       "  <tbody>\n",
       "    <tr>\n",
       "      <th>11/6/2014</th>\n",
       "      <td>6.2250</td>\n",
       "      <td>6.2320</td>\n",
       "      <td>6.2250</td>\n",
       "      <td>6.2250</td>\n",
       "      <td>0.0</td>\n",
       "    </tr>\n",
       "    <tr>\n",
       "      <th>12/6/2014</th>\n",
       "      <td>6.2250</td>\n",
       "      <td>6.2294</td>\n",
       "      <td>6.2148</td>\n",
       "      <td>6.2080</td>\n",
       "      <td>0.0</td>\n",
       "    </tr>\n",
       "    <tr>\n",
       "      <th>13/6/2014</th>\n",
       "      <td>6.2080</td>\n",
       "      <td>6.2150</td>\n",
       "      <td>6.2020</td>\n",
       "      <td>6.2110</td>\n",
       "      <td>1.0</td>\n",
       "    </tr>\n",
       "    <tr>\n",
       "      <th>16/6/2014</th>\n",
       "      <td>6.2110</td>\n",
       "      <td>6.2256</td>\n",
       "      <td>6.2110</td>\n",
       "      <td>6.2280</td>\n",
       "      <td>1.0</td>\n",
       "    </tr>\n",
       "    <tr>\n",
       "      <th>17/6/2014</th>\n",
       "      <td>6.2280</td>\n",
       "      <td>6.2360</td>\n",
       "      <td>6.2232</td>\n",
       "      <td>6.2280</td>\n",
       "      <td>0.0</td>\n",
       "    </tr>\n",
       "    <tr>\n",
       "      <th>18/6/2014</th>\n",
       "      <td>6.2280</td>\n",
       "      <td>6.2346</td>\n",
       "      <td>6.2261</td>\n",
       "      <td>6.2255</td>\n",
       "      <td>0.0</td>\n",
       "    </tr>\n",
       "    <tr>\n",
       "      <th>19/6/2014</th>\n",
       "      <td>6.2255</td>\n",
       "      <td>6.2343</td>\n",
       "      <td>6.2230</td>\n",
       "      <td>6.2260</td>\n",
       "      <td>0.0</td>\n",
       "    </tr>\n",
       "    <tr>\n",
       "      <th>20/6/2014</th>\n",
       "      <td>6.2260</td>\n",
       "      <td>6.2340</td>\n",
       "      <td>6.2230</td>\n",
       "      <td>6.2250</td>\n",
       "      <td>0.0</td>\n",
       "    </tr>\n",
       "    <tr>\n",
       "      <th>23/6/2014</th>\n",
       "      <td>6.2250</td>\n",
       "      <td>6.2285</td>\n",
       "      <td>6.2230</td>\n",
       "      <td>6.2230</td>\n",
       "      <td>0.0</td>\n",
       "    </tr>\n",
       "    <tr>\n",
       "      <th>24/6/2014</th>\n",
       "      <td>6.2230</td>\n",
       "      <td>6.2317</td>\n",
       "      <td>6.2230</td>\n",
       "      <td>6.2308</td>\n",
       "      <td>1.0</td>\n",
       "    </tr>\n",
       "  </tbody>\n",
       "</table>\n",
       "</div>"
      ],
      "text/plain": [
       "             open    high     low   close  delta\n",
       "date                                            \n",
       "11/6/2014  6.2250  6.2320  6.2250  6.2250    0.0\n",
       "12/6/2014  6.2250  6.2294  6.2148  6.2080    0.0\n",
       "13/6/2014  6.2080  6.2150  6.2020  6.2110    1.0\n",
       "16/6/2014  6.2110  6.2256  6.2110  6.2280    1.0\n",
       "17/6/2014  6.2280  6.2360  6.2232  6.2280    0.0\n",
       "18/6/2014  6.2280  6.2346  6.2261  6.2255    0.0\n",
       "19/6/2014  6.2255  6.2343  6.2230  6.2260    0.0\n",
       "20/6/2014  6.2260  6.2340  6.2230  6.2250    0.0\n",
       "23/6/2014  6.2250  6.2285  6.2230  6.2230    0.0\n",
       "24/6/2014  6.2230  6.2317  6.2230  6.2308    1.0"
      ]
     },
     "execution_count": 32,
     "metadata": {},
     "output_type": "execute_result"
    }
   ],
   "source": [
    "alpha_df.head(n=10)"
   ]
  },
  {
   "cell_type": "code",
   "execution_count": 33,
   "metadata": {},
   "outputs": [
    {
     "data": {
      "text/plain": [
       "1.0"
      ]
     },
     "execution_count": 33,
     "metadata": {},
     "output_type": "execute_result"
    }
   ],
   "source": [
    "alpha_df.iloc[2]['delta']"
   ]
  },
  {
   "cell_type": "code",
   "execution_count": 35,
   "metadata": {},
   "outputs": [
    {
     "data": {
      "image/png": "[encoded data removed]",
      "text/plain": [
       "<Figure size 1080x360 with 1 Axes>"
      ]
     },
     "metadata": {
      "needs_background": "light"
     },
     "output_type": "display_data"
    },
    {
     "name": "stdout",
     "output_type": "stream",
     "text": [
      "new capital:  105352.68540127731 cumulative_profit:  5352.685401277302\n"
     ]
    }
   ],
   "source": [
    "capital=100000\n",
    "cumulative_profit = 0\n",
    "unit_per_trade = 1000\n",
    "daily_pnl = []\n",
    "for i in range(len(alpha_df)-1):\n",
    "    curr_delta=alpha_df.iloc[i]['delta']\n",
    "    shares = capital // alpha_df.iloc[i+1]['open']\n",
    "    change = 0\n",
    "    if curr_delta == 1:\n",
    "        change = (alpha_df.iloc[i+1]['close']-alpha_df.iloc[i+1]['open']) * shares\n",
    "        capital += change\n",
    "        cumulative_profit += change\n",
    "    else:\n",
    "        change = ((alpha_df.iloc[i+1]['open']-alpha_df.iloc[i+1]['close'])/alpha_df.iloc[i+1]['open'])*unit_per_trade\n",
    "        capital += change\n",
    "        cumulative_profit += change\n",
    "    daily_pnl.append(change)    \n",
    "    \n",
    "daily_pnl = np.array(daily_pnl)\n",
    "plt.figure(figsize=(15, 5))\n",
    "plt.plot(daily_pnl.cumsum())\n",
    "plt.title(currency)\n",
    "plt.show()\n",
    "print (\"new capital: \", capital, \"cumulative_profit: \", cumulative_profit)"
   ]
  },
  {
   "cell_type": "code",
   "execution_count": 36,
   "metadata": {},
   "outputs": [
    {
     "data": {
      "text/plain": [
       "0.32506386328853637"
      ]
     },
     "execution_count": 36,
     "metadata": {},
     "output_type": "execute_result"
    }
   ],
   "source": [
    "# calculate sharpe ratio\n",
    "\n",
    "sharpe = np.sqrt(252) * (daily_pnl.mean()) / (daily_pnl.std())\n",
    "sharpe"
   ]
  },
  {
   "cell_type": "code",
   "execution_count": 37,
   "metadata": {},
   "outputs": [
    {
     "data": {
      "text/plain": [
       "0.9407514450867052"
      ]
     },
     "execution_count": 37,
     "metadata": {},
     "output_type": "execute_result"
    }
   ],
   "source": [
    "# calculate win/loss ratio\n",
    "\n",
    "wins = 0\n",
    "losses = 0\n",
    "\n",
    "length = len(daily_pnl)\n",
    "\n",
    "for i in range(length):\n",
    "    if daily_pnl[i] > 0:\n",
    "        wins += 1\n",
    "    elif daily_pnl[i] < 0:\n",
    "        losses += 1\n",
    "\n",
    "wl = wins / losses\n",
    "wl"
   ]
  },
  {
   "cell_type": "code",
   "execution_count": 38,
   "metadata": {},
   "outputs": [
    {
     "name": "stdout",
     "output_type": "stream",
     "text": [
      "drawdown is: 7431.344726540427 , from day 615 , to day 963\n"
     ]
    }
   ],
   "source": [
    "# maximum drawdown\n",
    "cumsum = daily_pnl.cumsum()\n",
    "maxm = 0\n",
    "drawdown = 0\n",
    "cur_low = 0\n",
    "size = len(cumsum)\n",
    "\n",
    "final_start = 0\n",
    "final_end = 0\n",
    "\n",
    "start_date = 0\n",
    "end_date = 0\n",
    "\n",
    "for i in range(1, size):\n",
    "    cur_val = cumsum[i]\n",
    "    if cur_val >= maxm:\n",
    "        \n",
    "        drawdown = max(drawdown, maxm - cur_low)\n",
    "        \n",
    "        if drawdown == maxm - cur_low:\n",
    "            final_start = start_date\n",
    "            final_end = end_date\n",
    "            \n",
    "        maxm = cur_val\n",
    "        cur_low = cur_val\n",
    "        \n",
    "        start_date = i\n",
    "    else:\n",
    "        cur_low = min(cur_low, cur_val)\n",
    "        if cur_low == cur_val:\n",
    "            end_date = i\n",
    "\n",
    "print('drawdown is:', drawdown, ', from day', final_start, ', to day', final_end)"
   ]
  },
  {
   "cell_type": "code",
   "execution_count": null,
   "metadata": {},
   "outputs": [],
   "source": []
  }
 ],
 "metadata": {
  "kernelspec": {
   "display_name": "Python 3",
   "language": "python",
   "name": "python3"
  },
  "language_info": {
   "codemirror_mode": {
    "name": "ipython",
    "version": 3
   },
   "file_extension": ".py",
   "mimetype": "text/x-python",
   "name": "python",
   "nbconvert_exporter": "python",
   "pygments_lexer": "ipython3",
   "version": "3.7.7"
  }
 },
 "nbformat": 4,
 "nbformat_minor": 2
}
