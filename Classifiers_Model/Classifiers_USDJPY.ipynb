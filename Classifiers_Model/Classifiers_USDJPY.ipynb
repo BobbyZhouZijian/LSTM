{
 "cells": [
  {
   "cell_type": "markdown",
   "metadata": {},
   "source": [
    "# Classifiers"
   ]
  },
  {
   "cell_type": "code",
   "execution_count": 1,
   "metadata": {},
   "outputs": [],
   "source": [
    "# Important packages\n",
    "import pandas as pd\n",
    "import numpy as np\n",
    "import ta\n",
    "import matplotlib.pyplot as plt\n",
    "\n",
    "from sklearn.model_selection import train_test_split\n",
    "from sklearn.metrics import accuracy_score\n",
    "from sklearn.feature_selection import SelectKBest, chi2\n",
    "\n",
    "from sklearn.linear_model import LogisticRegression\n",
    "from sklearn.ensemble import RandomForestClassifier\n",
    "from sklearn.svm import SVC\n",
    "from xgboost import XGBClassifier"
   ]
  },
  {
   "cell_type": "code",
   "execution_count": 2,
   "metadata": {},
   "outputs": [],
   "source": [
    "currency = \"USDJPY\""
   ]
  },
  {
   "cell_type": "code",
   "execution_count": 3,
   "metadata": {},
   "outputs": [],
   "source": [
    "df = pd.read_parquet('../Dataframes/df_' + currency + '.parquet.gzip')"
   ]
  },
  {
   "cell_type": "code",
   "execution_count": 4,
   "metadata": {},
   "outputs": [],
   "source": [
    "# Make date the index\n",
    "df.index = df[\"date\"]\n",
    "df.drop([\"date\"], axis=1, inplace=True)"
   ]
  },
  {
   "cell_type": "code",
   "execution_count": 5,
   "metadata": {},
   "outputs": [
    {
     "data": {
      "text/html": [
       "<div>\n",
       "<style scoped>\n",
       "    .dataframe tbody tr th:only-of-type {\n",
       "        vertical-align: middle;\n",
       "    }\n",
       "\n",
       "    .dataframe tbody tr th {\n",
       "        vertical-align: top;\n",
       "    }\n",
       "\n",
       "    .dataframe thead th {\n",
       "        text-align: right;\n",
       "    }\n",
       "</style>\n",
       "<table border=\"1\" class=\"dataframe\">\n",
       "  <thead>\n",
       "    <tr style=\"text-align: right;\">\n",
       "      <th></th>\n",
       "      <th>open</th>\n",
       "      <th>high</th>\n",
       "      <th>low</th>\n",
       "      <th>close</th>\n",
       "      <th>delta</th>\n",
       "      <th>slope_3</th>\n",
       "      <th>slope_4</th>\n",
       "      <th>slope_5</th>\n",
       "      <th>slope_10</th>\n",
       "      <th>slope_20</th>\n",
       "      <th>...</th>\n",
       "      <th>roc_13</th>\n",
       "      <th>roc_14</th>\n",
       "      <th>roc_15</th>\n",
       "      <th>wcp_15</th>\n",
       "      <th>macd_15_30</th>\n",
       "      <th>cci_15</th>\n",
       "      <th>hi_avg_2</th>\n",
       "      <th>lo_avg_2</th>\n",
       "      <th>hilo_avg_2</th>\n",
       "      <th>hilo_avg</th>\n",
       "    </tr>\n",
       "    <tr>\n",
       "      <th>date</th>\n",
       "      <th></th>\n",
       "      <th></th>\n",
       "      <th></th>\n",
       "      <th></th>\n",
       "      <th></th>\n",
       "      <th></th>\n",
       "      <th></th>\n",
       "      <th></th>\n",
       "      <th></th>\n",
       "      <th></th>\n",
       "      <th></th>\n",
       "      <th></th>\n",
       "      <th></th>\n",
       "      <th></th>\n",
       "      <th></th>\n",
       "      <th></th>\n",
       "      <th></th>\n",
       "      <th></th>\n",
       "      <th></th>\n",
       "      <th></th>\n",
       "      <th></th>\n",
       "    </tr>\n",
       "  </thead>\n",
       "  <tbody>\n",
       "    <tr>\n",
       "      <th>11/2/2000</th>\n",
       "      <td>109.28</td>\n",
       "      <td>109.80</td>\n",
       "      <td>108.65</td>\n",
       "      <td>108.91</td>\n",
       "      <td>0.0</td>\n",
       "      <td>0.925486</td>\n",
       "      <td>-0.455137</td>\n",
       "      <td>2.297987</td>\n",
       "      <td>3.198588</td>\n",
       "      <td>3.478849</td>\n",
       "      <td>...</td>\n",
       "      <td>2.696841</td>\n",
       "      <td>3.173551</td>\n",
       "      <td>3.585695</td>\n",
       "      <td>107.677626</td>\n",
       "      <td>1.310779</td>\n",
       "      <td>94.293485</td>\n",
       "      <td>109.545</td>\n",
       "      <td>108.490</td>\n",
       "      <td>109.0175</td>\n",
       "      <td>109.225</td>\n",
       "    </tr>\n",
       "    <tr>\n",
       "      <th>14/2/2000</th>\n",
       "      <td>108.91</td>\n",
       "      <td>109.07</td>\n",
       "      <td>108.05</td>\n",
       "      <td>108.95</td>\n",
       "      <td>1.0</td>\n",
       "      <td>-0.784407</td>\n",
       "      <td>-1.893300</td>\n",
       "      <td>-2.956038</td>\n",
       "      <td>3.151497</td>\n",
       "      <td>3.480951</td>\n",
       "      <td>...</td>\n",
       "      <td>3.123521</td>\n",
       "      <td>2.734559</td>\n",
       "      <td>3.211444</td>\n",
       "      <td>107.812297</td>\n",
       "      <td>1.301081</td>\n",
       "      <td>63.217448</td>\n",
       "      <td>109.435</td>\n",
       "      <td>108.350</td>\n",
       "      <td>108.8925</td>\n",
       "      <td>108.560</td>\n",
       "    </tr>\n",
       "    <tr>\n",
       "      <th>15/2/2000</th>\n",
       "      <td>108.95</td>\n",
       "      <td>109.34</td>\n",
       "      <td>108.47</td>\n",
       "      <td>109.23</td>\n",
       "      <td>1.0</td>\n",
       "      <td>-1.688280</td>\n",
       "      <td>-1.028004</td>\n",
       "      <td>-2.501990</td>\n",
       "      <td>2.923163</td>\n",
       "      <td>3.497893</td>\n",
       "      <td>...</td>\n",
       "      <td>3.860416</td>\n",
       "      <td>3.388547</td>\n",
       "      <td>2.998586</td>\n",
       "      <td>107.969198</td>\n",
       "      <td>1.299586</td>\n",
       "      <td>74.750444</td>\n",
       "      <td>109.205</td>\n",
       "      <td>108.260</td>\n",
       "      <td>108.7325</td>\n",
       "      <td>108.905</td>\n",
       "    </tr>\n",
       "    <tr>\n",
       "      <th>16/2/2000</th>\n",
       "      <td>109.23</td>\n",
       "      <td>109.66</td>\n",
       "      <td>108.89</td>\n",
       "      <td>109.43</td>\n",
       "      <td>1.0</td>\n",
       "      <td>3.381735</td>\n",
       "      <td>-0.233010</td>\n",
       "      <td>0.806730</td>\n",
       "      <td>3.329164</td>\n",
       "      <td>3.498592</td>\n",
       "      <td>...</td>\n",
       "      <td>2.242362</td>\n",
       "      <td>4.050585</td>\n",
       "      <td>3.577851</td>\n",
       "      <td>108.142111</td>\n",
       "      <td>1.299978</td>\n",
       "      <td>87.425169</td>\n",
       "      <td>109.500</td>\n",
       "      <td>108.680</td>\n",
       "      <td>109.0900</td>\n",
       "      <td>109.275</td>\n",
       "    </tr>\n",
       "    <tr>\n",
       "      <th>17/2/2000</th>\n",
       "      <td>109.43</td>\n",
       "      <td>110.69</td>\n",
       "      <td>109.32</td>\n",
       "      <td>110.55</td>\n",
       "      <td>1.0</td>\n",
       "      <td>1.356420</td>\n",
       "      <td>1.717734</td>\n",
       "      <td>1.561800</td>\n",
       "      <td>3.058058</td>\n",
       "      <td>3.464697</td>\n",
       "      <td>...</td>\n",
       "      <td>3.000093</td>\n",
       "      <td>3.288798</td>\n",
       "      <td>5.115527</td>\n",
       "      <td>108.409034</td>\n",
       "      <td>1.357558</td>\n",
       "      <td>143.701865</td>\n",
       "      <td>110.175</td>\n",
       "      <td>109.105</td>\n",
       "      <td>109.6400</td>\n",
       "      <td>110.005</td>\n",
       "    </tr>\n",
       "  </tbody>\n",
       "</table>\n",
       "<p>5 rows × 34 columns</p>\n",
       "</div>"
      ],
      "text/plain": [
       "             open    high     low   close  delta   slope_3   slope_4  \\\n",
       "date                                                                   \n",
       "11/2/2000  109.28  109.80  108.65  108.91    0.0  0.925486 -0.455137   \n",
       "14/2/2000  108.91  109.07  108.05  108.95    1.0 -0.784407 -1.893300   \n",
       "15/2/2000  108.95  109.34  108.47  109.23    1.0 -1.688280 -1.028004   \n",
       "16/2/2000  109.23  109.66  108.89  109.43    1.0  3.381735 -0.233010   \n",
       "17/2/2000  109.43  110.69  109.32  110.55    1.0  1.356420  1.717734   \n",
       "\n",
       "            slope_5  slope_10  slope_20  ...    roc_13    roc_14    roc_15  \\\n",
       "date                                     ...                                 \n",
       "11/2/2000  2.297987  3.198588  3.478849  ...  2.696841  3.173551  3.585695   \n",
       "14/2/2000 -2.956038  3.151497  3.480951  ...  3.123521  2.734559  3.211444   \n",
       "15/2/2000 -2.501990  2.923163  3.497893  ...  3.860416  3.388547  2.998586   \n",
       "16/2/2000  0.806730  3.329164  3.498592  ...  2.242362  4.050585  3.577851   \n",
       "17/2/2000  1.561800  3.058058  3.464697  ...  3.000093  3.288798  5.115527   \n",
       "\n",
       "               wcp_15  macd_15_30      cci_15  hi_avg_2  lo_avg_2  hilo_avg_2  \\\n",
       "date                                                                            \n",
       "11/2/2000  107.677626    1.310779   94.293485   109.545   108.490    109.0175   \n",
       "14/2/2000  107.812297    1.301081   63.217448   109.435   108.350    108.8925   \n",
       "15/2/2000  107.969198    1.299586   74.750444   109.205   108.260    108.7325   \n",
       "16/2/2000  108.142111    1.299978   87.425169   109.500   108.680    109.0900   \n",
       "17/2/2000  108.409034    1.357558  143.701865   110.175   109.105    109.6400   \n",
       "\n",
       "           hilo_avg  \n",
       "date                 \n",
       "11/2/2000   109.225  \n",
       "14/2/2000   108.560  \n",
       "15/2/2000   108.905  \n",
       "16/2/2000   109.275  \n",
       "17/2/2000   110.005  \n",
       "\n",
       "[5 rows x 34 columns]"
      ]
     },
     "execution_count": 5,
     "metadata": {},
     "output_type": "execute_result"
    }
   ],
   "source": [
    "df.head()"
   ]
  },
  {
   "cell_type": "code",
   "execution_count": 6,
   "metadata": {},
   "outputs": [],
   "source": [
    "# Make df['delta'] the expected output\n",
    "target = df['delta']\n",
    "df.drop(['delta'], axis = 1, inplace = True)"
   ]
  },
  {
   "cell_type": "code",
   "execution_count": 7,
   "metadata": {},
   "outputs": [],
   "source": [
    "# Features\n",
    "feat_labels = ['open', 'high', 'low', 'close', 'wclose', 'so_3', 'so_4', 'so_5',\n",
    "       'so_8', 'so_9', 'so_10', 'wr_6', 'wr_7', 'wr_8', 'wr_9', 'wr_10',\n",
    "       'roc_12', 'roc_13', 'roc_14', 'roc_15', 'wcp_15', 'macd_15_30',\n",
    "       'cci_15', 'hi_avg_2', 'lo_avg_2', 'hilo_avg_2', 'hilo_avg', 'slope_3',\n",
    "       'slope_4', 'slope_5', 'slope_10', 'slope_20', 'slope_30']"
   ]
  },
  {
   "cell_type": "markdown",
   "metadata": {},
   "source": [
    "## Random Forest Classifier"
   ]
  },
  {
   "cell_type": "markdown",
   "metadata": {},
   "source": [
    "#### All features"
   ]
  },
  {
   "cell_type": "code",
   "execution_count": 8,
   "metadata": {},
   "outputs": [
    {
     "name": "stdout",
     "output_type": "stream",
     "text": [
      "RandomForest accuracy :  0.768542199488491\n"
     ]
    }
   ],
   "source": [
    "# Train and Test samples\n",
    "train_size = int(len(df) * 0.7)\n",
    "X_train, X_test = df[:train_size], df[train_size:]\n",
    "y_train, y_test = target[:train_size], target[train_size:]\n",
    "\n",
    "rf_model = RandomForestClassifier(n_estimators=20, max_depth=2, random_state=0)\n",
    "\n",
    "rf_model.fit(X_train, y_train)\n",
    "\n",
    "print(\"RandomForest accuracy : \",accuracy_score(y_test, rf_model.predict(X_test), normalize = True))"
   ]
  },
  {
   "cell_type": "markdown",
   "metadata": {},
   "source": [
    "#### Features Selection"
   ]
  },
  {
   "cell_type": "code",
   "execution_count": 9,
   "metadata": {},
   "outputs": [],
   "source": [
    "top_n_features = 10"
   ]
  },
  {
   "cell_type": "code",
   "execution_count": 10,
   "metadata": {
    "scrolled": true
   },
   "outputs": [
    {
     "data": {
      "image/png": "[encoded data removed]",
      "text/plain": [
       "<Figure size 432x288 with 1 Axes>"
      ]
     },
     "metadata": {
      "needs_background": "light"
     },
     "output_type": "display_data"
    }
   ],
   "source": [
    "feat_importances = pd.Series(rf_model.feature_importances_, index=X_train.columns)\n",
    "feat_importances.nlargest(top_n_features).plot(kind='barh')\n",
    "plt.show()"
   ]
  },
  {
   "cell_type": "code",
   "execution_count": 11,
   "metadata": {
    "scrolled": true
   },
   "outputs": [],
   "source": [
    "top_feats = list(feat_importances.nlargest(top_n_features).index)\n",
    "df2 = df[top_feats]"
   ]
  },
  {
   "cell_type": "markdown",
   "metadata": {},
   "source": [
    "#### Top N Features"
   ]
  },
  {
   "cell_type": "code",
   "execution_count": 12,
   "metadata": {},
   "outputs": [
    {
     "name": "stdout",
     "output_type": "stream",
     "text": [
      "RandomForest accuracy :  0.7781329923273658\n"
     ]
    }
   ],
   "source": [
    "# Train and Test samples\n",
    "train_size = int(len(df2) * 0.7)\n",
    "X_train, X_test = df2[:train_size], df2[train_size:]\n",
    "y_train, y_test = target[:train_size], target[train_size:]\n",
    "\n",
    "rf_model = RandomForestClassifier(n_estimators=20, max_depth=2, random_state=0)\n",
    "\n",
    "rf_model.fit(X_train, y_train)\n",
    "\n",
    "print(\"RandomForest accuracy : \",accuracy_score(y_test, rf_model.predict(X_test), normalize = True))"
   ]
  },
  {
   "cell_type": "code",
   "execution_count": 13,
   "metadata": {},
   "outputs": [],
   "source": [
    "rf_pred = rf_model.predict(df2)"
   ]
  },
  {
   "cell_type": "markdown",
   "metadata": {},
   "source": [
    "## Support Vector Machine Classifier (with RBF kernel)"
   ]
  },
  {
   "cell_type": "code",
   "execution_count": 14,
   "metadata": {},
   "outputs": [
    {
     "name": "stdout",
     "output_type": "stream",
     "text": [
      "RBF-SVC accuracy :  0.5210997442455243\n"
     ]
    }
   ],
   "source": [
    "# Train and Test samples\n",
    "train_size = int(len(df) * 0.7)\n",
    "X_train, X_test = df[:train_size], df[train_size:]\n",
    "y_train, y_test = target[:train_size], target[train_size:]\n",
    "\n",
    "svm_model = SVC(kernel='rbf',random_state=0, gamma='auto')\n",
    "\n",
    "svm_model.fit(X_train, y_train)\n",
    "\n",
    "print(\"RBF-SVC accuracy : \",accuracy_score(y_test, svm_model.predict(X_test), normalize = True))"
   ]
  },
  {
   "cell_type": "code",
   "execution_count": 15,
   "metadata": {},
   "outputs": [],
   "source": [
    "svm_pred = svm_model.predict(df)"
   ]
  },
  {
   "cell_type": "markdown",
   "metadata": {},
   "source": [
    "## XGBoost"
   ]
  },
  {
   "cell_type": "markdown",
   "metadata": {},
   "source": [
    "#### All Features"
   ]
  },
  {
   "cell_type": "code",
   "execution_count": 16,
   "metadata": {},
   "outputs": [
    {
     "name": "stdout",
     "output_type": "stream",
     "text": [
      "XGBoost accuracy :  0.8184143222506394\n"
     ]
    }
   ],
   "source": [
    "# Train and Test samples\n",
    "train_size = int(len(df) * 0.7)\n",
    "X_train, X_test = df[:train_size], df[train_size:]\n",
    "y_train, y_test = target[:train_size], target[train_size:]\n",
    "\n",
    "boost_model = XGBClassifier()\n",
    "\n",
    "boost_model.fit(X_train, y_train)\n",
    "\n",
    "print(\"XGBoost accuracy : \",accuracy_score(y_test, boost_model.predict(X_test), normalize = True))"
   ]
  },
  {
   "cell_type": "markdown",
   "metadata": {},
   "source": [
    "#### Features Selection"
   ]
  },
  {
   "cell_type": "code",
   "execution_count": 17,
   "metadata": {},
   "outputs": [],
   "source": [
    "top_n_features = 10"
   ]
  },
  {
   "cell_type": "code",
   "execution_count": 18,
   "metadata": {
    "scrolled": true
   },
   "outputs": [
    {
     "data": {
      "image/png": "[encoded data removed]",
      "text/plain": [
       "<Figure size 432x288 with 1 Axes>"
      ]
     },
     "metadata": {
      "needs_background": "light"
     },
     "output_type": "display_data"
    }
   ],
   "source": [
    "feat_importances = pd.Series(boost_model.feature_importances_, index=X_train.columns)\n",
    "feat_importances.nlargest(top_n_features).plot(kind='barh')\n",
    "plt.show()"
   ]
  },
  {
   "cell_type": "code",
   "execution_count": 19,
   "metadata": {
    "scrolled": true
   },
   "outputs": [],
   "source": [
    "top_feats = list(feat_importances.nlargest(top_n_features).index)\n",
    "df2 = df[top_feats]"
   ]
  },
  {
   "cell_type": "markdown",
   "metadata": {},
   "source": [
    "#### Top N Features"
   ]
  },
  {
   "cell_type": "code",
   "execution_count": 20,
   "metadata": {},
   "outputs": [
    {
     "name": "stdout",
     "output_type": "stream",
     "text": [
      "XGBoost accuracy :  0.8478260869565217\n"
     ]
    }
   ],
   "source": [
    "# Train and Test samples\n",
    "train_size = int(len(df2) * 0.7)\n",
    "X_train, X_test = df2[:train_size], df2[train_size:]\n",
    "y_train, y_test = target[:train_size], target[train_size:]\n",
    "\n",
    "boost_model = XGBClassifier()\n",
    "\n",
    "boost_model.fit(X_train, y_train)\n",
    "\n",
    "print(\"XGBoost accuracy : \",accuracy_score(y_test, boost_model.predict(X_test), normalize = True))"
   ]
  },
  {
   "cell_type": "code",
   "execution_count": 21,
   "metadata": {},
   "outputs": [],
   "source": [
    "boost_pred = boost_model.predict(df2)"
   ]
  },
  {
   "cell_type": "markdown",
   "metadata": {},
   "source": [
    "## Logistic Regression to form meta classifier"
   ]
  },
  {
   "cell_type": "code",
   "execution_count": 22,
   "metadata": {},
   "outputs": [
    {
     "data": {
      "text/html": [
       "<div>\n",
       "<style scoped>\n",
       "    .dataframe tbody tr th:only-of-type {\n",
       "        vertical-align: middle;\n",
       "    }\n",
       "\n",
       "    .dataframe tbody tr th {\n",
       "        vertical-align: top;\n",
       "    }\n",
       "\n",
       "    .dataframe thead th {\n",
       "        text-align: right;\n",
       "    }\n",
       "</style>\n",
       "<table border=\"1\" class=\"dataframe\">\n",
       "  <thead>\n",
       "    <tr style=\"text-align: right;\">\n",
       "      <th></th>\n",
       "      <th>RandomForest</th>\n",
       "      <th>XGBoost</th>\n",
       "    </tr>\n",
       "  </thead>\n",
       "  <tbody>\n",
       "    <tr>\n",
       "      <th>0</th>\n",
       "      <td>0.0</td>\n",
       "      <td>0.0</td>\n",
       "    </tr>\n",
       "    <tr>\n",
       "      <th>1</th>\n",
       "      <td>1.0</td>\n",
       "      <td>1.0</td>\n",
       "    </tr>\n",
       "    <tr>\n",
       "      <th>2</th>\n",
       "      <td>1.0</td>\n",
       "      <td>1.0</td>\n",
       "    </tr>\n",
       "    <tr>\n",
       "      <th>3</th>\n",
       "      <td>1.0</td>\n",
       "      <td>1.0</td>\n",
       "    </tr>\n",
       "    <tr>\n",
       "      <th>4</th>\n",
       "      <td>1.0</td>\n",
       "      <td>1.0</td>\n",
       "    </tr>\n",
       "  </tbody>\n",
       "</table>\n",
       "</div>"
      ],
      "text/plain": [
       "   RandomForest  XGBoost\n",
       "0           0.0      0.0\n",
       "1           1.0      1.0\n",
       "2           1.0      1.0\n",
       "3           1.0      1.0\n",
       "4           1.0      1.0"
      ]
     },
     "execution_count": 22,
     "metadata": {},
     "output_type": "execute_result"
    }
   ],
   "source": [
    "dataset = pd.DataFrame({'RandomForest':rf_pred, \n",
    "                        #'SVM':svm_pred, \n",
    "                        'XGBoost':boost_pred}, \n",
    "                       columns=['RandomForest', 'XGBoost'])\n",
    "dataset.head(n=5)"
   ]
  },
  {
   "cell_type": "code",
   "execution_count": 23,
   "metadata": {},
   "outputs": [
    {
     "name": "stdout",
     "output_type": "stream",
     "text": [
      "Logistic Regression accuracy :  0.8478260869565217\n"
     ]
    }
   ],
   "source": [
    "# Train and Test samples\n",
    "train_size = int(len(dataset) * 0.7)\n",
    "X_train, X_test = dataset[:train_size], dataset[train_size:]\n",
    "y_train, y_test = target[:train_size], target[train_size:]\n",
    "\n",
    "regressor = LogisticRegression(solver='lbfgs')\n",
    "\n",
    "regressor.fit(X_train, y_train)\n",
    "\n",
    "print(\"Logistic Regression accuracy : \",accuracy_score(y_test, regressor.predict(X_test), normalize = True))"
   ]
  },
  {
   "cell_type": "code",
   "execution_count": 24,
   "metadata": {},
   "outputs": [],
   "source": [
    "# Note how the accuracy is exactly the same as the XGBoost accuracy, this means that the model is simply spitting out the XGBoost model predictions, as confirmed by the .coef_"
   ]
  },
  {
   "cell_type": "code",
   "execution_count": 25,
   "metadata": {},
   "outputs": [
    {
     "data": {
      "text/plain": [
       "array([[0.83719158, 9.16358676]])"
      ]
     },
     "execution_count": 25,
     "metadata": {},
     "output_type": "execute_result"
    }
   ],
   "source": [
    "regressor.coef_"
   ]
  },
  {
   "cell_type": "code",
   "execution_count": 26,
   "metadata": {},
   "outputs": [],
   "source": [
    "ohls=df[['open','high','low','close']]"
   ]
  },
  {
   "cell_type": "code",
   "execution_count": 27,
   "metadata": {},
   "outputs": [
    {
     "data": {
      "text/plain": [
       "(5210, 4)"
      ]
     },
     "execution_count": 27,
     "metadata": {},
     "output_type": "execute_result"
    }
   ],
   "source": [
    "ohls.shape"
   ]
  },
  {
   "cell_type": "code",
   "execution_count": 28,
   "metadata": {},
   "outputs": [
    {
     "data": {
      "text/html": [
       "<div>\n",
       "<style scoped>\n",
       "    .dataframe tbody tr th:only-of-type {\n",
       "        vertical-align: middle;\n",
       "    }\n",
       "\n",
       "    .dataframe tbody tr th {\n",
       "        vertical-align: top;\n",
       "    }\n",
       "\n",
       "    .dataframe thead th {\n",
       "        text-align: right;\n",
       "    }\n",
       "</style>\n",
       "<table border=\"1\" class=\"dataframe\">\n",
       "  <thead>\n",
       "    <tr style=\"text-align: right;\">\n",
       "      <th></th>\n",
       "      <th>open</th>\n",
       "      <th>high</th>\n",
       "      <th>low</th>\n",
       "      <th>close</th>\n",
       "    </tr>\n",
       "    <tr>\n",
       "      <th>date</th>\n",
       "      <th></th>\n",
       "      <th></th>\n",
       "      <th></th>\n",
       "      <th></th>\n",
       "    </tr>\n",
       "  </thead>\n",
       "  <tbody>\n",
       "    <tr>\n",
       "      <th>11/2/2000</th>\n",
       "      <td>109.28</td>\n",
       "      <td>109.80</td>\n",
       "      <td>108.65</td>\n",
       "      <td>108.91</td>\n",
       "    </tr>\n",
       "    <tr>\n",
       "      <th>14/2/2000</th>\n",
       "      <td>108.91</td>\n",
       "      <td>109.07</td>\n",
       "      <td>108.05</td>\n",
       "      <td>108.95</td>\n",
       "    </tr>\n",
       "    <tr>\n",
       "      <th>15/2/2000</th>\n",
       "      <td>108.95</td>\n",
       "      <td>109.34</td>\n",
       "      <td>108.47</td>\n",
       "      <td>109.23</td>\n",
       "    </tr>\n",
       "    <tr>\n",
       "      <th>16/2/2000</th>\n",
       "      <td>109.23</td>\n",
       "      <td>109.66</td>\n",
       "      <td>108.89</td>\n",
       "      <td>109.43</td>\n",
       "    </tr>\n",
       "    <tr>\n",
       "      <th>17/2/2000</th>\n",
       "      <td>109.43</td>\n",
       "      <td>110.69</td>\n",
       "      <td>109.32</td>\n",
       "      <td>110.55</td>\n",
       "    </tr>\n",
       "  </tbody>\n",
       "</table>\n",
       "</div>"
      ],
      "text/plain": [
       "             open    high     low   close\n",
       "date                                     \n",
       "11/2/2000  109.28  109.80  108.65  108.91\n",
       "14/2/2000  108.91  109.07  108.05  108.95\n",
       "15/2/2000  108.95  109.34  108.47  109.23\n",
       "16/2/2000  109.23  109.66  108.89  109.43\n",
       "17/2/2000  109.43  110.69  109.32  110.55"
      ]
     },
     "execution_count": 28,
     "metadata": {},
     "output_type": "execute_result"
    }
   ],
   "source": [
    "ohls.head()"
   ]
  },
  {
   "cell_type": "code",
   "execution_count": 29,
   "metadata": {},
   "outputs": [],
   "source": [
    "alpha_df=ohls[train_size:]"
   ]
  },
  {
   "cell_type": "code",
   "execution_count": 30,
   "metadata": {},
   "outputs": [
    {
     "data": {
      "text/plain": [
       "array([1., 1., 1., ..., 1., 0., 1.])"
      ]
     },
     "execution_count": 30,
     "metadata": {},
     "output_type": "execute_result"
    }
   ],
   "source": [
    "regressor.predict(X_test)"
   ]
  },
  {
   "cell_type": "code",
   "execution_count": 31,
   "metadata": {},
   "outputs": [
    {
     "name": "stderr",
     "output_type": "stream",
     "text": [
      "/usr/local/lib/python3.7/site-packages/ipykernel_launcher.py:1: SettingWithCopyWarning: \n",
      "A value is trying to be set on a copy of a slice from a DataFrame.\n",
      "Try using .loc[row_indexer,col_indexer] = value instead\n",
      "\n",
      "See the caveats in the documentation: https://pandas.pydata.org/pandas-docs/stable/user_guide/indexing.html#returning-a-view-versus-a-copy\n",
      "  \"\"\"Entry point for launching an IPython kernel.\n"
     ]
    }
   ],
   "source": [
    "alpha_df['delta']=regressor.predict(X_test)"
   ]
  },
  {
   "cell_type": "code",
   "execution_count": 32,
   "metadata": {},
   "outputs": [
    {
     "data": {
      "text/html": [
       "<div>\n",
       "<style scoped>\n",
       "    .dataframe tbody tr th:only-of-type {\n",
       "        vertical-align: middle;\n",
       "    }\n",
       "\n",
       "    .dataframe tbody tr th {\n",
       "        vertical-align: top;\n",
       "    }\n",
       "\n",
       "    .dataframe thead th {\n",
       "        text-align: right;\n",
       "    }\n",
       "</style>\n",
       "<table border=\"1\" class=\"dataframe\">\n",
       "  <thead>\n",
       "    <tr style=\"text-align: right;\">\n",
       "      <th></th>\n",
       "      <th>open</th>\n",
       "      <th>high</th>\n",
       "      <th>low</th>\n",
       "      <th>close</th>\n",
       "      <th>delta</th>\n",
       "    </tr>\n",
       "    <tr>\n",
       "      <th>date</th>\n",
       "      <th></th>\n",
       "      <th></th>\n",
       "      <th></th>\n",
       "      <th></th>\n",
       "      <th></th>\n",
       "    </tr>\n",
       "  </thead>\n",
       "  <tbody>\n",
       "    <tr>\n",
       "      <th>5/2/2014</th>\n",
       "      <td>101.64</td>\n",
       "      <td>101.77</td>\n",
       "      <td>100.80</td>\n",
       "      <td>101.45</td>\n",
       "      <td>1.0</td>\n",
       "    </tr>\n",
       "    <tr>\n",
       "      <th>6/2/2014</th>\n",
       "      <td>101.45</td>\n",
       "      <td>102.17</td>\n",
       "      <td>101.25</td>\n",
       "      <td>102.11</td>\n",
       "      <td>1.0</td>\n",
       "    </tr>\n",
       "    <tr>\n",
       "      <th>7/2/2014</th>\n",
       "      <td>102.11</td>\n",
       "      <td>102.58</td>\n",
       "      <td>101.47</td>\n",
       "      <td>102.33</td>\n",
       "      <td>1.0</td>\n",
       "    </tr>\n",
       "    <tr>\n",
       "      <th>10/2/2014</th>\n",
       "      <td>102.33</td>\n",
       "      <td>102.64</td>\n",
       "      <td>101.99</td>\n",
       "      <td>102.26</td>\n",
       "      <td>0.0</td>\n",
       "    </tr>\n",
       "    <tr>\n",
       "      <th>11/2/2014</th>\n",
       "      <td>102.26</td>\n",
       "      <td>102.70</td>\n",
       "      <td>102.08</td>\n",
       "      <td>102.63</td>\n",
       "      <td>1.0</td>\n",
       "    </tr>\n",
       "    <tr>\n",
       "      <th>12/2/2014</th>\n",
       "      <td>102.63</td>\n",
       "      <td>102.68</td>\n",
       "      <td>102.23</td>\n",
       "      <td>102.53</td>\n",
       "      <td>1.0</td>\n",
       "    </tr>\n",
       "    <tr>\n",
       "      <th>13/2/2014</th>\n",
       "      <td>102.53</td>\n",
       "      <td>102.57</td>\n",
       "      <td>101.70</td>\n",
       "      <td>102.17</td>\n",
       "      <td>0.0</td>\n",
       "    </tr>\n",
       "    <tr>\n",
       "      <th>14/2/2014</th>\n",
       "      <td>102.17</td>\n",
       "      <td>102.41</td>\n",
       "      <td>101.57</td>\n",
       "      <td>101.84</td>\n",
       "      <td>0.0</td>\n",
       "    </tr>\n",
       "    <tr>\n",
       "      <th>17/2/2014</th>\n",
       "      <td>101.84</td>\n",
       "      <td>101.99</td>\n",
       "      <td>101.39</td>\n",
       "      <td>101.92</td>\n",
       "      <td>1.0</td>\n",
       "    </tr>\n",
       "    <tr>\n",
       "      <th>18/2/2014</th>\n",
       "      <td>101.92</td>\n",
       "      <td>102.74</td>\n",
       "      <td>101.76</td>\n",
       "      <td>102.36</td>\n",
       "      <td>1.0</td>\n",
       "    </tr>\n",
       "  </tbody>\n",
       "</table>\n",
       "</div>"
      ],
      "text/plain": [
       "             open    high     low   close  delta\n",
       "date                                            \n",
       "5/2/2014   101.64  101.77  100.80  101.45    1.0\n",
       "6/2/2014   101.45  102.17  101.25  102.11    1.0\n",
       "7/2/2014   102.11  102.58  101.47  102.33    1.0\n",
       "10/2/2014  102.33  102.64  101.99  102.26    0.0\n",
       "11/2/2014  102.26  102.70  102.08  102.63    1.0\n",
       "12/2/2014  102.63  102.68  102.23  102.53    1.0\n",
       "13/2/2014  102.53  102.57  101.70  102.17    0.0\n",
       "14/2/2014  102.17  102.41  101.57  101.84    0.0\n",
       "17/2/2014  101.84  101.99  101.39  101.92    1.0\n",
       "18/2/2014  101.92  102.74  101.76  102.36    1.0"
      ]
     },
     "execution_count": 32,
     "metadata": {},
     "output_type": "execute_result"
    }
   ],
   "source": [
    "alpha_df.head(n=10)"
   ]
  },
  {
   "cell_type": "code",
   "execution_count": 33,
   "metadata": {},
   "outputs": [
    {
     "data": {
      "text/plain": [
       "1.0"
      ]
     },
     "execution_count": 33,
     "metadata": {},
     "output_type": "execute_result"
    }
   ],
   "source": [
    "alpha_df.iloc[2]['delta']"
   ]
  },
  {
   "cell_type": "code",
   "execution_count": 35,
   "metadata": {},
   "outputs": [
    {
     "data": {
      "image/png": "[encoded data removed]",
      "text/plain": [
       "<Figure size 1080x360 with 1 Axes>"
      ]
     },
     "metadata": {
      "needs_background": "light"
     },
     "output_type": "display_data"
    },
    {
     "name": "stdout",
     "output_type": "stream",
     "text": [
      "new capital:  125550.46200595064 cumulative_profit:  25550.462005950623\n"
     ]
    }
   ],
   "source": [
    "capital=100000\n",
    "cumulative_profit = 0\n",
    "unit_per_trade = 1000\n",
    "daily_pnl = []\n",
    "for i in range(len(alpha_df)-1):\n",
    "    curr_delta=alpha_df.iloc[i]['delta']\n",
    "    shares = capital // alpha_df.iloc[i+1]['open']\n",
    "    change = 0\n",
    "    if curr_delta == 1:\n",
    "        change = (alpha_df.iloc[i+1]['close']-alpha_df.iloc[i+1]['open']) * shares\n",
    "        capital += change\n",
    "        cumulative_profit += change\n",
    "    else:\n",
    "        change = ((alpha_df.iloc[i+1]['open']-alpha_df.iloc[i+1]['close'])/alpha_df.iloc[i+1]['open'])*unit_per_trade\n",
    "        capital += change\n",
    "        cumulative_profit += change\n",
    "    daily_pnl.append(change)    \n",
    "    \n",
    "daily_pnl = np.array(daily_pnl)\n",
    "plt.figure(figsize=(15, 5))\n",
    "plt.plot(daily_pnl.cumsum())\n",
    "plt.title(currency)\n",
    "plt.show()\n",
    "print (\"new capital: \", capital, \"cumulative_profit: \", cumulative_profit)"
   ]
  },
  {
   "cell_type": "code",
   "execution_count": 36,
   "metadata": {},
   "outputs": [
    {
     "data": {
      "text/plain": [
       "0.6143847725668833"
      ]
     },
     "execution_count": 36,
     "metadata": {},
     "output_type": "execute_result"
    }
   ],
   "source": [
    "# calculate sharpe ratio\n",
    "\n",
    "sharpe = np.sqrt(252) * (daily_pnl.mean()) / (daily_pnl.std())\n",
    "sharpe"
   ]
  },
  {
   "cell_type": "code",
   "execution_count": 37,
   "metadata": {},
   "outputs": [
    {
     "data": {
      "text/plain": [
       "0.9948519948519948"
      ]
     },
     "execution_count": 37,
     "metadata": {},
     "output_type": "execute_result"
    }
   ],
   "source": [
    "# calculate win/loss ratio\n",
    "\n",
    "wins = 0\n",
    "losses = 0\n",
    "\n",
    "length = len(daily_pnl)\n",
    "\n",
    "for i in range(length):\n",
    "    if daily_pnl[i] > 0:\n",
    "        wins += 1\n",
    "    elif daily_pnl[i] < 0:\n",
    "        losses += 1\n",
    "\n",
    "wl = wins / losses\n",
    "wl"
   ]
  },
  {
   "cell_type": "code",
   "execution_count": 38,
   "metadata": {},
   "outputs": [
    {
     "name": "stdout",
     "output_type": "stream",
     "text": [
      "drawdown is: 10426.752632660062 , from day 536 , to day 664\n"
     ]
    }
   ],
   "source": [
    "# maximum drawdown\n",
    "cumsum = daily_pnl.cumsum()\n",
    "maxm = 0\n",
    "drawdown = 0\n",
    "cur_low = 0\n",
    "size = len(cumsum)\n",
    "\n",
    "final_start = 0\n",
    "final_end = 0\n",
    "\n",
    "start_date = 0\n",
    "end_date = 0\n",
    "\n",
    "for i in range(1, size):\n",
    "    cur_val = cumsum[i]\n",
    "    if cur_val >= maxm:\n",
    "        \n",
    "        drawdown = max(drawdown, maxm - cur_low)\n",
    "        \n",
    "        if drawdown == maxm - cur_low:\n",
    "            final_start = start_date\n",
    "            final_end = end_date\n",
    "            \n",
    "        maxm = cur_val\n",
    "        cur_low = cur_val\n",
    "        \n",
    "        start_date = i\n",
    "    else:\n",
    "        cur_low = min(cur_low, cur_val)\n",
    "        if cur_low == cur_val:\n",
    "            end_date = i\n",
    "\n",
    "print('drawdown is:', drawdown, ', from day', final_start, ', to day', final_end)"
   ]
  },
  {
   "cell_type": "code",
   "execution_count": null,
   "metadata": {},
   "outputs": [],
   "source": []
  }
 ],
 "metadata": {
  "kernelspec": {
   "display_name": "Python 3",
   "language": "python",
   "name": "python3"
  },
  "language_info": {
   "codemirror_mode": {
    "name": "ipython",
    "version": 3
   },
   "file_extension": ".py",
   "mimetype": "text/x-python",
   "name": "python",
   "nbconvert_exporter": "python",
   "pygments_lexer": "ipython3",
   "version": "3.7.7"
  }
 },
 "nbformat": 4,
 "nbformat_minor": 2
}
